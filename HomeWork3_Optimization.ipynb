{
  "nbformat": 4,
  "nbformat_minor": 0,
  "metadata": {
    "colab": {
      "provenance": [],
      "include_colab_link": true
    },
    "kernelspec": {
      "name": "python3",
      "display_name": "Python 3"
    },
    "language_info": {
      "name": "python"
    }
  },
  "cells": [
    {
      "cell_type": "markdown",
      "metadata": {
        "id": "view-in-github",
        "colab_type": "text"
      },
      "source": [
        "<a href=\"https://colab.research.google.com/github/kkostromin/sber_ds/blob/main/HomeWork3_Optimization.ipynb\" target=\"_parent\"><img src=\"https://colab.research.google.com/assets/colab-badge.svg\" alt=\"Open In Colab\"/></a>"
      ]
    },
    {
      "cell_type": "markdown",
      "source": [
        "# Домашняя работа 3\n",
        "## Математическая оптимизация\n",
        "\n",
        "В этом домашнем задании вам предстоит найти минимум функции используя метод `RMSProp`."
      ],
      "metadata": {
        "id": "kwXU7hVIpOA0"
      }
    },
    {
      "cell_type": "markdown",
      "source": [
        "### Вам дана функция $y(x) = x^{3} \\ln(x)$\n",
        "\n",
        "1. Выпишите вид производной этой функции ($y'(x)$). (можно сделать это в виде latex кода, добавления картинки или записью кода python)\n",
        "\n",
        "    $y'(x) = 3x^{2}\n",
        " log(x)+x^{2}$"
      ],
      "metadata": {
        "id": "xZgZLxjyp2r-"
      }
    },
    {
      "cell_type": "markdown",
      "source": [
        "2. Реализуйте функцию `dy(...)` в ячейке ниже, которая на вход принимает $x_0$, а на выходе возвращает значение производной функции $y(x)$ в точке $x_0$ (то есть $y'(x_0)$)."
      ],
      "metadata": {
        "id": "Dkx3W3birlf_"
      }
    },
    {
      "cell_type": "code",
      "source": [
        "import numpy as np"
      ],
      "metadata": {
        "id": "_GN6bgmhwe1E"
      },
      "execution_count": 1,
      "outputs": []
    },
    {
      "cell_type": "code",
      "source": [
        "import math\n",
        "\n",
        "def df(x0):\n",
        "    result = 3 * (x0**2) * math.log(x0) + x0**2\n",
        "    return result "
      ],
      "metadata": {
        "id": "Laaw8J2mpzYG"
      },
      "execution_count": 2,
      "outputs": []
    },
    {
      "cell_type": "code",
      "source": [
        "df(3)"
      ],
      "metadata": {
        "colab": {
          "base_uri": "https://localhost:8080/"
        },
        "id": "FAXxtLQa0U1E",
        "outputId": "7ef0a3a6-2238-4e1a-fb42-ed16e2c3e487"
      },
      "execution_count": 3,
      "outputs": [
        {
          "output_type": "execute_result",
          "data": {
            "text/plain": [
              "38.66253179403897"
            ]
          },
          "metadata": {},
          "execution_count": 3
        }
      ]
    },
    {
      "cell_type": "markdown",
      "source": [
        "3. Реализуйте функцию `get_min_with_gd(...)`, которая принимает на вход начальную точку $x_0$, число шагов, lr и thershold; внутри себя производит поиск минимума при помощи градиентного спуска и возвращает последовательность точек, полученных на каждом шаге."
      ],
      "metadata": {
        "id": "jr4sqAR3ryLb"
      }
    },
    {
      "cell_type": "code",
      "source": [
        "def get_min_with_gd(x0, step_count, lr, thershold):\n",
        "    cur_x = x0 # The algorithm starts at x0\n",
        "    thershold = thershold #This tells us when to stop the algorithm\n",
        "    lr = lr # Learning rate\n",
        "    step_count = step_count  # maximum number of iterations\n",
        "    previous_step_size = 1 #\n",
        "    iters = 1 #iteration counter\n",
        "    cur_history = []\n",
        "\n",
        "    while previous_step_size > thershold and iters < step_count:\n",
        "       prev_x = cur_x #Store current x value in prev_x\n",
        "       cur_x = cur_x - lr * df(prev_x) #Grad descent\n",
        "       previous_step_size = abs(cur_x - prev_x) #Change in x\n",
        "       cur_history.append([cur_x])\n",
        "       iters = iters + 1  #iteration count      \n",
        "    return cur_history\n",
        "   "
      ],
      "metadata": {
        "id": "l8ls4dWrsD5o"
      },
      "execution_count": 40,
      "outputs": []
    },
    {
      "cell_type": "code",
      "source": [
        "# Запустите поиск минимума с любой точки, например с точки 10\n",
        "\n",
        "history = get_min_with_gd(10, 99, 0.01, 0.000001)\n",
        "history"
      ],
      "metadata": {
        "id": "CVtHzyFMsW4J",
        "colab": {
          "base_uri": "https://localhost:8080/"
        },
        "outputId": "e9a892c7-5a82-4605-f748-8b188e1c2700"
      },
      "execution_count": 41,
      "outputs": [
        {
          "output_type": "execute_result",
          "data": {
            "text/plain": [
              "[[2.0922447210178623],\n",
              " [1.951521065504928],\n",
              " [1.8370461022899123],\n",
              " [1.7417274027602196],\n",
              " [1.6608927398171403],\n",
              " [1.5913199242606597],\n",
              " [1.5307044974693869],\n",
              " [1.4773487892430266],\n",
              " [1.4299709375281882],\n",
              " [1.3875826531893787],\n",
              " [1.3494082365230744],\n",
              " [1.3148293244201068],\n",
              " [1.2833462258219313],\n",
              " [1.2545502611475963],\n",
              " [1.2281035856246125],\n",
              " [1.203724215668845],\n",
              " [1.1811747439987623],\n",
              " [1.1602537160651039],\n",
              " [1.1407889570443375],\n",
              " [1.122632349016235],\n",
              " [1.1056557004072927],\n",
              " [1.0897474479486393],\n",
              " [1.0748100001242773],\n",
              " [1.0607575799068298],\n",
              " [1.0475144597260442],\n",
              " [1.035013507233974],\n",
              " [1.0231949793184445],\n",
              " [1.0120055158902796],\n",
              " [1.001397295560965],\n",
              " [0.9913273233717262],\n",
              " [0.9817568268979197],\n",
              " [0.9726507418126273],\n",
              " [0.9639772716979227],\n",
              " [0.9557075097962],\n",
              " [0.9478151126857678],\n",
              " [0.9402760176852244],\n",
              " [0.9330681972457598],\n",
              " [0.926171444759617],\n",
              " [0.919567187157691],\n",
              " [0.913238320436665],\n",
              " [0.907169064882542],\n",
              " [0.9013448372712409],\n",
              " [0.8957521377502274],\n",
              " [0.8903784494553978],\n",
              " [0.885212149208414],\n",
              " [0.8802424278823887],\n",
              " [0.8754592192270106],\n",
              " [0.870853136114925],\n",
              " [0.8664154133151367],\n",
              " [0.862137856020974],\n",
              " [0.8580127934634972],\n",
              " [0.8540330370292133],\n",
              " [0.8501918423760685],\n",
              " [0.8464828751060095],\n",
              " [0.842900179607622],\n",
              " [0.8394381507298967],\n",
              " [0.8360915079892037],\n",
              " [0.8328552720470558],\n",
              " [0.8297247432270316],\n",
              " [0.8266954818659993],\n",
              " [0.8237632903180969],\n",
              " [0.8209241964502938],\n",
              " [0.8181744384861706],\n",
              " [0.8155104510701796],\n",
              " [0.8129288524383715],\n",
              " [0.8104264325936517],\n",
              " [0.8080001423942851],\n",
              " [0.8056470834737787],\n",
              " [0.8033644989185962],\n",
              " [0.801149764637547],\n",
              " [0.7990003813632438],\n",
              " [0.7969139672318569],\n",
              " [0.7948882508925844],\n",
              " [0.7929210651028945],\n",
              " [0.7910103407697341],\n",
              " [0.7891541014006036],\n",
              " [0.7873504579317185],\n",
              " [0.7855976039034543],\n",
              " [0.7838938109559506],\n",
              " [0.7822374246201553],\n",
              " [0.7806268603817619],\n",
              " [0.7790605999974445],\n",
              " [0.7775371880445672],\n",
              " [0.7760552286871368],\n",
              " [0.7746133826422175],\n",
              " [0.7732103643323319],\n",
              " [0.7718449392105667],\n",
              " [0.770515921246175],\n",
              " [0.769222170559452],\n",
              " [0.7679625911955547],\n",
              " [0.7667361290277449],\n",
              " [0.765541769781283],\n",
              " [0.764378537169872],\n",
              " [0.763245491137174],\n",
              " [0.7621417261964829],\n",
              " [0.7610663698621604],\n",
              " [0.7600185811669112],\n",
              " [0.7589975492594137]]"
            ]
          },
          "metadata": {},
          "execution_count": 41
        }
      ]
    },
    {
      "cell_type": "markdown",
      "source": [
        "4. Проверьте, что все работает ожидаемым образом, запустив ячейку ниже"
      ],
      "metadata": {
        "id": "JfVX0r9PsJEy"
      }
    },
    {
      "cell_type": "code",
      "source": [
        "import matplotlib.pyplot as plt\n",
        "\n",
        "plt.figure(figsize=(15, 8))\n",
        "\n",
        "# Отрисуем то, как менялись координаты в процессе поиска минимума\n",
        "plt.plot(history)\n",
        "\n",
        "plt.xlabel('Номер итерации')\n",
        "plt.ylabel('Значение аргумента на итерации')\n",
        "plt.show()\n",
        "\n"
      ],
      "metadata": {
        "id": "RCt9VpeFsPHU",
        "colab": {
          "base_uri": "https://localhost:8080/",
          "height": 497
        },
        "outputId": "520bf7d7-a445-42e9-c6a5-0a05d8abe59f"
      },
      "execution_count": 42,
      "outputs": [
        {
          "output_type": "display_data",
          "data": {
            "text/plain": [
              "<Figure size 1080x576 with 1 Axes>"
            ],
            "image/png": "[encoded data removed]"
          },
          "metadata": {
            "needs_background": "light"
          }
        }
      ]
    },
    {
      "cell_type": "markdown",
      "source": [
        "5. Реализовать поиск минимума при помощи алгоритма `RMSProp`. Реализуйте функцию `get_min_with_rmsprop(...)`, которая принимает на вход начальную точку $x_0$, число шагов, lr, $β$ и thershold; внутри себя производит поиск минимума при помощи градиентного спуска и возвращает последовательность точек, полученных на каждом шаге.\n",
        "\n",
        "Напомним как выглядят формулы для этого алгоритма:\n",
        "\n",
        "$$g^{n+1} = ∇f(w^{n})$$\n",
        "$$\\gamma^{n+1} = (1 - \\beta) \\gamma^{n} + \\beta (g^{n+1}) ^ 2$$\n",
        "$$w^{n+1} = w^n - \\frac{\\alpha}{\\sqrt{\\gamma^{n+1} + ɛ}}⋅g^{n+1}$$\n",
        "\n",
        "Здесь $α$ -- learning rate, $ɛ$ -- малое число (можно взять 0.0001 -- оно нужно, чтобы случайно не было деления на 0), $\\beta$ -- мера учета инерции"
      ],
      "metadata": {
        "id": "1Amo1vgzs8IJ"
      }
    },
    {
      "cell_type": "code",
      "source": [
        "def get_min_with_rmsprop(x0, step_count, lr, b, thershold):\n",
        "        vdw = gamma * vdw + (1 - gamma) * dw ** 2\n",
        "        vdb = gamma * vdb + (1 - gamma) * db ** 2\n",
        "\n",
        "        model.layers[index].weight -= (learning_rate / (np.sqrt(vdw + 1e-08))) * dw\n",
        "        model.layers[index].bias -= (learning_rate / (np.sqrt(vdb + 1e-08))) * db"
      ],
      "metadata": {
        "id": "a-xtle1TvIud",
        "colab": {
          "base_uri": "https://localhost:8080/",
          "height": 135
        },
        "outputId": "412c9023-1ba1-44d8-c64f-03f76aef4b7a"
      },
      "execution_count": 7,
      "outputs": [
        {
          "output_type": "error",
          "ename": "SyntaxError",
          "evalue": "ignored",
          "traceback": [
            "\u001b[0;36m  File \u001b[0;32m\"<ipython-input-7-ecc13585fcd4>\"\u001b[0;36m, line \u001b[0;32m1\u001b[0m\n\u001b[0;31m    def get_min_with_rmsprop(...):\u001b[0m\n\u001b[0m                               ^\u001b[0m\n\u001b[0;31mSyntaxError\u001b[0m\u001b[0;31m:\u001b[0m invalid syntax\n"
          ]
        }
      ]
    },
    {
      "cell_type": "code",
      "source": [
        "# Запустите поиск минимума с нескольких точек, например с 0 и 2\n",
        "\n",
        "history_rmsprop_1 = get_min_with_rmsprop(...)\n",
        "history_rmsprop_2 = get_min_with_rmsprop(...)"
      ],
      "metadata": {
        "id": "3jKHYm8Pvm38"
      },
      "execution_count": null,
      "outputs": []
    },
    {
      "cell_type": "markdown",
      "source": [
        "6. Нарисовать график, на котором отображен реальный минимум функции и все точки, которые были получены на каждом шаге RMSProp алгоритма."
      ],
      "metadata": {
        "id": "ZMuyKAdDvd9Z"
      }
    },
    {
      "cell_type": "code",
      "source": [
        "# Ваш код тут\n"
      ],
      "metadata": {
        "id": "2jq5RZbVv5E0"
      },
      "execution_count": null,
      "outputs": []
    }
  ]
}