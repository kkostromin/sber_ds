{
  "nbformat": 4,
  "nbformat_minor": 0,
  "metadata": {
    "colab": {
      "provenance": [],
      "collapsed_sections": [],
      "include_colab_link": true
    },
    "kernelspec": {
      "name": "python3",
      "display_name": "Python 3"
    },
    "language_info": {
      "name": "python"
    }
  },
  "cells": [
    {
      "cell_type": "markdown",
      "metadata": {
        "id": "view-in-github",
        "colab_type": "text"
      },
      "source": [
        "<a href=\"https://colab.research.google.com/github/kkostromin/sber_ds/blob/main/HomeWork3_Optimization.ipynb\" target=\"_parent\"><img src=\"https://colab.research.google.com/assets/colab-badge.svg\" alt=\"Open In Colab\"/></a>"
      ]
    },
    {
      "cell_type": "markdown",
      "source": [
        "# Домашняя работа 3\n",
        "## Математическая оптимизация\n",
        "\n",
        "В этом домашнем задании вам предстоит найти минимум функции используя метод `RMSProp`."
      ],
      "metadata": {
        "id": "kwXU7hVIpOA0"
      }
    },
    {
      "cell_type": "markdown",
      "source": [
        "### Вам дана функция $y(x) = x^{3} \\ln(x)$\n",
        "\n",
        "1. Выпишите вид производной этой функции ($y'(x)$). (можно сделать это в виде latex кода, добавления картинки или записью кода python)\n",
        "\n",
        "    $y'(x) = <ВАША\\ ЗАПИСЬ\\ ТУТ>$"
      ],
      "metadata": {
        "id": "xZgZLxjyp2r-"
      }
    },
    {
      "cell_type": "markdown",
      "source": [
        "2. Реализуйте функцию `dy(...)` в ячейке ниже, которая на вход принимает $x_0$, а на выходе возвращает значение производной функции $y(x)$ в точке $x_0$ (то есть $y'(x_0)$)."
      ],
      "metadata": {
        "id": "Dkx3W3birlf_"
      }
    },
    {
      "cell_type": "code",
      "source": [
        "def dy(...):\n",
        "    \"\"\"\n",
        "    Реализуйте функцию\n",
        "    \"\"\"\n",
        "    ..."
      ],
      "metadata": {
        "id": "Laaw8J2mpzYG"
      },
      "execution_count": null,
      "outputs": []
    },
    {
      "cell_type": "markdown",
      "source": [
        "3. Реализуйте функцию `get_min_with_gd(...)`, которая принимает на вход начальную точку $x_0$, число шагов, lr и thershold; внутри себя производит поиск минимума при помощи градиентного спуска и возвращает последовательность точек, полученных на каждом шаге."
      ],
      "metadata": {
        "id": "jr4sqAR3ryLb"
      }
    },
    {
      "cell_type": "code",
      "source": [
        "def get_min_with_gd(...):\n",
        "    \"\"\"\n",
        "    Реализуйте функцию\n",
        "    \"\"\"\n",
        "    ... "
      ],
      "metadata": {
        "id": "l8ls4dWrsD5o"
      },
      "execution_count": null,
      "outputs": []
    },
    {
      "cell_type": "code",
      "source": [
        "# Запустите поиск минимума с любой точки, например с точки 10\n",
        "\n",
        "history = get_min_with_gd(...)"
      ],
      "metadata": {
        "id": "CVtHzyFMsW4J"
      },
      "execution_count": null,
      "outputs": []
    },
    {
      "cell_type": "markdown",
      "source": [
        "4. Проверьте, что все работает ожидаемым образом, запустив ячейку ниже"
      ],
      "metadata": {
        "id": "JfVX0r9PsJEy"
      }
    },
    {
      "cell_type": "code",
      "source": [
        "plt.figure(figsize=(15, 8))\n",
        "\n",
        "# Отрисуем то, как менялись координаты в процессе поиска минимума\n",
        "plt.plot(history)\n",
        "\n",
        "plt.xlabel('Номер итерации')\n",
        "plt.ylabel('Значение аргумента на итерации')\n",
        "plt.show()"
      ],
      "metadata": {
        "id": "RCt9VpeFsPHU"
      },
      "execution_count": null,
      "outputs": []
    },
    {
      "cell_type": "markdown",
      "source": [
        "5. Реализовать поиск минимума при помощи алгоритма `RMSProp`. Реализуйте функцию `get_min_with_rmsprop(...)`, которая принимает на вход начальную точку $x_0$, число шагов, lr, $β$ и thershold; внутри себя производит поиск минимума при помощи градиентного спуска и возвращает последовательность точек, полученных на каждом шаге.\n",
        "\n",
        "Напомним как выглядят формулы для этого алгоритма:\n",
        "\n",
        "$$g^{n+1} = ∇f(w^{n})$$\n",
        "$$\\gamma^{n+1} = (1 - \\beta) \\gamma^{n} + \\beta (g^{n+1}) ^ 2$$\n",
        "$$w^{n+1} = w^n - \\frac{\\alpha}{\\sqrt{\\gamma^{n+1} + ɛ}}⋅g^{n+1}$$\n",
        "\n",
        "Здесь $α$ -- learning rate, $ɛ$ -- малое число (можно взять 0.0001 -- оно нужно, чтобы случайно не было деления на 0), $\\beta$ -- мера учета инерции"
      ],
      "metadata": {
        "id": "1Amo1vgzs8IJ"
      }
    },
    {
      "cell_type": "code",
      "source": [
        "def get_min_with_rmsprop(...):\n",
        "    ..."
      ],
      "metadata": {
        "id": "a-xtle1TvIud"
      },
      "execution_count": null,
      "outputs": []
    },
    {
      "cell_type": "code",
      "source": [
        "# Запустите поиск минимума с нескольких точек, например с 0 и 2\n",
        "\n",
        "history_rmsprop_1 = get_min_with_rmsprop(...)\n",
        "history_rmsprop_2 = get_min_with_rmsprop(...)"
      ],
      "metadata": {
        "id": "3jKHYm8Pvm38"
      },
      "execution_count": null,
      "outputs": []
    },
    {
      "cell_type": "markdown",
      "source": [
        "6. Нарисовать график, на котором отображен реальный минимум функции и все точки, которые были получены на каждом шаге RMSProp алгоритма."
      ],
      "metadata": {
        "id": "ZMuyKAdDvd9Z"
      }
    },
    {
      "cell_type": "code",
      "source": [
        "# Ваш код тут\n"
      ],
      "metadata": {
        "id": "2jq5RZbVv5E0"
      },
      "execution_count": null,
      "outputs": []
    }
  ]
}