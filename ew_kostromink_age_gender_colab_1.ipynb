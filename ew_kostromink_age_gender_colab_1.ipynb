{
  "metadata": {
    "kernelspec": {
      "language": "python",
      "display_name": "Python 3",
      "name": "python3"
    },
    "language_info": {
      "name": "python",
      "version": "3.7.12",
      "mimetype": "text/x-python",
      "codemirror_mode": {
        "name": "ipython",
        "version": 3
      },
      "pygments_lexer": "ipython3",
      "nbconvert_exporter": "python",
      "file_extension": ".py"
    },
    "colab": {
      "provenance": [],
      "include_colab_link": true
    },
    "accelerator": "GPU",
    "gpuClass": "standard"
  },
  "nbformat_minor": 0,
  "nbformat": 4,
  "cells": [
    {
      "cell_type": "markdown",
      "metadata": {
        "id": "view-in-github",
        "colab_type": "text"
      },
      "source": [
        "<a href=\"https://colab.research.google.com/github/kkostromin/sber_ds/blob/main/ew_kostromink_age_gender_colab_1.ipynb\" target=\"_parent\"><img src=\"https://colab.research.google.com/assets/colab-badge.svg\" alt=\"Open In Colab\"/></a>"
      ]
    },
    {
      "cell_type": "code",
      "source": [
        "import numpy as np # linear algebra\n",
        "import pandas as pd # data processing, CSV file I/O (e.g. pd.read_csv)\n",
        "\n",
        "from tqdm import tqdm\n",
        "\n",
        "import tensorflow as tf\n",
        "\n",
        "import os\n",
        "\n",
        "import torch\n",
        "import torch.nn as nn\n",
        "from torch.utils.data import DataLoader\n",
        "import torchvision\n",
        "from torchvision import datasets\n",
        "import torch.nn.functional as func \n",
        "from torch.utils.data import Dataset\n",
        "\n",
        "from PIL import Image, ImageOps\n",
        "from sklearn.model_selection import train_test_split\n",
        "import seaborn as sns\n",
        "import matplotlib.pyplot as plt\n",
        "\n",
        "\n",
        "from keras.models import Sequential\n",
        "from keras.layers import Conv2D, MaxPooling2D, Activation, Dropout, Flatten, Dense\n",
        "from keras import optimizers\n",
        "from keras.preprocessing.image import ImageDataGenerator\n",
        "import tensorflow as tf\n",
        "\n",
        "from torchvision import transforms\n"
      ],
      "metadata": {
        "_uuid": "8f2839f25d086af736a60e9eeb907d3b93b6e0e5",
        "_cell_guid": "b1076dfc-b9ad-4769-8c92-a6c4dae69d19",
        "execution": {
          "iopub.status.busy": "2022-12-20T12:12:36.691877Z",
          "iopub.execute_input": "2022-12-20T12:12:36.692310Z",
          "iopub.status.idle": "2022-12-20T12:12:44.622223Z",
          "shell.execute_reply.started": "2022-12-20T12:12:36.692277Z",
          "shell.execute_reply": "2022-12-20T12:12:44.621156Z"
        },
        "trusted": true,
        "id": "6Aij_5UYd7U1"
      },
      "execution_count": 72,
      "outputs": []
    },
    {
      "cell_type": "code",
      "source": [
        "\n",
        "import pandas as pd\n",
        "from sklearn.model_selection import train_test_split\n",
        "from tqdm import tqdm\n",
        "import numpy as np\n",
        "# torch imports\n",
        "import torch\n",
        "from torch import nn\n",
        "\n",
        "from torchvision import transforms\n",
        "from torch.utils.data import Dataset\n",
        "import torch.nn.functional as F\n"
      ],
      "metadata": {
        "id": "b2qirfgicnwl"
      },
      "execution_count": 78,
      "outputs": []
    },
    {
      "cell_type": "markdown",
      "source": [
        "# Download data in kaggle input"
      ],
      "metadata": {
        "id": "xHDIF3Mgd7VC"
      }
    },
    {
      "cell_type": "code",
      "source": [
        "from google.colab import drive\n",
        "drive.mount('/content/gdrive')"
      ],
      "metadata": {
        "colab": {
          "base_uri": "https://localhost:8080/"
        },
        "id": "WoHOq45Dkiz4",
        "outputId": "67b95b0e-beb2-4a15-a4d8-bcc6c04b1570"
      },
      "execution_count": 2,
      "outputs": [
        {
          "output_type": "stream",
          "name": "stdout",
          "text": [
            "Mounted at /content/gdrive\n"
          ]
        }
      ]
    },
    {
      "cell_type": "code",
      "source": [
        "# # for dirname, _, filenames in os.walk('/kaggle/input'):\n",
        "# #     for filename in filenames:\n",
        "# #         print(os.path.join(dirname, filename))\n",
        "\n",
        "# for dirname, _, filenames in os.walk('/content/gdrive/MyDrive/Datesciense/sber/dataset/crop_part1'):\n",
        "#     for filename in filenames:\n",
        "#         print(os.path.join(dirname, filename))"
      ],
      "metadata": {
        "execution": {
          "iopub.status.busy": "2022-12-20T12:12:44.624385Z",
          "iopub.execute_input": "2022-12-20T12:12:44.625109Z",
          "iopub.status.idle": "2022-12-20T12:13:04.981617Z",
          "shell.execute_reply.started": "2022-12-20T12:12:44.625066Z",
          "shell.execute_reply": "2022-12-20T12:13:04.974311Z"
        },
        "trusted": true,
        "id": "bXakAEj9d7VE"
      },
      "execution_count": null,
      "outputs": []
    },
    {
      "cell_type": "markdown",
      "source": [
        "# install utils"
      ],
      "metadata": {
        "id": "xbu9Jofud7VG"
      }
    },
    {
      "cell_type": "code",
      "source": [
        "!pip install ipython-autotime\n",
        "\n",
        "%load_ext autotime"
      ],
      "metadata": {
        "execution": {
          "iopub.status.busy": "2022-12-20T12:13:04.983055Z",
          "iopub.status.idle": "2022-12-20T12:13:04.983795Z",
          "shell.execute_reply.started": "2022-12-20T12:13:04.983521Z",
          "shell.execute_reply": "2022-12-20T12:13:04.983547Z"
        },
        "trusted": true,
        "id": "C8v3uqXDd7VG",
        "colab": {
          "base_uri": "https://localhost:8080/"
        },
        "outputId": "040a7500-6d6b-4d9e-c74f-09677d43879e"
      },
      "execution_count": 3,
      "outputs": [
        {
          "output_type": "stream",
          "name": "stdout",
          "text": [
            "Looking in indexes: https://pypi.org/simple, https://us-python.pkg.dev/colab-wheels/public/simple/\n",
            "Collecting ipython-autotime\n",
            "  Downloading ipython_autotime-0.3.1-py2.py3-none-any.whl (6.8 kB)\n",
            "Requirement already satisfied: ipython in /usr/local/lib/python3.8/dist-packages (from ipython-autotime) (7.9.0)\n",
            "Requirement already satisfied: pickleshare in /usr/local/lib/python3.8/dist-packages (from ipython->ipython-autotime) (0.7.5)\n",
            "Requirement already satisfied: backcall in /usr/local/lib/python3.8/dist-packages (from ipython->ipython-autotime) (0.2.0)\n",
            "Requirement already satisfied: pexpect in /usr/local/lib/python3.8/dist-packages (from ipython->ipython-autotime) (4.8.0)\n",
            "Requirement already satisfied: pygments in /usr/local/lib/python3.8/dist-packages (from ipython->ipython-autotime) (2.6.1)\n",
            "Collecting jedi>=0.10\n",
            "  Downloading jedi-0.18.2-py2.py3-none-any.whl (1.6 MB)\n",
            "\u001b[K     |████████████████████████████████| 1.6 MB 4.4 MB/s \n",
            "\u001b[?25hRequirement already satisfied: prompt-toolkit<2.1.0,>=2.0.0 in /usr/local/lib/python3.8/dist-packages (from ipython->ipython-autotime) (2.0.10)\n",
            "Requirement already satisfied: traitlets>=4.2 in /usr/local/lib/python3.8/dist-packages (from ipython->ipython-autotime) (5.7.1)\n",
            "Requirement already satisfied: setuptools>=18.5 in /usr/local/lib/python3.8/dist-packages (from ipython->ipython-autotime) (57.4.0)\n",
            "Requirement already satisfied: decorator in /usr/local/lib/python3.8/dist-packages (from ipython->ipython-autotime) (4.4.2)\n",
            "Requirement already satisfied: parso<0.9.0,>=0.8.0 in /usr/local/lib/python3.8/dist-packages (from jedi>=0.10->ipython->ipython-autotime) (0.8.3)\n",
            "Requirement already satisfied: wcwidth in /usr/local/lib/python3.8/dist-packages (from prompt-toolkit<2.1.0,>=2.0.0->ipython->ipython-autotime) (0.2.5)\n",
            "Requirement already satisfied: six>=1.9.0 in /usr/local/lib/python3.8/dist-packages (from prompt-toolkit<2.1.0,>=2.0.0->ipython->ipython-autotime) (1.15.0)\n",
            "Requirement already satisfied: ptyprocess>=0.5 in /usr/local/lib/python3.8/dist-packages (from pexpect->ipython->ipython-autotime) (0.7.0)\n",
            "Installing collected packages: jedi, ipython-autotime\n",
            "Successfully installed ipython-autotime-0.3.1 jedi-0.18.2\n",
            "time: 402 µs (started: 2022-12-21 10:29:44 +00:00)\n"
          ]
        }
      ]
    },
    {
      "cell_type": "markdown",
      "source": [
        "## check GPU"
      ],
      "metadata": {
        "id": "upq9zOO4d7VH"
      }
    },
    {
      "cell_type": "code",
      "source": [
        "# # check if CUDA is available\n",
        "# train_on_gpu = torch.cuda.is_available()\n",
        "\n",
        "# if not train_on_gpu:\n",
        "#     print('CUDA is not available.  Training on CPU ...')\n",
        "# else:\n",
        "#     print('CUDA is available!  Training on GPU ...')\n",
        "    \n",
        "# device_num = 0\n",
        "# device = f\"cuda:{device_num}\" if torch.cuda.is_available() else \"cpu\"\n",
        "\n",
        "# print(f\"Device: {device}\")"
      ],
      "metadata": {
        "execution": {
          "iopub.status.busy": "2022-12-20T12:13:04.985227Z",
          "iopub.status.idle": "2022-12-20T12:13:04.985987Z",
          "shell.execute_reply.started": "2022-12-20T12:13:04.985697Z",
          "shell.execute_reply": "2022-12-20T12:13:04.985724Z"
        },
        "trusted": true,
        "id": "lEBUL0lHd7VI"
      },
      "execution_count": null,
      "outputs": []
    },
    {
      "cell_type": "code",
      "source": [
        "from tensorflow.python.client import device_lib\n",
        "print(device_lib.list_local_devices())"
      ],
      "metadata": {
        "execution": {
          "iopub.status.busy": "2022-12-20T12:13:04.987321Z",
          "iopub.status.idle": "2022-12-20T12:13:04.988071Z",
          "shell.execute_reply.started": "2022-12-20T12:13:04.987797Z",
          "shell.execute_reply": "2022-12-20T12:13:04.987822Z"
        },
        "trusted": true,
        "id": "1BLZnvJ_d7VK",
        "colab": {
          "base_uri": "https://localhost:8080/"
        },
        "outputId": "6db6464a-ee83-4335-982f-271f83377705"
      },
      "execution_count": null,
      "outputs": [
        {
          "output_type": "stream",
          "name": "stdout",
          "text": [
            "[name: \"/device:CPU:0\"\n",
            "device_type: \"CPU\"\n",
            "memory_limit: 268435456\n",
            "locality {\n",
            "}\n",
            "incarnation: 17178940693253489668\n",
            "xla_global_id: -1\n",
            ", name: \"/device:GPU:0\"\n",
            "device_type: \"GPU\"\n",
            "memory_limit: 14415560704\n",
            "locality {\n",
            "  bus_id: 1\n",
            "  links {\n",
            "  }\n",
            "}\n",
            "incarnation: 6244221031655435587\n",
            "physical_device_desc: \"device: 0, name: Tesla T4, pci bus id: 0000:00:04.0, compute capability: 7.5\"\n",
            "xla_global_id: 416903419\n",
            "]\n"
          ]
        }
      ]
    },
    {
      "cell_type": "code",
      "source": [
        "from tensorflow import python as tf_python\n",
        "tf.python.client.device_lib.list_local_devices()"
      ],
      "metadata": {
        "colab": {
          "base_uri": "https://localhost:8080/",
          "height": 183
        },
        "id": "QPPz7LyJRq7S",
        "outputId": "4ffc124b-e00c-4e77-8e9e-58320a007b22"
      },
      "execution_count": null,
      "outputs": [
        {
          "output_type": "error",
          "ename": "AttributeError",
          "evalue": "ignored",
          "traceback": [
            "\u001b[0;31m---------------------------------------------------------------------------\u001b[0m",
            "\u001b[0;31mAttributeError\u001b[0m                            Traceback (most recent call last)",
            "\u001b[0;32m<ipython-input-33-3469be43a3a1>\u001b[0m in \u001b[0;36m<module>\u001b[0;34m\u001b[0m\n\u001b[1;32m      1\u001b[0m \u001b[0;32mfrom\u001b[0m \u001b[0mtensorflow\u001b[0m \u001b[0;32mimport\u001b[0m \u001b[0mpython\u001b[0m \u001b[0;32mas\u001b[0m \u001b[0mtf_python\u001b[0m\u001b[0;34m\u001b[0m\u001b[0;34m\u001b[0m\u001b[0m\n\u001b[0;32m----> 2\u001b[0;31m \u001b[0mtf\u001b[0m\u001b[0;34m.\u001b[0m\u001b[0mpython\u001b[0m\u001b[0;34m.\u001b[0m\u001b[0mclient\u001b[0m\u001b[0;34m.\u001b[0m\u001b[0mdevice_lib\u001b[0m\u001b[0;34m.\u001b[0m\u001b[0mlist_local_devices\u001b[0m\u001b[0;34m(\u001b[0m\u001b[0;34m)\u001b[0m\u001b[0;34m\u001b[0m\u001b[0;34m\u001b[0m\u001b[0m\n\u001b[0m",
            "\u001b[0;31mAttributeError\u001b[0m: module 'tensorflow' has no attribute 'python'"
          ]
        }
      ]
    },
    {
      "cell_type": "code",
      "source": [
        "print(\"Num GPUs Available: \", len(tf.config.experimental.list_physical_devices('GPU')))\n"
      ],
      "metadata": {
        "execution": {
          "iopub.status.busy": "2022-12-20T12:13:04.989368Z",
          "iopub.status.idle": "2022-12-20T12:13:04.990115Z",
          "shell.execute_reply.started": "2022-12-20T12:13:04.989828Z",
          "shell.execute_reply": "2022-12-20T12:13:04.989854Z"
        },
        "trusted": true,
        "id": "OW9237a2d7VM",
        "colab": {
          "base_uri": "https://localhost:8080/"
        },
        "outputId": "3a2cebc5-3583-4f79-ec7d-59e773e48d5c"
      },
      "execution_count": null,
      "outputs": [
        {
          "output_type": "stream",
          "name": "stdout",
          "text": [
            "Num GPUs Available:  1\n"
          ]
        }
      ]
    },
    {
      "cell_type": "code",
      "source": [
        "tf.config.experimental.list_physical_devices('GPU')"
      ],
      "metadata": {
        "colab": {
          "base_uri": "https://localhost:8080/"
        },
        "id": "u8iGhabWSLWu",
        "outputId": "9750520f-2db7-4ea8-e792-7b6e902a6967"
      },
      "execution_count": null,
      "outputs": [
        {
          "output_type": "execute_result",
          "data": {
            "text/plain": [
              "[PhysicalDevice(name='/physical_device:GPU:0', device_type='GPU')]"
            ]
          },
          "metadata": {},
          "execution_count": 34
        }
      ]
    },
    {
      "cell_type": "markdown",
      "source": [
        "# Описание датасета\n",
        "\n",
        "Aligned&Cropped Faces\n",
        "\n",
        "Labels\n",
        "The labels of each face image is embedded in the file name, formated like [age]_[gender]_[race]_[date&time].jpg\n",
        "\n",
        "[age] is an integer from 0 to 116, indicating the age\n",
        "[gender] is either 0 (male) or 1 (female)\n",
        "[race] is an integer from 0 to 4, denoting White, Black, Asian, Indian, and Others (like Hispanic, Latino, Middle Eastern).\n",
        "[date&time] is in the format of yyyymmddHHMMSSFFF, showing the date and time an image was collected to UTKFace"
      ],
      "metadata": {
        "id": "mdyCaz2Ld7VN"
      }
    },
    {
      "cell_type": "markdown",
      "source": [
        "# 1.Load Data"
      ],
      "metadata": {
        "id": "eaN4FsTnd7VO"
      }
    },
    {
      "cell_type": "markdown",
      "source": [
        "# 1.1 Dowlload BigDataframe \n",
        "csv\n",
        "https://www.kaggle.com/datasets/nipunarora8/age-gender-and-ethnicity-face-data-csv\n",
        "\n",
        "23705 rows × 6 columns"
      ],
      "metadata": {
        "id": "2AyVNnVBPJER"
      }
    },
    {
      "cell_type": "code",
      "source": [
        "! git clone https://github.com/ArminBaz/UTK-Face"
      ],
      "metadata": {
        "colab": {
          "base_uri": "https://localhost:8080/"
        },
        "id": "Z8L6g_dXOpIo",
        "outputId": "15782c23-479f-4224-e5ff-88c1bd4292d2"
      },
      "execution_count": 28,
      "outputs": [
        {
          "output_type": "stream",
          "name": "stdout",
          "text": [
            "Cloning into 'UTK-Face'...\n",
            "remote: Enumerating objects: 140, done.\u001b[K\n",
            "remote: Total 140 (delta 0), reused 0 (delta 0), pack-reused 140\u001b[K\n",
            "Receiving objects: 100% (140/140), 100.34 MiB | 50.39 MiB/s, done.\n",
            "Resolving deltas: 100% (76/76), done.\n"
          ]
        }
      ]
    },
    {
      "cell_type": "code",
      "source": [
        "dataFrame = pd.read_csv('UTK-Face/data/age_gender.gz', compression='gzip')"
      ],
      "metadata": {
        "id": "FvVtzeP9OPhf"
      },
      "execution_count": 29,
      "outputs": []
    },
    {
      "cell_type": "code",
      "source": [
        "dataFrame"
      ],
      "metadata": {
        "colab": {
          "base_uri": "https://localhost:8080/",
          "height": 424
        },
        "id": "JcQxMAH4O1sZ",
        "outputId": "34afee7c-0f64-450b-bf21-a1a5ec675a6d"
      },
      "execution_count": 30,
      "outputs": [
        {
          "output_type": "execute_result",
          "data": {
            "text/plain": [
              "       Unnamed: 0  age  ethnicity  gender                        img_name  \\\n",
              "0               0    1          2       0  20161219203650636.jpg.chip.jpg   \n",
              "1               1    1          2       0  20161219222752047.jpg.chip.jpg   \n",
              "2               2    1          2       0  20161219222832191.jpg.chip.jpg   \n",
              "3               3    1          2       0  20161220144911423.jpg.chip.jpg   \n",
              "4               4    1          2       0  20161220144914327.jpg.chip.jpg   \n",
              "...           ...  ...        ...     ...                             ...   \n",
              "23700       23700   99          0       1  20170120221920654.jpg.chip.jpg   \n",
              "23701       23701   99          1       1  20170120134639935.jpg.chip.jpg   \n",
              "23702       23702   99          2       1  20170110182418864.jpg.chip.jpg   \n",
              "23703       23703   99          2       1  20170117195405372.jpg.chip.jpg   \n",
              "23704       23704   99          0       1  20170110182052119.jpg.chip.jpg   \n",
              "\n",
              "                                                  pixels  \n",
              "0      129 128 128 126 127 130 133 135 139 142 145 14...  \n",
              "1      164 74 111 168 169 171 175 182 184 188 193 199...  \n",
              "2      67 70 71 70 69 67 70 79 90 103 116 132 145 155...  \n",
              "3      193 197 198 200 199 200 202 203 204 205 208 21...  \n",
              "4      202 205 209 210 209 209 210 211 212 214 218 21...  \n",
              "...                                                  ...  \n",
              "23700  127 100 94 81 77 77 74 99 102 98 128 145 160 1...  \n",
              "23701  23 28 32 35 42 47 68 85 98 103 113 117 130 129...  \n",
              "23702  59 50 37 40 34 19 30 101 156 170 177 184 187 1...  \n",
              "23703  45 108 120 156 206 197 140 180 191 199 204 207...  \n",
              "23704  156 161 160 165 170 173 166 177 183 191 187 18...  \n",
              "\n",
              "[23705 rows x 6 columns]"
            ],
            "text/html": [
              "\n",
              "  <div id=\"df-60b7cd27-0f4d-43b7-877e-613ad56cd369\">\n",
              "    <div class=\"colab-df-container\">\n",
              "      <div>\n",
              "<style scoped>\n",
              "    .dataframe tbody tr th:only-of-type {\n",
              "        vertical-align: middle;\n",
              "    }\n",
              "\n",
              "    .dataframe tbody tr th {\n",
              "        vertical-align: top;\n",
              "    }\n",
              "\n",
              "    .dataframe thead th {\n",
              "        text-align: right;\n",
              "    }\n",
              "</style>\n",
              "<table border=\"1\" class=\"dataframe\">\n",
              "  <thead>\n",
              "    <tr style=\"text-align: right;\">\n",
              "      <th></th>\n",
              "      <th>Unnamed: 0</th>\n",
              "      <th>age</th>\n",
              "      <th>ethnicity</th>\n",
              "      <th>gender</th>\n",
              "      <th>img_name</th>\n",
              "      <th>pixels</th>\n",
              "    </tr>\n",
              "  </thead>\n",
              "  <tbody>\n",
              "    <tr>\n",
              "      <th>0</th>\n",
              "      <td>0</td>\n",
              "      <td>1</td>\n",
              "      <td>2</td>\n",
              "      <td>0</td>\n",
              "      <td>20161219203650636.jpg.chip.jpg</td>\n",
              "      <td>129 128 128 126 127 130 133 135 139 142 145 14...</td>\n",
              "    </tr>\n",
              "    <tr>\n",
              "      <th>1</th>\n",
              "      <td>1</td>\n",
              "      <td>1</td>\n",
              "      <td>2</td>\n",
              "      <td>0</td>\n",
              "      <td>20161219222752047.jpg.chip.jpg</td>\n",
              "      <td>164 74 111 168 169 171 175 182 184 188 193 199...</td>\n",
              "    </tr>\n",
              "    <tr>\n",
              "      <th>2</th>\n",
              "      <td>2</td>\n",
              "      <td>1</td>\n",
              "      <td>2</td>\n",
              "      <td>0</td>\n",
              "      <td>20161219222832191.jpg.chip.jpg</td>\n",
              "      <td>67 70 71 70 69 67 70 79 90 103 116 132 145 155...</td>\n",
              "    </tr>\n",
              "    <tr>\n",
              "      <th>3</th>\n",
              "      <td>3</td>\n",
              "      <td>1</td>\n",
              "      <td>2</td>\n",
              "      <td>0</td>\n",
              "      <td>20161220144911423.jpg.chip.jpg</td>\n",
              "      <td>193 197 198 200 199 200 202 203 204 205 208 21...</td>\n",
              "    </tr>\n",
              "    <tr>\n",
              "      <th>4</th>\n",
              "      <td>4</td>\n",
              "      <td>1</td>\n",
              "      <td>2</td>\n",
              "      <td>0</td>\n",
              "      <td>20161220144914327.jpg.chip.jpg</td>\n",
              "      <td>202 205 209 210 209 209 210 211 212 214 218 21...</td>\n",
              "    </tr>\n",
              "    <tr>\n",
              "      <th>...</th>\n",
              "      <td>...</td>\n",
              "      <td>...</td>\n",
              "      <td>...</td>\n",
              "      <td>...</td>\n",
              "      <td>...</td>\n",
              "      <td>...</td>\n",
              "    </tr>\n",
              "    <tr>\n",
              "      <th>23700</th>\n",
              "      <td>23700</td>\n",
              "      <td>99</td>\n",
              "      <td>0</td>\n",
              "      <td>1</td>\n",
              "      <td>20170120221920654.jpg.chip.jpg</td>\n",
              "      <td>127 100 94 81 77 77 74 99 102 98 128 145 160 1...</td>\n",
              "    </tr>\n",
              "    <tr>\n",
              "      <th>23701</th>\n",
              "      <td>23701</td>\n",
              "      <td>99</td>\n",
              "      <td>1</td>\n",
              "      <td>1</td>\n",
              "      <td>20170120134639935.jpg.chip.jpg</td>\n",
              "      <td>23 28 32 35 42 47 68 85 98 103 113 117 130 129...</td>\n",
              "    </tr>\n",
              "    <tr>\n",
              "      <th>23702</th>\n",
              "      <td>23702</td>\n",
              "      <td>99</td>\n",
              "      <td>2</td>\n",
              "      <td>1</td>\n",
              "      <td>20170110182418864.jpg.chip.jpg</td>\n",
              "      <td>59 50 37 40 34 19 30 101 156 170 177 184 187 1...</td>\n",
              "    </tr>\n",
              "    <tr>\n",
              "      <th>23703</th>\n",
              "      <td>23703</td>\n",
              "      <td>99</td>\n",
              "      <td>2</td>\n",
              "      <td>1</td>\n",
              "      <td>20170117195405372.jpg.chip.jpg</td>\n",
              "      <td>45 108 120 156 206 197 140 180 191 199 204 207...</td>\n",
              "    </tr>\n",
              "    <tr>\n",
              "      <th>23704</th>\n",
              "      <td>23704</td>\n",
              "      <td>99</td>\n",
              "      <td>0</td>\n",
              "      <td>1</td>\n",
              "      <td>20170110182052119.jpg.chip.jpg</td>\n",
              "      <td>156 161 160 165 170 173 166 177 183 191 187 18...</td>\n",
              "    </tr>\n",
              "  </tbody>\n",
              "</table>\n",
              "<p>23705 rows × 6 columns</p>\n",
              "</div>\n",
              "      <button class=\"colab-df-convert\" onclick=\"convertToInteractive('df-60b7cd27-0f4d-43b7-877e-613ad56cd369')\"\n",
              "              title=\"Convert this dataframe to an interactive table.\"\n",
              "              style=\"display:none;\">\n",
              "        \n",
              "  <svg xmlns=\"http://www.w3.org/2000/svg\" height=\"24px\"viewBox=\"0 0 24 24\"\n",
              "       width=\"24px\">\n",
              "    <path d=\"M0 0h24v24H0V0z\" fill=\"none\"/>\n",
              "    <path d=\"M18.56 5.44l.94 2.06.94-2.06 2.06-.94-2.06-.94-.94-2.06-.94 2.06-2.06.94zm-11 1L8.5 8.5l.94-2.06 2.06-.94-2.06-.94L8.5 2.5l-.94 2.06-2.06.94zm10 10l.94 2.06.94-2.06 2.06-.94-2.06-.94-.94-2.06-.94 2.06-2.06.94z\"/><path d=\"M17.41 7.96l-1.37-1.37c-.4-.4-.92-.59-1.43-.59-.52 0-1.04.2-1.43.59L10.3 9.45l-7.72 7.72c-.78.78-.78 2.05 0 2.83L4 21.41c.39.39.9.59 1.41.59.51 0 1.02-.2 1.41-.59l7.78-7.78 2.81-2.81c.8-.78.8-2.07 0-2.86zM5.41 20L4 18.59l7.72-7.72 1.47 1.35L5.41 20z\"/>\n",
              "  </svg>\n",
              "      </button>\n",
              "      \n",
              "  <style>\n",
              "    .colab-df-container {\n",
              "      display:flex;\n",
              "      flex-wrap:wrap;\n",
              "      gap: 12px;\n",
              "    }\n",
              "\n",
              "    .colab-df-convert {\n",
              "      background-color: #E8F0FE;\n",
              "      border: none;\n",
              "      border-radius: 50%;\n",
              "      cursor: pointer;\n",
              "      display: none;\n",
              "      fill: #1967D2;\n",
              "      height: 32px;\n",
              "      padding: 0 0 0 0;\n",
              "      width: 32px;\n",
              "    }\n",
              "\n",
              "    .colab-df-convert:hover {\n",
              "      background-color: #E2EBFA;\n",
              "      box-shadow: 0px 1px 2px rgba(60, 64, 67, 0.3), 0px 1px 3px 1px rgba(60, 64, 67, 0.15);\n",
              "      fill: #174EA6;\n",
              "    }\n",
              "\n",
              "    [theme=dark] .colab-df-convert {\n",
              "      background-color: #3B4455;\n",
              "      fill: #D2E3FC;\n",
              "    }\n",
              "\n",
              "    [theme=dark] .colab-df-convert:hover {\n",
              "      background-color: #434B5C;\n",
              "      box-shadow: 0px 1px 3px 1px rgba(0, 0, 0, 0.15);\n",
              "      filter: drop-shadow(0px 1px 2px rgba(0, 0, 0, 0.3));\n",
              "      fill: #FFFFFF;\n",
              "    }\n",
              "  </style>\n",
              "\n",
              "      <script>\n",
              "        const buttonEl =\n",
              "          document.querySelector('#df-60b7cd27-0f4d-43b7-877e-613ad56cd369 button.colab-df-convert');\n",
              "        buttonEl.style.display =\n",
              "          google.colab.kernel.accessAllowed ? 'block' : 'none';\n",
              "\n",
              "        async function convertToInteractive(key) {\n",
              "          const element = document.querySelector('#df-60b7cd27-0f4d-43b7-877e-613ad56cd369');\n",
              "          const dataTable =\n",
              "            await google.colab.kernel.invokeFunction('convertToInteractive',\n",
              "                                                     [key], {});\n",
              "          if (!dataTable) return;\n",
              "\n",
              "          const docLinkHtml = 'Like what you see? Visit the ' +\n",
              "            '<a target=\"_blank\" href=https://colab.research.google.com/notebooks/data_table.ipynb>data table notebook</a>'\n",
              "            + ' to learn more about interactive tables.';\n",
              "          element.innerHTML = '';\n",
              "          dataTable['output_type'] = 'display_data';\n",
              "          await google.colab.output.renderOutput(dataTable, element);\n",
              "          const docLink = document.createElement('div');\n",
              "          docLink.innerHTML = docLinkHtml;\n",
              "          element.appendChild(docLink);\n",
              "        }\n",
              "      </script>\n",
              "    </div>\n",
              "  </div>\n",
              "  "
            ]
          },
          "metadata": {},
          "execution_count": 30
        }
      ]
    },
    {
      "cell_type": "markdown",
      "source": [
        "# 1.2 Dowlload Small Dataset \n",
        "\n",
        "crop_part1\n"
      ],
      "metadata": {
        "id": "iGa7Yf1rPXus"
      }
    },
    {
      "cell_type": "code",
      "source": [
        "path = \"/content/gdrive/MyDrive/Datesciense/sber/dataset/\""
      ],
      "metadata": {
        "id": "PM2d_xFPJEXc"
      },
      "execution_count": 6,
      "outputs": []
    },
    {
      "cell_type": "code",
      "source": [
        "import os\n",
        "import tarfile\n",
        "arch = tarfile.open(os.path.join(path,'crop_part1.tar.gz'), 'r')\n",
        "arch.getnames()[:3]"
      ],
      "metadata": {
        "colab": {
          "base_uri": "https://localhost:8080/"
        },
        "id": "iPq5EhbfI_6l",
        "outputId": "3c232053-a64b-4c37-fca5-d6e4d746127f"
      },
      "execution_count": 7,
      "outputs": [
        {
          "output_type": "execute_result",
          "data": {
            "text/plain": [
              "['crop_part1/24_1_2_20170104020224692.jpg.chip.jpg',\n",
              " 'crop_part1/3_1_3_20161219230106056.jpg.chip.jpg',\n",
              " 'crop_part1/35_0_0_20170105162448427.jpg.chip.jpg']"
            ]
          },
          "metadata": {},
          "execution_count": 7
        }
      ]
    },
    {
      "cell_type": "code",
      "source": [
        "file_names = []\n",
        "for name in arch.getnames():\n",
        "    name = name.replace('crop_part1/', '')\n",
        "    name = name.replace('.chip.jpg', '')\n",
        "    file_names.append(name)\n",
        "file_names[:3]"
      ],
      "metadata": {
        "colab": {
          "base_uri": "https://localhost:8080/"
        },
        "id": "wl4_Ym5NJg3S",
        "outputId": "cb14974b-c339-481c-c47a-f3ff006e277d"
      },
      "execution_count": 31,
      "outputs": [
        {
          "output_type": "execute_result",
          "data": {
            "text/plain": [
              "['24_1_2_20170104020224692.jpg',\n",
              " '3_1_3_20161219230106056.jpg',\n",
              " '35_0_0_20170105162448427.jpg']"
            ]
          },
          "metadata": {},
          "execution_count": 31
        }
      ]
    },
    {
      "cell_type": "code",
      "source": [
        "len(file_names)"
      ],
      "metadata": {
        "colab": {
          "base_uri": "https://localhost:8080/"
        },
        "id": "rmAvawtoJtxh",
        "outputId": "f1613c64-5b67-4bdc-f167-cb16e7f170a3"
      },
      "execution_count": 9,
      "outputs": [
        {
          "output_type": "execute_result",
          "data": {
            "text/plain": [
              "9781"
            ]
          },
          "metadata": {},
          "execution_count": 9
        }
      ]
    },
    {
      "cell_type": "code",
      "source": [
        "file_names.remove('crop_part1')"
      ],
      "metadata": {
        "id": "mlh0cJ8ELRJ0"
      },
      "execution_count": 21,
      "outputs": []
    },
    {
      "cell_type": "code",
      "source": [
        "#  exapmle name of file in dataset  /kaggle/input/utkface-new/crop_part1/65_1_0_20170110182002744.jpg.chip.jpg\n",
        "\n",
        "# path = \"/content/gdrive/MyDrive/Datesciense/sber/dataset/crop_part1/\"\n",
        "\n",
        "images = []\n",
        "ages = []\n",
        "genders = []\n",
        "race = []\n",
        "\n",
        "for i in file_names:\n",
        "    # print(i)\n",
        "    split = i.split('_')\n",
        "    ages.append(int(split[0]))\n",
        "    genders.append(int(split[1]))\n",
        "    if len(split[2]) == 1:\n",
        "        race.append(int(split[2]))\n",
        "    else: \n",
        "        race.append(\"nan\")\n",
        "    # images.append(Image.open(path + i))\n",
        "    images.append(i)"
      ],
      "metadata": {
        "execution": {
          "iopub.status.busy": "2022-12-20T12:13:04.991453Z",
          "iopub.status.idle": "2022-12-20T12:13:04.992248Z",
          "shell.execute_reply.started": "2022-12-20T12:13:04.991941Z",
          "shell.execute_reply": "2022-12-20T12:13:04.991966Z"
        },
        "trusted": true,
        "id": "aKi5MGpRd7VO"
      },
      "execution_count": 27,
      "outputs": []
    },
    {
      "cell_type": "markdown",
      "source": [
        "всего файлов в датасете crop_part1."
      ],
      "metadata": {
        "id": "hEuSusZZd7VQ"
      }
    },
    {
      "cell_type": "code",
      "source": [
        "files = os.listdir(path)\n",
        "size = len(files)\n",
        "print(\"Total samples:\",size)\n",
        "print(files[0])"
      ],
      "metadata": {
        "execution": {
          "iopub.status.busy": "2022-12-20T12:13:04.993773Z",
          "iopub.status.idle": "2022-12-20T12:13:04.994520Z",
          "shell.execute_reply.started": "2022-12-20T12:13:04.994250Z",
          "shell.execute_reply": "2022-12-20T12:13:04.994276Z"
        },
        "trusted": true,
        "id": "u-uz_PJnd7VS",
        "colab": {
          "base_uri": "https://localhost:8080/"
        },
        "outputId": "c0b04c11-2542-47f2-c20f-7decaae18a87"
      },
      "execution_count": 6,
      "outputs": [
        {
          "output_type": "stream",
          "name": "stdout",
          "text": [
            "Total samples: 9780\n",
            "3_1_0_20170109191958848.jpg.chip.jpg\n",
            "time: 170 ms (started: 2022-12-21 10:33:43 +00:00)\n"
          ]
        }
      ]
    },
    {
      "cell_type": "code",
      "source": [
        "images = pd.Series(list(images), name = 'Images')\n",
        "ages = pd.Series(list(ages), name = 'Ages')\n",
        "genders = pd.Series(list(genders), name = 'Genders')\n",
        "race = pd.Series(list(race), name = 'Race')\n",
        "\n",
        "df = pd.concat([images, ages, genders, race], axis=1)\n",
        "df"
      ],
      "metadata": {
        "execution": {
          "iopub.status.busy": "2022-12-20T12:13:04.995901Z",
          "iopub.status.idle": "2022-12-20T12:13:04.996629Z",
          "shell.execute_reply.started": "2022-12-20T12:13:04.996363Z",
          "shell.execute_reply": "2022-12-20T12:13:04.996389Z"
        },
        "trusted": true,
        "id": "08OI_R5Jd7VT",
        "colab": {
          "base_uri": "https://localhost:8080/",
          "height": 424
        },
        "outputId": "c412b332-4e6a-4920-9d00-f4f273f78315"
      },
      "execution_count": 32,
      "outputs": [
        {
          "output_type": "execute_result",
          "data": {
            "text/plain": [
              "                            Images  Ages  Genders Race\n",
              "0     24_1_2_20170104020224692.jpg    24        1    2\n",
              "1      3_1_3_20161219230106056.jpg     3        1    3\n",
              "2     35_0_0_20170105162448427.jpg    35        0    0\n",
              "3      5_0_0_20170110213554657.jpg     5        0    0\n",
              "4     23_1_4_20170103223615095.jpg    23        1    4\n",
              "...                            ...   ...      ...  ...\n",
              "9775  49_0_0_20170104205813820.jpg    49        0    0\n",
              "9776  25_0_0_20170104004136182.jpg    25        0    0\n",
              "9777   1_0_2_20161219211357821.jpg     1        0    2\n",
              "9778   6_1_0_20170109202302115.jpg     6        1    0\n",
              "9779  78_0_0_20170111222436497.jpg    78        0    0\n",
              "\n",
              "[9780 rows x 4 columns]"
            ],
            "text/html": [
              "\n",
              "  <div id=\"df-bd4b7f78-2ff5-4f7c-8856-2ad374f1ec4b\">\n",
              "    <div class=\"colab-df-container\">\n",
              "      <div>\n",
              "<style scoped>\n",
              "    .dataframe tbody tr th:only-of-type {\n",
              "        vertical-align: middle;\n",
              "    }\n",
              "\n",
              "    .dataframe tbody tr th {\n",
              "        vertical-align: top;\n",
              "    }\n",
              "\n",
              "    .dataframe thead th {\n",
              "        text-align: right;\n",
              "    }\n",
              "</style>\n",
              "<table border=\"1\" class=\"dataframe\">\n",
              "  <thead>\n",
              "    <tr style=\"text-align: right;\">\n",
              "      <th></th>\n",
              "      <th>Images</th>\n",
              "      <th>Ages</th>\n",
              "      <th>Genders</th>\n",
              "      <th>Race</th>\n",
              "    </tr>\n",
              "  </thead>\n",
              "  <tbody>\n",
              "    <tr>\n",
              "      <th>0</th>\n",
              "      <td>24_1_2_20170104020224692.jpg</td>\n",
              "      <td>24</td>\n",
              "      <td>1</td>\n",
              "      <td>2</td>\n",
              "    </tr>\n",
              "    <tr>\n",
              "      <th>1</th>\n",
              "      <td>3_1_3_20161219230106056.jpg</td>\n",
              "      <td>3</td>\n",
              "      <td>1</td>\n",
              "      <td>3</td>\n",
              "    </tr>\n",
              "    <tr>\n",
              "      <th>2</th>\n",
              "      <td>35_0_0_20170105162448427.jpg</td>\n",
              "      <td>35</td>\n",
              "      <td>0</td>\n",
              "      <td>0</td>\n",
              "    </tr>\n",
              "    <tr>\n",
              "      <th>3</th>\n",
              "      <td>5_0_0_20170110213554657.jpg</td>\n",
              "      <td>5</td>\n",
              "      <td>0</td>\n",
              "      <td>0</td>\n",
              "    </tr>\n",
              "    <tr>\n",
              "      <th>4</th>\n",
              "      <td>23_1_4_20170103223615095.jpg</td>\n",
              "      <td>23</td>\n",
              "      <td>1</td>\n",
              "      <td>4</td>\n",
              "    </tr>\n",
              "    <tr>\n",
              "      <th>...</th>\n",
              "      <td>...</td>\n",
              "      <td>...</td>\n",
              "      <td>...</td>\n",
              "      <td>...</td>\n",
              "    </tr>\n",
              "    <tr>\n",
              "      <th>9775</th>\n",
              "      <td>49_0_0_20170104205813820.jpg</td>\n",
              "      <td>49</td>\n",
              "      <td>0</td>\n",
              "      <td>0</td>\n",
              "    </tr>\n",
              "    <tr>\n",
              "      <th>9776</th>\n",
              "      <td>25_0_0_20170104004136182.jpg</td>\n",
              "      <td>25</td>\n",
              "      <td>0</td>\n",
              "      <td>0</td>\n",
              "    </tr>\n",
              "    <tr>\n",
              "      <th>9777</th>\n",
              "      <td>1_0_2_20161219211357821.jpg</td>\n",
              "      <td>1</td>\n",
              "      <td>0</td>\n",
              "      <td>2</td>\n",
              "    </tr>\n",
              "    <tr>\n",
              "      <th>9778</th>\n",
              "      <td>6_1_0_20170109202302115.jpg</td>\n",
              "      <td>6</td>\n",
              "      <td>1</td>\n",
              "      <td>0</td>\n",
              "    </tr>\n",
              "    <tr>\n",
              "      <th>9779</th>\n",
              "      <td>78_0_0_20170111222436497.jpg</td>\n",
              "      <td>78</td>\n",
              "      <td>0</td>\n",
              "      <td>0</td>\n",
              "    </tr>\n",
              "  </tbody>\n",
              "</table>\n",
              "<p>9780 rows × 4 columns</p>\n",
              "</div>\n",
              "      <button class=\"colab-df-convert\" onclick=\"convertToInteractive('df-bd4b7f78-2ff5-4f7c-8856-2ad374f1ec4b')\"\n",
              "              title=\"Convert this dataframe to an interactive table.\"\n",
              "              style=\"display:none;\">\n",
              "        \n",
              "  <svg xmlns=\"http://www.w3.org/2000/svg\" height=\"24px\"viewBox=\"0 0 24 24\"\n",
              "       width=\"24px\">\n",
              "    <path d=\"M0 0h24v24H0V0z\" fill=\"none\"/>\n",
              "    <path d=\"M18.56 5.44l.94 2.06.94-2.06 2.06-.94-2.06-.94-.94-2.06-.94 2.06-2.06.94zm-11 1L8.5 8.5l.94-2.06 2.06-.94-2.06-.94L8.5 2.5l-.94 2.06-2.06.94zm10 10l.94 2.06.94-2.06 2.06-.94-2.06-.94-.94-2.06-.94 2.06-2.06.94z\"/><path d=\"M17.41 7.96l-1.37-1.37c-.4-.4-.92-.59-1.43-.59-.52 0-1.04.2-1.43.59L10.3 9.45l-7.72 7.72c-.78.78-.78 2.05 0 2.83L4 21.41c.39.39.9.59 1.41.59.51 0 1.02-.2 1.41-.59l7.78-7.78 2.81-2.81c.8-.78.8-2.07 0-2.86zM5.41 20L4 18.59l7.72-7.72 1.47 1.35L5.41 20z\"/>\n",
              "  </svg>\n",
              "      </button>\n",
              "      \n",
              "  <style>\n",
              "    .colab-df-container {\n",
              "      display:flex;\n",
              "      flex-wrap:wrap;\n",
              "      gap: 12px;\n",
              "    }\n",
              "\n",
              "    .colab-df-convert {\n",
              "      background-color: #E8F0FE;\n",
              "      border: none;\n",
              "      border-radius: 50%;\n",
              "      cursor: pointer;\n",
              "      display: none;\n",
              "      fill: #1967D2;\n",
              "      height: 32px;\n",
              "      padding: 0 0 0 0;\n",
              "      width: 32px;\n",
              "    }\n",
              "\n",
              "    .colab-df-convert:hover {\n",
              "      background-color: #E2EBFA;\n",
              "      box-shadow: 0px 1px 2px rgba(60, 64, 67, 0.3), 0px 1px 3px 1px rgba(60, 64, 67, 0.15);\n",
              "      fill: #174EA6;\n",
              "    }\n",
              "\n",
              "    [theme=dark] .colab-df-convert {\n",
              "      background-color: #3B4455;\n",
              "      fill: #D2E3FC;\n",
              "    }\n",
              "\n",
              "    [theme=dark] .colab-df-convert:hover {\n",
              "      background-color: #434B5C;\n",
              "      box-shadow: 0px 1px 3px 1px rgba(0, 0, 0, 0.15);\n",
              "      filter: drop-shadow(0px 1px 2px rgba(0, 0, 0, 0.3));\n",
              "      fill: #FFFFFF;\n",
              "    }\n",
              "  </style>\n",
              "\n",
              "      <script>\n",
              "        const buttonEl =\n",
              "          document.querySelector('#df-bd4b7f78-2ff5-4f7c-8856-2ad374f1ec4b button.colab-df-convert');\n",
              "        buttonEl.style.display =\n",
              "          google.colab.kernel.accessAllowed ? 'block' : 'none';\n",
              "\n",
              "        async function convertToInteractive(key) {\n",
              "          const element = document.querySelector('#df-bd4b7f78-2ff5-4f7c-8856-2ad374f1ec4b');\n",
              "          const dataTable =\n",
              "            await google.colab.kernel.invokeFunction('convertToInteractive',\n",
              "                                                     [key], {});\n",
              "          if (!dataTable) return;\n",
              "\n",
              "          const docLinkHtml = 'Like what you see? Visit the ' +\n",
              "            '<a target=\"_blank\" href=https://colab.research.google.com/notebooks/data_table.ipynb>data table notebook</a>'\n",
              "            + ' to learn more about interactive tables.';\n",
              "          element.innerHTML = '';\n",
              "          dataTable['output_type'] = 'display_data';\n",
              "          await google.colab.output.renderOutput(dataTable, element);\n",
              "          const docLink = document.createElement('div');\n",
              "          docLink.innerHTML = docLinkHtml;\n",
              "          element.appendChild(docLink);\n",
              "        }\n",
              "      </script>\n",
              "    </div>\n",
              "  </div>\n",
              "  "
            ]
          },
          "metadata": {},
          "execution_count": 32
        }
      ]
    },
    {
      "cell_type": "code",
      "source": [
        "df.shape\n"
      ],
      "metadata": {
        "colab": {
          "base_uri": "https://localhost:8080/"
        },
        "id": "XaOxnZkjWLhV",
        "outputId": "349667c1-0919-4496-9b62-e9f9aad72e01"
      },
      "execution_count": 33,
      "outputs": [
        {
          "output_type": "execute_result",
          "data": {
            "text/plain": [
              "(9780, 4)"
            ]
          },
          "metadata": {},
          "execution_count": 33
        }
      ]
    },
    {
      "cell_type": "markdown",
      "source": [
        "# 1.3 Data prepare (nan)"
      ],
      "metadata": {
        "id": "tSjHlfnUQMTM"
      }
    },
    {
      "cell_type": "code",
      "source": [
        "df.info()"
      ],
      "metadata": {
        "colab": {
          "base_uri": "https://localhost:8080/"
        },
        "id": "CBhnr5b6WQ79",
        "outputId": "3445b1cd-7cdb-4487-f7cd-079c20b378c5"
      },
      "execution_count": 107,
      "outputs": [
        {
          "output_type": "stream",
          "name": "stdout",
          "text": [
            "<class 'pandas.core.frame.DataFrame'>\n",
            "RangeIndex: 9780 entries, 0 to 9779\n",
            "Data columns (total 4 columns):\n",
            " #   Column   Non-Null Count  Dtype \n",
            "---  ------   --------------  ----- \n",
            " 0   Images   9780 non-null   object\n",
            " 1   Ages     9780 non-null   int64 \n",
            " 2   Genders  9780 non-null   int64 \n",
            " 3   Race     9780 non-null   object\n",
            "dtypes: int64(2), object(2)\n",
            "memory usage: 305.8+ KB\n",
            "time: 13.1 ms (started: 2022-12-21 11:41:30 +00:00)\n"
          ]
        }
      ]
    },
    {
      "cell_type": "code",
      "source": [
        "Ages_mass = np.sort(df['Ages'].unique())\n",
        "print(Ages_mass)"
      ],
      "metadata": {
        "colab": {
          "base_uri": "https://localhost:8080/"
        },
        "id": "8JdCyGW0UW6H",
        "outputId": "e61deb6d-4fd5-451d-de58-bdbd17246bea"
      },
      "execution_count": 34,
      "outputs": [
        {
          "output_type": "stream",
          "name": "stdout",
          "text": [
            "[  1   2   3   4   5   6   7   8   9  10  11  12  13  14  15  16  17  18\n",
            "  19  20  21  22  23  24  25  26  27  28  29  30  31  32  33  34  35  36\n",
            "  37  38  39  40  41  42  43  44  45  46  47  48  49  50  51  52  53  54\n",
            "  55  56  57  58  59  60  61  62  63  64  65  66  67  68  69  70  71  72\n",
            "  73  74  75  76  77  78  79  80  81  82  83  84  85  86  87  88  89  90\n",
            "  91  92  93  95  96  99 100 101 110]\n"
          ]
        }
      ]
    },
    {
      "cell_type": "code",
      "source": [
        "Ages_counts = df[\"Ages\"].value_counts(normalize=False)\n",
        "Ages_counts"
      ],
      "metadata": {
        "colab": {
          "base_uri": "https://localhost:8080/"
        },
        "id": "fLKkjfW8gqAP",
        "outputId": "744a5a76-293c-4088-9a82-460c00a74b83"
      },
      "execution_count": 35,
      "outputs": [
        {
          "output_type": "execute_result",
          "data": {
            "text/plain": [
              "1      1112\n",
              "2       475\n",
              "3       284\n",
              "26      279\n",
              "4       260\n",
              "       ... \n",
              "110       2\n",
              "99        2\n",
              "100       2\n",
              "101       1\n",
              "91        1\n",
              "Name: Ages, Length: 99, dtype: int64"
            ]
          },
          "metadata": {},
          "execution_count": 35
        }
      ]
    },
    {
      "cell_type": "code",
      "source": [
        "# labels = Ages_mass\n",
        "# df.groupby(['Ages']).sum().plot(kind='pie', y=Ages_mass[1])\n"
      ],
      "metadata": {
        "id": "rdlczzH9hGZm"
      },
      "execution_count": 47,
      "outputs": []
    },
    {
      "cell_type": "code",
      "source": [
        "df['Genders'].unique()"
      ],
      "metadata": {
        "colab": {
          "base_uri": "https://localhost:8080/"
        },
        "id": "9-pNUzVJVDYz",
        "outputId": "9431f8f2-4a2d-4b16-d68c-bd23ba627e1f"
      },
      "execution_count": 37,
      "outputs": [
        {
          "output_type": "execute_result",
          "data": {
            "text/plain": [
              "array([1, 0, 3])"
            ]
          },
          "metadata": {},
          "execution_count": 37
        }
      ]
    },
    {
      "cell_type": "code",
      "source": [
        "gender_counts = df[\"Genders\"].value_counts(normalize=False)\n",
        "print(gender_counts)"
      ],
      "metadata": {
        "colab": {
          "base_uri": "https://localhost:8080/"
        },
        "id": "rnkUXsPtanME",
        "outputId": "929c4159-5adb-4e1c-8a36-9208ce969250"
      },
      "execution_count": 38,
      "outputs": [
        {
          "output_type": "stream",
          "name": "stdout",
          "text": [
            "1    5407\n",
            "0    4372\n",
            "3       1\n",
            "Name: Genders, dtype: int64\n"
          ]
        }
      ]
    },
    {
      "cell_type": "code",
      "source": [
        "df['Race'].unique()"
      ],
      "metadata": {
        "colab": {
          "base_uri": "https://localhost:8080/"
        },
        "id": "DuF7p5jRVLEn",
        "outputId": "b34d4034-1ea9-4739-c9c8-deabf2877af3"
      },
      "execution_count": 39,
      "outputs": [
        {
          "output_type": "execute_result",
          "data": {
            "text/plain": [
              "array([2, 3, 0, 4, 1, 'nan'], dtype=object)"
            ]
          },
          "metadata": {},
          "execution_count": 39
        }
      ]
    },
    {
      "cell_type": "code",
      "source": [
        "race_counts = df[\"Race\"].value_counts(normalize=False)\n",
        "print(race_counts)"
      ],
      "metadata": {
        "colab": {
          "base_uri": "https://localhost:8080/"
        },
        "id": "8ayPbGOiYtBD",
        "outputId": "de102b4a-28e0-4831-ec75-f11b19245bc1"
      },
      "execution_count": 40,
      "outputs": [
        {
          "output_type": "stream",
          "name": "stdout",
          "text": [
            "0      5265\n",
            "2      1553\n",
            "3      1452\n",
            "4      1103\n",
            "1       405\n",
            "nan       2\n",
            "Name: Race, dtype: int64\n"
          ]
        }
      ]
    },
    {
      "cell_type": "code",
      "source": [
        "df['Race'] = df['Race'].astype('string')\n",
        "print(df.info())"
      ],
      "metadata": {
        "colab": {
          "base_uri": "https://localhost:8080/"
        },
        "id": "awREy7vdVQ7B",
        "outputId": "cc2edde3-22fe-4961-a9b7-8a5233f6752b"
      },
      "execution_count": 41,
      "outputs": [
        {
          "output_type": "stream",
          "name": "stdout",
          "text": [
            "<class 'pandas.core.frame.DataFrame'>\n",
            "RangeIndex: 9780 entries, 0 to 9779\n",
            "Data columns (total 4 columns):\n",
            " #   Column   Non-Null Count  Dtype \n",
            "---  ------   --------------  ----- \n",
            " 0   Images   9780 non-null   object\n",
            " 1   Ages     9780 non-null   int64 \n",
            " 2   Genders  9780 non-null   int64 \n",
            " 3   Race     9780 non-null   string\n",
            "dtypes: int64(2), object(1), string(1)\n",
            "memory usage: 305.8+ KB\n",
            "None\n"
          ]
        }
      ]
    },
    {
      "cell_type": "code",
      "source": [
        "df = df[df['Race'].str.contains('nan') == False]"
      ],
      "metadata": {
        "id": "V5pgF9OQd0FI"
      },
      "execution_count": 42,
      "outputs": []
    },
    {
      "cell_type": "code",
      "source": [
        "df['Race'].unique()"
      ],
      "metadata": {
        "colab": {
          "base_uri": "https://localhost:8080/"
        },
        "id": "isan14BhYNCc",
        "outputId": "9805887e-8ca2-4508-fe57-148c8c3ab03a"
      },
      "execution_count": 43,
      "outputs": [
        {
          "output_type": "execute_result",
          "data": {
            "text/plain": [
              "<StringArray>\n",
              "['2', '3', '0', '4', '1']\n",
              "Length: 5, dtype: string"
            ]
          },
          "metadata": {},
          "execution_count": 43
        }
      ]
    },
    {
      "cell_type": "code",
      "source": [
        "df['Race'] = df['Race'].astype('int64')\n",
        "print(df.info())"
      ],
      "metadata": {
        "colab": {
          "base_uri": "https://localhost:8080/"
        },
        "id": "eBYjf2J8YShH",
        "outputId": "11754d5f-2daa-496f-c4dc-bf5a569ca70f"
      },
      "execution_count": 45,
      "outputs": [
        {
          "output_type": "stream",
          "name": "stdout",
          "text": [
            "<class 'pandas.core.frame.DataFrame'>\n",
            "Int64Index: 9778 entries, 0 to 9779\n",
            "Data columns (total 4 columns):\n",
            " #   Column   Non-Null Count  Dtype \n",
            "---  ------   --------------  ----- \n",
            " 0   Images   9778 non-null   object\n",
            " 1   Ages     9778 non-null   int64 \n",
            " 2   Genders  9778 non-null   int64 \n",
            " 3   Race     9778 non-null   int64 \n",
            "dtypes: int64(3), object(1)\n",
            "memory usage: 382.0+ KB\n",
            "None\n"
          ]
        },
        {
          "output_type": "stream",
          "name": "stderr",
          "text": [
            "<ipython-input-45-321fa5b5ed0d>:1: SettingWithCopyWarning: \n",
            "A value is trying to be set on a copy of a slice from a DataFrame.\n",
            "Try using .loc[row_indexer,col_indexer] = value instead\n",
            "\n",
            "See the caveats in the documentation: https://pandas.pydata.org/pandas-docs/stable/user_guide/indexing.html#returning-a-view-versus-a-copy\n",
            "  df['Race'] = df['Race'].astype('int64')\n"
          ]
        }
      ]
    },
    {
      "cell_type": "code",
      "source": [
        "df"
      ],
      "metadata": {
        "colab": {
          "base_uri": "https://localhost:8080/",
          "height": 424
        },
        "id": "dWd9DquKYSek",
        "outputId": "46fad4c7-c5ee-4fd2-e92a-34d12f0ca4aa"
      },
      "execution_count": 46,
      "outputs": [
        {
          "output_type": "execute_result",
          "data": {
            "text/plain": [
              "                            Images  Ages  Genders  Race\n",
              "0     24_1_2_20170104020224692.jpg    24        1     2\n",
              "1      3_1_3_20161219230106056.jpg     3        1     3\n",
              "2     35_0_0_20170105162448427.jpg    35        0     0\n",
              "3      5_0_0_20170110213554657.jpg     5        0     0\n",
              "4     23_1_4_20170103223615095.jpg    23        1     4\n",
              "...                            ...   ...      ...   ...\n",
              "9775  49_0_0_20170104205813820.jpg    49        0     0\n",
              "9776  25_0_0_20170104004136182.jpg    25        0     0\n",
              "9777   1_0_2_20161219211357821.jpg     1        0     2\n",
              "9778   6_1_0_20170109202302115.jpg     6        1     0\n",
              "9779  78_0_0_20170111222436497.jpg    78        0     0\n",
              "\n",
              "[9778 rows x 4 columns]"
            ],
            "text/html": [
              "\n",
              "  <div id=\"df-1f0a8be9-efdd-4fb7-9130-97549ac071aa\">\n",
              "    <div class=\"colab-df-container\">\n",
              "      <div>\n",
              "<style scoped>\n",
              "    .dataframe tbody tr th:only-of-type {\n",
              "        vertical-align: middle;\n",
              "    }\n",
              "\n",
              "    .dataframe tbody tr th {\n",
              "        vertical-align: top;\n",
              "    }\n",
              "\n",
              "    .dataframe thead th {\n",
              "        text-align: right;\n",
              "    }\n",
              "</style>\n",
              "<table border=\"1\" class=\"dataframe\">\n",
              "  <thead>\n",
              "    <tr style=\"text-align: right;\">\n",
              "      <th></th>\n",
              "      <th>Images</th>\n",
              "      <th>Ages</th>\n",
              "      <th>Genders</th>\n",
              "      <th>Race</th>\n",
              "    </tr>\n",
              "  </thead>\n",
              "  <tbody>\n",
              "    <tr>\n",
              "      <th>0</th>\n",
              "      <td>24_1_2_20170104020224692.jpg</td>\n",
              "      <td>24</td>\n",
              "      <td>1</td>\n",
              "      <td>2</td>\n",
              "    </tr>\n",
              "    <tr>\n",
              "      <th>1</th>\n",
              "      <td>3_1_3_20161219230106056.jpg</td>\n",
              "      <td>3</td>\n",
              "      <td>1</td>\n",
              "      <td>3</td>\n",
              "    </tr>\n",
              "    <tr>\n",
              "      <th>2</th>\n",
              "      <td>35_0_0_20170105162448427.jpg</td>\n",
              "      <td>35</td>\n",
              "      <td>0</td>\n",
              "      <td>0</td>\n",
              "    </tr>\n",
              "    <tr>\n",
              "      <th>3</th>\n",
              "      <td>5_0_0_20170110213554657.jpg</td>\n",
              "      <td>5</td>\n",
              "      <td>0</td>\n",
              "      <td>0</td>\n",
              "    </tr>\n",
              "    <tr>\n",
              "      <th>4</th>\n",
              "      <td>23_1_4_20170103223615095.jpg</td>\n",
              "      <td>23</td>\n",
              "      <td>1</td>\n",
              "      <td>4</td>\n",
              "    </tr>\n",
              "    <tr>\n",
              "      <th>...</th>\n",
              "      <td>...</td>\n",
              "      <td>...</td>\n",
              "      <td>...</td>\n",
              "      <td>...</td>\n",
              "    </tr>\n",
              "    <tr>\n",
              "      <th>9775</th>\n",
              "      <td>49_0_0_20170104205813820.jpg</td>\n",
              "      <td>49</td>\n",
              "      <td>0</td>\n",
              "      <td>0</td>\n",
              "    </tr>\n",
              "    <tr>\n",
              "      <th>9776</th>\n",
              "      <td>25_0_0_20170104004136182.jpg</td>\n",
              "      <td>25</td>\n",
              "      <td>0</td>\n",
              "      <td>0</td>\n",
              "    </tr>\n",
              "    <tr>\n",
              "      <th>9777</th>\n",
              "      <td>1_0_2_20161219211357821.jpg</td>\n",
              "      <td>1</td>\n",
              "      <td>0</td>\n",
              "      <td>2</td>\n",
              "    </tr>\n",
              "    <tr>\n",
              "      <th>9778</th>\n",
              "      <td>6_1_0_20170109202302115.jpg</td>\n",
              "      <td>6</td>\n",
              "      <td>1</td>\n",
              "      <td>0</td>\n",
              "    </tr>\n",
              "    <tr>\n",
              "      <th>9779</th>\n",
              "      <td>78_0_0_20170111222436497.jpg</td>\n",
              "      <td>78</td>\n",
              "      <td>0</td>\n",
              "      <td>0</td>\n",
              "    </tr>\n",
              "  </tbody>\n",
              "</table>\n",
              "<p>9778 rows × 4 columns</p>\n",
              "</div>\n",
              "      <button class=\"colab-df-convert\" onclick=\"convertToInteractive('df-1f0a8be9-efdd-4fb7-9130-97549ac071aa')\"\n",
              "              title=\"Convert this dataframe to an interactive table.\"\n",
              "              style=\"display:none;\">\n",
              "        \n",
              "  <svg xmlns=\"http://www.w3.org/2000/svg\" height=\"24px\"viewBox=\"0 0 24 24\"\n",
              "       width=\"24px\">\n",
              "    <path d=\"M0 0h24v24H0V0z\" fill=\"none\"/>\n",
              "    <path d=\"M18.56 5.44l.94 2.06.94-2.06 2.06-.94-2.06-.94-.94-2.06-.94 2.06-2.06.94zm-11 1L8.5 8.5l.94-2.06 2.06-.94-2.06-.94L8.5 2.5l-.94 2.06-2.06.94zm10 10l.94 2.06.94-2.06 2.06-.94-2.06-.94-.94-2.06-.94 2.06-2.06.94z\"/><path d=\"M17.41 7.96l-1.37-1.37c-.4-.4-.92-.59-1.43-.59-.52 0-1.04.2-1.43.59L10.3 9.45l-7.72 7.72c-.78.78-.78 2.05 0 2.83L4 21.41c.39.39.9.59 1.41.59.51 0 1.02-.2 1.41-.59l7.78-7.78 2.81-2.81c.8-.78.8-2.07 0-2.86zM5.41 20L4 18.59l7.72-7.72 1.47 1.35L5.41 20z\"/>\n",
              "  </svg>\n",
              "      </button>\n",
              "      \n",
              "  <style>\n",
              "    .colab-df-container {\n",
              "      display:flex;\n",
              "      flex-wrap:wrap;\n",
              "      gap: 12px;\n",
              "    }\n",
              "\n",
              "    .colab-df-convert {\n",
              "      background-color: #E8F0FE;\n",
              "      border: none;\n",
              "      border-radius: 50%;\n",
              "      cursor: pointer;\n",
              "      display: none;\n",
              "      fill: #1967D2;\n",
              "      height: 32px;\n",
              "      padding: 0 0 0 0;\n",
              "      width: 32px;\n",
              "    }\n",
              "\n",
              "    .colab-df-convert:hover {\n",
              "      background-color: #E2EBFA;\n",
              "      box-shadow: 0px 1px 2px rgba(60, 64, 67, 0.3), 0px 1px 3px 1px rgba(60, 64, 67, 0.15);\n",
              "      fill: #174EA6;\n",
              "    }\n",
              "\n",
              "    [theme=dark] .colab-df-convert {\n",
              "      background-color: #3B4455;\n",
              "      fill: #D2E3FC;\n",
              "    }\n",
              "\n",
              "    [theme=dark] .colab-df-convert:hover {\n",
              "      background-color: #434B5C;\n",
              "      box-shadow: 0px 1px 3px 1px rgba(0, 0, 0, 0.15);\n",
              "      filter: drop-shadow(0px 1px 2px rgba(0, 0, 0, 0.3));\n",
              "      fill: #FFFFFF;\n",
              "    }\n",
              "  </style>\n",
              "\n",
              "      <script>\n",
              "        const buttonEl =\n",
              "          document.querySelector('#df-1f0a8be9-efdd-4fb7-9130-97549ac071aa button.colab-df-convert');\n",
              "        buttonEl.style.display =\n",
              "          google.colab.kernel.accessAllowed ? 'block' : 'none';\n",
              "\n",
              "        async function convertToInteractive(key) {\n",
              "          const element = document.querySelector('#df-1f0a8be9-efdd-4fb7-9130-97549ac071aa');\n",
              "          const dataTable =\n",
              "            await google.colab.kernel.invokeFunction('convertToInteractive',\n",
              "                                                     [key], {});\n",
              "          if (!dataTable) return;\n",
              "\n",
              "          const docLinkHtml = 'Like what you see? Visit the ' +\n",
              "            '<a target=\"_blank\" href=https://colab.research.google.com/notebooks/data_table.ipynb>data table notebook</a>'\n",
              "            + ' to learn more about interactive tables.';\n",
              "          element.innerHTML = '';\n",
              "          dataTable['output_type'] = 'display_data';\n",
              "          await google.colab.output.renderOutput(dataTable, element);\n",
              "          const docLink = document.createElement('div');\n",
              "          docLink.innerHTML = docLinkHtml;\n",
              "          element.appendChild(docLink);\n",
              "        }\n",
              "      </script>\n",
              "    </div>\n",
              "  </div>\n",
              "  "
            ]
          },
          "metadata": {},
          "execution_count": 46
        }
      ]
    },
    {
      "cell_type": "markdown",
      "source": [
        "# 2. Show example pic"
      ],
      "metadata": {
        "id": "UhcZq6bu4wDt"
      }
    },
    {
      "cell_type": "code",
      "source": [
        "def draw_image_from_dataset(filenumber):    \n",
        "    display(df['Images'][filenumber])\n",
        "    print('ages - ' + str(df['Ages'][filenumber]),' ---  gender - ' + str(df['Genders'][filenumber]))\n",
        "    print()"
      ],
      "metadata": {
        "execution": {
          "iopub.status.busy": "2022-12-20T12:13:04.997982Z",
          "iopub.status.idle": "2022-12-20T12:13:04.998738Z",
          "shell.execute_reply.started": "2022-12-20T12:13:04.998457Z",
          "shell.execute_reply": "2022-12-20T12:13:04.998483Z"
        },
        "trusted": true,
        "id": "xQogtBUFd7VU"
      },
      "execution_count": null,
      "outputs": []
    },
    {
      "cell_type": "code",
      "source": [
        "draw_image_from_dataset(155)"
      ],
      "metadata": {
        "execution": {
          "iopub.status.busy": "2022-12-20T12:13:05.000486Z",
          "iopub.status.idle": "2022-12-20T12:13:05.001255Z",
          "shell.execute_reply.started": "2022-12-20T12:13:05.000990Z",
          "shell.execute_reply": "2022-12-20T12:13:05.001015Z"
        },
        "trusted": true,
        "id": "mz0ymDKOd7VV",
        "colab": {
          "base_uri": "https://localhost:8080/"
        },
        "outputId": "3aa4ccac-ce18-4c22-a0bc-514f3cbfbc6d"
      },
      "execution_count": null,
      "outputs": [
        {
          "output_type": "display_data",
          "data": {
            "text/plain": [
              "<PIL.JpegImagePlugin.JpegImageFile image mode=RGB size=200x200 at 0x7F438BA80580>"
            ],
            "image/png": "[encoded data removed]"
          },
          "metadata": {}
        },
        {
          "output_type": "stream",
          "name": "stdout",
          "text": [
            "ages - 10  ---  gender - 1\n",
            "\n"
          ]
        }
      ]
    },
    {
      "cell_type": "code",
      "source": [
        "draw_image_from_dataset(3888)"
      ],
      "metadata": {
        "execution": {
          "iopub.status.busy": "2022-12-20T12:13:05.002566Z",
          "iopub.status.idle": "2022-12-20T12:13:05.003331Z",
          "shell.execute_reply.started": "2022-12-20T12:13:05.003068Z",
          "shell.execute_reply": "2022-12-20T12:13:05.003092Z"
        },
        "trusted": true,
        "id": "7wPn-mbFd7VV",
        "colab": {
          "base_uri": "https://localhost:8080/"
        },
        "outputId": "a1784a40-fc5f-4699-f0ed-bf935d51e661"
      },
      "execution_count": null,
      "outputs": [
        {
          "output_type": "display_data",
          "data": {
            "text/plain": [
              "<PIL.JpegImagePlugin.JpegImageFile image mode=RGB size=200x200 at 0x7F438ADE73D0>"
            ],
            "image/png": "[encoded data removed]"
          },
          "metadata": {}
        },
        {
          "output_type": "stream",
          "name": "stdout",
          "text": [
            "ages - 88  ---  gender - 1\n",
            "\n"
          ]
        }
      ]
    },
    {
      "cell_type": "code",
      "source": [
        "draw_image_from_dataset(3)"
      ],
      "metadata": {
        "execution": {
          "iopub.status.busy": "2022-12-20T12:13:05.004651Z",
          "iopub.status.idle": "2022-12-20T12:13:05.005423Z",
          "shell.execute_reply.started": "2022-12-20T12:13:05.005158Z",
          "shell.execute_reply": "2022-12-20T12:13:05.005184Z"
        },
        "trusted": true,
        "id": "i7WPAbLmd7VW",
        "colab": {
          "base_uri": "https://localhost:8080/"
        },
        "outputId": "eb8f79b6-0e4e-453e-ac84-1e15fd45cc74"
      },
      "execution_count": null,
      "outputs": [
        {
          "output_type": "display_data",
          "data": {
            "text/plain": [
              "<PIL.JpegImagePlugin.JpegImageFile image mode=RGB size=200x200 at 0x7F438BAFFA90>"
            ],
            "image/png": "[encoded data removed]"
          },
          "metadata": {}
        },
        {
          "output_type": "stream",
          "name": "stdout",
          "text": [
            "ages - 3  ---  gender - 1\n",
            "\n"
          ]
        }
      ]
    },
    {
      "cell_type": "code",
      "source": [
        "draw_image_from_dataset(6005)"
      ],
      "metadata": {
        "execution": {
          "iopub.status.busy": "2022-12-20T12:13:05.006744Z",
          "iopub.status.idle": "2022-12-20T12:13:05.007615Z",
          "shell.execute_reply.started": "2022-12-20T12:13:05.007223Z",
          "shell.execute_reply": "2022-12-20T12:13:05.007248Z"
        },
        "trusted": true,
        "id": "N5AConGTd7VW",
        "colab": {
          "base_uri": "https://localhost:8080/"
        },
        "outputId": "065742cd-9ba0-4fa8-c31e-92ad4777ece0"
      },
      "execution_count": null,
      "outputs": [
        {
          "output_type": "display_data",
          "data": {
            "text/plain": [
              "<PIL.JpegImagePlugin.JpegImageFile image mode=RGB size=200x200 at 0x7F438A6E2A30>"
            ],
            "image/png": "[encoded data removed]"
          },
          "metadata": {}
        },
        {
          "output_type": "stream",
          "name": "stdout",
          "text": [
            "ages - 20  ---  gender - 1\n",
            "\n"
          ]
        }
      ]
    },
    {
      "cell_type": "code",
      "source": [
        "draw_image_from_dataset(7005)"
      ],
      "metadata": {
        "execution": {
          "iopub.status.busy": "2022-12-20T12:13:05.009510Z",
          "iopub.status.idle": "2022-12-20T12:13:05.010292Z",
          "shell.execute_reply.started": "2022-12-20T12:13:05.010019Z",
          "shell.execute_reply": "2022-12-20T12:13:05.010045Z"
        },
        "trusted": true,
        "id": "BqbZ5__nd7VX",
        "colab": {
          "base_uri": "https://localhost:8080/"
        },
        "outputId": "8a5a185a-02b7-46e8-a958-e7e6529cf00d"
      },
      "execution_count": null,
      "outputs": [
        {
          "output_type": "display_data",
          "data": {
            "text/plain": [
              "<PIL.JpegImagePlugin.JpegImageFile image mode=RGB size=200x200 at 0x7F438A3B9700>"
            ],
            "image/png": "[encoded data removed]"
          },
          "metadata": {}
        },
        {
          "output_type": "stream",
          "name": "stdout",
          "text": [
            "ages - 28  ---  gender - 0\n",
            "\n"
          ]
        }
      ]
    },
    {
      "cell_type": "markdown",
      "source": [
        "**Таким образом, 0 соответствует мужчине, 1 соответствует женщине.**"
      ],
      "metadata": {
        "id": "ZVAPyTrNd7VX"
      }
    },
    {
      "cell_type": "markdown",
      "source": [
        "# 3. Visualisation"
      ],
      "metadata": {
        "id": "EBHYKs8Pd7VX"
      }
    },
    {
      "cell_type": "code",
      "source": [
        "plt.rcParams[\"figure.figsize\"] = (40,20)\n",
        "sns.set_theme()\n",
        "sns.distplot(df['Ages'],kde=True, bins=30)"
      ],
      "metadata": {
        "execution": {
          "iopub.status.busy": "2022-12-20T12:13:05.011688Z",
          "iopub.status.idle": "2022-12-20T12:13:05.012530Z",
          "shell.execute_reply.started": "2022-12-20T12:13:05.012211Z",
          "shell.execute_reply": "2022-12-20T12:13:05.012256Z"
        },
        "trusted": true,
        "id": "ab4PZPn9d7VY",
        "colab": {
          "base_uri": "https://localhost:8080/",
          "height": 0
        },
        "outputId": "88dd89ab-3140-453e-d1b4-7270352a50a3"
      },
      "execution_count": 49,
      "outputs": [
        {
          "output_type": "stream",
          "name": "stderr",
          "text": [
            "/usr/local/lib/python3.8/dist-packages/seaborn/distributions.py:2619: FutureWarning: `distplot` is a deprecated function and will be removed in a future version. Please adapt your code to use either `displot` (a figure-level function with similar flexibility) or `histplot` (an axes-level function for histograms).\n",
            "  warnings.warn(msg, FutureWarning)\n"
          ]
        },
        {
          "output_type": "execute_result",
          "data": {
            "text/plain": [
              "<matplotlib.axes._subplots.AxesSubplot at 0x7f70e6383fa0>"
            ]
          },
          "metadata": {},
          "execution_count": 49
        },
        {
          "output_type": "display_data",
          "data": {
            "text/plain": [
              "<Figure size 2880x1440 with 1 Axes>"
            ],
            "image/png": "[encoded data removed]"
          },
          "metadata": {}
        }
      ]
    },
    {
      "cell_type": "markdown",
      "source": [
        "Too many faces of people between 0 and 4 years old. The model would fit too well to these ages and not enough to the other ages. To resolve this I'm only going to include a third of the images between these ages."
      ],
      "metadata": {
        "id": "cC6VjtsEd7VY"
      }
    },
    {
      "cell_type": "code",
      "source": [
        "under4s = []\n",
        "\n",
        "for i in range(len(df)):\n",
        "    if df['Ages'].iloc[i] <= 4:\n",
        "        under4s.append(df.iloc[i])\n",
        "under4s = pd.DataFrame(under4s)\n",
        "under4s = under4s.sample(frac=0.3)\n",
        "\n",
        "df = df[df['Ages'] > 4]\n",
        "\n",
        "df = pd.concat([df, under4s], ignore_index = True)"
      ],
      "metadata": {
        "execution": {
          "iopub.status.busy": "2022-12-20T12:13:05.014086Z",
          "iopub.status.idle": "2022-12-20T12:13:05.014821Z",
          "shell.execute_reply.started": "2022-12-20T12:13:05.014555Z",
          "shell.execute_reply": "2022-12-20T12:13:05.014580Z"
        },
        "trusted": true,
        "id": "GgKObDJpd7VY"
      },
      "execution_count": 50,
      "outputs": []
    },
    {
      "cell_type": "code",
      "source": [
        "sns.distplot(df['Ages'],kde=True, bins=30)"
      ],
      "metadata": {
        "execution": {
          "iopub.status.busy": "2022-12-20T12:13:05.016391Z",
          "iopub.status.idle": "2022-12-20T12:13:05.017596Z",
          "shell.execute_reply.started": "2022-12-20T12:13:05.016990Z",
          "shell.execute_reply": "2022-12-20T12:13:05.017019Z"
        },
        "trusted": true,
        "id": "MoeqighXd7VY",
        "colab": {
          "base_uri": "https://localhost:8080/",
          "height": 0
        },
        "outputId": "f271a659-a2f9-4bc2-89d5-60e694109e9e"
      },
      "execution_count": 51,
      "outputs": [
        {
          "output_type": "stream",
          "name": "stderr",
          "text": [
            "/usr/local/lib/python3.8/dist-packages/seaborn/distributions.py:2619: FutureWarning: `distplot` is a deprecated function and will be removed in a future version. Please adapt your code to use either `displot` (a figure-level function with similar flexibility) or `histplot` (an axes-level function for histograms).\n",
            "  warnings.warn(msg, FutureWarning)\n"
          ]
        },
        {
          "output_type": "execute_result",
          "data": {
            "text/plain": [
              "<matplotlib.axes._subplots.AxesSubplot at 0x7f70e47bf1f0>"
            ]
          },
          "metadata": {},
          "execution_count": 51
        },
        {
          "output_type": "display_data",
          "data": {
            "text/plain": [
              "<Figure size 2880x1440 with 1 Axes>"
            ],
            "image/png": "[encoded data removed]"
          },
          "metadata": {}
        }
      ]
    },
    {
      "cell_type": "markdown",
      "source": [
        "This looks much better! The dataframe is more representative of the population now. However, there aren't many images of people over 80, which would cause the model to not train well enough on those ages. It's best to just remove over 80s and only have a model that can predict the ages of people under 80."
      ],
      "metadata": {
        "id": "-7H4lCYBd7VZ"
      }
    },
    {
      "cell_type": "code",
      "source": [
        "df = df[df['Ages'] < 80]"
      ],
      "metadata": {
        "execution": {
          "iopub.status.busy": "2022-12-20T12:13:05.019081Z",
          "iopub.status.idle": "2022-12-20T12:13:05.019843Z",
          "shell.execute_reply.started": "2022-12-20T12:13:05.019558Z",
          "shell.execute_reply": "2022-12-20T12:13:05.019584Z"
        },
        "trusted": true,
        "id": "SvTuRrzad7VZ"
      },
      "execution_count": 52,
      "outputs": []
    },
    {
      "cell_type": "code",
      "source": [
        "sns.distplot(df['Ages'],kde=True, bins=20)"
      ],
      "metadata": {
        "execution": {
          "iopub.status.busy": "2022-12-20T12:13:05.021363Z",
          "iopub.status.idle": "2022-12-20T12:13:05.022310Z",
          "shell.execute_reply.started": "2022-12-20T12:13:05.022036Z",
          "shell.execute_reply": "2022-12-20T12:13:05.022061Z"
        },
        "trusted": true,
        "id": "Ywrqj4Ocd7VZ",
        "colab": {
          "base_uri": "https://localhost:8080/",
          "height": 0
        },
        "outputId": "95009c55-d995-4cb3-d457-b82ee846feed"
      },
      "execution_count": 53,
      "outputs": [
        {
          "output_type": "stream",
          "name": "stderr",
          "text": [
            "/usr/local/lib/python3.8/dist-packages/seaborn/distributions.py:2619: FutureWarning: `distplot` is a deprecated function and will be removed in a future version. Please adapt your code to use either `displot` (a figure-level function with similar flexibility) or `histplot` (an axes-level function for histograms).\n",
            "  warnings.warn(msg, FutureWarning)\n"
          ]
        },
        {
          "output_type": "execute_result",
          "data": {
            "text/plain": [
              "<matplotlib.axes._subplots.AxesSubplot at 0x7f70e5abb0d0>"
            ]
          },
          "metadata": {},
          "execution_count": 53
        },
        {
          "output_type": "display_data",
          "data": {
            "text/plain": [
              "<Figure size 2880x1440 with 1 Axes>"
            ],
            "image/png": "[encoded data removed]"
          },
          "metadata": {}
        }
      ]
    },
    {
      "cell_type": "code",
      "source": [
        "plt.rcParams[\"figure.figsize\"] = (10,5)\n",
        "sns.countplot(df['Genders'])"
      ],
      "metadata": {
        "execution": {
          "iopub.status.busy": "2022-12-20T12:13:05.023869Z",
          "iopub.status.idle": "2022-12-20T12:13:05.024741Z",
          "shell.execute_reply.started": "2022-12-20T12:13:05.024356Z",
          "shell.execute_reply": "2022-12-20T12:13:05.024381Z"
        },
        "trusted": true,
        "id": "PVKiYwtdd7VZ",
        "colab": {
          "base_uri": "https://localhost:8080/",
          "height": 0
        },
        "outputId": "4c4c268b-36c0-4c7d-bf79-7cab226ef70c"
      },
      "execution_count": 54,
      "outputs": [
        {
          "output_type": "stream",
          "name": "stderr",
          "text": [
            "/usr/local/lib/python3.8/dist-packages/seaborn/_decorators.py:36: FutureWarning: Pass the following variable as a keyword arg: x. From version 0.12, the only valid positional argument will be `data`, and passing other arguments without an explicit keyword will result in an error or misinterpretation.\n",
            "  warnings.warn(\n"
          ]
        },
        {
          "output_type": "execute_result",
          "data": {
            "text/plain": [
              "<matplotlib.axes._subplots.AxesSubplot at 0x7f70e5ae6b20>"
            ]
          },
          "metadata": {},
          "execution_count": 54
        },
        {
          "output_type": "display_data",
          "data": {
            "text/plain": [
              "<Figure size 720x360 with 1 Axes>"
            ],
            "image/png": "[encoded data removed]"
          },
          "metadata": {}
        }
      ]
    },
    {
      "cell_type": "markdown",
      "source": [
        "Not sure what 3 corresponds to - both genders, no gender, unknown, or just an error in the data entry? To be safe, I am going to remove any rows where gender equals 3."
      ],
      "metadata": {
        "id": "2w0pN47_d7Va"
      }
    },
    {
      "cell_type": "code",
      "source": [
        "df = df[df['Genders'] != 3]\n",
        "sns.countplot(df['Genders'])"
      ],
      "metadata": {
        "execution": {
          "iopub.status.busy": "2022-12-20T12:13:05.026240Z",
          "iopub.status.idle": "2022-12-20T12:13:05.027014Z",
          "shell.execute_reply.started": "2022-12-20T12:13:05.026718Z",
          "shell.execute_reply": "2022-12-20T12:13:05.026743Z"
        },
        "trusted": true,
        "id": "cAGfOcYAd7Va",
        "colab": {
          "base_uri": "https://localhost:8080/",
          "height": 0
        },
        "outputId": "2a2d3922-e34a-4647-89ae-7c72979fefe0"
      },
      "execution_count": 55,
      "outputs": [
        {
          "output_type": "stream",
          "name": "stderr",
          "text": [
            "/usr/local/lib/python3.8/dist-packages/seaborn/_decorators.py:36: FutureWarning: Pass the following variable as a keyword arg: x. From version 0.12, the only valid positional argument will be `data`, and passing other arguments without an explicit keyword will result in an error or misinterpretation.\n",
            "  warnings.warn(\n"
          ]
        },
        {
          "output_type": "execute_result",
          "data": {
            "text/plain": [
              "<matplotlib.axes._subplots.AxesSubplot at 0x7f70e4a42100>"
            ]
          },
          "metadata": {},
          "execution_count": 55
        },
        {
          "output_type": "display_data",
          "data": {
            "text/plain": [
              "<Figure size 720x360 with 1 Axes>"
            ],
            "image/png": "[encoded data removed]"
          },
          "metadata": {}
        }
      ]
    },
    {
      "cell_type": "markdown",
      "source": [
        "# 4. Data loader "
      ],
      "metadata": {
        "id": "J-1Gop0jRR0p"
      }
    },
    {
      "cell_type": "code",
      "source": [
        "df2 = df.copy()"
      ],
      "metadata": {
        "id": "exxtV4Deni8Q"
      },
      "execution_count": 56,
      "outputs": []
    },
    {
      "cell_type": "code",
      "source": [
        "df2"
      ],
      "metadata": {
        "colab": {
          "base_uri": "https://localhost:8080/",
          "height": 424
        },
        "id": "jRzLf92YpoZ1",
        "outputId": "2de11d14-493d-4e6c-aec7-8e5c14edd244"
      },
      "execution_count": 57,
      "outputs": [
        {
          "output_type": "execute_result",
          "data": {
            "text/plain": [
              "                            Images  Ages  Genders  Race\n",
              "0     24_1_2_20170104020224692.jpg    24        1     2\n",
              "1     35_0_0_20170105162448427.jpg    35        0     0\n",
              "2      5_0_0_20170110213554657.jpg     5        0     0\n",
              "3     23_1_4_20170103223615095.jpg    23        1     4\n",
              "4     20_1_3_20170104231456714.jpg    20        1     3\n",
              "...                            ...   ...      ...   ...\n",
              "8281   2_0_0_20170110212852343.jpg     2        0     0\n",
              "8282   4_1_3_20161219230310713.jpg     4        1     3\n",
              "8283   1_0_2_20161219162431598.jpg     1        0     2\n",
              "8284   1_1_3_20161220222647563.jpg     1        1     3\n",
              "8285   2_0_2_20161219152914700.jpg     2        0     2\n",
              "\n",
              "[7869 rows x 4 columns]"
            ],
            "text/html": [
              "\n",
              "  <div id=\"df-518d6d55-7131-447a-8cfa-a534ecf42e21\">\n",
              "    <div class=\"colab-df-container\">\n",
              "      <div>\n",
              "<style scoped>\n",
              "    .dataframe tbody tr th:only-of-type {\n",
              "        vertical-align: middle;\n",
              "    }\n",
              "\n",
              "    .dataframe tbody tr th {\n",
              "        vertical-align: top;\n",
              "    }\n",
              "\n",
              "    .dataframe thead th {\n",
              "        text-align: right;\n",
              "    }\n",
              "</style>\n",
              "<table border=\"1\" class=\"dataframe\">\n",
              "  <thead>\n",
              "    <tr style=\"text-align: right;\">\n",
              "      <th></th>\n",
              "      <th>Images</th>\n",
              "      <th>Ages</th>\n",
              "      <th>Genders</th>\n",
              "      <th>Race</th>\n",
              "    </tr>\n",
              "  </thead>\n",
              "  <tbody>\n",
              "    <tr>\n",
              "      <th>0</th>\n",
              "      <td>24_1_2_20170104020224692.jpg</td>\n",
              "      <td>24</td>\n",
              "      <td>1</td>\n",
              "      <td>2</td>\n",
              "    </tr>\n",
              "    <tr>\n",
              "      <th>1</th>\n",
              "      <td>35_0_0_20170105162448427.jpg</td>\n",
              "      <td>35</td>\n",
              "      <td>0</td>\n",
              "      <td>0</td>\n",
              "    </tr>\n",
              "    <tr>\n",
              "      <th>2</th>\n",
              "      <td>5_0_0_20170110213554657.jpg</td>\n",
              "      <td>5</td>\n",
              "      <td>0</td>\n",
              "      <td>0</td>\n",
              "    </tr>\n",
              "    <tr>\n",
              "      <th>3</th>\n",
              "      <td>23_1_4_20170103223615095.jpg</td>\n",
              "      <td>23</td>\n",
              "      <td>1</td>\n",
              "      <td>4</td>\n",
              "    </tr>\n",
              "    <tr>\n",
              "      <th>4</th>\n",
              "      <td>20_1_3_20170104231456714.jpg</td>\n",
              "      <td>20</td>\n",
              "      <td>1</td>\n",
              "      <td>3</td>\n",
              "    </tr>\n",
              "    <tr>\n",
              "      <th>...</th>\n",
              "      <td>...</td>\n",
              "      <td>...</td>\n",
              "      <td>...</td>\n",
              "      <td>...</td>\n",
              "    </tr>\n",
              "    <tr>\n",
              "      <th>8281</th>\n",
              "      <td>2_0_0_20170110212852343.jpg</td>\n",
              "      <td>2</td>\n",
              "      <td>0</td>\n",
              "      <td>0</td>\n",
              "    </tr>\n",
              "    <tr>\n",
              "      <th>8282</th>\n",
              "      <td>4_1_3_20161219230310713.jpg</td>\n",
              "      <td>4</td>\n",
              "      <td>1</td>\n",
              "      <td>3</td>\n",
              "    </tr>\n",
              "    <tr>\n",
              "      <th>8283</th>\n",
              "      <td>1_0_2_20161219162431598.jpg</td>\n",
              "      <td>1</td>\n",
              "      <td>0</td>\n",
              "      <td>2</td>\n",
              "    </tr>\n",
              "    <tr>\n",
              "      <th>8284</th>\n",
              "      <td>1_1_3_20161220222647563.jpg</td>\n",
              "      <td>1</td>\n",
              "      <td>1</td>\n",
              "      <td>3</td>\n",
              "    </tr>\n",
              "    <tr>\n",
              "      <th>8285</th>\n",
              "      <td>2_0_2_20161219152914700.jpg</td>\n",
              "      <td>2</td>\n",
              "      <td>0</td>\n",
              "      <td>2</td>\n",
              "    </tr>\n",
              "  </tbody>\n",
              "</table>\n",
              "<p>7869 rows × 4 columns</p>\n",
              "</div>\n",
              "      <button class=\"colab-df-convert\" onclick=\"convertToInteractive('df-518d6d55-7131-447a-8cfa-a534ecf42e21')\"\n",
              "              title=\"Convert this dataframe to an interactive table.\"\n",
              "              style=\"display:none;\">\n",
              "        \n",
              "  <svg xmlns=\"http://www.w3.org/2000/svg\" height=\"24px\"viewBox=\"0 0 24 24\"\n",
              "       width=\"24px\">\n",
              "    <path d=\"M0 0h24v24H0V0z\" fill=\"none\"/>\n",
              "    <path d=\"M18.56 5.44l.94 2.06.94-2.06 2.06-.94-2.06-.94-.94-2.06-.94 2.06-2.06.94zm-11 1L8.5 8.5l.94-2.06 2.06-.94-2.06-.94L8.5 2.5l-.94 2.06-2.06.94zm10 10l.94 2.06.94-2.06 2.06-.94-2.06-.94-.94-2.06-.94 2.06-2.06.94z\"/><path d=\"M17.41 7.96l-1.37-1.37c-.4-.4-.92-.59-1.43-.59-.52 0-1.04.2-1.43.59L10.3 9.45l-7.72 7.72c-.78.78-.78 2.05 0 2.83L4 21.41c.39.39.9.59 1.41.59.51 0 1.02-.2 1.41-.59l7.78-7.78 2.81-2.81c.8-.78.8-2.07 0-2.86zM5.41 20L4 18.59l7.72-7.72 1.47 1.35L5.41 20z\"/>\n",
              "  </svg>\n",
              "      </button>\n",
              "      \n",
              "  <style>\n",
              "    .colab-df-container {\n",
              "      display:flex;\n",
              "      flex-wrap:wrap;\n",
              "      gap: 12px;\n",
              "    }\n",
              "\n",
              "    .colab-df-convert {\n",
              "      background-color: #E8F0FE;\n",
              "      border: none;\n",
              "      border-radius: 50%;\n",
              "      cursor: pointer;\n",
              "      display: none;\n",
              "      fill: #1967D2;\n",
              "      height: 32px;\n",
              "      padding: 0 0 0 0;\n",
              "      width: 32px;\n",
              "    }\n",
              "\n",
              "    .colab-df-convert:hover {\n",
              "      background-color: #E2EBFA;\n",
              "      box-shadow: 0px 1px 2px rgba(60, 64, 67, 0.3), 0px 1px 3px 1px rgba(60, 64, 67, 0.15);\n",
              "      fill: #174EA6;\n",
              "    }\n",
              "\n",
              "    [theme=dark] .colab-df-convert {\n",
              "      background-color: #3B4455;\n",
              "      fill: #D2E3FC;\n",
              "    }\n",
              "\n",
              "    [theme=dark] .colab-df-convert:hover {\n",
              "      background-color: #434B5C;\n",
              "      box-shadow: 0px 1px 3px 1px rgba(0, 0, 0, 0.15);\n",
              "      filter: drop-shadow(0px 1px 2px rgba(0, 0, 0, 0.3));\n",
              "      fill: #FFFFFF;\n",
              "    }\n",
              "  </style>\n",
              "\n",
              "      <script>\n",
              "        const buttonEl =\n",
              "          document.querySelector('#df-518d6d55-7131-447a-8cfa-a534ecf42e21 button.colab-df-convert');\n",
              "        buttonEl.style.display =\n",
              "          google.colab.kernel.accessAllowed ? 'block' : 'none';\n",
              "\n",
              "        async function convertToInteractive(key) {\n",
              "          const element = document.querySelector('#df-518d6d55-7131-447a-8cfa-a534ecf42e21');\n",
              "          const dataTable =\n",
              "            await google.colab.kernel.invokeFunction('convertToInteractive',\n",
              "                                                     [key], {});\n",
              "          if (!dataTable) return;\n",
              "\n",
              "          const docLinkHtml = 'Like what you see? Visit the ' +\n",
              "            '<a target=\"_blank\" href=https://colab.research.google.com/notebooks/data_table.ipynb>data table notebook</a>'\n",
              "            + ' to learn more about interactive tables.';\n",
              "          element.innerHTML = '';\n",
              "          dataTable['output_type'] = 'display_data';\n",
              "          await google.colab.output.renderOutput(dataTable, element);\n",
              "          const docLink = document.createElement('div');\n",
              "          docLink.innerHTML = docLinkHtml;\n",
              "          element.appendChild(docLink);\n",
              "        }\n",
              "      </script>\n",
              "    </div>\n",
              "  </div>\n",
              "  "
            ]
          },
          "metadata": {},
          "execution_count": 57
        }
      ]
    },
    {
      "cell_type": "code",
      "source": [
        "# Construct age bins\n",
        "age_bins = [0, 10, 15, 20 ,25 ,30 ,40 ,50 ,60 ,80]\n",
        "age_labels = [0, 1, 2, 3, 4, 5, 6, 7, 8]\n",
        "df2['bins'] = pd.cut(df2.Ages, bins=age_bins, labels=age_labels)\n"
      ],
      "metadata": {
        "id": "Y2GnN_U_phqV"
      },
      "execution_count": 58,
      "outputs": []
    },
    {
      "cell_type": "code",
      "source": [
        "# Example\n",
        "df2[df2['Ages'] == 14]"
      ],
      "metadata": {
        "colab": {
          "base_uri": "https://localhost:8080/",
          "height": 424
        },
        "id": "_CyufCp5pxNU",
        "outputId": "ba63cfc2-590f-410e-ab83-6f62492c04d9"
      },
      "execution_count": 59,
      "outputs": [
        {
          "output_type": "execute_result",
          "data": {
            "text/plain": [
              "                            Images  Ages  Genders  Race bins\n",
              "45    14_1_0_20170109203842960.jpg    14        1     0    1\n",
              "89    14_1_0_20170109204135732.jpg    14        1     0    1\n",
              "104   14_1_0_20170109214635943.jpg    14        1     0    1\n",
              "137   14_0_2_20170110232701995.jpg    14        0     2    1\n",
              "143   14_0_0_20170110232801598.jpg    14        0     0    1\n",
              "...                            ...   ...      ...   ...  ...\n",
              "7335  14_1_0_20170104011733528.jpg    14        1     0    1\n",
              "7338  14_1_0_20170103200702463.jpg    14        1     0    1\n",
              "7397  14_1_0_20170109204131257.jpg    14        1     0    1\n",
              "7447  14_1_0_20170109212749213.jpg    14        1     0    1\n",
              "7635  14_0_3_20170109131758363.jpg    14        0     3    1\n",
              "\n",
              "[137 rows x 5 columns]"
            ],
            "text/html": [
              "\n",
              "  <div id=\"df-4374e115-3b3e-479f-aad0-fe3bdfc6184d\">\n",
              "    <div class=\"colab-df-container\">\n",
              "      <div>\n",
              "<style scoped>\n",
              "    .dataframe tbody tr th:only-of-type {\n",
              "        vertical-align: middle;\n",
              "    }\n",
              "\n",
              "    .dataframe tbody tr th {\n",
              "        vertical-align: top;\n",
              "    }\n",
              "\n",
              "    .dataframe thead th {\n",
              "        text-align: right;\n",
              "    }\n",
              "</style>\n",
              "<table border=\"1\" class=\"dataframe\">\n",
              "  <thead>\n",
              "    <tr style=\"text-align: right;\">\n",
              "      <th></th>\n",
              "      <th>Images</th>\n",
              "      <th>Ages</th>\n",
              "      <th>Genders</th>\n",
              "      <th>Race</th>\n",
              "      <th>bins</th>\n",
              "    </tr>\n",
              "  </thead>\n",
              "  <tbody>\n",
              "    <tr>\n",
              "      <th>45</th>\n",
              "      <td>14_1_0_20170109203842960.jpg</td>\n",
              "      <td>14</td>\n",
              "      <td>1</td>\n",
              "      <td>0</td>\n",
              "      <td>1</td>\n",
              "    </tr>\n",
              "    <tr>\n",
              "      <th>89</th>\n",
              "      <td>14_1_0_20170109204135732.jpg</td>\n",
              "      <td>14</td>\n",
              "      <td>1</td>\n",
              "      <td>0</td>\n",
              "      <td>1</td>\n",
              "    </tr>\n",
              "    <tr>\n",
              "      <th>104</th>\n",
              "      <td>14_1_0_20170109214635943.jpg</td>\n",
              "      <td>14</td>\n",
              "      <td>1</td>\n",
              "      <td>0</td>\n",
              "      <td>1</td>\n",
              "    </tr>\n",
              "    <tr>\n",
              "      <th>137</th>\n",
              "      <td>14_0_2_20170110232701995.jpg</td>\n",
              "      <td>14</td>\n",
              "      <td>0</td>\n",
              "      <td>2</td>\n",
              "      <td>1</td>\n",
              "    </tr>\n",
              "    <tr>\n",
              "      <th>143</th>\n",
              "      <td>14_0_0_20170110232801598.jpg</td>\n",
              "      <td>14</td>\n",
              "      <td>0</td>\n",
              "      <td>0</td>\n",
              "      <td>1</td>\n",
              "    </tr>\n",
              "    <tr>\n",
              "      <th>...</th>\n",
              "      <td>...</td>\n",
              "      <td>...</td>\n",
              "      <td>...</td>\n",
              "      <td>...</td>\n",
              "      <td>...</td>\n",
              "    </tr>\n",
              "    <tr>\n",
              "      <th>7335</th>\n",
              "      <td>14_1_0_20170104011733528.jpg</td>\n",
              "      <td>14</td>\n",
              "      <td>1</td>\n",
              "      <td>0</td>\n",
              "      <td>1</td>\n",
              "    </tr>\n",
              "    <tr>\n",
              "      <th>7338</th>\n",
              "      <td>14_1_0_20170103200702463.jpg</td>\n",
              "      <td>14</td>\n",
              "      <td>1</td>\n",
              "      <td>0</td>\n",
              "      <td>1</td>\n",
              "    </tr>\n",
              "    <tr>\n",
              "      <th>7397</th>\n",
              "      <td>14_1_0_20170109204131257.jpg</td>\n",
              "      <td>14</td>\n",
              "      <td>1</td>\n",
              "      <td>0</td>\n",
              "      <td>1</td>\n",
              "    </tr>\n",
              "    <tr>\n",
              "      <th>7447</th>\n",
              "      <td>14_1_0_20170109212749213.jpg</td>\n",
              "      <td>14</td>\n",
              "      <td>1</td>\n",
              "      <td>0</td>\n",
              "      <td>1</td>\n",
              "    </tr>\n",
              "    <tr>\n",
              "      <th>7635</th>\n",
              "      <td>14_0_3_20170109131758363.jpg</td>\n",
              "      <td>14</td>\n",
              "      <td>0</td>\n",
              "      <td>3</td>\n",
              "      <td>1</td>\n",
              "    </tr>\n",
              "  </tbody>\n",
              "</table>\n",
              "<p>137 rows × 5 columns</p>\n",
              "</div>\n",
              "      <button class=\"colab-df-convert\" onclick=\"convertToInteractive('df-4374e115-3b3e-479f-aad0-fe3bdfc6184d')\"\n",
              "              title=\"Convert this dataframe to an interactive table.\"\n",
              "              style=\"display:none;\">\n",
              "        \n",
              "  <svg xmlns=\"http://www.w3.org/2000/svg\" height=\"24px\"viewBox=\"0 0 24 24\"\n",
              "       width=\"24px\">\n",
              "    <path d=\"M0 0h24v24H0V0z\" fill=\"none\"/>\n",
              "    <path d=\"M18.56 5.44l.94 2.06.94-2.06 2.06-.94-2.06-.94-.94-2.06-.94 2.06-2.06.94zm-11 1L8.5 8.5l.94-2.06 2.06-.94-2.06-.94L8.5 2.5l-.94 2.06-2.06.94zm10 10l.94 2.06.94-2.06 2.06-.94-2.06-.94-.94-2.06-.94 2.06-2.06.94z\"/><path d=\"M17.41 7.96l-1.37-1.37c-.4-.4-.92-.59-1.43-.59-.52 0-1.04.2-1.43.59L10.3 9.45l-7.72 7.72c-.78.78-.78 2.05 0 2.83L4 21.41c.39.39.9.59 1.41.59.51 0 1.02-.2 1.41-.59l7.78-7.78 2.81-2.81c.8-.78.8-2.07 0-2.86zM5.41 20L4 18.59l7.72-7.72 1.47 1.35L5.41 20z\"/>\n",
              "  </svg>\n",
              "      </button>\n",
              "      \n",
              "  <style>\n",
              "    .colab-df-container {\n",
              "      display:flex;\n",
              "      flex-wrap:wrap;\n",
              "      gap: 12px;\n",
              "    }\n",
              "\n",
              "    .colab-df-convert {\n",
              "      background-color: #E8F0FE;\n",
              "      border: none;\n",
              "      border-radius: 50%;\n",
              "      cursor: pointer;\n",
              "      display: none;\n",
              "      fill: #1967D2;\n",
              "      height: 32px;\n",
              "      padding: 0 0 0 0;\n",
              "      width: 32px;\n",
              "    }\n",
              "\n",
              "    .colab-df-convert:hover {\n",
              "      background-color: #E2EBFA;\n",
              "      box-shadow: 0px 1px 2px rgba(60, 64, 67, 0.3), 0px 1px 3px 1px rgba(60, 64, 67, 0.15);\n",
              "      fill: #174EA6;\n",
              "    }\n",
              "\n",
              "    [theme=dark] .colab-df-convert {\n",
              "      background-color: #3B4455;\n",
              "      fill: #D2E3FC;\n",
              "    }\n",
              "\n",
              "    [theme=dark] .colab-df-convert:hover {\n",
              "      background-color: #434B5C;\n",
              "      box-shadow: 0px 1px 3px 1px rgba(0, 0, 0, 0.15);\n",
              "      filter: drop-shadow(0px 1px 2px rgba(0, 0, 0, 0.3));\n",
              "      fill: #FFFFFF;\n",
              "    }\n",
              "  </style>\n",
              "\n",
              "      <script>\n",
              "        const buttonEl =\n",
              "          document.querySelector('#df-4374e115-3b3e-479f-aad0-fe3bdfc6184d button.colab-df-convert');\n",
              "        buttonEl.style.display =\n",
              "          google.colab.kernel.accessAllowed ? 'block' : 'none';\n",
              "\n",
              "        async function convertToInteractive(key) {\n",
              "          const element = document.querySelector('#df-4374e115-3b3e-479f-aad0-fe3bdfc6184d');\n",
              "          const dataTable =\n",
              "            await google.colab.kernel.invokeFunction('convertToInteractive',\n",
              "                                                     [key], {});\n",
              "          if (!dataTable) return;\n",
              "\n",
              "          const docLinkHtml = 'Like what you see? Visit the ' +\n",
              "            '<a target=\"_blank\" href=https://colab.research.google.com/notebooks/data_table.ipynb>data table notebook</a>'\n",
              "            + ' to learn more about interactive tables.';\n",
              "          element.innerHTML = '';\n",
              "          dataTable['output_type'] = 'display_data';\n",
              "          await google.colab.output.renderOutput(dataTable, element);\n",
              "          const docLink = document.createElement('div');\n",
              "          docLink.innerHTML = docLinkHtml;\n",
              "          element.appendChild(docLink);\n",
              "        }\n",
              "      </script>\n",
              "    </div>\n",
              "  </div>\n",
              "  "
            ]
          },
          "metadata": {},
          "execution_count": 59
        }
      ]
    },
    {
      "cell_type": "markdown",
      "source": [
        "# Func UTKDataset"
      ],
      "metadata": {
        "id": "YkANZcUdUE2E"
      }
    },
    {
      "cell_type": "code",
      "source": [
        "class UTKDataset(Dataset):\n",
        "    ''' \n",
        "     https://pytorch.org/tutorials/beginner/basics/data_tutorial.html\n",
        "        Inputs:\n",
        "            dataFrame : Pandas dataFrame\n",
        "            transform : The transform to apply to the dataset\n",
        "    '''\n",
        "    def __init__(self, df2, transform=None):\n",
        "        # read in the transforms\n",
        "        self.transform = transform\n",
        "        \n",
        "        # # Use the dataFrame to get the pixel values\n",
        "        # data_holder = dataFrame.pixels.apply(lambda x: np.array(x.split(\" \"),dtype=float))\n",
        "        # arr = np.stack(data_holder)\n",
        "        # arr = arr / 255.0\n",
        "        # arr = arr.astype('float32')\n",
        "        # arr = arr.reshape(arr.shape[0], 48, 48, 1)\n",
        "        # # reshape into 48x48x1\n",
        "        # self.data = arr\n",
        "        \n",
        "        # get the age, gender, and ethnicity label arrays\n",
        "        self.age_label = np.array(df2.bins[:])        # Note : Changed df2.age to df2.bins with most recent change\n",
        "        self.gender_label = np.array(df2.Genders[:])\n",
        "        self.eth_label = np.array(df2.Race[:])\n",
        "    \n",
        "    # override the length function\n",
        "    def __len__(self):\n",
        "         return len(self.age_label)\n",
        "    \n",
        "    # override the getitem function\n",
        "    def __getitem__(self, index):\n",
        "        # load the data at index and apply transform\n",
        "        # data = self.data[index]\n",
        "        # data = self.transform(data)\n",
        "        \n",
        "        # load the labels into a list and convert to tensors\n",
        "        labels = torch.tensor((self.age_label[index], self.gender_label[index], self.eth_label[index]))\n",
        "        \n",
        "        # return data labels\n",
        "        return labels"
      ],
      "metadata": {
        "id": "IztmfEhnni1d"
      },
      "execution_count": 120,
      "outputs": []
    },
    {
      "cell_type": "markdown",
      "source": [
        "# 5.Data transform"
      ],
      "metadata": {
        "id": "a3N8U8-0W_l8"
      }
    },
    {
      "cell_type": "code",
      "source": [
        "dataFrame"
      ],
      "metadata": {
        "colab": {
          "base_uri": "https://localhost:8080/",
          "height": 424
        },
        "id": "IRagCm5R_LNR",
        "outputId": "41f187a1-d5c3-4b46-b7b6-9c4dd1c2f7f4"
      },
      "execution_count": 129,
      "outputs": [
        {
          "output_type": "execute_result",
          "data": {
            "text/plain": [
              "       Unnamed: 0  age  ethnicity  gender                        img_name  \\\n",
              "0               0    1          2       0  20161219203650636.jpg.chip.jpg   \n",
              "1               1    1          2       0  20161219222752047.jpg.chip.jpg   \n",
              "2               2    1          2       0  20161219222832191.jpg.chip.jpg   \n",
              "3               3    1          2       0  20161220144911423.jpg.chip.jpg   \n",
              "4               4    1          2       0  20161220144914327.jpg.chip.jpg   \n",
              "...           ...  ...        ...     ...                             ...   \n",
              "23700       23700   99          0       1  20170120221920654.jpg.chip.jpg   \n",
              "23701       23701   99          1       1  20170120134639935.jpg.chip.jpg   \n",
              "23702       23702   99          2       1  20170110182418864.jpg.chip.jpg   \n",
              "23703       23703   99          2       1  20170117195405372.jpg.chip.jpg   \n",
              "23704       23704   99          0       1  20170110182052119.jpg.chip.jpg   \n",
              "\n",
              "                                                  pixels bins  \n",
              "0      129 128 128 126 127 130 133 135 139 142 145 14...    0  \n",
              "1      164 74 111 168 169 171 175 182 184 188 193 199...    0  \n",
              "2      67 70 71 70 69 67 70 79 90 103 116 132 145 155...    0  \n",
              "3      193 197 198 200 199 200 202 203 204 205 208 21...    0  \n",
              "4      202 205 209 210 209 209 210 211 212 214 218 21...    0  \n",
              "...                                                  ...  ...  \n",
              "23700  127 100 94 81 77 77 74 99 102 98 128 145 160 1...  NaN  \n",
              "23701  23 28 32 35 42 47 68 85 98 103 113 117 130 129...  NaN  \n",
              "23702  59 50 37 40 34 19 30 101 156 170 177 184 187 1...  NaN  \n",
              "23703  45 108 120 156 206 197 140 180 191 199 204 207...  NaN  \n",
              "23704  156 161 160 165 170 173 166 177 183 191 187 18...  NaN  \n",
              "\n",
              "[23705 rows x 7 columns]"
            ],
            "text/html": [
              "\n",
              "  <div id=\"df-8506ad27-a84d-4a2b-bb4e-f7360914016d\">\n",
              "    <div class=\"colab-df-container\">\n",
              "      <div>\n",
              "<style scoped>\n",
              "    .dataframe tbody tr th:only-of-type {\n",
              "        vertical-align: middle;\n",
              "    }\n",
              "\n",
              "    .dataframe tbody tr th {\n",
              "        vertical-align: top;\n",
              "    }\n",
              "\n",
              "    .dataframe thead th {\n",
              "        text-align: right;\n",
              "    }\n",
              "</style>\n",
              "<table border=\"1\" class=\"dataframe\">\n",
              "  <thead>\n",
              "    <tr style=\"text-align: right;\">\n",
              "      <th></th>\n",
              "      <th>Unnamed: 0</th>\n",
              "      <th>age</th>\n",
              "      <th>ethnicity</th>\n",
              "      <th>gender</th>\n",
              "      <th>img_name</th>\n",
              "      <th>pixels</th>\n",
              "      <th>bins</th>\n",
              "    </tr>\n",
              "  </thead>\n",
              "  <tbody>\n",
              "    <tr>\n",
              "      <th>0</th>\n",
              "      <td>0</td>\n",
              "      <td>1</td>\n",
              "      <td>2</td>\n",
              "      <td>0</td>\n",
              "      <td>20161219203650636.jpg.chip.jpg</td>\n",
              "      <td>129 128 128 126 127 130 133 135 139 142 145 14...</td>\n",
              "      <td>0</td>\n",
              "    </tr>\n",
              "    <tr>\n",
              "      <th>1</th>\n",
              "      <td>1</td>\n",
              "      <td>1</td>\n",
              "      <td>2</td>\n",
              "      <td>0</td>\n",
              "      <td>20161219222752047.jpg.chip.jpg</td>\n",
              "      <td>164 74 111 168 169 171 175 182 184 188 193 199...</td>\n",
              "      <td>0</td>\n",
              "    </tr>\n",
              "    <tr>\n",
              "      <th>2</th>\n",
              "      <td>2</td>\n",
              "      <td>1</td>\n",
              "      <td>2</td>\n",
              "      <td>0</td>\n",
              "      <td>20161219222832191.jpg.chip.jpg</td>\n",
              "      <td>67 70 71 70 69 67 70 79 90 103 116 132 145 155...</td>\n",
              "      <td>0</td>\n",
              "    </tr>\n",
              "    <tr>\n",
              "      <th>3</th>\n",
              "      <td>3</td>\n",
              "      <td>1</td>\n",
              "      <td>2</td>\n",
              "      <td>0</td>\n",
              "      <td>20161220144911423.jpg.chip.jpg</td>\n",
              "      <td>193 197 198 200 199 200 202 203 204 205 208 21...</td>\n",
              "      <td>0</td>\n",
              "    </tr>\n",
              "    <tr>\n",
              "      <th>4</th>\n",
              "      <td>4</td>\n",
              "      <td>1</td>\n",
              "      <td>2</td>\n",
              "      <td>0</td>\n",
              "      <td>20161220144914327.jpg.chip.jpg</td>\n",
              "      <td>202 205 209 210 209 209 210 211 212 214 218 21...</td>\n",
              "      <td>0</td>\n",
              "    </tr>\n",
              "    <tr>\n",
              "      <th>...</th>\n",
              "      <td>...</td>\n",
              "      <td>...</td>\n",
              "      <td>...</td>\n",
              "      <td>...</td>\n",
              "      <td>...</td>\n",
              "      <td>...</td>\n",
              "      <td>...</td>\n",
              "    </tr>\n",
              "    <tr>\n",
              "      <th>23700</th>\n",
              "      <td>23700</td>\n",
              "      <td>99</td>\n",
              "      <td>0</td>\n",
              "      <td>1</td>\n",
              "      <td>20170120221920654.jpg.chip.jpg</td>\n",
              "      <td>127 100 94 81 77 77 74 99 102 98 128 145 160 1...</td>\n",
              "      <td>NaN</td>\n",
              "    </tr>\n",
              "    <tr>\n",
              "      <th>23701</th>\n",
              "      <td>23701</td>\n",
              "      <td>99</td>\n",
              "      <td>1</td>\n",
              "      <td>1</td>\n",
              "      <td>20170120134639935.jpg.chip.jpg</td>\n",
              "      <td>23 28 32 35 42 47 68 85 98 103 113 117 130 129...</td>\n",
              "      <td>NaN</td>\n",
              "    </tr>\n",
              "    <tr>\n",
              "      <th>23702</th>\n",
              "      <td>23702</td>\n",
              "      <td>99</td>\n",
              "      <td>2</td>\n",
              "      <td>1</td>\n",
              "      <td>20170110182418864.jpg.chip.jpg</td>\n",
              "      <td>59 50 37 40 34 19 30 101 156 170 177 184 187 1...</td>\n",
              "      <td>NaN</td>\n",
              "    </tr>\n",
              "    <tr>\n",
              "      <th>23703</th>\n",
              "      <td>23703</td>\n",
              "      <td>99</td>\n",
              "      <td>2</td>\n",
              "      <td>1</td>\n",
              "      <td>20170117195405372.jpg.chip.jpg</td>\n",
              "      <td>45 108 120 156 206 197 140 180 191 199 204 207...</td>\n",
              "      <td>NaN</td>\n",
              "    </tr>\n",
              "    <tr>\n",
              "      <th>23704</th>\n",
              "      <td>23704</td>\n",
              "      <td>99</td>\n",
              "      <td>0</td>\n",
              "      <td>1</td>\n",
              "      <td>20170110182052119.jpg.chip.jpg</td>\n",
              "      <td>156 161 160 165 170 173 166 177 183 191 187 18...</td>\n",
              "      <td>NaN</td>\n",
              "    </tr>\n",
              "  </tbody>\n",
              "</table>\n",
              "<p>23705 rows × 7 columns</p>\n",
              "</div>\n",
              "      <button class=\"colab-df-convert\" onclick=\"convertToInteractive('df-8506ad27-a84d-4a2b-bb4e-f7360914016d')\"\n",
              "              title=\"Convert this dataframe to an interactive table.\"\n",
              "              style=\"display:none;\">\n",
              "        \n",
              "  <svg xmlns=\"http://www.w3.org/2000/svg\" height=\"24px\"viewBox=\"0 0 24 24\"\n",
              "       width=\"24px\">\n",
              "    <path d=\"M0 0h24v24H0V0z\" fill=\"none\"/>\n",
              "    <path d=\"M18.56 5.44l.94 2.06.94-2.06 2.06-.94-2.06-.94-.94-2.06-.94 2.06-2.06.94zm-11 1L8.5 8.5l.94-2.06 2.06-.94-2.06-.94L8.5 2.5l-.94 2.06-2.06.94zm10 10l.94 2.06.94-2.06 2.06-.94-2.06-.94-.94-2.06-.94 2.06-2.06.94z\"/><path d=\"M17.41 7.96l-1.37-1.37c-.4-.4-.92-.59-1.43-.59-.52 0-1.04.2-1.43.59L10.3 9.45l-7.72 7.72c-.78.78-.78 2.05 0 2.83L4 21.41c.39.39.9.59 1.41.59.51 0 1.02-.2 1.41-.59l7.78-7.78 2.81-2.81c.8-.78.8-2.07 0-2.86zM5.41 20L4 18.59l7.72-7.72 1.47 1.35L5.41 20z\"/>\n",
              "  </svg>\n",
              "      </button>\n",
              "      \n",
              "  <style>\n",
              "    .colab-df-container {\n",
              "      display:flex;\n",
              "      flex-wrap:wrap;\n",
              "      gap: 12px;\n",
              "    }\n",
              "\n",
              "    .colab-df-convert {\n",
              "      background-color: #E8F0FE;\n",
              "      border: none;\n",
              "      border-radius: 50%;\n",
              "      cursor: pointer;\n",
              "      display: none;\n",
              "      fill: #1967D2;\n",
              "      height: 32px;\n",
              "      padding: 0 0 0 0;\n",
              "      width: 32px;\n",
              "    }\n",
              "\n",
              "    .colab-df-convert:hover {\n",
              "      background-color: #E2EBFA;\n",
              "      box-shadow: 0px 1px 2px rgba(60, 64, 67, 0.3), 0px 1px 3px 1px rgba(60, 64, 67, 0.15);\n",
              "      fill: #174EA6;\n",
              "    }\n",
              "\n",
              "    [theme=dark] .colab-df-convert {\n",
              "      background-color: #3B4455;\n",
              "      fill: #D2E3FC;\n",
              "    }\n",
              "\n",
              "    [theme=dark] .colab-df-convert:hover {\n",
              "      background-color: #434B5C;\n",
              "      box-shadow: 0px 1px 3px 1px rgba(0, 0, 0, 0.15);\n",
              "      filter: drop-shadow(0px 1px 2px rgba(0, 0, 0, 0.3));\n",
              "      fill: #FFFFFF;\n",
              "    }\n",
              "  </style>\n",
              "\n",
              "      <script>\n",
              "        const buttonEl =\n",
              "          document.querySelector('#df-8506ad27-a84d-4a2b-bb4e-f7360914016d button.colab-df-convert');\n",
              "        buttonEl.style.display =\n",
              "          google.colab.kernel.accessAllowed ? 'block' : 'none';\n",
              "\n",
              "        async function convertToInteractive(key) {\n",
              "          const element = document.querySelector('#df-8506ad27-a84d-4a2b-bb4e-f7360914016d');\n",
              "          const dataTable =\n",
              "            await google.colab.kernel.invokeFunction('convertToInteractive',\n",
              "                                                     [key], {});\n",
              "          if (!dataTable) return;\n",
              "\n",
              "          const docLinkHtml = 'Like what you see? Visit the ' +\n",
              "            '<a target=\"_blank\" href=https://colab.research.google.com/notebooks/data_table.ipynb>data table notebook</a>'\n",
              "            + ' to learn more about interactive tables.';\n",
              "          element.innerHTML = '';\n",
              "          dataTable['output_type'] = 'display_data';\n",
              "          await google.colab.output.renderOutput(dataTable, element);\n",
              "          const docLink = document.createElement('div');\n",
              "          docLink.innerHTML = docLinkHtml;\n",
              "          element.appendChild(docLink);\n",
              "        }\n",
              "      </script>\n",
              "    </div>\n",
              "  </div>\n",
              "  "
            ]
          },
          "metadata": {},
          "execution_count": 129
        }
      ]
    },
    {
      "cell_type": "code",
      "source": [
        "dataFrame['pixels'][0]"
      ],
      "metadata": {
        "colab": {
          "base_uri": "https://localhost:8080/",
          "height": 782
        },
        "id": "9d22OiLstmYw",
        "outputId": "f4e70e70-728c-446c-b53b-87436bb93c39"
      },
      "execution_count": 128,
      "outputs": [
        {
          "output_type": "execute_result",
          "data": {
            "text/plain": [
              "'129 128 128 126 127 130 133 135 139 142 145 149 147 145 146 147 148 149 149 150 153 153 153 152 153 153 153 153 153 151 149 147 146 146 144 143 140 134 129 129 126 122 121 119 118 118 99 53 130 129 128 126 127 130 135 141 143 143 144 145 143 142 144 145 146 149 149 148 151 151 151 151 152 153 153 153 153 149 148 147 146 146 142 141 138 133 130 130 128 123 124 122 120 117 98 52 131 129 130 129 129 134 138 144 145 143 143 139 140 138 139 140 142 145 147 149 151 149 149 149 151 152 151 150 150 148 147 145 144 142 140 137 136 135 134 131 128 126 126 123 122 114 97 50 135 134 133 132 131 136 142 145 147 144 141 143 138 131 133 134 137 139 143 147 148 149 149 149 151 151 149 147 147 146 141 139 135 137 137 137 137 138 137 134 132 129 130 124 124 115 95 52 138 139 139 135 134 138 140 140 140 140 140 140 139 134 131 127 131 131 133 138 143 148 149 149 150 151 148 144 141 138 139 133 133 137 139 139 141 140 140 136 132 131 132 125 125 115 91 50 141 145 144 138 135 139 139 133 127 123 124 122 125 126 129 127 129 126 126 129 137 145 149 147 149 149 147 141 135 133 134 132 132 133 134 134 137 139 141 137 135 134 133 127 125 113 82 47 147 147 145 141 138 136 132 124 117 117 116 114 107 104 108 112 115 117 120 126 133 142 146 145 147 148 147 141 135 129 122 119 115 116 120 122 124 126 138 139 138 136 135 128 124 115 72 48 148 150 149 147 141 134 125 121 122 126 122 119 114 114 117 123 124 124 127 131 135 140 143 145 147 149 149 144 139 133 129 128 115 105 110 115 121 120 130 133 138 138 138 133 124 115 58 46 148 152 152 149 143 136 124 122 128 132 132 134 135 137 136 133 134 136 135 134 139 143 144 145 149 151 150 147 141 135 136 133 129 128 130 131 129 126 120 121 132 140 142 136 129 100 63 54 148 155 153 150 146 139 135 135 139 143 146 148 145 140 137 138 134 134 139 138 143 145 147 148 153 155 151 148 143 137 137 135 141 149 146 144 140 136 132 120 129 135 139 138 134 104 125 128 150 154 154 150 145 142 142 142 144 141 143 135 129 127 126 133 134 134 137 139 142 146 149 154 156 155 152 148 140 143 134 130 137 139 138 151 144 146 144 138 136 140 142 142 133 117 155 149 151 154 154 149 144 144 141 141 138 130 117 97 81 78 86 102 118 131 134 135 143 149 152 154 155 155 150 145 138 136 127 122 97 84 101 117 134 149 146 144 143 143 145 143 130 141 135 90 151 154 153 150 147 146 142 141 129 113 86 60 58 49 33 48 83 109 130 133 145 151 154 155 157 155 150 143 132 124 70 39 39 83 71 70 109 125 142 147 142 145 146 143 130 120 69 63 151 153 155 153 151 150 142 131 109 86 53 102 80 75 26 107 51 93 124 136 146 153 155 155 156 158 151 143 137 82 25 76 58 83 151 80 73 113 134 149 148 150 147 142 122 104 67 82 151 153 156 157 155 152 145 136 124 113 123 134 78 28 23 43 69 117 128 148 147 153 159 159 159 159 153 148 146 60 22 26 41 88 159 123 103 105 128 150 148 150 153 143 127 109 69 92 150 154 156 159 159 161 163 162 161 157 139 135 113 51 35 56 90 141 152 153 154 162 170 172 170 168 161 155 163 120 70 30 45 111 143 129 132 135 144 150 156 154 156 147 120 101 94 86 146 153 156 159 163 169 171 172 171 168 165 157 152 136 127 133 149 145 156 162 168 173 177 176 175 172 168 164 161 153 144 141 131 138 143 150 157 152 153 155 156 154 150 147 116 115 95 52 143 151 156 160 165 166 169 172 171 168 162 157 152 144 136 137 143 154 166 171 176 178 178 175 173 172 170 170 166 162 155 141 136 142 156 162 159 159 157 156 157 154 151 140 119 121 55 31 141 148 153 157 161 163 166 169 169 167 162 157 153 149 147 151 158 166 172 175 178 176 174 173 172 170 169 170 173 170 166 154 146 149 154 160 163 162 160 157 153 150 151 134 138 85 35 33 138 146 150 155 159 161 164 167 169 169 167 163 159 156 157 161 168 172 173 176 178 176 170 171 169 168 167 168 169 170 170 165 160 156 156 160 163 164 160 156 152 146 145 132 113 35 32 33 136 144 149 153 158 160 163 165 168 168 170 167 164 165 166 169 172 169 168 169 171 170 167 169 168 166 162 162 164 166 169 172 169 165 165 166 167 165 160 156 152 144 141 129 58 30 29 30 136 142 147 151 154 159 160 164 166 168 169 170 169 170 170 172 170 168 162 163 163 166 167 169 168 166 160 156 160 165 169 172 173 169 169 169 167 164 160 158 153 149 129 136 39 29 29 29 131 140 144 149 153 157 159 164 167 172 172 173 172 172 171 169 168 161 155 153 156 166 172 172 173 167 159 153 156 163 168 169 170 170 172 170 168 164 160 158 152 141 131 123 36 28 27 27 129 139 145 150 151 155 160 165 169 172 174 174 174 174 171 168 164 158 147 148 162 168 168 170 175 167 154 151 150 157 164 167 168 171 174 172 169 164 160 157 155 137 126 62 25 28 27 27 122 136 143 148 146 150 157 162 166 168 170 171 171 172 170 167 160 151 144 159 168 162 162 159 158 156 159 160 151 152 160 162 166 168 170 168 166 163 160 155 150 136 67 23 28 23 25 25 115 134 141 148 146 150 154 159 165 167 168 169 169 169 168 165 157 147 144 153 137 132 139 138 149 146 134 140 154 152 152 162 164 167 167 167 165 161 159 154 147 134 40 28 23 26 24 24 102 132 140 145 145 148 151 156 161 163 165 166 166 166 165 164 155 142 134 133 88 81 99 111 113 94 67 88 129 151 153 157 160 164 165 164 162 160 158 153 145 124 26 25 25 24 24 24 91 122 140 145 143 145 148 151 156 159 161 162 162 163 166 164 157 149 133 133 128 128 130 125 130 137 133 125 141 151 152 151 159 162 164 164 161 158 155 150 142 108 24 24 24 22 24 24 82 104 138 141 143 145 145 148 152 154 158 159 159 160 161 159 155 151 150 153 153 153 159 146 151 157 147 149 152 153 152 152 155 161 163 163 158 155 154 149 135 92 28 21 22 20 22 22 73 86 129 138 141 142 141 144 146 150 153 156 156 160 159 156 155 151 147 151 152 151 164 148 153 155 148 148 149 149 150 150 154 159 159 159 156 151 150 144 130 125 88 32 23 24 18 23 73 69 102 132 135 141 136 140 143 144 149 151 152 155 153 150 149 146 139 140 144 154 156 150 156 155 143 142 145 147 150 150 154 155 153 153 152 147 144 138 134 128 128 107 45 23 28 20 71 59 75 124 136 130 133 135 137 140 143 145 147 149 147 145 142 135 131 134 134 145 142 148 152 145 141 138 134 137 141 146 149 151 147 145 142 141 138 135 137 137 133 136 115 49 19 28 73 66 62 94 129 133 130 130 132 135 137 139 140 138 138 135 127 121 113 125 124 115 101 112 119 109 122 130 127 123 130 141 143 144 140 137 135 133 136 140 138 146 139 138 135 116 44 21 81 63 59 61 97 131 131 128 129 130 132 135 135 134 132 119 99 71 64 60 50 42 55 73 73 52 62 81 87 95 118 130 136 138 135 133 131 128 135 143 148 148 148 148 142 141 98 32 89 69 63 59 73 105 124 130 127 125 129 132 132 130 124 112 98 90 79 96 100 88 84 92 93 91 96 99 94 89 104 117 128 133 133 130 132 129 140 147 153 149 151 151 148 147 131 73 102 82 67 62 65 81 105 119 124 123 126 127 125 121 121 123 121 109 109 111 114 122 126 121 133 124 116 120 125 114 104 114 125 132 132 125 127 137 151 152 146 150 152 152 151 144 137 114 114 95 75 65 64 74 82 91 111 121 116 121 121 121 122 124 124 121 114 111 120 126 126 129 127 122 123 129 134 128 118 115 121 124 125 127 134 146 151 138 140 151 153 153 149 152 142 135 123 106 88 69 64 71 81 76 71 93 114 111 114 119 122 125 128 129 126 113 111 110 108 110 117 123 126 136 136 130 126 123 121 121 121 132 144 154 143 123 140 153 155 155 156 152 150 137 129 112 102 84 69 71 78 85 69 63 88 102 102 106 115 119 126 131 133 131 125 119 117 118 124 133 136 136 133 128 123 120 117 123 127 139 149 156 120 134 143 152 156 158 158 150 153 145 136 121 112 96 82 77 81 86 85 65 63 83 90 97 101 111 117 127 137 143 150 150 150 152 149 148 141 135 127 117 117 110 111 121 132 142 151 146 116 140 145 154 157 159 158 155 155 150 139 128 121 110 95 89 91 91 89 78 67 63 70 83 84 99 108 121 131 139 150 146 146 146 146 143 135 125 114 116 121 112 116 132 137 146 151 134 121 142 149 156 158 160 156 156 151 145 132 139 130 120 106 101 98 98 98 90 78 71 67 68 70 75 84 101 121 131 136 139 134 134 133 129 118 112 111 122 125 118 125 139 143 147 146 120 126 141 149 156 158 160 160 157 148 139 129 141 138 129 116 110 108 107 105 104 91 80 75 73 81 82 76 71 90 118 129 116 110 113 109 105 106 112 121 129 126 126 129 142 148 150 145 113 129 142 149 156 157 158 158 157 151 143 129 138 146 136 125 119 118 115 114 112 102 91 82 79 82 91 99 95 96 99 103 98 97 103 108 110 118 124 130 131 131 131 137 144 147 147 136 111 131 141 146 153 156 154 154 153 150 145 129 140 148 141 132 127 127 125 123 117 110 102 93 85 87 93 100 106 107 107 110 108 114 113 113 117 120 125 133 136 135 137 142 144 145 144 131 111 133 139 144 149 152 153 153 153 152 146 121 138 147 146 139 135 132 133 131 124 116 108 102 97 97 103 107 111 112 113 116 116 117 117 122 125 128 131 136 138 137 137 140 142 143 140 123 114 128 135 138 143 145 149 151 151 150 148 117 137 146 146 143 138 135 135 134 128 122 116 112 108 107 109 113 117 118 117 118 119 121 124 127 129 131 132 135 137 137 137 138 141 142 133 108 107 124 134 136 140 142 146 148 149 148 148 115 135 142 142 141 140 137 135 135 130 125 122 118 115 114 116 121 123 124 123 124 122 124 125 128 129 131 132 135 135 135 136 138 135 133 124 90 104 123 129 134 138 142 144 144 146 146 146'"
            ],
            "application/vnd.google.colaboratory.intrinsic+json": {
              "type": "string"
            }
          },
          "metadata": {},
          "execution_count": 128
        }
      ]
    },
    {
      "cell_type": "code",
      "source": [
        "df2"
      ],
      "metadata": {
        "colab": {
          "base_uri": "https://localhost:8080/",
          "height": 424
        },
        "id": "vDJ-FCGYnEzU",
        "outputId": "eb078ff1-6731-4f88-f89e-5ec3a276fe43"
      },
      "execution_count": 97,
      "outputs": [
        {
          "output_type": "execute_result",
          "data": {
            "text/plain": [
              "                            Images  Ages  Genders  Race bins\n",
              "0     24_1_2_20170104020224692.jpg    24        1     2    3\n",
              "1     35_0_0_20170105162448427.jpg    35        0     0    5\n",
              "2      5_0_0_20170110213554657.jpg     5        0     0    0\n",
              "3     23_1_4_20170103223615095.jpg    23        1     4    3\n",
              "4     20_1_3_20170104231456714.jpg    20        1     3    2\n",
              "...                            ...   ...      ...   ...  ...\n",
              "8281   2_0_0_20170110212852343.jpg     2        0     0    0\n",
              "8282   4_1_3_20161219230310713.jpg     4        1     3    0\n",
              "8283   1_0_2_20161219162431598.jpg     1        0     2    0\n",
              "8284   1_1_3_20161220222647563.jpg     1        1     3    0\n",
              "8285   2_0_2_20161219152914700.jpg     2        0     2    0\n",
              "\n",
              "[7869 rows x 5 columns]"
            ],
            "text/html": [
              "\n",
              "  <div id=\"df-8f37b7ea-9b8f-4d79-888e-630cdcc00f1d\">\n",
              "    <div class=\"colab-df-container\">\n",
              "      <div>\n",
              "<style scoped>\n",
              "    .dataframe tbody tr th:only-of-type {\n",
              "        vertical-align: middle;\n",
              "    }\n",
              "\n",
              "    .dataframe tbody tr th {\n",
              "        vertical-align: top;\n",
              "    }\n",
              "\n",
              "    .dataframe thead th {\n",
              "        text-align: right;\n",
              "    }\n",
              "</style>\n",
              "<table border=\"1\" class=\"dataframe\">\n",
              "  <thead>\n",
              "    <tr style=\"text-align: right;\">\n",
              "      <th></th>\n",
              "      <th>Images</th>\n",
              "      <th>Ages</th>\n",
              "      <th>Genders</th>\n",
              "      <th>Race</th>\n",
              "      <th>bins</th>\n",
              "    </tr>\n",
              "  </thead>\n",
              "  <tbody>\n",
              "    <tr>\n",
              "      <th>0</th>\n",
              "      <td>24_1_2_20170104020224692.jpg</td>\n",
              "      <td>24</td>\n",
              "      <td>1</td>\n",
              "      <td>2</td>\n",
              "      <td>3</td>\n",
              "    </tr>\n",
              "    <tr>\n",
              "      <th>1</th>\n",
              "      <td>35_0_0_20170105162448427.jpg</td>\n",
              "      <td>35</td>\n",
              "      <td>0</td>\n",
              "      <td>0</td>\n",
              "      <td>5</td>\n",
              "    </tr>\n",
              "    <tr>\n",
              "      <th>2</th>\n",
              "      <td>5_0_0_20170110213554657.jpg</td>\n",
              "      <td>5</td>\n",
              "      <td>0</td>\n",
              "      <td>0</td>\n",
              "      <td>0</td>\n",
              "    </tr>\n",
              "    <tr>\n",
              "      <th>3</th>\n",
              "      <td>23_1_4_20170103223615095.jpg</td>\n",
              "      <td>23</td>\n",
              "      <td>1</td>\n",
              "      <td>4</td>\n",
              "      <td>3</td>\n",
              "    </tr>\n",
              "    <tr>\n",
              "      <th>4</th>\n",
              "      <td>20_1_3_20170104231456714.jpg</td>\n",
              "      <td>20</td>\n",
              "      <td>1</td>\n",
              "      <td>3</td>\n",
              "      <td>2</td>\n",
              "    </tr>\n",
              "    <tr>\n",
              "      <th>...</th>\n",
              "      <td>...</td>\n",
              "      <td>...</td>\n",
              "      <td>...</td>\n",
              "      <td>...</td>\n",
              "      <td>...</td>\n",
              "    </tr>\n",
              "    <tr>\n",
              "      <th>8281</th>\n",
              "      <td>2_0_0_20170110212852343.jpg</td>\n",
              "      <td>2</td>\n",
              "      <td>0</td>\n",
              "      <td>0</td>\n",
              "      <td>0</td>\n",
              "    </tr>\n",
              "    <tr>\n",
              "      <th>8282</th>\n",
              "      <td>4_1_3_20161219230310713.jpg</td>\n",
              "      <td>4</td>\n",
              "      <td>1</td>\n",
              "      <td>3</td>\n",
              "      <td>0</td>\n",
              "    </tr>\n",
              "    <tr>\n",
              "      <th>8283</th>\n",
              "      <td>1_0_2_20161219162431598.jpg</td>\n",
              "      <td>1</td>\n",
              "      <td>0</td>\n",
              "      <td>2</td>\n",
              "      <td>0</td>\n",
              "    </tr>\n",
              "    <tr>\n",
              "      <th>8284</th>\n",
              "      <td>1_1_3_20161220222647563.jpg</td>\n",
              "      <td>1</td>\n",
              "      <td>1</td>\n",
              "      <td>3</td>\n",
              "      <td>0</td>\n",
              "    </tr>\n",
              "    <tr>\n",
              "      <th>8285</th>\n",
              "      <td>2_0_2_20161219152914700.jpg</td>\n",
              "      <td>2</td>\n",
              "      <td>0</td>\n",
              "      <td>2</td>\n",
              "      <td>0</td>\n",
              "    </tr>\n",
              "  </tbody>\n",
              "</table>\n",
              "<p>7869 rows × 5 columns</p>\n",
              "</div>\n",
              "      <button class=\"colab-df-convert\" onclick=\"convertToInteractive('df-8f37b7ea-9b8f-4d79-888e-630cdcc00f1d')\"\n",
              "              title=\"Convert this dataframe to an interactive table.\"\n",
              "              style=\"display:none;\">\n",
              "        \n",
              "  <svg xmlns=\"http://www.w3.org/2000/svg\" height=\"24px\"viewBox=\"0 0 24 24\"\n",
              "       width=\"24px\">\n",
              "    <path d=\"M0 0h24v24H0V0z\" fill=\"none\"/>\n",
              "    <path d=\"M18.56 5.44l.94 2.06.94-2.06 2.06-.94-2.06-.94-.94-2.06-.94 2.06-2.06.94zm-11 1L8.5 8.5l.94-2.06 2.06-.94-2.06-.94L8.5 2.5l-.94 2.06-2.06.94zm10 10l.94 2.06.94-2.06 2.06-.94-2.06-.94-.94-2.06-.94 2.06-2.06.94z\"/><path d=\"M17.41 7.96l-1.37-1.37c-.4-.4-.92-.59-1.43-.59-.52 0-1.04.2-1.43.59L10.3 9.45l-7.72 7.72c-.78.78-.78 2.05 0 2.83L4 21.41c.39.39.9.59 1.41.59.51 0 1.02-.2 1.41-.59l7.78-7.78 2.81-2.81c.8-.78.8-2.07 0-2.86zM5.41 20L4 18.59l7.72-7.72 1.47 1.35L5.41 20z\"/>\n",
              "  </svg>\n",
              "      </button>\n",
              "      \n",
              "  <style>\n",
              "    .colab-df-container {\n",
              "      display:flex;\n",
              "      flex-wrap:wrap;\n",
              "      gap: 12px;\n",
              "    }\n",
              "\n",
              "    .colab-df-convert {\n",
              "      background-color: #E8F0FE;\n",
              "      border: none;\n",
              "      border-radius: 50%;\n",
              "      cursor: pointer;\n",
              "      display: none;\n",
              "      fill: #1967D2;\n",
              "      height: 32px;\n",
              "      padding: 0 0 0 0;\n",
              "      width: 32px;\n",
              "    }\n",
              "\n",
              "    .colab-df-convert:hover {\n",
              "      background-color: #E2EBFA;\n",
              "      box-shadow: 0px 1px 2px rgba(60, 64, 67, 0.3), 0px 1px 3px 1px rgba(60, 64, 67, 0.15);\n",
              "      fill: #174EA6;\n",
              "    }\n",
              "\n",
              "    [theme=dark] .colab-df-convert {\n",
              "      background-color: #3B4455;\n",
              "      fill: #D2E3FC;\n",
              "    }\n",
              "\n",
              "    [theme=dark] .colab-df-convert:hover {\n",
              "      background-color: #434B5C;\n",
              "      box-shadow: 0px 1px 3px 1px rgba(0, 0, 0, 0.15);\n",
              "      filter: drop-shadow(0px 1px 2px rgba(0, 0, 0, 0.3));\n",
              "      fill: #FFFFFF;\n",
              "    }\n",
              "  </style>\n",
              "\n",
              "      <script>\n",
              "        const buttonEl =\n",
              "          document.querySelector('#df-8f37b7ea-9b8f-4d79-888e-630cdcc00f1d button.colab-df-convert');\n",
              "        buttonEl.style.display =\n",
              "          google.colab.kernel.accessAllowed ? 'block' : 'none';\n",
              "\n",
              "        async function convertToInteractive(key) {\n",
              "          const element = document.querySelector('#df-8f37b7ea-9b8f-4d79-888e-630cdcc00f1d');\n",
              "          const dataTable =\n",
              "            await google.colab.kernel.invokeFunction('convertToInteractive',\n",
              "                                                     [key], {});\n",
              "          if (!dataTable) return;\n",
              "\n",
              "          const docLinkHtml = 'Like what you see? Visit the ' +\n",
              "            '<a target=\"_blank\" href=https://colab.research.google.com/notebooks/data_table.ipynb>data table notebook</a>'\n",
              "            + ' to learn more about interactive tables.';\n",
              "          element.innerHTML = '';\n",
              "          dataTable['output_type'] = 'display_data';\n",
              "          await google.colab.output.renderOutput(dataTable, element);\n",
              "          const docLink = document.createElement('div');\n",
              "          docLink.innerHTML = docLinkHtml;\n",
              "          element.appendChild(docLink);\n",
              "        }\n",
              "      </script>\n",
              "    </div>\n",
              "  </div>\n",
              "  "
            ]
          },
          "metadata": {},
          "execution_count": 97
        }
      ]
    },
    {
      "cell_type": "code",
      "source": [
        "# Construct age bins\n",
        "age_bins = [0,10,15,20,25,30,40,50,60,80]\n",
        "age_labels = [0, 1, 2, 3, 4, 5, 6, 7, 8]\n",
        "df2['bins'] = pd.cut(df2.Ages, bins=age_bins, labels=age_labels)\n",
        "\n",
        "# Split into training and testing\n",
        "train_dataFrame, test_dataFrame = train_test_split(df2, test_size=0.2)\n",
        "\n",
        "# get the number of unique classes for each group\n",
        "class_nums = {'age_num':len(df2['bins'].unique()), 'eth_num':len(df2['Race'].unique()),\n",
        "              'gen_num':len(df2['Genders'].unique())}\n",
        "\n",
        "# Define train and test transforms\n",
        "train_transform = transforms.Compose([\n",
        "    transforms.ToTensor(),\n",
        "    transforms.Normalize((0.49,), (0.23,))\n",
        "])\n",
        "\n",
        "test_transform = transforms.Compose([\n",
        "    transforms.ToTensor(),\n",
        "    transforms.Normalize((0.49,), (0.23,))\n",
        "])\n",
        "\n",
        "# Construct the custom pytorch datasets\n",
        "train_set = UTKDataset(train_dataFrame, transform=train_transform)\n",
        "test_set = UTKDataset(test_dataFrame, transform=test_transform)\n",
        "\n",
        "# Load the datasets into dataloaders\n",
        "train_batch_gen = DataLoader(train_set, batch_size=64, shuffle=True)\n",
        "test_batch_gen = DataLoader(test_set, batch_size=128, shuffle=False)\n",
        "\n",
        "# print(train_batch_gen)\n",
        "# Sanity Check\n",
        "for X, y in train_batch_gen:\n",
        "    print(f'Shape of training X: {X.shape}')\n",
        "    print(f'Shape of y: {y.shape}')\n",
        "    break\n",
        "\n",
        "# return train_loader, test_loader, class_nums\n",
        "\n"
      ],
      "metadata": {
        "colab": {
          "base_uri": "https://localhost:8080/"
        },
        "id": "_STWEGWqTsRY",
        "outputId": "81e2e355-f4a6-4d98-8094-120ce2828984"
      },
      "execution_count": 125,
      "outputs": [
        {
          "output_type": "stream",
          "name": "stdout",
          "text": [
            "Shape of training X: torch.Size([64, 3])\n",
            "Shape of y: torch.Size([64, 3])\n"
          ]
        }
      ]
    },
    {
      "cell_type": "markdown",
      "source": [
        "# 6. Model "
      ],
      "metadata": {
        "id": "B_tot6EfZAEx"
      }
    },
    {
      "cell_type": "code",
      "source": [
        "# High level feature extractor network (Adopted VGG type structure)\n",
        "class highLevelNN(nn.Module):\n",
        "    def __init__(self):\n",
        "        super(highLevelNN, self).__init__()\n",
        "        self.CNN = nn.Sequential(\n",
        "            # first batch (32)\n",
        "            nn.Conv2d(in_channels=1, out_channels=32, kernel_size=3, stride=1, padding=1),\n",
        "            nn.ReLU(),\n",
        "            nn.Conv2d(in_channels=32, out_channels=32, kernel_size=3, padding=1),\n",
        "            nn.MaxPool2d(kernel_size=3, stride=2, padding=1),\n",
        "            nn.ReLU(),\n",
        "\n",
        "            # second batch (64)\n",
        "            nn.Conv2d(in_channels=32, out_channels=64, kernel_size=3, padding=1),\n",
        "            nn.ReLU(),\n",
        "            nn.Conv2d(in_channels=64, out_channels=64, kernel_size=3, padding=1),\n",
        "            nn.MaxPool2d(kernel_size=3, stride=2, padding=1),\n",
        "            nn.ReLU(),\n",
        "\n",
        "            # Third Batch (128)\n",
        "            nn.Conv2d(in_channels=64, out_channels=128, kernel_size=3, padding=1),\n",
        "            nn.ReLU(),\n",
        "            nn.Conv2d(in_channels=128, out_channels=128, kernel_size=3, padding=1),\n",
        "            nn.MaxPool2d(kernel_size=3, stride=2, padding=1),\n",
        "            nn.ReLU(),\n",
        "        )\n",
        "\n",
        "    def forward(self, x):\n",
        "        out = self.CNN(x)\n",
        "\n",
        "        return out\n",
        "\n",
        "# Low level feature extraction module\n",
        "class lowLevelNN(nn.Module):\n",
        "    def __init__(self, num_out):\n",
        "        super(lowLevelNN, self).__init__()\n",
        "        self.conv1 = nn.Conv2d(in_channels=128, out_channels=256, kernel_size=3, padding=1)\n",
        "        self.conv2 = nn.Conv2d(in_channels=256, out_channels=512, kernel_size=3, padding=1)\n",
        "        self.fc1 = nn.Linear(in_features=2048, out_features=256)\n",
        "        self.fc2 = nn.Linear(in_features=256, out_features=128)\n",
        "        self.fc3 = nn.Linear(in_features=128, out_features=64)\n",
        "        self.fc4 = nn.Linear(in_features=64, out_features=num_out)\n",
        "\n",
        "    def forward(self, x):\n",
        "        x = F.relu(F.max_pool2d(self.conv1(x), kernel_size=3, stride=2, padding=1))\n",
        "        x = F.relu(F.max_pool2d(self.conv2(x), kernel_size=3, stride=2, padding=1))\n",
        "        x = torch.flatten(x, start_dim=1)\n",
        "        x = F.relu(self.fc1(x))\n",
        "        x = F.relu(self.fc2(x))\n",
        "        x = F.relu(self.fc3(x))\n",
        "        x = self.fc4(x)\n",
        "\n",
        "        return x\n",
        "\n",
        "\n",
        "class TridentNN(nn.Module):\n",
        "    def __init__(self, num_age, num_gen, num_eth):\n",
        "        super(TridentNN, self).__init__()\n",
        "        # Construct the high level neural network\n",
        "        self.CNN = highLevelNN()\n",
        "        # Construct the low level neural networks\n",
        "        self.ageNN = lowLevelNN(num_out=num_age)\n",
        "        self.genNN = lowLevelNN(num_out=num_gen)\n",
        "        self.ethNN = lowLevelNN(num_out=num_eth)\n",
        "\n",
        "    def forward(self, x):\n",
        "        x = self.CNN(x)\n",
        "        age = self.ageNN(x)\n",
        "        gen = self.genNN(x)\n",
        "        eth = self.ethNN(x)\n",
        "\n",
        "        return age, gen, eth"
      ],
      "metadata": {
        "id": "3vrElof_ZEKi"
      },
      "execution_count": 68,
      "outputs": []
    },
    {
      "cell_type": "markdown",
      "source": [
        "# 6. Configure device\n"
      ],
      "metadata": {
        "id": "AkLPJdjXaWr_"
      }
    },
    {
      "cell_type": "code",
      "source": [
        "# Configure the device \n",
        "device = 'cuda' if torch.cuda.is_available() else 'cpu' \n",
        "print(device)\n",
        "\n",
        "# Define the list of hyperparameters\n",
        "hyperparameters = {'learning_rate':0.001, 'epochs':30}\n",
        "\n",
        "# Initialize the TridentNN model and put on device\n",
        "model = TridentNN(class_nums['age_num'], class_nums['gen_num'], class_nums['eth_num'])\n",
        "model.to(device)"
      ],
      "metadata": {
        "colab": {
          "base_uri": "https://localhost:8080/"
        },
        "id": "L3S7qSXcbKYS",
        "outputId": "c8e62932-788d-4c9f-e346-e6b7e9dc2cd0"
      },
      "execution_count": 71,
      "outputs": [
        {
          "output_type": "stream",
          "name": "stdout",
          "text": [
            "cpu\n"
          ]
        },
        {
          "output_type": "execute_result",
          "data": {
            "text/plain": [
              "TridentNN(\n",
              "  (CNN): highLevelNN(\n",
              "    (CNN): Sequential(\n",
              "      (0): Conv2d(1, 32, kernel_size=(3, 3), stride=(1, 1), padding=(1, 1))\n",
              "      (1): ReLU()\n",
              "      (2): Conv2d(32, 32, kernel_size=(3, 3), stride=(1, 1), padding=(1, 1))\n",
              "      (3): MaxPool2d(kernel_size=3, stride=2, padding=1, dilation=1, ceil_mode=False)\n",
              "      (4): ReLU()\n",
              "      (5): Conv2d(32, 64, kernel_size=(3, 3), stride=(1, 1), padding=(1, 1))\n",
              "      (6): ReLU()\n",
              "      (7): Conv2d(64, 64, kernel_size=(3, 3), stride=(1, 1), padding=(1, 1))\n",
              "      (8): MaxPool2d(kernel_size=3, stride=2, padding=1, dilation=1, ceil_mode=False)\n",
              "      (9): ReLU()\n",
              "      (10): Conv2d(64, 128, kernel_size=(3, 3), stride=(1, 1), padding=(1, 1))\n",
              "      (11): ReLU()\n",
              "      (12): Conv2d(128, 128, kernel_size=(3, 3), stride=(1, 1), padding=(1, 1))\n",
              "      (13): MaxPool2d(kernel_size=3, stride=2, padding=1, dilation=1, ceil_mode=False)\n",
              "      (14): ReLU()\n",
              "    )\n",
              "  )\n",
              "  (ageNN): lowLevelNN(\n",
              "    (conv1): Conv2d(128, 256, kernel_size=(3, 3), stride=(1, 1), padding=(1, 1))\n",
              "    (conv2): Conv2d(256, 512, kernel_size=(3, 3), stride=(1, 1), padding=(1, 1))\n",
              "    (fc1): Linear(in_features=2048, out_features=256, bias=True)\n",
              "    (fc2): Linear(in_features=256, out_features=128, bias=True)\n",
              "    (fc3): Linear(in_features=128, out_features=64, bias=True)\n",
              "    (fc4): Linear(in_features=64, out_features=10, bias=True)\n",
              "  )\n",
              "  (genNN): lowLevelNN(\n",
              "    (conv1): Conv2d(128, 256, kernel_size=(3, 3), stride=(1, 1), padding=(1, 1))\n",
              "    (conv2): Conv2d(256, 512, kernel_size=(3, 3), stride=(1, 1), padding=(1, 1))\n",
              "    (fc1): Linear(in_features=2048, out_features=256, bias=True)\n",
              "    (fc2): Linear(in_features=256, out_features=128, bias=True)\n",
              "    (fc3): Linear(in_features=128, out_features=64, bias=True)\n",
              "    (fc4): Linear(in_features=64, out_features=2, bias=True)\n",
              "  )\n",
              "  (ethNN): lowLevelNN(\n",
              "    (conv1): Conv2d(128, 256, kernel_size=(3, 3), stride=(1, 1), padding=(1, 1))\n",
              "    (conv2): Conv2d(256, 512, kernel_size=(3, 3), stride=(1, 1), padding=(1, 1))\n",
              "    (fc1): Linear(in_features=2048, out_features=256, bias=True)\n",
              "    (fc2): Linear(in_features=256, out_features=128, bias=True)\n",
              "    (fc3): Linear(in_features=128, out_features=64, bias=True)\n",
              "    (fc4): Linear(in_features=64, out_features=5, bias=True)\n",
              "  )\n",
              ")"
            ]
          },
          "metadata": {},
          "execution_count": 71
        }
      ]
    },
    {
      "cell_type": "markdown",
      "source": [
        "# func for load and save model"
      ],
      "metadata": {
        "id": "6J8ehlSbcWVr"
      }
    },
    {
      "cell_type": "code",
      "source": [
        "\n",
        "'''\n",
        "  Functions to load and save a PyTorch model\n",
        "'''\n",
        "def save_checkpoint(state, epoch):\n",
        "  print(\"Saving Checkpoint\")\n",
        "  filename = \"tridentNN_epoch\"+str(epoch)+\".pth.tar\"\n",
        "  torch.save(state,filename)\n",
        "\n",
        "def load_checkpoint(checkpoint):\n",
        "  print(\"Loading Checkpoint\")\n",
        "  model.load_state_dict(checkpoint['state_dict'])\n",
        "  opt.load_state_dict(checkpoint['optimizer'])"
      ],
      "metadata": {
        "id": "qSSy214pcOAp"
      },
      "execution_count": 81,
      "outputs": []
    },
    {
      "cell_type": "markdown",
      "source": [
        "# 6. Train model"
      ],
      "metadata": {
        "id": "UeRJ_ifqY5Nr"
      }
    },
    {
      "cell_type": "code",
      "source": [
        "'''\n",
        "train the model\n",
        "''' \n",
        "# Load hyperparameters\n",
        "learning_rate = hyperparameters['learning_rate']\n",
        "num_epoch = hyperparameters['epochs']\n",
        "\n",
        "# Define loss functions\n",
        "age_loss = nn.CrossEntropyLoss()\n",
        "gen_loss = nn.CrossEntropyLoss() # TODO : Explore using Binary Cross Entropy Loss?\n",
        "eth_loss = nn.CrossEntropyLoss()\n",
        "\n",
        "# Define optimizer\n",
        "opt = torch.optim.Adam(model.parameters(), lr=learning_rate)\n",
        "\n",
        "# Train the model\n",
        "for epoch in range(num_epoch):\n",
        "  # Construct tqdm loop to keep track of training\n",
        "  loop = tqdm(enumerate(train_batch_gen), total=len(train_batch_gen), position=0, leave=True)\n",
        "  age_correct, gen_correct, eth_correct, total = 0,0,0,0\n",
        "\n",
        "  # save the model every 10 epochs\n",
        "  if epoch % 10 == 0:\n",
        "    checkpoint = {'state_dict' : model.state_dict(), 'optimizer' : opt.state_dict(), \n",
        "                  'age_loss' : age_loss, 'gen_loss' : gen_loss, 'eth_loss' : eth_loss}\n",
        "    save_checkpoint(checkpoint, epoch)\n",
        "\n",
        "  # Loop through dataLoader\n",
        "  for _, (X,y) in loop:\n",
        "    # Unpack y to get true age, eth, and gen values\n",
        "    # Have to do some special changes to age label to make it compatible with NN output and Loss function\n",
        "    #age, gen, eth = y[:,0].resize_(len(y[:,0]),1).float().to(device), y[:,1].to(device), y[:,2].to(device)\n",
        "    \n",
        "    age, gen, eth = y[:,0].to(device), y[:,1].to(device), y[:,2].to(device)\n",
        "    # print(age)\n",
        "    # print(gen)\n",
        "    # print(eth)\n",
        "    X = X.to(device)\n",
        "    pred = model(X) # Forward pass\n",
        "    print(pred)\n",
        "    loss = age_loss(pred[0],age.long()) + gen_loss(pred[1],gen.long()) + eth_loss(pred[2],eth.long())   # Loss calculation\n",
        "\n",
        "    # Backpropagation\n",
        "    opt.zero_grad()          # Zero the gradient\n",
        "    loss.backward()          # Calculate updates\n",
        "\n",
        "    # Gradient Descent\n",
        "    opt.step()               # Apply updates\n",
        "\n",
        "    # Update num correct and total\n",
        "    age_correct += (pred[0].argmax(1) == age).type(torch.float).sum().item()\n",
        "    gen_correct += (pred[1].argmax(1) == gen).type(torch.float).sum().item()\n",
        "    eth_correct += (pred[2].argmax(1) == eth).type(torch.float).sum().item()\n",
        "\n",
        "    total += len(y)\n",
        "\n",
        "    # Update progress bar\n",
        "    loop.set_description(f\"Epoch [{epoch+1}/{num_epoch}]\")\n",
        "    loop.set_postfix(loss = loss.item())\n",
        "\n",
        "  # Update epoch accuracy\n",
        "  gen_acc, eth_acc, age_acc = gen_correct/total, eth_correct/total, age_correct/total\n",
        "\n",
        "  # print out accuracy and loss for epoch\n",
        "  print(f'Epoch : {epoch+1}/{num_epoch},    Age Accuracy : {age_acc*100},    Gender Accuracy : {gen_acc*100},    Ethnicity Accuracy : {eth_acc*100}\\n')"
      ],
      "metadata": {
        "colab": {
          "base_uri": "https://localhost:8080/",
          "height": 1000
        },
        "id": "qqSGrQjdY9rx",
        "outputId": "80d58f01-a96b-4bbf-ea4c-3b2915307b0c"
      },
      "execution_count": 92,
      "outputs": [
        {
          "output_type": "stream",
          "name": "stderr",
          "text": [
            "\r  0%|          | 0/297 [00:00<?, ?it/s]"
          ]
        },
        {
          "output_type": "stream",
          "name": "stdout",
          "text": [
            "Saving Checkpoint\n"
          ]
        },
        {
          "output_type": "stream",
          "name": "stderr",
          "text": [
            "\r  0%|          | 0/297 [00:00<?, ?it/s]"
          ]
        },
        {
          "output_type": "stream",
          "name": "stdout",
          "text": [
            "(tensor([[ 2.2947e-02, -4.9233e-02, -3.2921e-02,  1.2226e-01,  1.7302e-02,\n",
            "         -1.1828e-01, -4.3327e-02, -1.0023e-01, -5.7036e-02, -5.1916e-04],\n",
            "        [ 2.4003e-02, -4.7194e-02, -3.2268e-02,  1.2374e-01,  1.7491e-02,\n",
            "         -1.1773e-01, -4.4946e-02, -9.9409e-02, -5.6085e-02, -4.1324e-03],\n",
            "        [ 2.3188e-02, -4.8739e-02, -3.2823e-02,  1.2272e-01,  1.7419e-02,\n",
            "         -1.1810e-01, -4.3709e-02, -9.9958e-02, -5.6759e-02, -1.2775e-03],\n",
            "        [ 2.2827e-02, -4.9425e-02, -3.2949e-02,  1.2209e-01,  1.7290e-02,\n",
            "         -1.1842e-01, -4.3099e-02, -1.0035e-01, -5.7031e-02, -2.4690e-04],\n",
            "        [ 2.3494e-02, -4.8285e-02, -3.2617e-02,  1.2300e-01,  1.7456e-02,\n",
            "         -1.1803e-01, -4.4189e-02, -9.9870e-02, -5.6548e-02, -2.1789e-03],\n",
            "        [ 2.3311e-02, -4.8591e-02, -3.2767e-02,  1.2286e-01,  1.7413e-02,\n",
            "         -1.1804e-01, -4.3854e-02, -9.9909e-02, -5.6725e-02, -1.5755e-03],\n",
            "        [ 2.4026e-02, -4.7297e-02, -3.2325e-02,  1.2366e-01,  1.7502e-02,\n",
            "         -1.1766e-01, -4.4994e-02, -9.9505e-02, -5.6229e-02, -3.9057e-03],\n",
            "        [ 2.2608e-02, -4.9697e-02, -3.3048e-02,  1.2183e-01,  1.7246e-02,\n",
            "         -1.1846e-01, -4.2868e-02, -1.0053e-01, -5.7180e-02,  2.6201e-04],\n",
            "        [ 2.3258e-02, -4.8685e-02, -3.2735e-02,  1.2278e-01,  1.7387e-02,\n",
            "         -1.1810e-01, -4.3800e-02, -9.9949e-02, -5.6775e-02, -1.4167e-03],\n",
            "        [ 2.3350e-02, -4.8355e-02, -3.2757e-02,  1.2300e-01,  1.7471e-02,\n",
            "         -1.1796e-01, -4.3992e-02, -9.9779e-02, -5.6588e-02, -1.9242e-03],\n",
            "        [ 2.2300e-02, -5.0215e-02, -3.3141e-02,  1.2134e-01,  1.7108e-02,\n",
            "         -1.1876e-01, -4.2376e-02, -1.0080e-01, -5.7258e-02,  1.0190e-03],\n",
            "        [ 2.2803e-02, -4.9423e-02, -3.3010e-02,  1.2214e-01,  1.7293e-02,\n",
            "         -1.1831e-01, -4.3083e-02, -1.0030e-01, -5.7074e-02, -2.3140e-04],\n",
            "        [ 2.2471e-02, -4.9927e-02, -3.3089e-02,  1.2164e-01,  1.7150e-02,\n",
            "         -1.1860e-01, -4.2597e-02, -1.0062e-01, -5.7184e-02,  6.0638e-04],\n",
            "        [ 2.3411e-02, -4.8345e-02, -3.2661e-02,  1.2301e-01,  1.7389e-02,\n",
            "         -1.1802e-01, -4.4104e-02, -9.9848e-02, -5.6648e-02, -1.9646e-03],\n",
            "        [ 2.3019e-02, -4.9145e-02, -3.2997e-02,  1.2244e-01,  1.7385e-02,\n",
            "         -1.1812e-01, -4.3359e-02, -1.0011e-01, -5.6995e-02, -7.3057e-04],\n",
            "        [ 2.2848e-02, -4.9381e-02, -3.2961e-02,  1.2223e-01,  1.7240e-02,\n",
            "         -1.1830e-01, -4.3161e-02, -1.0026e-01, -5.7070e-02, -2.8323e-04],\n",
            "        [ 2.2257e-02, -5.0237e-02, -3.3199e-02,  1.2135e-01,  1.7072e-02,\n",
            "         -1.1869e-01, -4.2306e-02, -1.0079e-01, -5.7295e-02,  1.0817e-03],\n",
            "        [ 2.3188e-02, -4.8756e-02, -3.2795e-02,  1.2269e-01,  1.7373e-02,\n",
            "         -1.1813e-01, -4.3693e-02, -9.9931e-02, -5.6779e-02, -1.2707e-03],\n",
            "        [ 2.3675e-02, -4.7884e-02, -3.2607e-02,  1.2333e-01,  1.7479e-02,\n",
            "         -1.1777e-01, -4.4437e-02, -9.9659e-02, -5.6477e-02, -2.7125e-03],\n",
            "        [ 2.3000e-02, -4.9218e-02, -3.2881e-02,  1.2239e-01,  1.7261e-02,\n",
            "         -1.1823e-01, -4.3310e-02, -1.0014e-01, -5.7006e-02, -6.0377e-04],\n",
            "        [ 2.3024e-02, -4.9216e-02, -3.2794e-02,  1.2229e-01,  1.7199e-02,\n",
            "         -1.1839e-01, -4.3372e-02, -1.0024e-01, -5.7002e-02, -5.8736e-04],\n",
            "        [ 2.3262e-02, -4.8645e-02, -3.2754e-02,  1.2276e-01,  1.7384e-02,\n",
            "         -1.1813e-01, -4.3785e-02, -9.9926e-02, -5.6701e-02, -1.4787e-03],\n",
            "        [ 2.3420e-02, -4.8336e-02, -3.2616e-02,  1.2297e-01,  1.7453e-02,\n",
            "         -1.1804e-01, -4.4142e-02, -9.9857e-02, -5.6612e-02, -2.0129e-03],\n",
            "        [ 2.2865e-02, -4.9317e-02, -3.2956e-02,  1.2229e-01,  1.7317e-02,\n",
            "         -1.1827e-01, -4.3228e-02, -1.0016e-01, -5.6993e-02, -4.5259e-04],\n",
            "        [ 2.3019e-02, -4.9124e-02, -3.2923e-02,  1.2243e-01,  1.7339e-02,\n",
            "         -1.1820e-01, -4.3373e-02, -1.0011e-01, -5.6966e-02, -7.3352e-04],\n",
            "        [ 2.2461e-02, -4.9964e-02, -3.3103e-02,  1.2163e-01,  1.7130e-02,\n",
            "         -1.1858e-01, -4.2588e-02, -1.0065e-01, -5.7229e-02,  6.4875e-04],\n",
            "        [ 2.2980e-02, -4.9156e-02, -3.2880e-02,  1.2242e-01,  1.7318e-02,\n",
            "         -1.1824e-01, -4.3380e-02, -1.0011e-01, -5.6952e-02, -6.6200e-04],\n",
            "        [ 2.3085e-02, -4.9011e-02, -3.2834e-02,  1.2250e-01,  1.7365e-02,\n",
            "         -1.1815e-01, -4.3551e-02, -1.0007e-01, -5.6964e-02, -9.1187e-04],\n",
            "        [ 2.3312e-02, -4.8528e-02, -3.2692e-02,  1.2281e-01,  1.7426e-02,\n",
            "         -1.1812e-01, -4.3890e-02, -9.9909e-02, -5.6668e-02, -1.5932e-03],\n",
            "        [ 2.3421e-02, -4.8351e-02, -3.2668e-02,  1.2300e-01,  1.7437e-02,\n",
            "         -1.1804e-01, -4.4046e-02, -9.9851e-02, -5.6565e-02, -2.0058e-03],\n",
            "        [ 2.2851e-02, -4.9398e-02, -3.2922e-02,  1.2215e-01,  1.7282e-02,\n",
            "         -1.1839e-01, -4.3125e-02, -1.0029e-01, -5.7025e-02, -2.7636e-04],\n",
            "        [ 2.3613e-02, -4.8023e-02, -3.2619e-02,  1.2323e-01,  1.7479e-02,\n",
            "         -1.1783e-01, -4.4367e-02, -9.9738e-02, -5.6498e-02, -2.5622e-03],\n",
            "        [ 2.3090e-02, -4.8943e-02, -3.2936e-02,  1.2257e-01,  1.7398e-02,\n",
            "         -1.1809e-01, -4.3538e-02, -1.0001e-01, -5.6899e-02, -9.9638e-04],\n",
            "        [ 2.3527e-02, -4.8178e-02, -3.2631e-02,  1.2313e-01,  1.7449e-02,\n",
            "         -1.1794e-01, -4.4208e-02, -9.9804e-02, -5.6539e-02, -2.2909e-03],\n",
            "        [ 2.2970e-02, -4.9151e-02, -3.2995e-02,  1.2242e-01,  1.7323e-02,\n",
            "         -1.1817e-01, -4.3301e-02, -1.0011e-01, -5.7000e-02, -6.3538e-04],\n",
            "        [ 2.2496e-02, -4.9892e-02, -3.3127e-02,  1.2164e-01,  1.7181e-02,\n",
            "         -1.1856e-01, -4.2624e-02, -1.0064e-01, -5.7192e-02,  5.5260e-04],\n",
            "        [ 2.2840e-02, -4.9464e-02, -3.2934e-02,  1.2206e-01,  1.7220e-02,\n",
            "         -1.1843e-01, -4.3073e-02, -1.0038e-01, -5.7051e-02, -2.0068e-04],\n",
            "        [ 2.3184e-02, -4.8819e-02, -3.2744e-02,  1.2263e-01,  1.7336e-02,\n",
            "         -1.1820e-01, -4.3649e-02, -9.9986e-02, -5.6790e-02, -1.1777e-03],\n",
            "        [ 2.2855e-02, -4.9460e-02, -3.2909e-02,  1.2209e-01,  1.7233e-02,\n",
            "         -1.1843e-01, -4.3103e-02, -1.0038e-01, -5.7052e-02, -2.0680e-04],\n",
            "        [ 2.3816e-02, -4.7421e-02, -3.2480e-02,  1.2353e-01,  1.7540e-02,\n",
            "         -1.1778e-01, -4.4737e-02, -9.9508e-02, -5.6186e-02, -3.6080e-03],\n",
            "        [ 2.3584e-02, -4.8013e-02, -3.2560e-02,  1.2317e-01,  1.7485e-02,\n",
            "         -1.1794e-01, -4.4350e-02, -9.9722e-02, -5.6437e-02, -2.6278e-03],\n",
            "        [ 2.3734e-02, -4.7514e-02, -3.2454e-02,  1.2358e-01,  1.7498e-02,\n",
            "         -1.1779e-01, -4.4613e-02, -9.9415e-02, -5.6162e-02, -3.5596e-03],\n",
            "        [ 2.3842e-02, -4.7576e-02, -3.2394e-02,  1.2349e-01,  1.7472e-02,\n",
            "         -1.1780e-01, -4.4730e-02, -9.9560e-02, -5.6322e-02, -3.3549e-03],\n",
            "        [ 2.3332e-02, -4.8388e-02, -3.2734e-02,  1.2296e-01,  1.7460e-02,\n",
            "         -1.1802e-01, -4.3996e-02, -9.9818e-02, -5.6596e-02, -1.8687e-03],\n",
            "        [ 2.3116e-02, -4.8904e-02, -3.2809e-02,  1.2258e-01,  1.7299e-02,\n",
            "         -1.1819e-01, -4.3573e-02, -1.0002e-01, -5.6870e-02, -1.0275e-03],\n",
            "        [ 2.3738e-02, -4.7781e-02, -3.2359e-02,  1.2331e-01,  1.7479e-02,\n",
            "         -1.1791e-01, -4.4550e-02, -9.9685e-02, -5.6366e-02, -3.0949e-03],\n",
            "        [ 2.2825e-02, -4.9346e-02, -3.3021e-02,  1.2225e-01,  1.7278e-02,\n",
            "         -1.1828e-01, -4.3105e-02, -1.0024e-01, -5.7061e-02, -3.1232e-04],\n",
            "        [ 2.2535e-02, -4.9852e-02, -3.3085e-02,  1.2170e-01,  1.7179e-02,\n",
            "         -1.1854e-01, -4.2699e-02, -1.0060e-01, -5.7196e-02,  4.7120e-04],\n",
            "        [ 2.2952e-02, -4.9209e-02, -3.2952e-02,  1.2236e-01,  1.7310e-02,\n",
            "         -1.1822e-01, -4.3294e-02, -1.0013e-01, -5.7005e-02, -5.8126e-04],\n",
            "        [ 2.2831e-02, -4.9402e-02, -3.2936e-02,  1.2215e-01,  1.7246e-02,\n",
            "         -1.1842e-01, -4.3103e-02, -1.0030e-01, -5.7011e-02, -2.9220e-04],\n",
            "        [ 2.2837e-02, -4.9453e-02, -3.2915e-02,  1.2212e-01,  1.7179e-02,\n",
            "         -1.1840e-01, -4.3090e-02, -1.0034e-01, -5.7078e-02, -1.9016e-04],\n",
            "        [ 2.3142e-02, -4.8599e-02, -3.2806e-02,  1.2287e-01,  1.7450e-02,\n",
            "         -1.1805e-01, -4.3748e-02, -9.9750e-02, -5.6623e-02, -1.5103e-03],\n",
            "        [ 2.2810e-02, -4.9416e-02, -3.2988e-02,  1.2213e-01,  1.7284e-02,\n",
            "         -1.1834e-01, -4.3091e-02, -1.0031e-01, -5.7072e-02, -2.1944e-04],\n",
            "        [ 2.3359e-02, -4.8476e-02, -3.2723e-02,  1.2292e-01,  1.7446e-02,\n",
            "         -1.1800e-01, -4.3961e-02, -9.9885e-02, -5.6693e-02, -1.7325e-03],\n",
            "        [ 2.2822e-02, -4.9411e-02, -3.2972e-02,  1.2215e-01,  1.7286e-02,\n",
            "         -1.1836e-01, -4.3117e-02, -1.0029e-01, -5.7024e-02, -2.4186e-04],\n",
            "        [ 2.3352e-02, -4.8501e-02, -3.2688e-02,  1.2289e-01,  1.7399e-02,\n",
            "         -1.1808e-01, -4.3920e-02, -9.9887e-02, -5.6638e-02, -1.7415e-03],\n",
            "        [ 2.2381e-02, -5.0016e-02, -3.3129e-02,  1.2151e-01,  1.7216e-02,\n",
            "         -1.1856e-01, -4.2551e-02, -1.0071e-01, -5.7309e-02,  8.3985e-04],\n",
            "        [ 2.2696e-02, -4.9571e-02, -3.2982e-02,  1.2201e-01,  1.7245e-02,\n",
            "         -1.1843e-01, -4.2949e-02, -1.0037e-01, -5.7092e-02,  5.0411e-05],\n",
            "        [ 2.2800e-02, -4.9485e-02, -3.2942e-02,  1.2208e-01,  1.7275e-02,\n",
            "         -1.1841e-01, -4.3061e-02, -1.0034e-01, -5.7060e-02, -1.6030e-04],\n",
            "        [ 2.3443e-02, -4.8329e-02, -3.2612e-02,  1.2299e-01,  1.7450e-02,\n",
            "         -1.1801e-01, -4.4112e-02, -9.9875e-02, -5.6593e-02, -2.1077e-03],\n",
            "        [ 2.3254e-02, -4.8708e-02, -3.2800e-02,  1.2276e-01,  1.7410e-02,\n",
            "         -1.1805e-01, -4.3753e-02, -9.9935e-02, -5.6787e-02, -1.3940e-03],\n",
            "        [ 2.3675e-02, -4.7905e-02, -3.2594e-02,  1.2332e-01,  1.7442e-02,\n",
            "         -1.1779e-01, -4.4432e-02, -9.9642e-02, -5.6490e-02, -2.7093e-03],\n",
            "        [ 2.3109e-02, -4.9018e-02, -3.2847e-02,  1.2252e-01,  1.7313e-02,\n",
            "         -1.1817e-01, -4.3474e-02, -1.0007e-01, -5.6944e-02, -8.9293e-04],\n",
            "        [ 2.3221e-02, -4.8741e-02, -3.2791e-02,  1.2268e-01,  1.7406e-02,\n",
            "         -1.1809e-01, -4.3745e-02, -9.9990e-02, -5.6807e-02, -1.3047e-03]],\n",
            "       grad_fn=<AddmmBackward0>), tensor([[-0.1044, -0.0156],\n",
            "        [-0.1045, -0.0177],\n",
            "        [-0.1045, -0.0162],\n",
            "        [-0.1044, -0.0155],\n",
            "        [-0.1044, -0.0166],\n",
            "        [-0.1045, -0.0164],\n",
            "        [-0.1045, -0.0176],\n",
            "        [-0.1045, -0.0152],\n",
            "        [-0.1045, -0.0163],\n",
            "        [-0.1045, -0.0166],\n",
            "        [-0.1044, -0.0147],\n",
            "        [-0.1045, -0.0155],\n",
            "        [-0.1044, -0.0150],\n",
            "        [-0.1045, -0.0166],\n",
            "        [-0.1044, -0.0159],\n",
            "        [-0.1044, -0.0155],\n",
            "        [-0.1044, -0.0147],\n",
            "        [-0.1045, -0.0162],\n",
            "        [-0.1045, -0.0171],\n",
            "        [-0.1045, -0.0157],\n",
            "        [-0.1044, -0.0156],\n",
            "        [-0.1045, -0.0163],\n",
            "        [-0.1045, -0.0166],\n",
            "        [-0.1045, -0.0156],\n",
            "        [-0.1045, -0.0159],\n",
            "        [-0.1044, -0.0150],\n",
            "        [-0.1045, -0.0158],\n",
            "        [-0.1045, -0.0159],\n",
            "        [-0.1045, -0.0164],\n",
            "        [-0.1045, -0.0167],\n",
            "        [-0.1045, -0.0155],\n",
            "        [-0.1045, -0.0170],\n",
            "        [-0.1045, -0.0160],\n",
            "        [-0.1045, -0.0168],\n",
            "        [-0.1045, -0.0158],\n",
            "        [-0.1044, -0.0150],\n",
            "        [-0.1044, -0.0155],\n",
            "        [-0.1045, -0.0161],\n",
            "        [-0.1044, -0.0154],\n",
            "        [-0.1045, -0.0175],\n",
            "        [-0.1045, -0.0170],\n",
            "        [-0.1045, -0.0174],\n",
            "        [-0.1045, -0.0174],\n",
            "        [-0.1045, -0.0166],\n",
            "        [-0.1044, -0.0161],\n",
            "        [-0.1045, -0.0172],\n",
            "        [-0.1044, -0.0156],\n",
            "        [-0.1044, -0.0150],\n",
            "        [-0.1045, -0.0157],\n",
            "        [-0.1044, -0.0156],\n",
            "        [-0.1044, -0.0155],\n",
            "        [-0.1046, -0.0164],\n",
            "        [-0.1045, -0.0155],\n",
            "        [-0.1045, -0.0165],\n",
            "        [-0.1044, -0.0155],\n",
            "        [-0.1044, -0.0165],\n",
            "        [-0.1044, -0.0148],\n",
            "        [-0.1045, -0.0153],\n",
            "        [-0.1045, -0.0154],\n",
            "        [-0.1045, -0.0167],\n",
            "        [-0.1044, -0.0163],\n",
            "        [-0.1045, -0.0170],\n",
            "        [-0.1044, -0.0159],\n",
            "        [-0.1045, -0.0162]], grad_fn=<AddmmBackward0>), tensor([[ 0.0717,  0.0103, -0.1393,  0.0549,  0.0820],\n",
            "        [ 0.0754,  0.0110, -0.1401,  0.0554,  0.0826],\n",
            "        [ 0.0726,  0.0103, -0.1393,  0.0551,  0.0820],\n",
            "        [ 0.0714,  0.0103, -0.1393,  0.0549,  0.0819],\n",
            "        [ 0.0735,  0.0105, -0.1394,  0.0552,  0.0822],\n",
            "        [ 0.0728,  0.0103, -0.1394,  0.0551,  0.0821],\n",
            "        [ 0.0752,  0.0109, -0.1400,  0.0553,  0.0825],\n",
            "        [ 0.0709,  0.0102, -0.1392,  0.0548,  0.0818],\n",
            "        [ 0.0727,  0.0103, -0.1394,  0.0551,  0.0821],\n",
            "        [ 0.0732,  0.0104, -0.1394,  0.0551,  0.0822],\n",
            "        [ 0.0701,  0.0102, -0.1392,  0.0547,  0.0818],\n",
            "        [ 0.0714,  0.0102, -0.1392,  0.0549,  0.0819],\n",
            "        [ 0.0706,  0.0102, -0.1392,  0.0548,  0.0818],\n",
            "        [ 0.0732,  0.0104, -0.1394,  0.0552,  0.0822],\n",
            "        [ 0.0720,  0.0103, -0.1393,  0.0550,  0.0820],\n",
            "        [ 0.0714,  0.0102, -0.1392,  0.0549,  0.0820],\n",
            "        [ 0.0701,  0.0102, -0.1392,  0.0547,  0.0818],\n",
            "        [ 0.0725,  0.0103, -0.1394,  0.0550,  0.0820],\n",
            "        [ 0.0740,  0.0105, -0.1396,  0.0552,  0.0824],\n",
            "        [ 0.0718,  0.0103, -0.1393,  0.0549,  0.0820],\n",
            "        [ 0.0717,  0.0103, -0.1393,  0.0549,  0.0820],\n",
            "        [ 0.0727,  0.0104, -0.1394,  0.0551,  0.0821],\n",
            "        [ 0.0734,  0.0104, -0.1394,  0.0552,  0.0822],\n",
            "        [ 0.0716,  0.0103, -0.1393,  0.0549,  0.0819],\n",
            "        [ 0.0719,  0.0103, -0.1393,  0.0550,  0.0820],\n",
            "        [ 0.0706,  0.0102, -0.1392,  0.0548,  0.0818],\n",
            "        [ 0.0719,  0.0103, -0.1393,  0.0550,  0.0820],\n",
            "        [ 0.0721,  0.0103, -0.1393,  0.0551,  0.0819],\n",
            "        [ 0.0729,  0.0104, -0.1394,  0.0551,  0.0821],\n",
            "        [ 0.0734,  0.0105, -0.1395,  0.0552,  0.0822],\n",
            "        [ 0.0714,  0.0103, -0.1393,  0.0549,  0.0819],\n",
            "        [ 0.0739,  0.0105, -0.1395,  0.0552,  0.0823],\n",
            "        [ 0.0723,  0.0103, -0.1393,  0.0550,  0.0820],\n",
            "        [ 0.0735,  0.0104, -0.1395,  0.0552,  0.0822],\n",
            "        [ 0.0718,  0.0102, -0.1393,  0.0550,  0.0820],\n",
            "        [ 0.0707,  0.0102, -0.1392,  0.0548,  0.0818],\n",
            "        [ 0.0714,  0.0103, -0.1392,  0.0549,  0.0820],\n",
            "        [ 0.0724,  0.0104, -0.1394,  0.0551,  0.0820],\n",
            "        [ 0.0714,  0.0103, -0.1393,  0.0549,  0.0819],\n",
            "        [ 0.0749,  0.0108, -0.1399,  0.0553,  0.0825],\n",
            "        [ 0.0739,  0.0106, -0.1396,  0.0553,  0.0822],\n",
            "        [ 0.0750,  0.0109, -0.1399,  0.0553,  0.0825],\n",
            "        [ 0.0746,  0.0107, -0.1398,  0.0552,  0.0825],\n",
            "        [ 0.0731,  0.0104, -0.1394,  0.0551,  0.0822],\n",
            "        [ 0.0722,  0.0103, -0.1394,  0.0550,  0.0819],\n",
            "        [ 0.0744,  0.0107, -0.1397,  0.0553,  0.0823],\n",
            "        [ 0.0715,  0.0102, -0.1393,  0.0549,  0.0819],\n",
            "        [ 0.0707,  0.0102, -0.1392,  0.0548,  0.0818],\n",
            "        [ 0.0717,  0.0103, -0.1393,  0.0550,  0.0819],\n",
            "        [ 0.0715,  0.0103, -0.1393,  0.0549,  0.0819],\n",
            "        [ 0.0714,  0.0102, -0.1393,  0.0549,  0.0820],\n",
            "        [ 0.0729,  0.0104, -0.1394,  0.0550,  0.0820],\n",
            "        [ 0.0715,  0.0102, -0.1392,  0.0549,  0.0820],\n",
            "        [ 0.0730,  0.0104, -0.1394,  0.0551,  0.0821],\n",
            "        [ 0.0714,  0.0103, -0.1393,  0.0549,  0.0819],\n",
            "        [ 0.0731,  0.0104, -0.1394,  0.0551,  0.0821],\n",
            "        [ 0.0703,  0.0102, -0.1392,  0.0548,  0.0817],\n",
            "        [ 0.0711,  0.0102, -0.1393,  0.0549,  0.0819],\n",
            "        [ 0.0713,  0.0103, -0.1393,  0.0549,  0.0819],\n",
            "        [ 0.0734,  0.0105, -0.1394,  0.0552,  0.0821],\n",
            "        [ 0.0727,  0.0103, -0.1393,  0.0551,  0.0821],\n",
            "        [ 0.0740,  0.0105, -0.1396,  0.0552,  0.0824],\n",
            "        [ 0.0721,  0.0103, -0.1393,  0.0550,  0.0820],\n",
            "        [ 0.0726,  0.0103, -0.1393,  0.0551,  0.0821]],\n",
            "       grad_fn=<AddmmBackward0>))\n"
          ]
        },
        {
          "output_type": "stream",
          "name": "stderr",
          "text": [
            "\n"
          ]
        },
        {
          "output_type": "error",
          "ename": "IndexError",
          "evalue": "ignored",
          "traceback": [
            "\u001b[0;31m---------------------------------------------------------------------------\u001b[0m",
            "\u001b[0;31mIndexError\u001b[0m                                Traceback (most recent call last)",
            "\u001b[0;32m<ipython-input-92-cc1fc0fd903c>\u001b[0m in \u001b[0;36m<module>\u001b[0;34m\u001b[0m\n\u001b[1;32m     39\u001b[0m     \u001b[0mpred\u001b[0m \u001b[0;34m=\u001b[0m \u001b[0mmodel\u001b[0m\u001b[0;34m(\u001b[0m\u001b[0mX\u001b[0m\u001b[0;34m)\u001b[0m \u001b[0;31m# Forward pass\u001b[0m\u001b[0;34m\u001b[0m\u001b[0;34m\u001b[0m\u001b[0m\n\u001b[1;32m     40\u001b[0m     \u001b[0mprint\u001b[0m\u001b[0;34m(\u001b[0m\u001b[0mpred\u001b[0m\u001b[0;34m)\u001b[0m\u001b[0;34m\u001b[0m\u001b[0;34m\u001b[0m\u001b[0m\n\u001b[0;32m---> 41\u001b[0;31m     \u001b[0mloss\u001b[0m \u001b[0;34m=\u001b[0m \u001b[0mage_loss\u001b[0m\u001b[0;34m(\u001b[0m\u001b[0mpred\u001b[0m\u001b[0;34m[\u001b[0m\u001b[0;36m0\u001b[0m\u001b[0;34m]\u001b[0m\u001b[0;34m,\u001b[0m\u001b[0mage\u001b[0m\u001b[0;34m.\u001b[0m\u001b[0mlong\u001b[0m\u001b[0;34m(\u001b[0m\u001b[0;34m)\u001b[0m\u001b[0;34m)\u001b[0m \u001b[0;34m+\u001b[0m \u001b[0mgen_loss\u001b[0m\u001b[0;34m(\u001b[0m\u001b[0mpred\u001b[0m\u001b[0;34m[\u001b[0m\u001b[0;36m1\u001b[0m\u001b[0;34m]\u001b[0m\u001b[0;34m,\u001b[0m\u001b[0mgen\u001b[0m\u001b[0;34m.\u001b[0m\u001b[0mlong\u001b[0m\u001b[0;34m(\u001b[0m\u001b[0;34m)\u001b[0m\u001b[0;34m)\u001b[0m \u001b[0;34m+\u001b[0m \u001b[0meth_loss\u001b[0m\u001b[0;34m(\u001b[0m\u001b[0mpred\u001b[0m\u001b[0;34m[\u001b[0m\u001b[0;36m2\u001b[0m\u001b[0;34m]\u001b[0m\u001b[0;34m,\u001b[0m\u001b[0meth\u001b[0m\u001b[0;34m.\u001b[0m\u001b[0mlong\u001b[0m\u001b[0;34m(\u001b[0m\u001b[0;34m)\u001b[0m\u001b[0;34m)\u001b[0m   \u001b[0;31m# Loss calculation\u001b[0m\u001b[0;34m\u001b[0m\u001b[0;34m\u001b[0m\u001b[0m\n\u001b[0m\u001b[1;32m     42\u001b[0m \u001b[0;34m\u001b[0m\u001b[0m\n\u001b[1;32m     43\u001b[0m     \u001b[0;31m# Backpropagation\u001b[0m\u001b[0;34m\u001b[0m\u001b[0;34m\u001b[0m\u001b[0;34m\u001b[0m\u001b[0m\n",
            "\u001b[0;32m/usr/local/lib/python3.8/dist-packages/torch/nn/modules/module.py\u001b[0m in \u001b[0;36m_call_impl\u001b[0;34m(self, *input, **kwargs)\u001b[0m\n\u001b[1;32m   1188\u001b[0m         if not (self._backward_hooks or self._forward_hooks or self._forward_pre_hooks or _global_backward_hooks\n\u001b[1;32m   1189\u001b[0m                 or _global_forward_hooks or _global_forward_pre_hooks):\n\u001b[0;32m-> 1190\u001b[0;31m             \u001b[0;32mreturn\u001b[0m \u001b[0mforward_call\u001b[0m\u001b[0;34m(\u001b[0m\u001b[0;34m*\u001b[0m\u001b[0minput\u001b[0m\u001b[0;34m,\u001b[0m \u001b[0;34m**\u001b[0m\u001b[0mkwargs\u001b[0m\u001b[0;34m)\u001b[0m\u001b[0;34m\u001b[0m\u001b[0;34m\u001b[0m\u001b[0m\n\u001b[0m\u001b[1;32m   1191\u001b[0m         \u001b[0;31m# Do not call functions when jit is used\u001b[0m\u001b[0;34m\u001b[0m\u001b[0;34m\u001b[0m\u001b[0;34m\u001b[0m\u001b[0m\n\u001b[1;32m   1192\u001b[0m         \u001b[0mfull_backward_hooks\u001b[0m\u001b[0;34m,\u001b[0m \u001b[0mnon_full_backward_hooks\u001b[0m \u001b[0;34m=\u001b[0m \u001b[0;34m[\u001b[0m\u001b[0;34m]\u001b[0m\u001b[0;34m,\u001b[0m \u001b[0;34m[\u001b[0m\u001b[0;34m]\u001b[0m\u001b[0;34m\u001b[0m\u001b[0;34m\u001b[0m\u001b[0m\n",
            "\u001b[0;32m/usr/local/lib/python3.8/dist-packages/torch/nn/modules/loss.py\u001b[0m in \u001b[0;36mforward\u001b[0;34m(self, input, target)\u001b[0m\n\u001b[1;32m   1172\u001b[0m \u001b[0;34m\u001b[0m\u001b[0m\n\u001b[1;32m   1173\u001b[0m     \u001b[0;32mdef\u001b[0m \u001b[0mforward\u001b[0m\u001b[0;34m(\u001b[0m\u001b[0mself\u001b[0m\u001b[0;34m,\u001b[0m \u001b[0minput\u001b[0m\u001b[0;34m:\u001b[0m \u001b[0mTensor\u001b[0m\u001b[0;34m,\u001b[0m \u001b[0mtarget\u001b[0m\u001b[0;34m:\u001b[0m \u001b[0mTensor\u001b[0m\u001b[0;34m)\u001b[0m \u001b[0;34m->\u001b[0m \u001b[0mTensor\u001b[0m\u001b[0;34m:\u001b[0m\u001b[0;34m\u001b[0m\u001b[0;34m\u001b[0m\u001b[0m\n\u001b[0;32m-> 1174\u001b[0;31m         return F.cross_entropy(input, target, weight=self.weight,\n\u001b[0m\u001b[1;32m   1175\u001b[0m                                \u001b[0mignore_index\u001b[0m\u001b[0;34m=\u001b[0m\u001b[0mself\u001b[0m\u001b[0;34m.\u001b[0m\u001b[0mignore_index\u001b[0m\u001b[0;34m,\u001b[0m \u001b[0mreduction\u001b[0m\u001b[0;34m=\u001b[0m\u001b[0mself\u001b[0m\u001b[0;34m.\u001b[0m\u001b[0mreduction\u001b[0m\u001b[0;34m,\u001b[0m\u001b[0;34m\u001b[0m\u001b[0;34m\u001b[0m\u001b[0m\n\u001b[1;32m   1176\u001b[0m                                label_smoothing=self.label_smoothing)\n",
            "\u001b[0;32m/usr/local/lib/python3.8/dist-packages/torch/nn/functional.py\u001b[0m in \u001b[0;36mcross_entropy\u001b[0;34m(input, target, weight, size_average, ignore_index, reduce, reduction, label_smoothing)\u001b[0m\n\u001b[1;32m   3024\u001b[0m     \u001b[0;32mif\u001b[0m \u001b[0msize_average\u001b[0m \u001b[0;32mis\u001b[0m \u001b[0;32mnot\u001b[0m \u001b[0;32mNone\u001b[0m \u001b[0;32mor\u001b[0m \u001b[0mreduce\u001b[0m \u001b[0;32mis\u001b[0m \u001b[0;32mnot\u001b[0m \u001b[0;32mNone\u001b[0m\u001b[0;34m:\u001b[0m\u001b[0;34m\u001b[0m\u001b[0;34m\u001b[0m\u001b[0m\n\u001b[1;32m   3025\u001b[0m         \u001b[0mreduction\u001b[0m \u001b[0;34m=\u001b[0m \u001b[0m_Reduction\u001b[0m\u001b[0;34m.\u001b[0m\u001b[0mlegacy_get_string\u001b[0m\u001b[0;34m(\u001b[0m\u001b[0msize_average\u001b[0m\u001b[0;34m,\u001b[0m \u001b[0mreduce\u001b[0m\u001b[0;34m)\u001b[0m\u001b[0;34m\u001b[0m\u001b[0;34m\u001b[0m\u001b[0m\n\u001b[0;32m-> 3026\u001b[0;31m     \u001b[0;32mreturn\u001b[0m \u001b[0mtorch\u001b[0m\u001b[0;34m.\u001b[0m\u001b[0m_C\u001b[0m\u001b[0;34m.\u001b[0m\u001b[0m_nn\u001b[0m\u001b[0;34m.\u001b[0m\u001b[0mcross_entropy_loss\u001b[0m\u001b[0;34m(\u001b[0m\u001b[0minput\u001b[0m\u001b[0;34m,\u001b[0m \u001b[0mtarget\u001b[0m\u001b[0;34m,\u001b[0m \u001b[0mweight\u001b[0m\u001b[0;34m,\u001b[0m \u001b[0m_Reduction\u001b[0m\u001b[0;34m.\u001b[0m\u001b[0mget_enum\u001b[0m\u001b[0;34m(\u001b[0m\u001b[0mreduction\u001b[0m\u001b[0;34m)\u001b[0m\u001b[0;34m,\u001b[0m \u001b[0mignore_index\u001b[0m\u001b[0;34m,\u001b[0m \u001b[0mlabel_smoothing\u001b[0m\u001b[0;34m)\u001b[0m\u001b[0;34m\u001b[0m\u001b[0;34m\u001b[0m\u001b[0m\n\u001b[0m\u001b[1;32m   3027\u001b[0m \u001b[0;34m\u001b[0m\u001b[0m\n\u001b[1;32m   3028\u001b[0m \u001b[0;34m\u001b[0m\u001b[0m\n",
            "\u001b[0;31mIndexError\u001b[0m: Target -9223372036854775808 is out of bounds."
          ]
        }
      ]
    },
    {
      "cell_type": "markdown",
      "source": [
        "# func from CV_HOME  "
      ],
      "metadata": {
        "id": "Pd5RjLVFUqEp"
      }
    },
    {
      "cell_type": "code",
      "source": [
        "from torch.utils.data.sampler import SubsetRandomSampler\n",
        "\n",
        "# number of subprocesses to use for data loading\n",
        "num_workers = 0\n",
        "# how many samples per batch to load\n",
        "batch_size = 20\n",
        "# percentage of training set to use as validation\n",
        "valid_size = 0.2\n",
        "\n",
        "# convert data to a normalized torch.FloatTensor\n",
        "transform = transforms.Compose([\n",
        "    transforms.ToTensor(),\n",
        "    transforms.Normalize((0.5, 0.5, 0.5), (0.5, 0.5, 0.5))\n",
        "    ])\n",
        "\n",
        "# choose the training and test datasets\n",
        "train_dataset = datasets.CIFAR10('data', train=True,\n",
        "                              download=True, transform=transform)\n",
        "test_dataset = datasets.CIFAR10('data', train=False,\n",
        "                             download=True, transform=transform)\n",
        "# obtain training indices that will be used for validation\n",
        "num_train = len(train_dataset)\n",
        "indices = list(range(num_train))\n",
        "np.random.shuffle(indices)\n",
        "split = int(np.floor(valid_size * num_train))\n",
        "train_idx, valid_idx  \n",
        "\n",
        "# define samplers for obtaining training and validation batches\n",
        "train_sampler = SubsetRandomSampler(train_idx)\n",
        "valid_sampler = SubsetRandomSampler(valid_idx)\n",
        "\n",
        "# prepare data loaders (combine dataset and sampler)\n",
        "train_batch_gen = torch.utils.data.DataLoader(train_dataset , batch_size = batch_size,\n",
        "    sampler=train_sampler, num_workers=num_workers)\n",
        "val_batch_gen = torch.utils.data.DataLoader(train_dataset , batch_size = batch_size, \n",
        "    sampler=valid_sampler, num_workers=num_workers)\n",
        "test_batch_gen = torch.utils.data.DataLoader(test_dataset, batch_size=batch_size, \n",
        "    num_workers=num_workers)\n",
        "\n",
        "# specify the image classes\n",
        "classes = ['airplane', 'automobile', 'bird', 'cat', 'deer',\n",
        "           'dog', 'frog', 'horse', 'ship', 'truck']"
      ],
      "metadata": {
        "id": "d_mrnUB6sfUk"
      },
      "execution_count": null,
      "outputs": []
    },
    {
      "cell_type": "code",
      "source": [],
      "metadata": {
        "id": "FADwns5SSw_m"
      },
      "execution_count": null,
      "outputs": []
    },
    {
      "cell_type": "code",
      "source": [],
      "metadata": {
        "id": "UvT9DTgWxiSs"
      },
      "execution_count": null,
      "outputs": []
    },
    {
      "cell_type": "code",
      "source": [],
      "metadata": {
        "id": "Op9hsD7TxirR"
      },
      "execution_count": null,
      "outputs": []
    },
    {
      "cell_type": "code",
      "source": [],
      "metadata": {
        "id": "P5S__jh0xiuH"
      },
      "execution_count": null,
      "outputs": []
    },
    {
      "cell_type": "code",
      "source": [],
      "metadata": {
        "id": "q7zM_CRRxiPU"
      },
      "execution_count": null,
      "outputs": []
    },
    {
      "cell_type": "code",
      "source": [],
      "metadata": {
        "id": "K4W2CnTDxiCk"
      },
      "execution_count": null,
      "outputs": []
    },
    {
      "cell_type": "code",
      "source": [],
      "metadata": {
        "id": "TAyLdfrhniK9"
      },
      "execution_count": null,
      "outputs": []
    },
    {
      "cell_type": "code",
      "source": [],
      "metadata": {
        "id": "f7uup38bnhiv"
      },
      "execution_count": null,
      "outputs": []
    },
    {
      "cell_type": "code",
      "source": [
        "x = []\n",
        "y = []\n",
        "\n",
        "for i in range(len(df)):\n",
        "    df['Images'].iloc[i] = df['Images'].iloc[i].resize((200,200), Image.ANTIALIAS)\n",
        "    ar = np.asarray(df['Images'].iloc[i])\n",
        "    x.append(ar)\n",
        "    agegen = [int(df['Ages'].iloc[i]), int(df['Genders'].iloc[i])]\n",
        "    y.append(agegen)\n",
        "x = np.array(x)"
      ],
      "metadata": {
        "execution": {
          "iopub.status.busy": "2022-12-20T12:13:05.028448Z",
          "iopub.status.idle": "2022-12-20T12:13:05.029210Z",
          "shell.execute_reply.started": "2022-12-20T12:13:05.028943Z",
          "shell.execute_reply": "2022-12-20T12:13:05.028970Z"
        },
        "trusted": true,
        "id": "DcaGuyavd7Va",
        "colab": {
          "base_uri": "https://localhost:8080/"
        },
        "outputId": "2f0f9c20-1d41-406f-e3df-1a292a50914e"
      },
      "execution_count": null,
      "outputs": [
        {
          "output_type": "stream",
          "name": "stderr",
          "text": [
            "/usr/local/lib/python3.8/dist-packages/pandas/core/indexing.py:1732: SettingWithCopyWarning: \n",
            "A value is trying to be set on a copy of a slice from a DataFrame\n",
            "\n",
            "See the caveats in the documentation: https://pandas.pydata.org/pandas-docs/stable/user_guide/indexing.html#returning-a-view-versus-a-copy\n",
            "  self._setitem_single_block(indexer, value, name)\n"
          ]
        }
      ]
    },
    {
      "cell_type": "code",
      "source": [],
      "metadata": {
        "id": "H57B2xgacJtJ"
      },
      "execution_count": null,
      "outputs": []
    },
    {
      "cell_type": "markdown",
      "source": [
        "# 4. Train Test Split"
      ],
      "metadata": {
        "id": "2yvKEzJnd7Va"
      }
    },
    {
      "cell_type": "code",
      "source": [],
      "metadata": {
        "id": "yevFJll_a4X5"
      },
      "execution_count": null,
      "outputs": []
    },
    {
      "cell_type": "code",
      "source": [],
      "metadata": {
        "id": "pM5T8-gXa4kH"
      },
      "execution_count": null,
      "outputs": []
    },
    {
      "cell_type": "code",
      "source": [],
      "metadata": {
        "id": "_xpZ-Wzma4nA"
      },
      "execution_count": null,
      "outputs": []
    },
    {
      "cell_type": "code",
      "source": [
        "y_age = df['Ages']\n",
        "y_gender = df['Genders']\n",
        "y_races = df['Race']\n",
        "\n",
        "x_train_age, x_test_age, y_train_age, y_test_age = train_test_split(x, y_age, test_size=0.2, stratify=y_age)\n",
        "x_train_gender, x_test_gender, y_train_gender, y_test_gender = train_test_split(x, y_gender, test_size=0.2, stratify=y_gender)\n",
        "x_train_race, x_test_race, y_train_race, y_test_race = train_test_split(x, y_race, test_size=0.2, stratify=y_race)"
      ],
      "metadata": {
        "execution": {
          "iopub.status.busy": "2022-12-20T12:13:05.030524Z",
          "iopub.status.idle": "2022-12-20T12:13:05.031294Z",
          "shell.execute_reply.started": "2022-12-20T12:13:05.031022Z",
          "shell.execute_reply": "2022-12-20T12:13:05.031048Z"
        },
        "trusted": true,
        "id": "XtBhQZqEd7Vb"
      },
      "execution_count": null,
      "outputs": []
    },
    {
      "cell_type": "markdown",
      "source": [
        "# 5. Creating the Models"
      ],
      "metadata": {
        "id": "siVsRG_Yd7Vb"
      }
    },
    {
      "cell_type": "markdown",
      "source": [
        "I will create two individual models - one to predict age and one to predict gender. The age model should be capable of returning continuous values which I will round to the nearest integer, and the gender model should return a binary result."
      ],
      "metadata": {
        "id": "Jhg-Ld-Ud7Vb"
      }
    },
    {
      "cell_type": "code",
      "source": [
        "learning_rate = 0.0001"
      ],
      "metadata": {
        "execution": {
          "iopub.status.busy": "2022-12-20T12:13:05.032928Z",
          "iopub.status.idle": "2022-12-20T12:13:05.034002Z",
          "shell.execute_reply.started": "2022-12-20T12:13:05.033488Z",
          "shell.execute_reply": "2022-12-20T12:13:05.033718Z"
        },
        "trusted": true,
        "id": "zOXXHFokd7Vb"
      },
      "execution_count": null,
      "outputs": []
    },
    {
      "cell_type": "code",
      "source": [
        "class Agemodel(nn.Module):\n",
        "   \n",
        "    def __init__(self):\n",
        "        \n",
        "        super(Agemodel, self).__init__()\n",
        "\n",
        "        self.conv_layer = nn.Sequential(\n",
        "\n",
        "            # Conv Layer block 1\n",
        "            nn.Conv2d(in_channels=3, out_channels=32, kernel_size=3, padding=1),\n",
        "            nn.BatchNorm2d(32),\n",
        "            nn.ReLU(inplace=True),\n",
        "            nn.Conv2d(in_channels=32, out_channels=64, kernel_size=3, padding=1),\n",
        "            nn.ReLU(inplace=True),\n",
        "            nn.MaxPool2d(kernel_size=2, stride=2),\n",
        "\n",
        "            # Conv Layer block 2\n",
        "            nn.Conv2d(in_channels=64, out_channels=128, kernel_size=3, padding=1),\n",
        "            nn.BatchNorm2d(128),\n",
        "            nn.ReLU(inplace=True),\n",
        "            nn.Conv2d(in_channels=128, out_channels=128, kernel_size=3, padding=1),\n",
        "            nn.ReLU(inplace=True),\n",
        "            nn.MaxPool2d(kernel_size=2, stride=2),\n",
        "            nn.Dropout2d(p=0.1),\n",
        "\n",
        "            # Conv Layer block 3\n",
        "            nn.Conv2d(in_channels=128, out_channels=256, kernel_size=3, padding=1),\n",
        "            nn.BatchNorm2d(256),\n",
        "            nn.ReLU(inplace=True),\n",
        "            nn.Conv2d(in_channels=256, out_channels=256, kernel_size=3, padding=1),\n",
        "            nn.ReLU(inplace=True),\n",
        "            nn.MaxPool2d(kernel_size=2, stride=2),\n",
        "        )\n",
        "\n",
        "\n",
        "        self.fc_layer = nn.Sequential(\n",
        "            nn.Dropout(p=0.05),\n",
        "            nn.Linear(4096, 1024),\n",
        "            nn.ReLU(inplace=True),\n",
        "            nn.Linear(1024, 512),\n",
        "            nn.ReLU(inplace=True),\n",
        "            nn.Dropout(p=0.05),\n",
        "            nn.Linear(512, 10)\n",
        "        )\n",
        "\n",
        "\n",
        "    def forward(self, x):\n",
        "        \"\"\"Perform forward.\"\"\"\n",
        "        \n",
        "        # conv layers\n",
        "        x = self.conv_layer(x)\n",
        "        \n",
        "        # flatten\n",
        "        x = x.view(x.size(0), -1)\n",
        "        \n",
        "        # fc layer\n",
        "        x = self.fc_layer(x)\n",
        "\n",
        "        return x"
      ],
      "metadata": {
        "id": "KruZSNNzweTe"
      },
      "execution_count": null,
      "outputs": []
    },
    {
      "cell_type": "code",
      "source": [
        "tf.compat.v1.debugging.set_log_device_placement(True)\n",
        "print(tf.config.list_physical_devices('GPU'))"
      ],
      "metadata": {
        "colab": {
          "base_uri": "https://localhost:8080/"
        },
        "id": "Mi9jZDrD1X4a",
        "outputId": "771f5836-14df-4862-fb7b-77016f049cd9"
      },
      "execution_count": null,
      "outputs": [
        {
          "output_type": "stream",
          "name": "stdout",
          "text": [
            "[PhysicalDevice(name='/physical_device:GPU:0', device_type='GPU')]\n",
            "time: 793 ms (started: 2022-12-20 20:26:29 +00:00)\n"
          ]
        }
      ]
    },
    {
      "cell_type": "code",
      "source": [
        "tf.config.list_physical_devices('GPU')"
      ],
      "metadata": {
        "colab": {
          "base_uri": "https://localhost:8080/"
        },
        "id": "HzhaOn7W1n2j",
        "outputId": "0a938336-7a04-454d-c6ba-9ff0837cf907"
      },
      "execution_count": null,
      "outputs": [
        {
          "output_type": "execute_result",
          "data": {
            "text/plain": [
              "[PhysicalDevice(name='/physical_device:GPU:0', device_type='GPU')]"
            ]
          },
          "metadata": {},
          "execution_count": 28
        },
        {
          "output_type": "stream",
          "name": "stdout",
          "text": [
            "time: 3.23 ms (started: 2022-12-20 20:26:33 +00:00)\n"
          ]
        }
      ]
    },
    {
      "cell_type": "code",
      "source": [
        "with tf.device(\"/GPU:0\"):\n",
        "    agemodel = Sequential()\n",
        "    agemodel.add(Conv2D(32, (3,3), activation='relu', input_shape=(200, 200, 3)))\n",
        "    agemodel.add(MaxPooling2D((2,2)))\n",
        "    agemodel.add(Conv2D(64, (3,3), activation='relu'))\n",
        "    agemodel.add(MaxPooling2D((2,2)))\n",
        "    agemodel.add(Conv2D(128, (3,3), activation='relu'))\n",
        "    agemodel.add(MaxPooling2D((2,2)))\n",
        "    agemodel.add(Flatten())\n",
        "    agemodel.add(Dense(64, activation='relu'))\n",
        "    agemodel.add(Dropout(0.5))\n",
        "    agemodel.add(Dense(1, activation='relu'))\n",
        "\n",
        "    agemodel.compile(loss='mean_squared_error',\n",
        "                optimizer=tf.keras.optimizers.Adam(learning_rate))\n",
        "\n",
        "    genmodel = Sequential()\n",
        "    genmodel.add(Conv2D(32, (3,3), activation='relu', input_shape=(200, 200, 3)))\n",
        "    genmodel.add(MaxPooling2D((2,2)))\n",
        "    genmodel.add(Conv2D(64, (3,3), activation='relu'))\n",
        "    genmodel.add(MaxPooling2D((2,2)))\n",
        "    genmodel.add(Conv2D(128, (3,3), activation='relu'))\n",
        "    genmodel.add(MaxPooling2D((2,2)))\n",
        "    genmodel.add(Flatten())\n",
        "    genmodel.add(Dense(64, activation='relu'))\n",
        "    genmodel.add(Dropout(0.5))\n",
        "    genmodel.add(Dense(1, activation='sigmoid'))\n",
        "\n",
        "    genmodel.compile(loss='binary_crossentropy',\n",
        "                optimizer=tf.keras.optimizers.Adam(learning_rate),\n",
        "                metrics=['accuracy'])"
      ],
      "metadata": {
        "execution": {
          "iopub.status.busy": "2022-12-20T12:13:05.035463Z",
          "iopub.status.idle": "2022-12-20T12:13:05.036223Z",
          "shell.execute_reply.started": "2022-12-20T12:13:05.035961Z",
          "shell.execute_reply": "2022-12-20T12:13:05.035987Z"
        },
        "trusted": true,
        "id": "sZL5Ir3Md7Vc"
      },
      "execution_count": null,
      "outputs": []
    },
    {
      "cell_type": "markdown",
      "source": [
        "# 6. Training the Models"
      ],
      "metadata": {
        "id": "WeSfV0c0d7Vc"
      }
    },
    {
      "cell_type": "code",
      "source": [
        "with tf.device(\"/GPU:0\"):\n",
        "\n",
        "    datagen = ImageDataGenerator(\n",
        "          rescale=1./255., width_shift_range = 0.1, height_shift_range = 0.1, horizontal_flip = True)\n",
        "\n",
        "    test_datagen = ImageDataGenerator(rescale=1./255)\n",
        "\n",
        "    train1 = datagen.flow(x_train_age, y_train_age, batch_size=32)\n",
        "\n",
        "    test1 = test_datagen.flow(\n",
        "            x_test_age, y_test_age,\n",
        "            batch_size=32)\n",
        "\n",
        "    history1 = agemodel.fit(train1, epochs=50, shuffle=True, validation_data=test1)"
      ],
      "metadata": {
        "execution": {
          "iopub.status.busy": "2022-12-20T12:13:05.037926Z",
          "iopub.status.idle": "2022-12-20T12:13:05.038796Z",
          "shell.execute_reply.started": "2022-12-20T12:13:05.038397Z",
          "shell.execute_reply": "2022-12-20T12:13:05.038422Z"
        },
        "trusted": true,
        "id": "Gv7ZxgXQd7Vc",
        "colab": {
          "base_uri": "https://localhost:8080/",
          "height": 235
        },
        "outputId": "21e02629-ce96-4811-d6ee-8b27f1a560fa"
      },
      "execution_count": null,
      "outputs": [
        {
          "output_type": "error",
          "ename": "NameError",
          "evalue": "ignored",
          "traceback": [
            "\u001b[0;31m---------------------------------------------------------------------------\u001b[0m",
            "\u001b[0;31mNameError\u001b[0m                                 Traceback (most recent call last)",
            "\u001b[0;32m<ipython-input-1-4d8647c55387>\u001b[0m in \u001b[0;36m<module>\u001b[0;34m\u001b[0m\n\u001b[0;32m----> 1\u001b[0;31m \u001b[0;32mwith\u001b[0m \u001b[0mtf\u001b[0m\u001b[0;34m.\u001b[0m\u001b[0mdevice\u001b[0m\u001b[0;34m(\u001b[0m\u001b[0;34m\"/GPU:0\"\u001b[0m\u001b[0;34m)\u001b[0m\u001b[0;34m:\u001b[0m\u001b[0;34m\u001b[0m\u001b[0;34m\u001b[0m\u001b[0m\n\u001b[0m\u001b[1;32m      2\u001b[0m \u001b[0;34m\u001b[0m\u001b[0m\n\u001b[1;32m      3\u001b[0m     datagen = ImageDataGenerator(\n\u001b[1;32m      4\u001b[0m           rescale=1./255., width_shift_range = 0.1, height_shift_range = 0.1, horizontal_flip = True)\n\u001b[1;32m      5\u001b[0m \u001b[0;34m\u001b[0m\u001b[0m\n",
            "\u001b[0;31mNameError\u001b[0m: name 'tf' is not defined"
          ]
        }
      ]
    },
    {
      "cell_type": "code",
      "source": [],
      "metadata": {
        "id": "nKhpT6wcd7Vc"
      },
      "execution_count": null,
      "outputs": []
    },
    {
      "cell_type": "code",
      "source": [
        "# path = \"/kaggle/input/utkface-new/UTKFace/\"\n",
        "# files = os.listdir(path)\n",
        "# size = len(files)\n",
        "# print(\"Total samples:\",size)\n",
        "# print(files[0])"
      ],
      "metadata": {
        "execution": {
          "iopub.status.busy": "2022-12-20T12:13:05.040304Z",
          "iopub.status.idle": "2022-12-20T12:13:05.041076Z",
          "shell.execute_reply.started": "2022-12-20T12:13:05.040790Z",
          "shell.execute_reply": "2022-12-20T12:13:05.040815Z"
        },
        "trusted": true,
        "id": "rUKwAKCVd7Vc"
      },
      "execution_count": null,
      "outputs": []
    },
    {
      "cell_type": "code",
      "source": [
        "# import cv2\n",
        "# images = []\n",
        "# ages = []\n",
        "# genders = []\n",
        "# for file in files:\n",
        "#     image = cv2.imread(path+file,0)\n",
        "#     image = cv2.resize(image,dsize=(64,64))\n",
        "#     image = image.reshape((image.shape[0],image.shape[1],1))\n",
        "#     images.append(image)\n",
        "#     split_var = file.split('_')\n",
        "#     ages.append(split_var[0])\n",
        "#     genders.append(int(split_var[1]) )"
      ],
      "metadata": {
        "execution": {
          "iopub.status.busy": "2022-12-20T12:13:05.042388Z",
          "iopub.status.idle": "2022-12-20T12:13:05.043147Z",
          "shell.execute_reply.started": "2022-12-20T12:13:05.042868Z",
          "shell.execute_reply": "2022-12-20T12:13:05.042908Z"
        },
        "trusted": true,
        "id": "nH1G9tUmd7Vc"
      },
      "execution_count": null,
      "outputs": []
    },
    {
      "cell_type": "code",
      "source": [
        "# import matplotlib.pyplot as plt\n",
        "# # plt.rcParams.update({'font.size': 19})\n",
        "\n",
        "# plt.rcParams[\"figure.figsize\"] = (40,20)\n",
        "# plt.rc('xtick', labelsize=16) #fontsize of the x tick labels\n",
        "# plt.rc('ytick', labelsize=20) #fontsize of the y tick labels\n",
        "\n",
        "# x_ages = list(sorted(set(ages)))\n",
        "# y_ages = [ages.count(i) for i in x_ages]\n",
        "# plt.bar(x_ages,y_ages)\n",
        "# plt.show()\n",
        "# print(\"Max value:\",max(ages))"
      ],
      "metadata": {
        "execution": {
          "iopub.status.busy": "2022-12-20T12:13:05.044593Z",
          "iopub.status.idle": "2022-12-20T12:13:05.045340Z",
          "shell.execute_reply.started": "2022-12-20T12:13:05.045073Z",
          "shell.execute_reply": "2022-12-20T12:13:05.045098Z"
        },
        "trusted": true,
        "id": "Vu3uqmJUd7Vd"
      },
      "execution_count": null,
      "outputs": []
    },
    {
      "cell_type": "code",
      "source": [
        "# plt.rcParams[\"figure.figsize\"] = (3,3)\n",
        "# def display(img):\n",
        "#     plt.imshow(img[:,:,0])\n",
        "#     plt.set_cmap('gray')\n",
        "#     plt.show()\n",
        "# idx = 500\n",
        "# sample = images[idx]\n",
        "# print(\"Gender:\",genders[idx],\"Age:\",ages[idx])\n",
        "# display(sample)"
      ],
      "metadata": {
        "execution": {
          "iopub.status.busy": "2022-12-20T12:13:05.047410Z",
          "iopub.status.idle": "2022-12-20T12:13:05.048169Z",
          "shell.execute_reply.started": "2022-12-20T12:13:05.047895Z",
          "shell.execute_reply": "2022-12-20T12:13:05.047921Z"
        },
        "trusted": true,
        "id": "lVL7sG3Wd7Vd"
      },
      "execution_count": null,
      "outputs": []
    },
    {
      "cell_type": "code",
      "source": [
        "# def age_group(age):\n",
        "#     if age >=0 and age < 18:\n",
        "#         return 1\n",
        "#     elif age < 30:\n",
        "#         return 2\n",
        "#     elif age < 80:\n",
        "#         return 3\n",
        "#     else:\n",
        "#         return 4"
      ],
      "metadata": {
        "execution": {
          "iopub.status.busy": "2022-12-20T12:13:05.049566Z",
          "iopub.status.idle": "2022-12-20T12:13:05.050325Z",
          "shell.execute_reply.started": "2022-12-20T12:13:05.050034Z",
          "shell.execute_reply": "2022-12-20T12:13:05.050062Z"
        },
        "trusted": true,
        "id": "ve-YxNdld7Vd"
      },
      "execution_count": null,
      "outputs": []
    },
    {
      "cell_type": "code",
      "source": [
        "# # pre processing\n",
        "\n",
        "# plt.rcParams[\"figure.figsize\"] = (3,3)\n",
        "# target = np.zeros((size,2),dtype='float32')\n",
        "# features = np.zeros((size,sample.shape[0],sample.shape[1],1),dtype = 'float32')\n",
        "# for i in range(size):\n",
        "#     target[i,0] = age_group(int(ages[i])) / 4\n",
        "#     target[i,1] = int(genders[i])\n",
        "#     features[i] = images[i]\n",
        "# features = features / 255\n",
        "# display(features[550])"
      ],
      "metadata": {
        "execution": {
          "iopub.status.busy": "2022-12-20T12:13:05.051919Z",
          "iopub.status.idle": "2022-12-20T12:13:05.052770Z",
          "shell.execute_reply.started": "2022-12-20T12:13:05.052455Z",
          "shell.execute_reply": "2022-12-20T12:13:05.052484Z"
        },
        "trusted": true,
        "id": "lA91KwrQd7Vd"
      },
      "execution_count": null,
      "outputs": []
    },
    {
      "cell_type": "code",
      "source": [
        "# from sklearn.model_selection import train_test_split\n",
        "# x_train, x_test, y_train, y_test = train_test_split(features, target, test_size=0.2,shuffle  = True)\n",
        "# print(\"Samples in Training:\",x_train.shape[0])\n",
        "# print(\"Samples in Testing:\",x_test.shape[0])"
      ],
      "metadata": {
        "execution": {
          "iopub.status.busy": "2022-12-20T12:13:05.054270Z",
          "iopub.status.idle": "2022-12-20T12:13:05.055006Z",
          "shell.execute_reply.started": "2022-12-20T12:13:05.054725Z",
          "shell.execute_reply": "2022-12-20T12:13:05.054752Z"
        },
        "trusted": true,
        "id": "XEWY8yX0d7Vd"
      },
      "execution_count": null,
      "outputs": []
    },
    {
      "cell_type": "code",
      "source": [
        "# print(\"Shape of image:\",sample.shape)"
      ],
      "metadata": {
        "execution": {
          "iopub.status.busy": "2022-12-20T12:13:05.056312Z",
          "iopub.status.idle": "2022-12-20T12:13:05.057050Z",
          "shell.execute_reply.started": "2022-12-20T12:13:05.056770Z",
          "shell.execute_reply": "2022-12-20T12:13:05.056795Z"
        },
        "trusted": true,
        "id": "8AKnHSl3d7Ve"
      },
      "execution_count": null,
      "outputs": []
    },
    {
      "cell_type": "code",
      "source": [
        "# import keras \n",
        "# from keras.layers import *\n",
        "# from keras.models import *\n",
        "# from keras import backend as K"
      ],
      "metadata": {
        "execution": {
          "iopub.status.busy": "2022-12-20T12:13:05.058348Z",
          "iopub.status.idle": "2022-12-20T12:13:05.059074Z",
          "shell.execute_reply.started": "2022-12-20T12:13:05.058799Z",
          "shell.execute_reply": "2022-12-20T12:13:05.058824Z"
        },
        "trusted": true,
        "id": "yDc_tpmld7Ve"
      },
      "execution_count": null,
      "outputs": []
    },
    {
      "cell_type": "code",
      "source": [
        "# inputs = Input(shape=(64,64,1))\n",
        "# conv1 = Conv2D(32, kernel_size=(3, 3),activation='relu')(inputs)\n",
        "# conv2 = Conv2D(64, kernel_size=(3, 3),activation='relu')(conv1)\n",
        "# pool1 = MaxPooling2D(pool_size=(2, 2))(conv2)\n",
        "# conv3 = Conv2D(128, kernel_size=(3, 3),activation='relu')(pool1)\n",
        "# pool2 = MaxPooling2D(pool_size=(2, 2))(conv3)\n",
        "# x = Dropout(0.25)(pool2)\n",
        "# flat = Flatten()(x)\n",
        "\n",
        "# dropout = Dropout(0.5)\n",
        "# age_model = Dense(128, activation='relu')(flat)\n",
        "# age_model = dropout(age_model)\n",
        "# age_model = Dense(64, activation='relu')(age_model)\n",
        "# age_model = dropout(age_model)\n",
        "# age_model = Dense(32, activation='relu')(age_model)\n",
        "# age_model = dropout(age_model)\n",
        "# age_model = Dense(1, activation='relu')(age_model)\n",
        "\n",
        "# dropout = Dropout(0.5)\n",
        "# gender_model = Dense(128, activation='relu')(flat)\n",
        "# gender_model = dropout(gender_model)\n",
        "# gender_model = Dense(64, activation='relu')(gender_model)\n",
        "# gender_model = dropout(gender_model)\n",
        "# gender_model = Dense(32, activation='relu')(gender_model)\n",
        "# gender_model = dropout(gender_model)\n",
        "# gender_model = Dense(16, activation='relu')(gender_model)\n",
        "# gender_model = dropout(gender_model)\n",
        "# gender_model = Dense(8, activation='relu')(gender_model)\n",
        "# gender_model = dropout(gender_model)\n",
        "# gender_model = Dense(1, activation='sigmoid')(gender_model)"
      ],
      "metadata": {
        "execution": {
          "iopub.status.busy": "2022-12-20T12:13:05.060399Z",
          "iopub.status.idle": "2022-12-20T12:13:05.061137Z",
          "shell.execute_reply.started": "2022-12-20T12:13:05.060859Z",
          "shell.execute_reply": "2022-12-20T12:13:05.060900Z"
        },
        "trusted": true,
        "id": "LcrmgWESd7Ve"
      },
      "execution_count": null,
      "outputs": []
    },
    {
      "cell_type": "code",
      "source": [
        "# model = Model(inputs=inputs, outputs=[age_model,gender_model])\n",
        "# model.compile(optimizer = 'adam', loss =['mse','binary_crossentropy'],metrics=['accuracy'])\n",
        "# # if train_on_gpu:\n",
        "#     model.cuda()"
      ],
      "metadata": {
        "execution": {
          "iopub.status.busy": "2022-12-20T12:13:05.062574Z",
          "iopub.status.idle": "2022-12-20T12:13:05.063513Z",
          "shell.execute_reply.started": "2022-12-20T12:13:05.063048Z",
          "shell.execute_reply": "2022-12-20T12:13:05.063257Z"
        },
        "trusted": true,
        "id": "kTSvYRB_d7Ve"
      },
      "execution_count": null,
      "outputs": []
    },
    {
      "cell_type": "code",
      "source": [
        "# model.summary()"
      ],
      "metadata": {
        "execution": {
          "iopub.status.busy": "2022-12-20T12:13:05.064934Z",
          "iopub.status.idle": "2022-12-20T12:13:05.065666Z",
          "shell.execute_reply.started": "2022-12-20T12:13:05.065397Z",
          "shell.execute_reply": "2022-12-20T12:13:05.065422Z"
        },
        "trusted": true,
        "id": "XJ60HX2xd7Ve"
      },
      "execution_count": null,
      "outputs": []
    },
    {
      "cell_type": "code",
      "source": [
        "# h = model.fit(x_train,[y_train[:,0],y_train[:,1]],validation_data=(x_test,[y_test[:,0],y_test[:,1]]),epochs = 25, batch_size=128,shuffle = True)"
      ],
      "metadata": {
        "execution": {
          "iopub.status.busy": "2022-12-20T12:13:05.067019Z",
          "iopub.status.idle": "2022-12-20T12:13:05.067757Z",
          "shell.execute_reply.started": "2022-12-20T12:13:05.067492Z",
          "shell.execute_reply": "2022-12-20T12:13:05.067517Z"
        },
        "trusted": true,
        "id": "OjsMJVbqd7Ve"
      },
      "execution_count": null,
      "outputs": []
    },
    {
      "cell_type": "markdown",
      "source": [],
      "metadata": {
        "id": "_wQIfykHd7Vf"
      }
    },
    {
      "cell_type": "code",
      "source": [
        "# h.history"
      ],
      "metadata": {
        "execution": {
          "iopub.status.busy": "2022-12-20T12:13:05.069097Z",
          "iopub.status.idle": "2022-12-20T12:13:05.069829Z",
          "shell.execute_reply.started": "2022-12-20T12:13:05.069564Z",
          "shell.execute_reply": "2022-12-20T12:13:05.069589Z"
        },
        "trusted": true,
        "id": "TA1eXLi_d7Vf"
      },
      "execution_count": null,
      "outputs": []
    },
    {
      "cell_type": "code",
      "source": [
        "# model.save('data.h5')"
      ],
      "metadata": {
        "execution": {
          "iopub.status.busy": "2022-12-20T12:13:05.071143Z",
          "iopub.status.idle": "2022-12-20T12:13:05.071872Z",
          "shell.execute_reply.started": "2022-12-20T12:13:05.071605Z",
          "shell.execute_reply": "2022-12-20T12:13:05.071630Z"
        },
        "trusted": true,
        "id": "9mmFkZb3d7Vf"
      },
      "execution_count": null,
      "outputs": []
    },
    {
      "cell_type": "code",
      "source": [
        "# history = h\n",
        "\n",
        "# plt.rcParams[\"figure.figsize\"] = (6,4)\n",
        "# plt.plot(history.history['loss'])\n",
        "# plt.plot(history.history['val_loss'])\n",
        "# plt.title('model accuracy')\n",
        "# plt.ylabel('accuracy')\n",
        "# plt.xlabel('epoch')\n",
        "# plt.legend(['train', 'val'], loc='upper left')\n",
        "# plt.show()"
      ],
      "metadata": {
        "execution": {
          "iopub.status.busy": "2022-12-20T12:13:05.073447Z",
          "iopub.status.idle": "2022-12-20T12:13:05.074185Z",
          "shell.execute_reply.started": "2022-12-20T12:13:05.073919Z",
          "shell.execute_reply": "2022-12-20T12:13:05.073945Z"
        },
        "trusted": true,
        "id": "rv-YXzTRd7Vf"
      },
      "execution_count": null,
      "outputs": []
    },
    {
      "cell_type": "code",
      "source": [
        "# def display(img):\n",
        "#     plt.imshow(img[:,:,0])\n",
        "#     plt.set_cmap('gray')\n",
        "#     plt.show()\n",
        "    \n",
        "# def age_group(age):\n",
        "#     if age >=0 and age < 18:\n",
        "#         return 1\n",
        "#     elif age < 30:\n",
        "#         return 2\n",
        "#     elif age < 80:\n",
        "#         return 3\n",
        "#     else:\n",
        "#         return 4\n",
        "\n",
        "# def get_age(distr):\n",
        "#     distr = distr*4\n",
        "#     if distr >= 0.65 and distr <= 1.4:return \"0-18\"\n",
        "#     if distr >= 1.65 and distr <= 2.4:return \"19-30\"\n",
        "#     if distr >= 2.65 and distr <= 3.4:return \"31-80\"\n",
        "#     if distr >= 3.65 and distr <= 4.4:return \"80 +\"\n",
        "#     return \"Unknown\"\n",
        "    \n",
        "# def get_gender(prob):\n",
        "#     if prob < 0.5:return \"Male\"\n",
        "#     else: return \"Female\"\n",
        "\n",
        "# def get_result(sample):\n",
        "#     sample = sample/255\n",
        "#     val = model.predict( np.array([ sample ]) )    \n",
        "#     age = get_age(val[0])\n",
        "#     gender = get_gender(val[1])\n",
        "#     print(\"Values:\",val,\"\\nPredicted Gender:\",gender,\"Predicted Age:\",age)\n",
        "    \n",
        "    \n",
        "# indexes = [500,59,80,2,4546,7,9,256,45]\n",
        "# for idx in indexes:\n",
        "#     sample = images[idx]\n",
        "#     display(sample)\n",
        "#     print(\"Actual Gender:\",get_gender(genders[idx]),\"Age:\",ages[idx])\n",
        "#     res = get_result(sample)"
      ],
      "metadata": {
        "execution": {
          "iopub.status.busy": "2022-12-20T12:13:05.075518Z",
          "iopub.status.idle": "2022-12-20T12:13:05.076269Z",
          "shell.execute_reply.started": "2022-12-20T12:13:05.075988Z",
          "shell.execute_reply": "2022-12-20T12:13:05.076013Z"
        },
        "trusted": true,
        "id": "ZItfnhRLd7Vf"
      },
      "execution_count": null,
      "outputs": []
    }
  ]
}