{
  "nbformat": 4,
  "nbformat_minor": 0,
  "metadata": {
    "colab": {
      "name": "Основы Python.ipynb",
      "provenance": [],
      "toc_visible": true,
      "collapsed_sections": [],
      "authorship_tag": "ABX9TyPXzTxefFttfuRnQIw/Xmjm",
      "include_colab_link": true
    },
    "kernelspec": {
      "name": "python3",
      "display_name": "Python 3"
    },
    "language_info": {
      "name": "python"
    }
  },
  "cells": [
    {
      "cell_type": "markdown",
      "metadata": {
        "id": "view-in-github",
        "colab_type": "text"
      },
      "source": [
        "<a href=\"https://colab.research.google.com/github/kkostromin/sber_ds/blob/main/%D0%9E%D1%81%D0%BD%D0%BE%D0%B2%D1%8B_Python.ipynb\" target=\"_parent\"><img src=\"https://colab.research.google.com/assets/colab-badge.svg\" alt=\"Open In Colab\"/></a>"
      ]
    },
    {
      "cell_type": "markdown",
      "source": [
        "# **1.Синтаксис**\n",
        "\n",
        "---\n",
        "\n"
      ],
      "metadata": {
        "id": "LSnmOZzTpqNk"
      }
    },
    {
      "cell_type": "code",
      "execution_count": null,
      "metadata": {
        "colab": {
          "base_uri": "https://localhost:8080/"
        },
        "id": "CDWVREoDpcJR",
        "outputId": "47100ef7-8ca3-4642-ae34-df65adb7c08d"
      },
      "outputs": [
        {
          "output_type": "stream",
          "name": "stdout",
          "text": [
            "Python is awesome!\n",
            "first string\n",
            "11\n"
          ]
        }
      ],
      "source": [
        "print(\"Python is awesome!\") \n",
        "var = \"first string\" \n",
        "print(var) \n",
        "var = 2 + 9 \n",
        "print(var) \n"
      ]
    },
    {
      "cell_type": "markdown",
      "source": [
        "кавычки"
      ],
      "metadata": {
        "id": "bfAC3WVxsnAa"
      }
    },
    {
      "cell_type": "code",
      "source": [
        "print(\"String\") \n",
        "print('String') \n",
        "print('''Str \n",
        "... ing''')\n",
        "print('Str\"ing')\n"
      ],
      "metadata": {
        "colab": {
          "base_uri": "https://localhost:8080/"
        },
        "id": "shUwke8ZsR7F",
        "outputId": "0055ab20-5f24-4bd4-8cbf-798726d6dbb5"
      },
      "execution_count": null,
      "outputs": [
        {
          "output_type": "stream",
          "name": "stdout",
          "text": [
            "String\n",
            "String\n",
            "Str \n",
            "... ing\n",
            "Str\"ing\n"
          ]
        }
      ]
    },
    {
      "cell_type": "markdown",
      "source": [
        "Комментарии"
      ],
      "metadata": {
        "id": "j2o8DVE8srUE"
      }
    },
    {
      "cell_type": "code",
      "source": [
        "print(\"комментарий справа\") # Функция print() позволяет выводить результат на экран комментарий справа"
      ],
      "metadata": {
        "id": "g-jbH3K7slkD"
      },
      "execution_count": null,
      "outputs": []
    },
    {
      "cell_type": "markdown",
      "source": [
        "Вложенные инструкции"
      ],
      "metadata": {
        "id": "a_BB0Xugszmx"
      }
    },
    {
      "cell_type": "code",
      "source": [
        "#инструкция объявляющая переменную var и присваивающая ей значение равное 5 \n",
        "var = 5\n",
        "#основная инструкция 1\n",
        "if var < 3: \n",
        "#вложенная инструкция, отступает от основной инструкции 1 \n",
        "    print(\"less\") \n",
        "#основная инструкция 2 \n",
        "else: \n",
        "#вложенная инструкция, отступает от основной инструкции 2 \n",
        "    print(\"more\")"
      ],
      "metadata": {
        "colab": {
          "base_uri": "https://localhost:8080/"
        },
        "id": "7phLWZcHszBI",
        "outputId": "802b76ac-22de-4745-e434-9079b1a97e83"
      },
      "execution_count": null,
      "outputs": [
        {
          "output_type": "stream",
          "name": "stdout",
          "text": [
            "more\n"
          ]
        }
      ]
    },
    {
      "cell_type": "code",
      "source": [
        "# объявляем переменную var равную 5 \n",
        "var = 5\n",
        "# основная инструкция \n",
        "if var > 3: \n",
        "# вложенная инструкция уровня 1 \n",
        "    if var > 4: \n",
        "# вложенная инструкция уровня 2, отступает на 4 пробела от \n",
        "# вложенной инструкции уровня 1 \n",
        "        print(\"more than 4\")\n",
        "        \n",
        "if var < 3: print(\"like this\")"
      ],
      "metadata": {
        "colab": {
          "base_uri": "https://localhost:8080/"
        },
        "id": "I_P_bNLptApT",
        "outputId": "6cce1b99-20c3-4e34-c2e4-1ddaada4b3f6"
      },
      "execution_count": null,
      "outputs": [
        {
          "output_type": "stream",
          "name": "stdout",
          "text": [
            "like this\n"
          ]
        }
      ]
    },
    {
      "cell_type": "markdown",
      "source": [
        "# 2.Типы и объекты"
      ],
      "metadata": {
        "id": "YuVFh9UstVrJ"
      }
    },
    {
      "cell_type": "markdown",
      "source": [
        "**None type**"
      ],
      "metadata": {
        "id": "nYCkS9yMuqi0"
      }
    },
    {
      "cell_type": "code",
      "source": [
        "null_variable = None \n",
        "not_null_variable = 'something' \n",
        "if null_variable == None: \n",
        "    print('null_variable is None') \n",
        "else: \n",
        "    print('null_variable is not None') \n",
        "if not_null_variable == None: \n",
        "    print('not_null_variable is None') \n",
        "else: \n",
        "    print('not_null_variable is not None')"
      ],
      "metadata": {
        "colab": {
          "base_uri": "https://localhost:8080/"
        },
        "id": "NLJrOyJPtZ4f",
        "outputId": "ebb2ac22-50cb-46eb-ccb2-28dad2f733d2"
      },
      "execution_count": null,
      "outputs": [
        {
          "output_type": "stream",
          "name": "stdout",
          "text": [
            "null_variable is None\n",
            "not_null_variable is not None\n"
          ]
        }
      ]
    },
    {
      "cell_type": "markdown",
      "source": [
        "**Логический тип данных (bool)**"
      ],
      "metadata": {
        "id": "OBYLRySHvGzp"
      }
    },
    {
      "cell_type": "code",
      "source": [
        "a = 0\n",
        "b = 1\n",
        "print(a < b)\n",
        "print(a > b)\n",
        "print(a == b)"
      ],
      "metadata": {
        "colab": {
          "base_uri": "https://localhost:8080/"
        },
        "id": "63tuzmvTvJPI",
        "outputId": "342673ac-ddaf-45b5-f403-3dd046b3db4a"
      },
      "execution_count": null,
      "outputs": [
        {
          "output_type": "stream",
          "name": "stdout",
          "text": [
            "True\n",
            "False\n",
            "False\n"
          ]
        }
      ]
    },
    {
      "cell_type": "markdown",
      "source": [
        "**Целые числа** используются для стандартных арифметических операций, когда нас не интересует точность, до n-го знака.\n",
        "\n",
        "int - целое число\n",
        "\n",
        "Напротив, числа, применяющиеся для точных вычислений до n-го знака после запятой - **числа с плавающей точкой**. При арифметическом взаимодействии двух типов (int и float), результат всегда будет иметь тип float.\n",
        "\n",
        "float - число с плавающей точкой\n",
        "Комплексные числа предназначены для более сложных математических вычислений, они состоят из вещественной и мнимой части.\n",
        "\n",
        "complex - **комплексное число**"
      ],
      "metadata": {
        "id": "kt_dtK4Cvd8q"
      }
    },
    {
      "cell_type": "markdown",
      "source": [
        "# -Типы коллекций\n",
        "**Списки** являются своего рода хранилищем данных разного типа, другими словами списки это массивы, только хранить они могут данные разных типов. Более подробно об этом типе будет рассказано в разделе \"Списки\".\n",
        "\n",
        "list - список\n",
        " \n",
        "\n",
        "**Кортеж** - это список, который после создания нельзя изменить, очень полезно его использовать для защиты \"от дурака\", чтобы по ошибке данные не были изменены.\n",
        "\n",
        "Более подробно об этом типе будет рассказано в разделе \"Кортежи\".\n",
        "\n",
        "tuple - кортеж\n",
        " \n",
        "\n",
        "Генератор списков используется, когда нам нужно вывести последовательность целых чисел. Более\n",
        "\n",
        "подробно об этом типе будет рассказано в уроке \"Циклы\".\n",
        "\n",
        "range - диапазон, неизменяемая последовательность целых чисел.\n",
        " \n",
        "\n",
        "**Множества** - коллекции для неповторяющихся данных, хранящие эти данные в случайном порядке.\n",
        "\n",
        "set - множество\n",
        "frozenset - неизменяемое множество\n",
        "Более подробно об этих типах будет рассказано в разделе \"Множества\".\n",
        "\n",
        " \n",
        "\n",
        "**Словари** - являются набором пар \"ключ\"-\"значение\", довольно удобный тип данных для формирований структур. Более подробно об этом типе будет рассказано в разделе \"Словари\".\n",
        "\n",
        "dict - словарь\n",
        " \n",
        "\n",
        "Следующие два типа перечислены для ознакомления, в дальнейшем мы не будем уделять им практического значения в рамках данного курса.\n",
        "\n",
        "**Байт**  - это минимальная единица хранения и обработки цифровой информации. Данный тип допускает возможность производить изменение кодировки символов в зависимости от задач.\n",
        "\n",
        "bytes - байты\n",
        " \n",
        "\n",
        "Последовательность байт  - представляет собой некую информацию (текст, картинка и т.д.). Помимо изменения кодировки, имеет дополнительные возможности применять методы к перекодированным строкам и вносить изменения.\n",
        "\n",
        " \n",
        "\n",
        "bytearray - массивы байт"
      ],
      "metadata": {
        "id": "ozjEYxt8v54P"
      }
    },
    {
      "cell_type": "code",
      "source": [
        "#type(None)\n",
        "#type(True)\n",
        "#type(False)\n",
        "#type(1)\n",
        "#type(5.3)\n",
        "#type(5 + 4j)\n",
        "#type([1, 5.3, False, 4])\n",
        "#type((1, True, 3, 5+4j))\n",
        "#type(range(5))\n",
        "#type('Hello')\n",
        "#type(b'a')\n",
        "#type(bytearray([1,2,3]))\n",
        "#type(memoryview(bytearray('XYZ', 'utf-8')))\n",
        "type({'a', 3, True})\n",
        "type(frozenset({1, 2, 3}))\n",
        "type({'a' : 32})"
      ],
      "metadata": {
        "colab": {
          "base_uri": "https://localhost:8080/"
        },
        "id": "unvRTga7vglb",
        "outputId": "b6387390-efff-4a81-e7e4-e7c49bf09a97"
      },
      "execution_count": null,
      "outputs": [
        {
          "output_type": "execute_result",
          "data": {
            "text/plain": [
              "dict"
            ]
          },
          "metadata": {},
          "execution_count": 9
        }
      ]
    },
    {
      "cell_type": "markdown",
      "source": [
        "# 3.Типы операторов"
      ],
      "metadata": {
        "id": "eu8EFTTOAayC"
      }
    },
    {
      "cell_type": "markdown",
      "source": [
        " **Арифметические операторы**\n",
        "Символ\n",
        "\n",
        "\n",
        "Описание\n",
        "\n",
        "\n",
        "Пример\n",
        "\n",
        "\n",
        "+\n",
        "\n",
        "\n",
        "Оператор суммы\n",
        "\n",
        "\n",
        ">>> print(5 + 8)\n",
        "\n",
        "13\n",
        "\n",
        "\n",
        "-\n",
        "\n",
        "\n",
        "Оператор разности\n",
        "\n",
        "\n",
        ">>> print(31 - 2)\n",
        "\n",
        "29\n",
        "\n",
        "\n",
        "*\n",
        "\n",
        "\n",
        "Оператор произведения\n",
        "\n",
        "\n",
        ">>> print(12 * 9)\n",
        "\n",
        "108\n",
        "\n",
        "\n",
        "/\n",
        "\n",
        "\n",
        "Оператор деления\n",
        "\n",
        "\n",
        ">>> print(6 / 4)\n",
        "\n",
        "1.5\n",
        "\n",
        "\n",
        "%\n",
        "\n",
        "\n",
        "Оператор получения остатка от деления\n",
        "\n",
        "\n",
        ">>> print(6 % 4)\n",
        "\n",
        "2\n",
        "\n",
        "\n",
        "**\n",
        "\n",
        "\n",
        "Оператор возведения в степень\n",
        "\n",
        "\n",
        ">>> print(9 ** 2)\n",
        "\n",
        "81\n",
        "\n",
        "\n",
        "//\n",
        "\n",
        "\n",
        "Оператор целочисленного деления\n",
        "\n",
        "\n",
        ">>> print(6 // 4)\n",
        "\n",
        "1\n",
        "\n",
        "\n",
        "\n",
        "\n",
        "\n"
      ],
      "metadata": {
        "id": "NtSWmK_uA4r7"
      }
    },
    {
      "cell_type": "markdown",
      "source": [
        "**Операторы сравнения (реляционные)**\n",
        "\n",
        "==\n",
        "\n",
        "\n",
        "Проверяет, равны ли операнды между собой. Если они равны, то выражение становится истинным.\n",
        "\n",
        "\n",
        ">>> print(5 == 5)\n",
        "\n",
        "True\n",
        ">>> print(6 == 44)\n",
        "\n",
        "False\n",
        "\n",
        "\n",
        "!=\n",
        "\n",
        "\n",
        "Проверяет, равны ли операнды между собой. Если они не равны, то выражение становится истинным.\n",
        "\n",
        "\n",
        ">>> print(12 != 12)\n",
        "\n",
        "False\n",
        ">>> print(1231 != 0.4)\n",
        "\n",
        "True\n",
        "\n",
        "\n",
        ">\n",
        "\n",
        "\n",
        "Проверяет, больше ли левый операнд чем правый, если больше, то выражение становится истинным.\n",
        "\n",
        "\n",
        ">>> print(53 > 23)\n",
        "\n",
        "True\n",
        ">>> print(432 >500)\n",
        "\n",
        "False\n",
        "\n",
        "\n",
        "<\n",
        "\n",
        "\n",
        "Проверяет, меньше ли левый операнд чем правый, если меньше, то выражение становится истинным.\n",
        "\n",
        "\n",
        ">>> print(5 < 51)\n",
        "\n",
        "True\n",
        ">>> print(6 < 4)\n",
        "\n",
        "False\n",
        "\n",
        "\n",
        ">=\n",
        "\n",
        "\n",
        "Проверяет, больше левый операнд, чем правый, или равен ему. Если больше или равен, то выражение становится истинным.\n",
        "\n",
        "\n",
        ">>> print(5 >= 5)\n",
        "\n",
        "True\n",
        ">>> print(6 >=44)\n",
        "\n",
        "False\n",
        "\n",
        "\n",
        "<=\n",
        "\n",
        "\n",
        "Проверяет, меньше левый операнд, чем правый, или равен ему. Если меньше или равен, то выражение становится истинным.\n",
        "\n",
        "\n",
        ">>> print(32 <= 232)\n",
        "\n",
        "True\n",
        ">>> print(65 <= 9)\n",
        "\n",
        "False"
      ],
      "metadata": {
        "id": "q5glEG-kBYBl"
      }
    },
    {
      "cell_type": "markdown",
      "source": [
        "**Операторы присваивания**\n",
        "\n",
        "Символ\n",
        "\n",
        "\n",
        "Описание\n",
        "\n",
        "\n",
        "Пример\n",
        "\n",
        "\n",
        "=\n",
        "\n",
        "\n",
        "Присваивает значение правого операнда левому\n",
        "\n",
        "\n",
        ">>> var = 5\n",
        "\n",
        ">>> print(var)\n",
        "\n",
        "5\n",
        "\n",
        "\n",
        "+=\n",
        "\n",
        "\n",
        "Прибавляет значение правого операнда к левому и присваивает левому. a += b эквивалентно записи\n",
        "a=a+b\n",
        "\n",
        "\n",
        ">>> var = 5\n",
        "\n",
        ">>> var += 4\n",
        "\n",
        ">>> print(var)\n",
        "\n",
        "9\n",
        "\n",
        "\n",
        "-=\n",
        "\n",
        "\n",
        "Отнимает значение у левого операнда правое и присваивает левому. a -= b эквивалентно записи a = a -b\n",
        "\n",
        "\n",
        ">>> var = 5\n",
        "\n",
        ">>> var -= 2\n",
        "\n",
        ">>> print(var)\n",
        "\n",
        "3\n",
        "\n",
        "\n",
        "*=\n",
        "\n",
        "\n",
        "Умножает значение левого операнда на правое и присваивает левому. a *= b эквивалентно записи a=a*b\n",
        "\n",
        "\n",
        ">>> var = 5\n",
        "\n",
        ">>> var *= 10\n",
        "\n",
        ">>> print(var)\n",
        "\n",
        "50\n",
        "\n",
        "\n",
        "/=\n",
        "\n",
        "\n",
        "Делит значение левого операнда на правое и присваивает левому. a /= b эквивалентно записи a=a/b\n",
        "\n",
        "\n",
        ">>> var = 5\n",
        "\n",
        ">>> var /= 4\n",
        "\n",
        ">>> print(var)\n",
        "\n",
        "1.25\n",
        "\n",
        "\n",
        "%=\n",
        "\n",
        "\n",
        "Делит с остатком значение левого операнда на правое и присваивает остаток левому. a %= b эквивалентно записи a = a % b\n",
        "\n",
        "\n",
        ">>> var = 5\n",
        "\n",
        ">>> var %= 10\n",
        "\n",
        ">>>print(var)\n",
        "5\n",
        "\n",
        "**=\n",
        "\n",
        "\n",
        "Возводит значение левого операнда в степень правого и присваивает левому. a **= b эквивалентно записи a = a ** b\n",
        "\n",
        "\n",
        ">>> var = 5\n",
        "\n",
        ">>> var **= 8\n",
        "\n",
        ">>>print(var)\n",
        "\n",
        "390625\n",
        "\n",
        "\n",
        "//=\n",
        "\n",
        "\n",
        "Целочисленно делит значение левого операнда на правое и присваивает левому. a //= b эквивалентно записи a = a // b\n",
        "\n",
        "\n",
        ">>> var = 5\n",
        "\n",
        ">>> var //= 30\n",
        "\n",
        ">>>print(var)\n",
        "\n",
        "0"
      ],
      "metadata": {
        "id": "4Xkcy4WFBgf-"
      }
    },
    {
      "cell_type": "code",
      "source": [
        "var = 5\n",
        "\n",
        "var %= 10\n",
        "\n",
        "print(var)"
      ],
      "metadata": {
        "colab": {
          "base_uri": "https://localhost:8080/"
        },
        "id": "DOHIsKwNAeBL",
        "outputId": "1f3e3a4a-df4c-4b01-b0f5-2ed04e48cea1"
      },
      "execution_count": null,
      "outputs": [
        {
          "output_type": "stream",
          "name": "stdout",
          "text": [
            "5\n"
          ]
        }
      ]
    },
    {
      "cell_type": "markdown",
      "source": [
        "**Побитовые операторы**\n",
        "\n",
        "Данные операторы работают с данными в двоичной системе счисления. Например число 13 в двоичной системе будет равно 1101\n",
        "\n",
        "Символ\n",
        "\n",
        "\n",
        "Описание\n",
        "\n",
        "\n",
        "Пример (в двоичной системе)\n",
        "\n",
        "\n",
        "&\n",
        "\n",
        "\n",
        "Бинарный \"И\" оператор, копирует бит в результат только если бит присутствует в обоих операндах\n",
        "\n",
        "\n",
        "0&0=0\n",
        "\n",
        "1&0=0\n",
        "\n",
        "0&1=0\n",
        "\n",
        "1&1=1\n",
        "\n",
        "101 & 110 = 100\n",
        "\n",
        "\n",
        "|\n",
        "\n",
        "\n",
        "Бинарный \"ИЛИ\" оператор копирует бит, если тот присутствует в хотя бы в одном операнде\n",
        "\n",
        "\n",
        "0|0=0\n",
        "\n",
        "1|0=1\n",
        "\n",
        "0|1=1\n",
        "\n",
        "1|1=1\n",
        "\n",
        "101 | 110 = 111\n",
        "\n",
        "\n",
        "^\n",
        "\n",
        "\n",
        "Бинарный \"Исключительное ИЛИ\" оператор копирует бит только если бит присутствует в одном из операндов, но не в обоих сразу\n",
        "\n",
        "\n",
        "0^0=0\n",
        "\n",
        "1^0=1\n",
        "\n",
        "0^1=1\n",
        "\n",
        "1^1=0\n",
        "101 ^ 110 = 011\n",
        "\n",
        "\n",
        "~\n",
        "\n",
        "\n",
        "Побитовая операция \"НЕ\". Для числа a соответствует -(a+1)\n",
        "\n",
        "\n",
        "~1 = -10\n",
        "~0 = -1\n",
        "\n",
        "~101 = -110\n",
        "\n",
        "\n",
        ">>\n",
        "\n",
        "\n",
        "Побитовый сдвиг вправо. Значение левого операнда \"сдвигается\" вправо на количество бит указанных в правом операнде\n",
        "\n",
        "\n",
        "100 >> 2 = 001\n",
        "\n",
        "\n",
        "<<\n",
        "\n",
        "\n",
        "Побитовый сдвиг влево. Значение левого операнда \"сдвигается\" влево на количество бит указанных в правом операнде\n",
        "\n",
        "\n",
        "100 << 2 = 10000\n",
        "\n",
        "\n"
      ],
      "metadata": {
        "id": "VmW_vGMDDi2I"
      }
    },
    {
      "cell_type": "markdown",
      "source": [
        "**Логические операторы**\n",
        "\n",
        "and\n",
        "\n",
        "\n",
        "Логический оператор \"И\". Условие будет истинным если оба операнда истина\n",
        "\n",
        "\n",
        "True and True = True.\n",
        "\n",
        "True and False = False.\n",
        "\n",
        "False and True = False.\n",
        "\n",
        "False and False = False.\n",
        "\n",
        "\n",
        "or\n",
        "\n",
        "\n",
        "Логический оператор \"ИЛИ\". Если хотя бы один из операндов истинный, то и все выражение будет истинным\n",
        "\n",
        "\n",
        "True or True = True.\n",
        "\n",
        "True or False = True.\n",
        "\n",
        "False or True = True.\n",
        "\n",
        "False or False = False.\n",
        "\n",
        "\n",
        "not\n",
        "\n",
        "\n",
        "Логический оператор \"НЕ\". Изменяет логическое значение операнда на противоположное\n",
        "\n",
        "\n",
        "not True = False.\n",
        "\n",
        "not False = True."
      ],
      "metadata": {
        "id": "vx7m6Um2DqBc"
      }
    },
    {
      "cell_type": "markdown",
      "source": [
        "**Операторы членства**\n",
        "\n",
        "in\n",
        "\n",
        "\n",
        "Возвращает истину, если элемент присутствует в последовательности, иначе возвращает ложь\n",
        "\n",
        "\n",
        ">>> print('he' in 'hello')\n",
        "\n",
        "True\n",
        "\n",
        ">>> print(5 in [1, 2, 3, 4, 5])\n",
        "\n",
        "True\n",
        "\n",
        ">>> print(12 in [1, 2, 4, 56])\n",
        "\n",
        "False\n",
        "\n",
        "\n",
        "not in\n",
        "\n",
        "\n",
        "Возвращает истину если элемента нет в последовательности\n",
        "\n",
        "\n",
        "результаты противоположны примерам выше"
      ],
      "metadata": {
        "id": "FMWOGVTND-JB"
      }
    },
    {
      "cell_type": "markdown",
      "source": [
        "**Операторы тождественности**\n",
        "\n",
        "Данные операторы помогают сравнить размещение двух объектов в памяти компьютера\n",
        "\n",
        "Символ\n",
        "\n",
        "\n",
        "Описание\n",
        "\n",
        "\n",
        "Пример\n",
        "\n",
        "\n",
        "is\n",
        "\n",
        "\n",
        "Возвращает истину, если оба операнда указывают на один объект\n",
        "\n",
        "\n",
        ">>> a = 12\n",
        "\n",
        ">>>b = 12\n",
        "\n",
        ">>> a is b\n",
        "\n",
        "True\n",
        "\n",
        ">>> c = 22\n",
        "\n",
        ">>> a is c\n",
        "\n",
        "False\n",
        "\n",
        "\n",
        "is not\n",
        "\n",
        "\n",
        "Возвращает ложь, если оба операнда указывают на один объект\n",
        "\n",
        "\n",
        "результаты противоположны примерам выше"
      ],
      "metadata": {
        "id": "AAeMNEpxELIq"
      }
    },
    {
      "cell_type": "markdown",
      "source": [
        "# 4.Условные операторы"
      ],
      "metadata": {
        "id": "5A-HNfys3PV9"
      }
    },
    {
      "cell_type": "markdown",
      "source": [
        "*Даны два целых числа. Выведите значение наименьшего из них.*"
      ],
      "metadata": {
        "id": "GgRFMFCk3WSu"
      }
    },
    {
      "cell_type": "code",
      "source": [
        "a = int(input())\n",
        "b = int(input())\n",
        "if a > b:\n",
        "  print(\"Число а больше чем b: \" + str(a)) \n",
        "  print(\"Число b меньше чем а: \" + str(b))\n",
        "else:\n",
        "  print(\"Числа а и b равны \" + \"а = \" + str(a) + \" b = \" + str(b))  "
      ],
      "metadata": {
        "colab": {
          "base_uri": "https://localhost:8080/"
        },
        "id": "5n8h3TQb3UjT",
        "outputId": "a5bc94de-f758-412f-f90f-d14675a38bf8"
      },
      "execution_count": null,
      "outputs": [
        {
          "output_type": "stream",
          "name": "stdout",
          "text": [
            "-8\n",
            "-8\n",
            "Числа а и b равны а = -8 b = -8\n"
          ]
        }
      ]
    },
    {
      "cell_type": "markdown",
      "source": [
        "*Даны три целых числа. Выведите значение наименьшего из них.*\n"
      ],
      "metadata": {
        "id": "VcJWY2LO7M0R"
      }
    },
    {
      "cell_type": "code",
      "source": [
        "a = int(input())\n",
        "b = int(input())\n",
        "c = int(input())\n",
        "\n",
        "if a>b and a>c and b>c:\n",
        "  print(\"Число c меньше чем b и a: \" + str(c)) \n",
        "if a<b and a<c:\n",
        "  print(\"Число a меньше чем c и b \" + str(a)) \n",
        "if b<a and b<c:\n",
        "  print(\"Число b меньше чем a и c \" + str(b)) "
      ],
      "metadata": {
        "colab": {
          "base_uri": "https://localhost:8080/"
        },
        "id": "Od_h-TLX7Ts1",
        "outputId": "c5d6cc6b-47c2-4cef-cb82-8d1b05380232"
      },
      "execution_count": null,
      "outputs": [
        {
          "output_type": "stream",
          "name": "stdout",
          "text": [
            "1\n",
            "10\n",
            "20\n",
            "Число a меньше чем c и b 1\n"
          ]
        }
      ]
    },
    {
      "cell_type": "markdown",
      "source": [
        "*Даны три целых числа. Определите, сколько среди них совпадающих. Программа должна вывести одно из чисел: 3 (если все совпадают), 2 (если два совпадает) или 0 (если все числа различны).*"
      ],
      "metadata": {
        "id": "-DorPJE8_RgL"
      }
    },
    {
      "cell_type": "code",
      "source": [
        "a = int(input())\n",
        "b = int(input())\n",
        "c = int(input())\n",
        "\n",
        "if a == b and a == c and b == c:\n",
        "  print(\"Совпадающих чисел : 3\")\n",
        "elif a == b or c == b or a == c: \n",
        "  print(\"Совпадающих чисел : 2\")  \n",
        "else:\n",
        "  print(\"Числа не совпадают 0\")"
      ],
      "metadata": {
        "colab": {
          "base_uri": "https://localhost:8080/"
        },
        "id": "0AjcjE05_XfF",
        "outputId": "2b5a39d9-3085-4858-892c-667f677d16c0"
      },
      "execution_count": null,
      "outputs": [
        {
          "output_type": "stream",
          "name": "stdout",
          "text": [
            "5\n",
            "5\n",
            "10\n",
            "Совпадающих чисел : 2\n"
          ]
        }
      ]
    },
    {
      "cell_type": "markdown",
      "source": [
        "# 5.Циклы"
      ],
      "metadata": {
        "id": "gC9Wja9VqO6w"
      }
    },
    {
      "cell_type": "markdown",
      "source": [
        "# -Цикл while"
      ],
      "metadata": {
        "id": "vOa17Y_XqWFR"
      }
    },
    {
      "cell_type": "code",
      "source": [
        "# создаем переменную, равную 1\n",
        "var = 1\n",
        "# прописываем цикл с условием - выполнять до тех пор, пока переменная\n",
        "# меньше или равна 13\n",
        "while var <= 13:\n",
        "# выводим значение переменной\n",
        "    print(var)\n",
        "# увеличиваем переменную на 1\n",
        "    var += 1"
      ],
      "metadata": {
        "colab": {
          "base_uri": "https://localhost:8080/"
        },
        "id": "MBJdQ23KqrkF",
        "outputId": "694c3c2f-7f68-44c2-d5fb-b912c8ca585a"
      },
      "execution_count": null,
      "outputs": [
        {
          "output_type": "stream",
          "name": "stdout",
          "text": [
            "1\n",
            "2\n",
            "3\n",
            "4\n",
            "5\n",
            "6\n",
            "7\n",
            "8\n",
            "9\n",
            "10\n",
            "11\n",
            "12\n",
            "13\n"
          ]
        }
      ]
    },
    {
      "cell_type": "markdown",
      "source": [
        "# -Цикл For"
      ],
      "metadata": {
        "id": "KMV-r2lpqc-6"
      }
    },
    {
      "cell_type": "code",
      "source": [
        "for i in [1, 2, 3, 4, 5 ,6 ,7 ,8 ,9 , 10, 11, 12, 13]:\n",
        "    print(i)"
      ],
      "metadata": {
        "colab": {
          "base_uri": "https://localhost:8080/"
        },
        "id": "oRO9qkBkqz1p",
        "outputId": "c90d51f6-1641-488d-fd8f-3dd6eb7899bb"
      },
      "execution_count": null,
      "outputs": [
        {
          "output_type": "stream",
          "name": "stdout",
          "text": [
            "1\n",
            "2\n",
            "3\n",
            "4\n",
            "5\n",
            "6\n",
            "7\n",
            "8\n",
            "9\n",
            "10\n",
            "11\n",
            "12\n",
            "13\n"
          ]
        }
      ]
    },
    {
      "cell_type": "code",
      "source": [
        "for i in range(1,14):\n",
        "    print(i)"
      ],
      "metadata": {
        "colab": {
          "base_uri": "https://localhost:8080/"
        },
        "id": "w-WpajJKq6L3",
        "outputId": "33c0819a-46a8-4528-fff8-637382b99b94"
      },
      "execution_count": null,
      "outputs": [
        {
          "output_type": "stream",
          "name": "stdout",
          "text": [
            "1\n",
            "2\n",
            "3\n",
            "4\n",
            "5\n",
            "6\n",
            "7\n",
            "8\n",
            "9\n",
            "10\n",
            "11\n",
            "12\n",
            "13\n"
          ]
        }
      ]
    },
    {
      "cell_type": "markdown",
      "source": [
        "#   -Опратор continue"
      ],
      "metadata": {
        "id": "pvjliyJqrDsu"
      }
    },
    {
      "cell_type": "code",
      "source": [
        "for var in 'Python':\n",
        "    if var == 'h':\n",
        "        continue\n",
        "    print(var)"
      ],
      "metadata": {
        "colab": {
          "base_uri": "https://localhost:8080/"
        },
        "id": "ImYLpGFwr7dW",
        "outputId": "822dda98-d5e5-443c-a407-9d7da2cd6382"
      },
      "execution_count": null,
      "outputs": [
        {
          "output_type": "stream",
          "name": "stdout",
          "text": [
            "P\n",
            "y\n",
            "t\n",
            "o\n",
            "n\n"
          ]
        }
      ]
    },
    {
      "cell_type": "markdown",
      "source": [
        "# -Оператор break"
      ],
      "metadata": {
        "id": "1jIWsLX5sVYx"
      }
    },
    {
      "cell_type": "code",
      "source": [
        "for var in 'Python':\n",
        "    if var == 'h':\n",
        "        break\n",
        "    print(var)"
      ],
      "metadata": {
        "colab": {
          "base_uri": "https://localhost:8080/"
        },
        "id": "V3sDAQZNsXuo",
        "outputId": "d09b9dcd-9280-40cc-f561-49102b6556cb"
      },
      "execution_count": null,
      "outputs": [
        {
          "output_type": "stream",
          "name": "stdout",
          "text": [
            "P\n",
            "y\n",
            "t\n"
          ]
        }
      ]
    },
    {
      "cell_type": "markdown",
      "source": [
        "# -Оператор else"
      ],
      "metadata": {
        "id": "YjZC2HuWsnCD"
      }
    },
    {
      "cell_type": "code",
      "source": [
        "for var in 'Python':\n",
        "    if var == 'a':\n",
        "        break \n",
        "else:\n",
        "    print('Символа a нет в слове Python')"
      ],
      "metadata": {
        "colab": {
          "base_uri": "https://localhost:8080/"
        },
        "id": "gT1e7rgrsqEE",
        "outputId": "959023af-3ac2-49fb-9831-b96d698b6c53"
      },
      "execution_count": null,
      "outputs": [
        {
          "output_type": "stream",
          "name": "stdout",
          "text": [
            "Символа a нет в слове Python\n"
          ]
        }
      ]
    },
    {
      "cell_type": "markdown",
      "source": [
        "**Задание 1**\n",
        "Задан массив из 10 чисел. Напишите программу, которая выводит их сумму.\n",
        "\n"
      ],
      "metadata": {
        "id": "iF0bYEH3tb7Q"
      }
    },
    {
      "cell_type": "code",
      "source": [
        "sum = 0\n",
        "for num in [0,1,2,3,4,5,6,7,8,9]:\n",
        "  sum = num + sum\n",
        "print (sum)\n"
      ],
      "metadata": {
        "colab": {
          "base_uri": "https://localhost:8080/"
        },
        "id": "fVvWxKTItXw4",
        "outputId": "c09bdb0c-f0ac-476a-9cd5-f15b74280957"
      },
      "execution_count": null,
      "outputs": [
        {
          "output_type": "stream",
          "name": "stdout",
          "text": [
            "45\n"
          ]
        }
      ]
    },
    {
      "cell_type": "code",
      "source": [
        "sum = 0\n",
        "for num in [1,1,1,1,1,1,1,1,1,1]:\n",
        "  sum = num + sum\n",
        "print (sum)"
      ],
      "metadata": {
        "colab": {
          "base_uri": "https://localhost:8080/"
        },
        "id": "68nbNGRmvDNp",
        "outputId": "31eaf397-f7bd-4930-9ab2-e1a9fe307f2b"
      },
      "execution_count": null,
      "outputs": [
        {
          "output_type": "stream",
          "name": "stdout",
          "text": [
            "10\n"
          ]
        }
      ]
    },
    {
      "cell_type": "markdown",
      "source": [
        "**Задание 2** Задан массив из n чисел. Напишите программу, которая считает и выводит количество чисел равных нулю."
      ],
      "metadata": {
        "id": "n5daXYJJvNmM"
      }
    },
    {
      "cell_type": "code",
      "source": [
        "sum = 0\n",
        "for num in [ 1, 0, 1, 0, 1, 0, 1, 0, 1, 0]:\n",
        "  if num == 0:\n",
        "    sum += 1\n",
        "print (sum)"
      ],
      "metadata": {
        "colab": {
          "base_uri": "https://localhost:8080/"
        },
        "id": "XNUbLovyvVXg",
        "outputId": "a54eb107-bf48-41dd-d290-42aed5d2be78"
      },
      "execution_count": null,
      "outputs": [
        {
          "output_type": "stream",
          "name": "stdout",
          "text": [
            "5\n"
          ]
        }
      ]
    },
    {
      "cell_type": "markdown",
      "source": [
        "**Задание 3** По данному натуральному n ≤ 9 выведите лесенку из n ступенек, i-я ступенька состоит из чисел от 1 до i без пробелов."
      ],
      "metadata": {
        "id": "J1aPCay1v1zi"
      }
    },
    {
      "cell_type": "code",
      "source": [
        "print(\"Enter n :\")\n",
        "n = int(input())\n",
        "\n",
        "for i in range(1, n+2):\n",
        "  j = 1\n",
        "  sum = \"\"\n",
        "  while j != i:\n",
        "    sum += str(j)\n",
        "    j += 1  \n",
        "  print(sum)\n"
      ],
      "metadata": {
        "colab": {
          "base_uri": "https://localhost:8080/"
        },
        "id": "kaW9MSNvv5YY",
        "outputId": "111b4eda-4ebd-4a10-ced7-537c539e8426"
      },
      "execution_count": null,
      "outputs": [
        {
          "output_type": "stream",
          "name": "stdout",
          "text": [
            "Enter n :\n",
            "5\n",
            "\n",
            "1\n",
            "12\n",
            "123\n",
            "1234\n",
            "12345\n"
          ]
        }
      ]
    },
    {
      "cell_type": "markdown",
      "source": [
        "**Задание 4** Дополните код из предыдущего задания, чтобы теперь получалась пирамида. То есть каждая ступень состоит из чисел от 1 до i и обратно"
      ],
      "metadata": {
        "id": "VYv5XhKSSdY6"
      }
    },
    {
      "cell_type": "code",
      "source": [
        "print(\"Enter n = [1..9] :\")\n",
        "n = int(input())\n",
        "\n",
        "for i in range(1, n + 1):\n",
        "  j = 1 \n",
        "  sum = \"\"\n",
        "  while j != i:\n",
        "      sum += str(j)\n",
        "      j += 1  \n",
        "  while i != 0:\n",
        "      sum += str(i)\n",
        "      i -= 1\n",
        "  print(n * \" \" + sum)\n",
        "  n -= 1\n",
        "\n"
      ],
      "metadata": {
        "colab": {
          "base_uri": "https://localhost:8080/"
        },
        "id": "oc7NOyx9So04",
        "outputId": "8b352e5d-c57f-4806-df17-7a2dda90c622"
      },
      "execution_count": null,
      "outputs": [
        {
          "output_type": "stream",
          "name": "stdout",
          "text": [
            "Enter n = [1..9] :\n",
            "4\n",
            "    1\n",
            "   121\n",
            "  12321\n",
            " 1234321\n"
          ]
        }
      ]
    },
    {
      "cell_type": "markdown",
      "source": [
        "**Задание 5**\n",
        "Дополните код из предыдущего задания, чтобы теперь получался ромб. То есть количество ступеней должно равняться числу n*2-1."
      ],
      "metadata": {
        "id": "Uk-fuahubvFC"
      }
    },
    {
      "cell_type": "code",
      "source": [
        "print(\"Enter n = [1..9] :\")\n",
        "n = int(input())\n",
        "count = n\n",
        "count2 = n\n",
        "step = 2\n",
        "\n",
        "for i in range(1, n + 1):\n",
        "  j = 1 \n",
        "  sum = \"\"\n",
        "  while j != i: \n",
        "      sum += str(j)\n",
        "      j += 1  \n",
        "  while i != 0:\n",
        "      sum += str(i)\n",
        "      i -= 1\n",
        "  print(n * \" \" + sum)\n",
        "  n -= 1\n",
        "\n",
        "for i in range(1, count):\n",
        "  sum2 = \"\"\n",
        "  k = 1\n",
        "  count3 = count - 1 - i\n",
        "  while k != count2:\n",
        "      sum2 += str(k)\n",
        "      k += 1  \n",
        "  while count3 != 0:\n",
        "      sum2 += str(count3)\n",
        "      count3 -= 1\n",
        "  print(step * \" \" + sum2)\n",
        "  step += 1\n",
        "  count2 -= 1\n",
        "\n",
        "  "
      ],
      "metadata": {
        "colab": {
          "base_uri": "https://localhost:8080/"
        },
        "id": "y6D4I0eZbxSW",
        "outputId": "85b6a3b4-0ba7-4b31-f549-1fffa59780e6"
      },
      "execution_count": 52,
      "outputs": [
        {
          "output_type": "stream",
          "name": "stdout",
          "text": [
            "Enter n = [1..9] :\n",
            "9\n",
            "         1\n",
            "        121\n",
            "       12321\n",
            "      1234321\n",
            "     123454321\n",
            "    12345654321\n",
            "   1234567654321\n",
            "  123456787654321\n",
            " 12345678987654321\n",
            "  123456787654321\n",
            "   1234567654321\n",
            "    12345654321\n",
            "     123454321\n",
            "      1234321\n",
            "       12321\n",
            "        121\n",
            "         1\n"
          ]
        }
      ]
    },
    {
      "cell_type": "markdown",
      "source": [
        "**Бонусное задание**\n",
        "Используя циклы, напишите код, который бы выводил данную фигуру:\n",
        "\n",
        "                       1\n",
        "                       21\n",
        "                       321  \n",
        "                       4321    \n",
        "                       54321     \n",
        "                       654321    \n",
        "                       7654321       \n",
        "                       87654321        \n",
        "                       987654321         \n",
        "                       87654321\n",
        "                       7654321\n",
        "                       654321\n",
        "                       54321\n",
        "                       4321\n",
        "                       321\n",
        "                       21\n",
        "                       1 \n",
        "\n",
        "Программа должна выводить фигуру разной величины, в зависимости от входного параметра. Значение параметра может принимать значения от 0 до 9."
      ],
      "metadata": {
        "id": "lLs6pDiXWYPX"
      }
    },
    {
      "cell_type": "code",
      "source": [
        "print(\"Enter n = [1..9] :\")\n",
        "n = int(input())\n",
        "count = n\n",
        "count2 = n\n",
        "\n",
        "for i in range(1, count):\n",
        "  sum2 = \"\"\n",
        "  while i != 0:\n",
        "      sum2 += str(i)\n",
        "      i -= 1\n",
        "  print(sum2)\n",
        "\n",
        "for i in range(1, count + 1):\n",
        "  sum = \"\"\n",
        "  count3 = count + 1 - i\n",
        "  while count3 != 0:\n",
        "      sum += str(count3)\n",
        "      count3 -= 1\n",
        "  print(sum) "
      ],
      "metadata": {
        "colab": {
          "base_uri": "https://localhost:8080/"
        },
        "id": "EAZaW3R9WdVl",
        "outputId": "c344cc7b-d376-484c-b2c3-8da36819a1d0"
      },
      "execution_count": 55,
      "outputs": [
        {
          "output_type": "stream",
          "name": "stdout",
          "text": [
            "Enter n = [1..9] :\n",
            "9\n",
            "1\n",
            "21\n",
            "321\n",
            "4321\n",
            "54321\n",
            "654321\n",
            "7654321\n",
            "87654321\n",
            "987654321\n",
            "87654321\n",
            "7654321\n",
            "654321\n",
            "54321\n",
            "4321\n",
            "321\n",
            "21\n",
            "1\n"
          ]
        }
      ]
    },
    {
      "cell_type": "markdown",
      "source": [
        "# 6.ПЕРЕМЕННЫЕ Ключевые слова\n",
        "В стандартном пакете Python 3 существуют ключевые слова, которым отведен определенный функционал. Далее мы перечислим их, чтобы вы ознакомились с ними и в будущем избежали совпадений в названии своих переменных.\n",
        "\n",
        "Ключевые слова:\n",
        "\n",
        "False - показатель ложности для булева типа;\n",
        "True - показатель истинности для булева типа;\n",
        "None - \"пустой\" объект;\n",
        "and - логический оператор И;\n",
        "with/as - менеджер контекста;\n",
        "assert - условие, вызывающее исключение, если условие ложно;\n",
        "break - оператор выхода из цикла;\n",
        "class - тип, состоящий из методов и атрибутов;\n",
        "continue - оператор перехода на следующую итерацию цикла;\n",
        "def - обозначение функции;\n",
        "del - определение функции;\n",
        "elif - условный оператор в противном случае-если;\n",
        "else - условный оператор в противном случае;\n",
        "except - оператор перехвата исключения;\n",
        "finally - выполняет инструкцию вне зависимости от исключения;\n",
        "for - оператор цикла for;                \n",
        "from - оператор импорта из модуля;\n",
        "global - оператор создания доступности обращения к переменной за пределами функции;\n",
        "if - условный оператор если;\n",
        "import - оператор импорта модуля;\n",
        "in - оператор проверки на вхождение;\n",
        "is - оператор проверки ссылаются ли 2 объекта на одно место в памяти;\n",
        "lambda - определение анонимной функции;\n",
        "nonlocal - оператор создания доступности обращения к переменной в объемлющей инструкции;\n",
        "not - логический оператор не;\n",
        "or - логический оператор или;\n",
        "pass - ничего не выполняющий оператор;\n",
        "raise - оператор вызова исключения;\n",
        "return - оператор возвращения результата;\n",
        "try - выполнить инструкции, перехватив исключения;\n",
        "while - условно-циклический оператор до тех пор;\n",
        "yield - определение функции-генератора.\n",
        "Помимо ключевых слов, в Python 3 присутствуют встроенные функции:\n",
        "\n",
        "bool(x) - преобразование к типу bool, использующая стандартную процедуру проверки истинности. Если х является ложным или опущен, возвращает значение False, в противном случае она возвращает True.\n",
        "bytearray([источник [, кодировка [ошибки]]]) - преобразование к bytearray. Bytearray - изменяемая последовательность целых чисел в диапазоне 0≤X<256. Вызванная без аргументов, возвращает пустой массив байт.\n",
        "bytes([источник [, кодировка [ошибки]]]) - возвращает объект типа bytes, который является неизменяемой последовательностью целых чисел в диапазоне 0≤X<256. Аргументы конструктора интерпретируются как для bytearray().\n",
        "complex([real[, imag]]) - преобразование к комплексному числу.\n",
        "dict([object]) - преобразование к словарю.\n",
        "float([X]) - преобразование к числу с плавающей точкой. Если аргумент не указан, возвращается 0.0.\n",
        "frozenset([последовательность]) - возвращает неизменяемое множество.\n",
        "int([object], [основание системы счисления]) - преобразование к целому числу.\n",
        "list([object]) - создает список.\n",
        "memoryview([object]) - создает объект memoryview.\n",
        "object() - возвращает безликий объект, являющийся базовым для всех объектов.\n",
        "range([start=0], stop, [step=1]) - арифметическая прогрессия от start до stop с шагом step.\n",
        "set([object]) - создает множество.\n",
        "slice([start=0], stop, [step=1]) - объект среза от start до stop с шагом step.\n",
        "str([object], [кодировка], [ошибки]) - строковое представление объекта. Использует метод __str__.\n",
        "tuple(obj) - преобразование к кортежу.\n",
        "abs(x) - возвращает абсолютную величину (модуль числа).\n",
        "all(последовательность) - возвращает True, если все элементы истинные (или, если последовательность пуста).\n",
        "any(последовательность) - возвращает True, если хотя бы один элемент - истина. Для пустой последовательности возвращает False.\n",
        "ascii(object) - как repr(), возвращает строку, содержащую представление объекта, но заменяет не-ASCII символы на экранированные последовательности.\n",
        "bin(x) - преобразование целого числа в двоичную строку.\n",
        "callable(x) - возвращает True для объекта, поддерживающего вызов (как функции).\n",
        "chr(x) - возвращает односимвольную строку, код символа которой равен x.\n",
        "classmethod(x) - представляет указанную функцию методом класса.\n",
        "compile(source, lename, mode, ags=0, dont_inherit=False) - компиляция в программный код, который впоследствии может выполниться функцией eval или exec. Строка не должна содержать символов возврата каретки или нулевые байты.\n",
        "delattr(object, name) - удаляет атрибут с именем 'name'.\n",
        "dir([object]) - список имен объекта, а если объект не указан, список имен в текущей локальной области видимости.\n",
        "divmod(a, b) - возвращает частное и остаток от деления a на b.\n",
        "enumerate(iterable, start=0) - возвращает итератор, при каждом проходе предоставляющем кортеж из номера и соответствующего члена последовательности.\n",
        "eval(expression, globals=None, locals=None) - выполняет строку программного кода.\n",
        "exec(object[, globals[, locals]]) - выполняет программный код на Python.\n",
        "filter(function, iterable) - возвращает итератор из тех элементов, для которых function возвращает истину.\n",
        "format(value[,format_spec]) - форматирование (обычно форматирование строки).\n",
        "getattr(object, name ,[default]) - извлекает атрибут объекта или default.\n",
        "globals() - словарь глобальных имен.\n",
        "hasattr(object, name) - имеет ли объект атрибут с именем 'name'.\n",
        "hash(x) - возвращает хеш указанного объекта.\n",
        "help([object]) - вызов встроенной справочной системы.\n",
        "hex(х) - преобразование целого числа в шестнадцатеричную строку.\n",
        "id(object) - возвращает \"адрес\" объекта. Это целое число, которое гарантированно будет уникальным и постоянным для данного объекта в течение срока его существования.\n",
        "input([prompt]) - возвращает введенную пользователем строку. Prompt - подсказка пользователю.\n",
        "isinstance(object, ClassInfo) - истина, если объект является экземпляром ClassInfo или его подклассом. Если объект не является объектом данного типа, функция всегда возвращает ложь.\n",
        "issubclass(класс, ClassInfo) - истина, если класс является подклассом ClassInfo. Класс считается подклассом себя.\n",
        "iter(x) - возвращает объект итератора.\n",
        "len(x) - возвращает число элементов в указанном объекте.\n",
        "locals() - словарь локальных имен.\n",
        "map(function, iterator) - итератор, получившийся после применения к каждому элементу последовательности функции function.\n",
        "max(iter, [args ...] * [, key]) - максимальный элемент последовательности.\n",
        "min(iter, [args ...] * [, key]) - минимальный элемент последовательности. next(x) - возвращает следующий элемент итератора.\n",
        "oct(х) - преобразование целого числа в восьмеричную строку.\n",
        "open(le, mode='r', buering=None, encoding=None, errors=None, newline=None, closefd=True) - открывает файл и возвращает соответствующий поток.\n",
        "ord(с) - код символа.\n",
        "pow(x, y[, r]) - идентично выражению ( x ** y ) % r.\n",
        "reversed(object) - итератор из развернутого объекта.\n",
        "repr(obj) - представление объекта.\n",
        "print([object, ...], *, sep=\" \", end='\\n', le=sys.stdout) - вывод результата на экран.\n",
        "property(fget=None, fset=None, fdel=None, doc=None) - возвращает специальный объект дескриптора.\n",
        "round(X [, N]) - округление до N знаков после запятой.\n",
        "setattr(объект, имя, значение) - устанавливает атрибут объекта.\n",
        "sorted(iterable[, key][, reverse]) - отсортированный список.\n",
        "staticmethod(function) - статический метод для функции.\n",
        "sum(iter, start=0) - сумма членов последовательности.\n",
        "super([тип [, объект или тип]]) - доступ к родительскому классу.\n",
        "type(object) - возвращает тип объекта.\n",
        "type(name, bases, dict) - возвращает новый экземпляр класса name.\n",
        "vars([object]) - словарь из атрибутов объекта. По умолчанию - словарь локальных имен.\n",
        "zip(*iters) - итератор, возвращающий кортежи, состоящие из соответствующих элементов аргументов-последовательностей."
      ],
      "metadata": {
        "id": "mMBdB8mr5PI1"
      }
    },
    {
      "cell_type": "markdown",
      "source": [
        "# 7.Числа\n",
        "\n",
        "**Целые числа (int)**\n",
        "\n",
        "\n",
        "Целые числа (int) поддерживают обычный набор математических операций.\n",
        "\n",
        "Обозначение\n",
        "\n",
        "**bold text**\n",
        "Действие\n",
        "\n",
        "\n",
        "a + b\n",
        "\n",
        "\n",
        "Сложение\n",
        "\n",
        "\n",
        "a - b\n",
        "\n",
        "\n",
        "Вычитание\n",
        "\n",
        "\n",
        "a * b\n",
        "\n",
        "\n",
        "Умножение\n",
        "\n",
        "a / b\n",
        "\n",
        "\n",
        "Деление\n",
        "\n",
        "\n",
        "a // b\n",
        "\n",
        "\n",
        "Получение целой части от деления\n",
        "\n",
        "\n",
        "a % b\n",
        "\n",
        "\n",
        "Остаток от деления\n",
        "\n",
        "-a\n",
        "\n",
        "\n",
        "Смена знака числа\n",
        "\n",
        "\n",
        "abs(a)\n",
        "\n",
        "\n",
        "Модуль числа\n",
        "\n",
        "\n",
        "divmod(a,b)\n",
        "\n",
        "\n",
        "Получение пары чисел (a // b, a % b)\n",
        "\n",
        "\n",
        "a ** b\n",
        "\n",
        "\n",
        "Возведение в степень\n",
        "\n",
        "pow(a, b[, c])\n",
        "\n",
        "\n",
        "a в степени b. Если указано число c, тогда вычисляется остаток от деления на число c\n",
        "\n",
        "**Числа с плавающей точкой (float)**\n",
        "Вещественные числа поддерживают те же операции, что и целые, однако из-за компьютерного представления, могут возникать неточности.\n",
        "\n",
        "Для округления вещественного числа можно применить метод round().\n",
        "\n",
        "Если к вещественному числу применить метод int(), т.е. привести его к целочисленному типу, тогда дробная часть просто отсекается.\n"
      ],
      "metadata": {
        "id": "Ax9MVfQD5nZE"
      }
    },
    {
      "cell_type": "markdown",
      "source": [
        "# 8.Строки"
      ],
      "metadata": {
        "id": "OF8zTCby6XxX"
      }
    },
    {
      "cell_type": "markdown",
      "source": [
        "Задание 1\n",
        "Дана строка: Abraсadabra\n",
        "\n",
        "Вывести третий символ этой строки\n",
        "Вывести предпоследний символ этой строки.\n",
        "Вывести первые пять символов этой строки.\n",
        "Вывести строку, кроме последних двух символов.\n",
        "Вывести все символы с четными индексами (считайте, что 0 - четный индекс).\n",
        "Вывести все символы с нечетными индексами.\n",
        "Вывести все символы в обратном порядке.\n",
        "Вывести все символы строки через один в обратном порядке, начиная с последнего.\n",
        "Вывести длину данной строки.\n",
        "\n"
      ],
      "metadata": {
        "id": "6hDfw77PPldH"
      }
    },
    {
      "cell_type": "code",
      "source": [
        "st='Abraсadabra'\n",
        "\n",
        "#Вывести третий символ этой строки\n",
        "print(\"Третий символ строки: \" + st[2])\n",
        "print(\"предпоследний символ этой строки: \" + st[len(st)-2])\n",
        "print(\"первые пять символов этой строки: \" + st[:5])\n",
        "print(\"строка, кроме последних двух символов: \" + st[:len(st)-2])\n",
        "print(\"все символы с четными индексами: \" + st[::2])\n",
        "print(\"все символы с нечетными индексами: \" + st[1::2])\n",
        "print(\"все символы в обратном порядке: \"  + st[::-1])\n",
        "print(\"все символы строки через один в обратном порядке, начиная с последнего: \"  + st[::-2])\n",
        "print(\"Вывести длину данной строки: \", len(st))\n",
        "\n",
        "\n",
        "\n"
      ],
      "metadata": {
        "colab": {
          "base_uri": "https://localhost:8080/"
        },
        "id": "ImBPkSJ5Pkuu",
        "outputId": "4dedc572-45c1-4219-90cc-a8236c5e243a"
      },
      "execution_count": 31,
      "outputs": [
        {
          "output_type": "stream",
          "name": "stdout",
          "text": [
            "Третий символ строки: r\n",
            "предпоследний символ этой строки: r\n",
            "первые пять символов этой строки: Abraс\n",
            "строка, кроме последних двух символов: Abraсadab\n",
            "все символы с четными индексами: Arсdba\n",
            "все символы с нечетными индексами: baaar\n",
            "все символы в обратном порядке: arbadaсarbA\n",
            "все символы строки через один в обратном порядке, начиная с последнего: abdсrA\n",
            "Вывести длину данной строки:  11\n"
          ]
        }
      ]
    },
    {
      "cell_type": "markdown",
      "source": [
        "Задание 2\n",
        "Напишите код, который обрабатывает строковые данные и возвращает их с первыми заглавными буквами в каждом слове."
      ],
      "metadata": {
        "id": "cjjO_TCn3gF-"
      }
    },
    {
      "cell_type": "code",
      "source": [
        "\n",
        "#str1 ='first пример 3строки Номер один 1два'\n",
        "str1 ='can    you   solve  it?'\n",
        "\n",
        "print(str1.title()) # Заклавные буквы все, но нам нужны слова без цифр\n",
        "\n",
        "strUpper=\"\"\n",
        "for i in str1.split():\n",
        "  if i[0].islower() and i[0].isalpha():\n",
        "      s = i[0].upper() + i[1:] # делаем 1 символ Заглавным и прибавляем строку без 1го символа\n",
        "  else:\n",
        "      s = i    \n",
        "  strUpper += s + \" \"\n",
        "print(strUpper)\n"
      ],
      "metadata": {
        "colab": {
          "base_uri": "https://localhost:8080/"
        },
        "id": "0i4zQxBW3g99",
        "outputId": "96d4eda2-32ee-4f6e-f893-0f9ea2ae7fe0"
      },
      "execution_count": 14,
      "outputs": [
        {
          "output_type": "stream",
          "name": "stdout",
          "text": [
            "Can    You   Solve  It?\n",
            "Can You Solve It? \n"
          ]
        }
      ]
    },
    {
      "cell_type": "markdown",
      "source": [
        "**Задание 3**\n",
        "\n",
        "Пароль считается надежным, если его длина составляет не менее 12 символов, при этом он должен содержать хотя бы одну заглавную букву, хотя бы одну строчную букву, хотя бы одну цифру и хотя бы один спецсимвол. Напишите код, который обрабатывает строковые данные и выводит сообщение о том, надежен ли пароль или нет. В случае, если пароль не надежен, код должен выдавать рекомендации для усиления надежности пароля.\n",
        "____________\n",
        "Цифры, которые можно использовать для пароля: '1234567890'\n",
        "\n",
        "Строчные буквы, которые можно использовать для пароля: 'abcdefghijklmnopqrstuvwxyz'\n",
        "\n",
        "Заглавные буквы, которые можно использовать для пароля: 'ABCDEFGHIJKLMNOPQRSTUVWXYZ'\n",
        "\n",
        "Спецсимволы, которые можно использовать для пароля: '!@#$%^&*()-+'\n",
        "______________\n",
        "Подставьте \"Входные данные\" в свою программу и сравните результат с выходными данными.\n",
        "1) Входные данные: 'qwerty'.\n",
        "    Выходные данные: 'Слабый пароль. Рекомендации: увеличить число символов - 6, добавить 1 заглавную букву, добавить 1 цифру, добавить 1 спецсимвол ' \n",
        "2) Входные данные: 'Qwert_Y'. \n",
        "     Выходные данные: 'Ошибка. Запрещенный спецсимвол'\n",
        "3) Входные данные: 'Q123wer123tY'. \n",
        "     Выходные данные: 'Слабый пароль. Рекомендации: добавить 1 спецсимвол'\n",
        "4) Входные данные: '@PowerRangers123@'. \n",
        "     Выходные данные: 'Сильный пароль.'"
      ],
      "metadata": {
        "id": "IFQrbS4DnY6Z"
      }
    },
    {
      "cell_type": "code",
      "source": [
        "password = \"PPPFFPGNMDMFL\"\n",
        "\n",
        "num = '1234567890'\n",
        "letters_small = 'abcdefghijklmnopqrstuvwxyz'\n",
        "letters_upper = 'ABCDEFGHIJKLMNOPQRSTUVWXYZ'\n",
        "symbols = '!@#$%^&*()-+'\n",
        "print(password)\n",
        "\n",
        "upperCase = 0\n",
        "lowerCase = 0\n",
        "countSymbols = 0\n",
        "countNumber = 0\n",
        "errorSymbol = 0\n",
        "\n",
        "for let in password:\n",
        "  if symbols.find(let)>0:\n",
        "    countSymbols += 1  \n",
        "  elif let.isupper():\n",
        "    upperCase += 1\n",
        "  elif let.islower():\n",
        "    lowerCase += 1\n",
        "  elif let.isnumeric():\n",
        "    countNumber += 1\n",
        "  else: errorSymbol += 1      \n",
        "  \n",
        "if errorSymbol > 0: \n",
        " print('Ошибка. Запрещенный спецсимвол')\n",
        "elif len(password)<12 and upperCase == 0 and countSymbols == 0 and countNumber == 0:\n",
        "     print(\"Рекомендации: увеличить число символов - \" + str(len(password)) + \", добавить 1 заглавную букву, добавить 1 цифру, добавить 1 спецсимвол\")\n",
        "elif countSymbols == 0:\n",
        "     print(\"Слабый пароль. Рекомендации: добавить 1 спецсимвол\")\n",
        "elif lowerCase == 0 and countSymbols == 0 and countNumber == 0:\n",
        "     print(\"Рекомендации: добавить 1 строчную букву, добавить 1 цифру, добавить 1 спецсимвол\")     \n",
        "else: print('Сильный пароль')   \n",
        "\n",
        "\n",
        "\n",
        "\n"
      ],
      "metadata": {
        "colab": {
          "base_uri": "https://localhost:8080/"
        },
        "id": "Ufa8fG_mnXJY",
        "outputId": "a171fa03-1bb4-4976-e30b-6b8cc06e90a5"
      },
      "execution_count": 43,
      "outputs": [
        {
          "output_type": "stream",
          "name": "stdout",
          "text": [
            "PPPFFPGNMDMFL\n",
            "Слабый пароль. Рекомендации: добавить 1 спецсимвол\n"
          ]
        }
      ]
    },
    {
      "cell_type": "markdown",
      "source": [
        "# **9.Списки**"
      ],
      "metadata": {
        "id": "fjSVDajN7vS6"
      }
    },
    {
      "cell_type": "markdown",
      "source": [
        "Списками в Python называются массивы. Они могут содержать данные различных типов. Для создания списка автоматически можно использовать метод list():\n",
        "\n",
        ">>> list('Python')\n",
        "['P','y','t','h','o','n']\n",
        "Также можно это сделать напрямую, присвоив переменной значение типа list:\n",
        "\n",
        "# Пустой список\n",
        ">>> s = []\n",
        "# список с данными разных типов\n",
        ">>> l = ['s', 'p', ['isok'], 2]\n",
        ">>> s\n",
        "[]\n",
        ">>> l\n",
        "['s', 'p', ['isok'], 2]\n",
        "Также можно использовать генераторы списков:\n",
        "\n",
        ">>> a = ['P', 'y', 't', 'h', 'o', 'n']\n",
        ">>> b = [i * 3 for i in a]\n",
        ">>> b\n",
        "['PPP', 'yyy', 'ttt', 'hhh', 'ooo', 'nnn']\n",
        "Количество элементов в списке можно узнать с помощью функции len():\n",
        "\n",
        ">>> a = ['P', 'y', 't', 'h', 'o', 'n']\n",
        ">>> len(a)\n",
        "6\n",
        "В списках, так же как и в строках, можно обратиться к элементу через индекс s[2] или s[3], для сравнение или вывода на печать:\n",
        "\n",
        ">>> s = ['P', 'y', 't', 'h', 'o', 'n'] \n",
        ">>> print(s[2], s[3])\n",
        "t h\n",
        "Генераторы списков позволяют создавать и заполнять списки. Генератор списков предполагает наличие итерируемого объекта или итератора, на основании которого будет создаваться новый список, а также выражения, которое будет производить манипуляции с извлеченными из последовательности элементами перед тем как добавить их в формируемый список. "
      ],
      "metadata": {
        "id": "-6pIzcPT73PW"
      }
    },
    {
      "cell_type": "markdown",
      "source": [
        "\n",
        "\n",
        "*   append(a) - добавляет элемент a в конец списка\n",
        "*   extend(L) - расширяет список, добавляя к концу все элементы списка L\n",
        "*   insert(i, a) - вставляет на i позицию элемент a\n",
        "*   remove(a) - удаляет первое найденное значение элемента в списке со значением a, возвращает ошибку, если такого элемента не существует\n",
        "\n",
        "*   pop(i) - удаляет i-ый элемент и возвращает его, если индекс не указан, удаляет последний элемент\n",
        "*   index(a) - возвращает индекс элемента a (индексация начинается с 0)\n",
        "\n",
        "\n",
        "*   count(a) - возвращает количество элементов со значением a\n",
        "*   sort([key = функция]) - сортирует список на основе функции, можно не прописывать функцию, тогда сортировка будет происходить по встроенному алгоритму\n",
        "\n",
        "\n",
        "*   reverse() - разворачивает список\n",
        "*   copy() - поверхностная копия списка, при присвоении переменной копии списка, значение данного списка не изменяется в случае изменения первого. Если переменной присвоить список через \"=\", тогда значение этой переменной будет меняться при изменении оригинала\n",
        "*   clear() - очищает список\n",
        "\n",
        "\n",
        "\n",
        "\n",
        "\n"
      ],
      "metadata": {
        "id": "YBlp1xlC8Qqj"
      }
    },
    {
      "cell_type": "markdown",
      "source": [
        "**Задание 1**\n",
        "Задан список с числами. Напишите программу, которая выводит все элементы списка с четными индексами в виде нового списка.\n",
        "\n",
        "1, 2, 3, 4, 5. Выходные данные: 1, 3, 5 "
      ],
      "metadata": {
        "id": "B8c8LzuJ9M-G"
      }
    },
    {
      "cell_type": "code",
      "source": [
        "list = [1, 2, 3, 4, 5]\n",
        "list[::2]\n",
        "\n"
      ],
      "metadata": {
        "colab": {
          "base_uri": "https://localhost:8080/"
        },
        "id": "y4b6IJlQ9MYC",
        "outputId": "47654a28-2f06-4eee-904a-b26712ec1f2e"
      },
      "execution_count": 3,
      "outputs": [
        {
          "output_type": "execute_result",
          "data": {
            "text/plain": [
              "[1, 3, 5]"
            ]
          },
          "metadata": {},
          "execution_count": 3
        }
      ]
    },
    {
      "cell_type": "markdown",
      "source": [
        "**Задание 2**\n",
        "Задан список с числами. Напишите программу, которая выводит все элементы списка, которые больше предыдущего, в виде отдельного списка."
      ],
      "metadata": {
        "id": "kLfXK8QAbZsu"
      }
    },
    {
      "cell_type": "code",
      "source": [
        "list = [1, 5, 2, 4, 3]\n",
        "list2 = []\n",
        "for i in range(1,len(list)):\n",
        "  if list[i]>list[i-1]:\n",
        "   list2.append(list[i])\n",
        "list2   "
      ],
      "metadata": {
        "colab": {
          "base_uri": "https://localhost:8080/"
        },
        "id": "7Tdaz-Izbcf4",
        "outputId": "9e91902e-ce42-45d5-8210-d2d5319c533e"
      },
      "execution_count": 11,
      "outputs": [
        {
          "output_type": "execute_result",
          "data": {
            "text/plain": [
              "[5, 4]"
            ]
          },
          "metadata": {},
          "execution_count": 11
        }
      ]
    },
    {
      "cell_type": "markdown",
      "source": [
        "**Задание 3**\n",
        "Задан список с числами. Напишите программу, которая меняет местами наибольший и наименьший элемент и выводит новый список.\n",
        "\n",
        "1) Входные данные: 3, 4, 5, 2, 1. Выходные данные: 3, 4, 1, 2, 5\n",
        "2) Входные данные: -3000, 3000. Выходные данные: 3000, -3000\n",
        "3) Входные данные: 1, 2, 3, 4, 5, 6, 7. Выходные данные: 7, 2, 3, 4, 5, 6, 1\n",
        "4) Входные данные: -5, 5, 10. Выходные данные: 10, 5, -5"
      ],
      "metadata": {
        "id": "SAtPKDNGfGgc"
      }
    },
    {
      "cell_type": "code",
      "source": [
        "#list = [3, 4, 5, 2, 1]\n",
        "list = [-5, 5, 10]\n",
        "\n",
        "list.sort()\n",
        "\n",
        "indexMax = list.index(list[-1])\n",
        "indexMin = list.index(list[0])\n",
        "\n",
        "max_list = list[-1]\n",
        "min_list = list[0]\n",
        "\n",
        "list.pop(indexMin)\n",
        "list.insert(indexMin, max_list)\n",
        "list.pop(indexMax)\n",
        "list.insert(indexMax, min_list)\n",
        "\n",
        "list"
      ],
      "metadata": {
        "colab": {
          "base_uri": "https://localhost:8080/"
        },
        "id": "VKqhTC3tfPGP",
        "outputId": "a83d2ac2-712c-4172-9204-b2fc8acdb62a"
      },
      "execution_count": 18,
      "outputs": [
        {
          "output_type": "execute_result",
          "data": {
            "text/plain": [
              "[10, 5, -5]"
            ]
          },
          "metadata": {},
          "execution_count": 18
        }
      ]
    },
    {
      "cell_type": "markdown",
      "source": [
        "# **10. Кортежи**"
      ],
      "metadata": {
        "id": "WWGoyjH39RW5"
      }
    },
    {
      "cell_type": "markdown",
      "source": [
        "Как говорилось ранее, кортежи это неизменяемые списки. Их удобно использовать для защиты данных, которые не должны быть изменены. Создать кортеж можно следующим образом:\n",
        "\n",
        ">>> a = (1, 2, 3, 4, 5, 6)\n",
        ">>> print(a)\n",
        "(1, 2, 3, 4, 5, 6)\n",
        "\n",
        "Чтобы создать пустой кортеж, необходимо применить метод tuple():\n",
        "\n",
        ">>> a = tuple()\n",
        ">>> print(a)\n",
        "()\n",
        "\n",
        "Если вам нужен кортеж из одного элемента, то он создается следующим образом:\n",
        "\n",
        ">>> a = (1,)\n",
        ">>> print(a)\n",
        "(1,)\n",
        "\n",
        "Если не указать на конце запятую, тогда мы получим не кортеж, а элемент того типа, который мы указали:\n",
        "\n",
        ">>> a = (1)\n",
        ">>> print(a)\n",
        "1\n",
        "\n",
        "Кстати, необязательно даже указывать скобки, кортеж можно создать и без них:\n",
        "\n",
        ">>> a = 1, 2, 3, 4\n",
        ">>> print(a)\n",
        "(1, 2, 3, 4)\n",
        "\n",
        "Над кортежами работают все операции, работающие со списками, которые не вносят изменения в список."
      ],
      "metadata": {
        "id": "iAwlAtRp9Una"
      }
    },
    {
      "cell_type": "markdown",
      "source": [
        "# **11.Словари**"
      ],
      "metadata": {
        "id": "Xghm7gkl9na4"
      }
    },
    {
      "cell_type": "markdown",
      "source": [
        "Словари - это неупорядоченные коллекции пар \"ключ-значение\". В качестве ключей могут использоваться ссылки на хешируемые объекты, а в качестве значений - ссылки на объекты любого типа. Т.к. словари являются неупорядоченными коллекциями, то к ним не применяется понятие индекса элемента и не применяется операция извлечения среза."
      ],
      "metadata": {
        "id": "EAC24wVsVFTo"
      }
    },
    {
      "cell_type": "markdown",
      "source": [
        "Определение\n",
        "\n",
        "Хешируемые объекты - объекты, которые имеют метод __hash__() и могут участвовать в операциях сравнения на равенство с помощью метода __eq__().\n",
        "\n",
        "Метод __hash__() возвращает одно и то же значение объекта на протяжении его жизненного цикла."
      ],
      "metadata": {
        "id": "EAChSXNkVIwO"
      }
    },
    {
      "cell_type": "code",
      "source": [
        ""
      ],
      "metadata": {
        "id": "KkxV7AYxVGpr"
      },
      "execution_count": null,
      "outputs": []
    },
    {
      "cell_type": "code",
      "source": [
        "d = dict(short='dict', long='dictionary')\n",
        "print(d)"
      ],
      "metadata": {
        "colab": {
          "base_uri": "https://localhost:8080/"
        },
        "id": "cjUUVFU3P3aO",
        "outputId": "a3b065e1-3337-4bc2-89e6-4c75049a1634"
      },
      "execution_count": 19,
      "outputs": [
        {
          "output_type": "stream",
          "name": "stdout",
          "text": [
            "{'short': 'dict', 'long': 'dictionary'}\n"
          ]
        }
      ]
    },
    {
      "cell_type": "code",
      "source": [
        "d = dict([(1, 1), (2, 4)])\n",
        "d"
      ],
      "metadata": {
        "colab": {
          "base_uri": "https://localhost:8080/"
        },
        "id": "WiJCj4NEQMkX",
        "outputId": "0b3f0f41-7777-414c-9015-7ec20f9fc799"
      },
      "execution_count": 21,
      "outputs": [
        {
          "output_type": "execute_result",
          "data": {
            "text/plain": [
              "{1: 1, 2: 4}"
            ]
          },
          "metadata": {},
          "execution_count": 21
        }
      ]
    },
    {
      "cell_type": "code",
      "source": [
        "d={}\n",
        "d"
      ],
      "metadata": {
        "colab": {
          "base_uri": "https://localhost:8080/"
        },
        "id": "zu92pAuKQVoa",
        "outputId": "79b3a12d-b467-47e6-a2cf-5bdef6a6a937"
      },
      "execution_count": 22,
      "outputs": [
        {
          "output_type": "execute_result",
          "data": {
            "text/plain": [
              "{}"
            ]
          },
          "metadata": {},
          "execution_count": 22
        }
      ]
    },
    {
      "cell_type": "code",
      "source": [
        "d = {'dict': 1, 'dictionary': 2}\n",
        "d"
      ],
      "metadata": {
        "colab": {
          "base_uri": "https://localhost:8080/"
        },
        "id": "q_0Lo84fQdxc",
        "outputId": "37c66334-8b78-4f5c-cedd-c55afc9f3611"
      },
      "execution_count": 24,
      "outputs": [
        {
          "output_type": "execute_result",
          "data": {
            "text/plain": [
              "{'dict': 1, 'dictionary': 2}"
            ]
          },
          "metadata": {},
          "execution_count": 24
        }
      ]
    },
    {
      "cell_type": "code",
      "source": [
        "d = dict.fromkeys(['a', 'b'])\n",
        "d"
      ],
      "metadata": {
        "colab": {
          "base_uri": "https://localhost:8080/"
        },
        "id": "9jyH-yHRQmDT",
        "outputId": "81dfc1f6-3ed1-4657-dd4e-10a929b29550"
      },
      "execution_count": 25,
      "outputs": [
        {
          "output_type": "execute_result",
          "data": {
            "text/plain": [
              "{'a': None, 'b': None}"
            ]
          },
          "metadata": {},
          "execution_count": 25
        }
      ]
    },
    {
      "cell_type": "code",
      "source": [
        "d = dict.fromkeys(['a', 'b'],100)\n",
        "d"
      ],
      "metadata": {
        "colab": {
          "base_uri": "https://localhost:8080/"
        },
        "id": "n34tBQ-eQn0-",
        "outputId": "365211e6-cf32-423b-a260-dfec06719b03"
      },
      "execution_count": 26,
      "outputs": [
        {
          "output_type": "execute_result",
          "data": {
            "text/plain": [
              "{'a': 100, 'b': 100}"
            ]
          },
          "metadata": {},
          "execution_count": 26
        }
      ]
    },
    {
      "cell_type": "code",
      "source": [
        "d = {a : a ** 2 for a in range(7)} #генератор словарей\n",
        "d"
      ],
      "metadata": {
        "colab": {
          "base_uri": "https://localhost:8080/"
        },
        "id": "lq_7Iz4RQvCP",
        "outputId": "ea3d93fc-9f3c-41ea-e8b5-2ab92cf5ffe0"
      },
      "execution_count": 28,
      "outputs": [
        {
          "output_type": "execute_result",
          "data": {
            "text/plain": [
              "{0: 0, 1: 1, 2: 4, 3: 9, 4: 16, 5: 25, 6: 36}"
            ]
          },
          "metadata": {},
          "execution_count": 28
        }
      ]
    },
    {
      "cell_type": "code",
      "source": [
        "d = {1: 2, 2: 4, 3: 9}\n",
        "\n",
        "d[9] = 4 ** 2\n",
        "d\n",
        "\n",
        "#d['1'] # ошибка - другой тип данных"
      ],
      "metadata": {
        "colab": {
          "base_uri": "https://localhost:8080/"
        },
        "id": "U-dUf1t4RDT4",
        "outputId": "86193b72-7904-4aed-9f66-7ca3164746d3"
      },
      "execution_count": 38,
      "outputs": [
        {
          "output_type": "execute_result",
          "data": {
            "text/plain": [
              "{1: 2, 2: 4, 3: 9, 9: 16}"
            ]
          },
          "metadata": {},
          "execution_count": 38
        }
      ]
    },
    {
      "cell_type": "code",
      "source": [
        "d[4] = 4 ** 2"
      ],
      "metadata": {
        "id": "XJzZHHrgRJtp"
      },
      "execution_count": 31,
      "outputs": []
    },
    {
      "cell_type": "code",
      "source": [
        "d = {'a': 1, 'b': 2}\n",
        "d.clear()\n",
        "d"
      ],
      "metadata": {
        "colab": {
          "base_uri": "https://localhost:8080/"
        },
        "id": "O0zZ4lucR15u",
        "outputId": "aed660fc-1043-4fc9-fd3c-39ac422e7c99"
      },
      "execution_count": 39,
      "outputs": [
        {
          "output_type": "execute_result",
          "data": {
            "text/plain": [
              "{}"
            ]
          },
          "metadata": {},
          "execution_count": 39
        }
      ]
    },
    {
      "cell_type": "code",
      "source": [
        "d = {'a': 1, 'b': 2}\n",
        "b=d.copy()\n",
        "b"
      ],
      "metadata": {
        "colab": {
          "base_uri": "https://localhost:8080/"
        },
        "id": "5k86JmhHR6w6",
        "outputId": "103b713e-24a7-4b66-f5bb-5e32f42fcd52"
      },
      "execution_count": 40,
      "outputs": [
        {
          "output_type": "execute_result",
          "data": {
            "text/plain": [
              "{'a': 1, 'b': 2}"
            ]
          },
          "metadata": {},
          "execution_count": 40
        }
      ]
    },
    {
      "cell_type": "code",
      "source": [
        "#fromkeys(seq[,value]) - создает словарь с ключами из seq и значением value\n",
        "d.fromkeys(['a', 'b'], 10)\n",
        "d"
      ],
      "metadata": {
        "colab": {
          "base_uri": "https://localhost:8080/"
        },
        "id": "M2jgroyMSC9Z",
        "outputId": "09de292e-6122-4628-84aa-86883ed49bab"
      },
      "execution_count": 41,
      "outputs": [
        {
          "output_type": "execute_result",
          "data": {
            "text/plain": [
              "{'a': 1, 'b': 2}"
            ]
          },
          "metadata": {},
          "execution_count": 41
        }
      ]
    },
    {
      "cell_type": "code",
      "source": [
        "#get(key[, default]) - возвращает значение ключа, но если его нет, возвращает default\n",
        "d = {'a': 1, 'b': 2}\n",
        "d.get('a')"
      ],
      "metadata": {
        "colab": {
          "base_uri": "https://localhost:8080/"
        },
        "id": "pFeiyLN2SSHp",
        "outputId": "0273e8ee-96b3-461c-d168-939b3302085b"
      },
      "execution_count": 48,
      "outputs": [
        {
          "output_type": "execute_result",
          "data": {
            "text/plain": [
              "1"
            ]
          },
          "metadata": {},
          "execution_count": 48
        }
      ]
    },
    {
      "cell_type": "code",
      "source": [
        "#items() - возвращает пары (ключ, значение)\n",
        "d = {'a': 1, 'b': 2}\n",
        "d.items()"
      ],
      "metadata": {
        "colab": {
          "base_uri": "https://localhost:8080/"
        },
        "id": "-TD4-aTWS0iq",
        "outputId": "dbb569fe-7bb9-4e58-be8f-40105b81f973"
      },
      "execution_count": 1,
      "outputs": [
        {
          "output_type": "execute_result",
          "data": {
            "text/plain": [
              "dict_items([('a', 1), ('b', 2)])"
            ]
          },
          "metadata": {},
          "execution_count": 1
        }
      ]
    },
    {
      "cell_type": "code",
      "source": [
        "# keys() - возвращает ключи в словаре\n",
        "d = {'a': 1, 'b': 2}\n",
        "print(d.keys())"
      ],
      "metadata": {
        "colab": {
          "base_uri": "https://localhost:8080/"
        },
        "id": "tiBt6BN8TCX5",
        "outputId": "854244fd-93d7-4652-e9e6-94ff1ed26858"
      },
      "execution_count": 49,
      "outputs": [
        {
          "output_type": "stream",
          "name": "stdout",
          "text": [
            "dict_keys(['a', 'b'])\n"
          ]
        }
      ]
    },
    {
      "cell_type": "code",
      "source": [
        "# pop(key[, default]) - удаляет ключ и возвращает значение. Если ключа нет, возвращает default\n",
        "\n",
        "d = {'a': 1, 'b': 2}\n",
        "d.pop('a')\n"
      ],
      "metadata": {
        "colab": {
          "base_uri": "https://localhost:8080/"
        },
        "id": "ss_OkwZ8TLwS",
        "outputId": "4642bb21-efa0-47e8-d846-496ebbf6997f"
      },
      "execution_count": 53,
      "outputs": [
        {
          "output_type": "execute_result",
          "data": {
            "text/plain": [
              "1"
            ]
          },
          "metadata": {},
          "execution_count": 53
        }
      ]
    },
    {
      "cell_type": "code",
      "source": [
        "# popitem() - удаляет и возвращает пару (ключ, значение) с конца\n",
        "\n",
        "d = {'a': 1, 'b': 2}\n",
        "d.popitem()\n"
      ],
      "metadata": {
        "colab": {
          "base_uri": "https://localhost:8080/"
        },
        "id": "IhdXtgekTbPT",
        "outputId": "2fe7ddf6-b0f2-4662-c25a-6021bdfa32eb"
      },
      "execution_count": 54,
      "outputs": [
        {
          "output_type": "execute_result",
          "data": {
            "text/plain": [
              "('b', 2)"
            ]
          },
          "metadata": {},
          "execution_count": 54
        }
      ]
    },
    {
      "cell_type": "code",
      "source": [
        "# setdefault(key[, default]) - возвращает значение ключа, но если его нет, создает ключ с значением default\n",
        "\n",
        "d = {'a': 1, 'b': 2}\n",
        "d.setdefault('c',5)"
      ],
      "metadata": {
        "colab": {
          "base_uri": "https://localhost:8080/"
        },
        "id": "G7ER5pd0TquR",
        "outputId": "d79657e4-49b2-412d-c391-3fd10f213c27"
      },
      "execution_count": 60,
      "outputs": [
        {
          "output_type": "execute_result",
          "data": {
            "text/plain": [
              "5"
            ]
          },
          "metadata": {},
          "execution_count": 60
        }
      ]
    },
    {
      "cell_type": "code",
      "source": [
        "d.setdefault('f')\n",
        "d"
      ],
      "metadata": {
        "colab": {
          "base_uri": "https://localhost:8080/"
        },
        "id": "wgr5tfwEUHf9",
        "outputId": "316c11fa-57fa-4854-a24a-8e9db7b33cb3"
      },
      "execution_count": 61,
      "outputs": [
        {
          "output_type": "execute_result",
          "data": {
            "text/plain": [
              "{'a': 1, 'b': 2, 'c': 5, 'f': None}"
            ]
          },
          "metadata": {},
          "execution_count": 61
        }
      ]
    },
    {
      "cell_type": "code",
      "source": [
        "# update([other]) - обновляет словарь, добавляя пары (ключ, значение) из other. Существующие ключи перезаписываются\n",
        "\n",
        "d = {'a': 1, 'b': 2}\n",
        "d.update({'d':5})\n",
        "print(d)"
      ],
      "metadata": {
        "colab": {
          "base_uri": "https://localhost:8080/"
        },
        "id": "UAjxua4IUTaC",
        "outputId": "b4ac48a4-1fa1-408f-b86d-f3d436a35f9c"
      },
      "execution_count": 62,
      "outputs": [
        {
          "output_type": "stream",
          "name": "stdout",
          "text": [
            "{'a': 1, 'b': 2, 'd': 5}\n"
          ]
        }
      ]
    },
    {
      "cell_type": "code",
      "source": [
        "# values() - возвращает значения в словаре\n",
        "\n",
        "d = {'a': 1, 'b': 2}\n",
        "d.values()"
      ],
      "metadata": {
        "colab": {
          "base_uri": "https://localhost:8080/"
        },
        "id": "7HL3zVPVUhZh",
        "outputId": "8613673a-5037-45fa-c022-969bdcf26054"
      },
      "execution_count": 63,
      "outputs": [
        {
          "output_type": "execute_result",
          "data": {
            "text/plain": [
              "dict_values([1, 2])"
            ]
          },
          "metadata": {},
          "execution_count": 63
        }
      ]
    },
    {
      "cell_type": "markdown",
      "source": [
        "______"
      ],
      "metadata": {
        "id": "-w8hx-deV-qH"
      }
    },
    {
      "cell_type": "markdown",
      "source": [
        "**Задание 1** Задан словарь. Напишите программу, которая будет выводить значение по заданному ключу."
      ],
      "metadata": {
        "id": "iV4de4rYVwwt"
      }
    },
    {
      "cell_type": "code",
      "source": [
        "dict = {'Hello' : 'Hi', 'Bye' : 'Goodbye', 'List' : 'Array'}\n",
        "print(\"Введите ключ:\")\n",
        "\n",
        "key = input()\n",
        "\n",
        "dict.get(key)"
      ],
      "metadata": {
        "colab": {
          "base_uri": "https://localhost:8080/",
          "height": 73
        },
        "id": "wKY3UO5IV5Xd",
        "outputId": "da8d06af-a615-4657-99ad-435d08898e02"
      },
      "execution_count": 64,
      "outputs": [
        {
          "name": "stdout",
          "output_type": "stream",
          "text": [
            "Введите ключ:\n",
            "Hello\n"
          ]
        },
        {
          "output_type": "execute_result",
          "data": {
            "text/plain": [
              "'Hi'"
            ],
            "application/vnd.google.colaboratory.intrinsic+json": {
              "type": "string"
            }
          },
          "metadata": {},
          "execution_count": 64
        }
      ]
    },
    {
      "cell_type": "markdown",
      "source": [
        "**Задание 2**\n",
        "\n",
        "Напишите программу, которая будет выполнять действие, обратное заданию 1. Программа должна производить поиск по значению и выдавать ключ."
      ],
      "metadata": {
        "id": "T-lU2RvcWoc_"
      }
    },
    {
      "cell_type": "code",
      "source": [
        "dict = {'Hello' : 'Hi', 'Bye' : 'Goodbye', 'List' : 'Array'}\n",
        "print(\"Введите значение:\")\n",
        "\n",
        "value = input()\n",
        "\n",
        "for num in dict:\n",
        "   if value in dict[num]:\n",
        "     print(f'{num}')"
      ],
      "metadata": {
        "colab": {
          "base_uri": "https://localhost:8080/"
        },
        "id": "rP8pEHDxWsv5",
        "outputId": "67cf467e-bc62-4649-e581-167f0d27f629"
      },
      "execution_count": 68,
      "outputs": [
        {
          "output_type": "stream",
          "name": "stdout",
          "text": [
            "Введите значение:\n",
            "Array\n",
            "List\n"
          ]
        }
      ]
    },
    {
      "cell_type": "markdown",
      "source": [
        "**Задание 3**\n",
        "\n",
        "Напишите программу, которая принимает список строк и выводит количество повторений данных строк в списке."
      ],
      "metadata": {
        "id": "78Zd-ZN_abGN"
      }
    },
    {
      "cell_type": "code",
      "source": [
        "list = ['abc', 'bcd', 'abc', 'abd', 'abd', 'dcd', 'abc']\n",
        "d = {}\n",
        "for string in list:\n",
        "   countString = list.count(string)\n",
        "   d.update({string:countString})\n",
        "print(d)\n",
        "for val in d:\n",
        "  print(d.get(val), end = '')"
      ],
      "metadata": {
        "colab": {
          "base_uri": "https://localhost:8080/"
        },
        "id": "MYc4gyXHaf-1",
        "outputId": "78ffc131-c813-4b19-e41c-e63ac776ca16"
      },
      "execution_count": 16,
      "outputs": [
        {
          "output_type": "stream",
          "name": "stdout",
          "text": [
            "{'abc': 3, 'bcd': 1, 'abd': 2, 'dcd': 1}\n",
            "3121"
          ]
        }
      ]
    },
    {
      "cell_type": "markdown",
      "source": [
        "_______________"
      ],
      "metadata": {
        "id": "1s2igh7kgmxe"
      }
    },
    {
      "cell_type": "markdown",
      "source": [
        "# **12.Множества**"
      ],
      "metadata": {
        "id": "6-8PawhKgoR1"
      }
    },
    {
      "cell_type": "markdown",
      "source": [
        "Как говорилось ранее, множества содержат неповторяющиеся данные в произвольном порядке. Создадим множество несколькими способами:"
      ],
      "metadata": {
        "id": "ziYZnY2Kgs7w"
      }
    },
    {
      "cell_type": "code",
      "source": [
        "a = set()\n",
        "a"
      ],
      "metadata": {
        "colab": {
          "base_uri": "https://localhost:8080/"
        },
        "id": "-sE4SBVFhABQ",
        "outputId": "33881066-0067-4efd-a459-d84a70cdc35c"
      },
      "execution_count": 17,
      "outputs": [
        {
          "output_type": "execute_result",
          "data": {
            "text/plain": [
              "set()"
            ]
          },
          "metadata": {},
          "execution_count": 17
        }
      ]
    },
    {
      "cell_type": "code",
      "source": [
        "a = set('Hello')\n",
        "a"
      ],
      "metadata": {
        "colab": {
          "base_uri": "https://localhost:8080/"
        },
        "id": "qFBCH1O1hI9C",
        "outputId": "63bfe68e-e77b-4131-f5fb-19f4a5c889ef"
      },
      "execution_count": 18,
      "outputs": [
        {
          "output_type": "execute_result",
          "data": {
            "text/plain": [
              "{'H', 'e', 'l', 'o'}"
            ]
          },
          "metadata": {},
          "execution_count": 18
        }
      ]
    },
    {
      "cell_type": "code",
      "source": [
        "a = {'a', 'b', 'c', 'd'}\n",
        "a"
      ],
      "metadata": {
        "colab": {
          "base_uri": "https://localhost:8080/"
        },
        "id": "Tjj1KolfhUpk",
        "outputId": "987b236d-4ad1-407e-89cd-11cf4a5eb699"
      },
      "execution_count": 19,
      "outputs": [
        {
          "output_type": "execute_result",
          "data": {
            "text/plain": [
              "{'a', 'b', 'c', 'd'}"
            ]
          },
          "metadata": {},
          "execution_count": 19
        }
      ]
    },
    {
      "cell_type": "code",
      "source": [
        "a = {i ** 2 for i in range(10)}\n",
        "a"
      ],
      "metadata": {
        "colab": {
          "base_uri": "https://localhost:8080/"
        },
        "id": "zyEeXOeahaMA",
        "outputId": "fbe5f627-eb6a-490b-85a1-752cebda9fcd"
      },
      "execution_count": 22,
      "outputs": [
        {
          "output_type": "execute_result",
          "data": {
            "text/plain": [
              "{0, 1, 4, 9, 16, 25, 36, 49, 64, 81}"
            ]
          },
          "metadata": {},
          "execution_count": 22
        }
      ]
    },
    {
      "cell_type": "code",
      "source": [
        ""
      ],
      "metadata": {
        "id": "JNrWUjaJiHVr"
      },
      "execution_count": 22,
      "outputs": []
    },
    {
      "cell_type": "code",
      "source": [
        "# Множества удобно использовать для удаления повторяющихся элементов:\n",
        "words = ['hello', 'daddy', 'hello', 'mum']\n",
        "set(words)\n"
      ],
      "metadata": {
        "colab": {
          "base_uri": "https://localhost:8080/"
        },
        "id": "SuACv5MdiESX",
        "outputId": "f78127d4-d437-437b-9dfa-99b860581c95"
      },
      "execution_count": 23,
      "outputs": [
        {
          "output_type": "execute_result",
          "data": {
            "text/plain": [
              "{'daddy', 'hello', 'mum'}"
            ]
          },
          "metadata": {},
          "execution_count": 23
        }
      ]
    },
    {
      "cell_type": "markdown",
      "source": [
        "Методы множеств, в основном, вызываются по схеме: set.method(). Ниже будут перечислены полезные методы для работы с множествами:"
      ],
      "metadata": {
        "id": "I5aMX74eiVXb"
      }
    },
    {
      "cell_type": "markdown",
      "source": [
        "**len(s)** - число элементов в множестве (размер множества)"
      ],
      "metadata": {
        "id": "Fdsp9wliibPn"
      }
    },
    {
      "cell_type": "code",
      "source": [
        "a = {'a', 'b', 'c', 'd'}\n",
        "len(a)"
      ],
      "metadata": {
        "colab": {
          "base_uri": "https://localhost:8080/"
        },
        "id": "wVCsPBfxidm2",
        "outputId": "6805e253-368c-45c2-9a5e-c59d9a9295d2"
      },
      "execution_count": 24,
      "outputs": [
        {
          "output_type": "execute_result",
          "data": {
            "text/plain": [
              "4"
            ]
          },
          "metadata": {},
          "execution_count": 24
        }
      ]
    },
    {
      "cell_type": "markdown",
      "source": [
        "**x in s** - принадлежит ли x множеству s"
      ],
      "metadata": {
        "id": "dvmYjvbOilTX"
      }
    },
    {
      "cell_type": "code",
      "source": [
        "a = {'a', 'b', 'c', 'd'}\n",
        "'a' in a "
      ],
      "metadata": {
        "colab": {
          "base_uri": "https://localhost:8080/"
        },
        "id": "VtM-Nb4fil-b",
        "outputId": "0453b287-2a93-415f-b519-2bdced96aef1"
      },
      "execution_count": 25,
      "outputs": [
        {
          "output_type": "execute_result",
          "data": {
            "text/plain": [
              "True"
            ]
          },
          "metadata": {},
          "execution_count": 25
        }
      ]
    },
    {
      "cell_type": "markdown",
      "source": [
        "**isdisjoint(other)** - истина, если set и other не имеют общих элементов"
      ],
      "metadata": {
        "id": "fMbWZZJ3i1os"
      }
    },
    {
      "cell_type": "code",
      "source": [
        " a = {'a', 'b', 'c', 'd'}\n",
        " a.isdisjoint('a')"
      ],
      "metadata": {
        "colab": {
          "base_uri": "https://localhost:8080/"
        },
        "id": "_2tFNTB1itKD",
        "outputId": "6c303572-f7bb-44c8-c886-9809f563c12a"
      },
      "execution_count": 26,
      "outputs": [
        {
          "output_type": "execute_result",
          "data": {
            "text/plain": [
              "False"
            ]
          },
          "metadata": {},
          "execution_count": 26
        }
      ]
    },
    {
      "cell_type": "markdown",
      "source": [
        "**issubset(other) или set <= other** - истина, если все элементы set принадлежат other"
      ],
      "metadata": {
        "id": "pEbHQyTVjJq9"
      }
    },
    {
      "cell_type": "code",
      "source": [
        "a = {'a', 'b', 'c', 'd'}\n",
        "a.issubset({'a', 'b', 'c', 'd','f','e'})"
      ],
      "metadata": {
        "colab": {
          "base_uri": "https://localhost:8080/"
        },
        "id": "YNEYmyzDjL_m",
        "outputId": "afbca049-0189-45f3-82a0-4ad2782123ba"
      },
      "execution_count": 27,
      "outputs": [
        {
          "output_type": "execute_result",
          "data": {
            "text/plain": [
              "True"
            ]
          },
          "metadata": {},
          "execution_count": 27
        }
      ]
    },
    {
      "cell_type": "markdown",
      "source": [
        "ssuperset(other) или set >= other - аналогично"
      ],
      "metadata": {
        "id": "XIlyW32LjU58"
      }
    },
    {
      "cell_type": "markdown",
      "source": [
        "**union(other, ...) или set | other |** ... - возвращает объединение нескольких множеств"
      ],
      "metadata": {
        "id": "7j784yLojWSD"
      }
    },
    {
      "cell_type": "code",
      "source": [
        "a = {'a', 'b', 'c', 'd'}\n",
        "a.union({'f','d'})"
      ],
      "metadata": {
        "colab": {
          "base_uri": "https://localhost:8080/"
        },
        "id": "qT9n2b_ejUkR",
        "outputId": "72163c95-bce8-40e9-daf8-1cf756f96cfc"
      },
      "execution_count": 28,
      "outputs": [
        {
          "output_type": "execute_result",
          "data": {
            "text/plain": [
              "{'a', 'b', 'c', 'd', 'f'}"
            ]
          },
          "metadata": {},
          "execution_count": 28
        }
      ]
    },
    {
      "cell_type": "markdown",
      "source": [
        "**intersection(other, ...) или set & other** & ... - возвращает пересечение множеств"
      ],
      "metadata": {
        "id": "6KpROm_MjixS"
      }
    },
    {
      "cell_type": "code",
      "source": [
        "a = {'a', 'b', 'c', 'd'}\n",
        "a.difference({'a','f','d'})"
      ],
      "metadata": {
        "colab": {
          "base_uri": "https://localhost:8080/"
        },
        "id": "y_rDFsQAjnuG",
        "outputId": "1fddb45a-e64b-4560-e8b5-654e2ca25c69"
      },
      "execution_count": 29,
      "outputs": [
        {
          "output_type": "execute_result",
          "data": {
            "text/plain": [
              "{'b', 'c'}"
            ]
          },
          "metadata": {},
          "execution_count": 29
        }
      ]
    },
    {
      "cell_type": "markdown",
      "source": [
        "**symmetric_difference(other); set ^ other** - возвращает множество из элементов, встречающихся в одном множестве, но не встречающиеся в обоих"
      ],
      "metadata": {
        "id": "0RXAmwBMjsBq"
      }
    },
    {
      "cell_type": "code",
      "source": [
        "a = {'a', 'b', 'c', 'd'}\n",
        "a.symmetric_difference({'a','d'})"
      ],
      "metadata": {
        "colab": {
          "base_uri": "https://localhost:8080/"
        },
        "id": "aWaSZsWxjruk",
        "outputId": "847def11-5754-46a7-bcbe-e56c25f0fb44"
      },
      "execution_count": 30,
      "outputs": [
        {
          "output_type": "execute_result",
          "data": {
            "text/plain": [
              "{'b', 'c'}"
            ]
          },
          "metadata": {},
          "execution_count": 30
        }
      ]
    },
    {
      "cell_type": "markdown",
      "source": [
        "**copy() - копия множества**\n"
      ],
      "metadata": {
        "id": "J3fTEXREkFfM"
      }
    },
    {
      "cell_type": "code",
      "source": [
        "a = {'a', 'b', 'c', 'd'}\n",
        "d = a.copy()\n",
        "d"
      ],
      "metadata": {
        "colab": {
          "base_uri": "https://localhost:8080/"
        },
        "id": "mVwvIQTikNFf",
        "outputId": "b85f172d-42b7-480b-f91b-9c2b5748cd50"
      },
      "execution_count": 31,
      "outputs": [
        {
          "output_type": "execute_result",
          "data": {
            "text/plain": [
              "{'a', 'b', 'c', 'd'}"
            ]
          },
          "metadata": {},
          "execution_count": 31
        }
      ]
    },
    {
      "cell_type": "markdown",
      "source": [
        "**update(other, ...); set |= other |** ... - объединение множеств. Метод, вносящий изменения в множество"
      ],
      "metadata": {
        "id": "TJzGQ-_OkXOA"
      }
    },
    {
      "cell_type": "code",
      "source": [
        "a = {'a', 'b', 'c', 'd'}\n",
        "a.update({'w','z'})\n",
        "print(a)"
      ],
      "metadata": {
        "colab": {
          "base_uri": "https://localhost:8080/"
        },
        "id": "84-V8KYMkY_T",
        "outputId": "9e223c34-0872-41f0-cad5-b9f783087697"
      },
      "execution_count": 32,
      "outputs": [
        {
          "output_type": "stream",
          "name": "stdout",
          "text": [
            "{'w', 'd', 'c', 'b', 'a', 'z'}\n"
          ]
        }
      ]
    },
    {
      "cell_type": "markdown",
      "source": [
        "**intersection_update(other, ...); set &= other & ...** - пересечение множеств. Метод, вносящий изменения в множество"
      ],
      "metadata": {
        "id": "qP91tz7hkkFy"
      }
    },
    {
      "cell_type": "code",
      "source": [
        "a = {'a', 'b', 'c', 'd'}\n",
        "a.intersection_update({'a','d'})\n",
        "print(a)"
      ],
      "metadata": {
        "colab": {
          "base_uri": "https://localhost:8080/"
        },
        "id": "0oa40hIAkiVy",
        "outputId": "4ce56076-eef1-4505-d156-4b3afbe9f547"
      },
      "execution_count": 33,
      "outputs": [
        {
          "output_type": "stream",
          "name": "stdout",
          "text": [
            "{'d', 'a'}\n"
          ]
        }
      ]
    },
    {
      "cell_type": "markdown",
      "source": [
        "**difference_update(other, ...); set -= other | ...** - вычитание множеств. Метод, вносящий изменения в множество"
      ],
      "metadata": {
        "id": "GXGJTJmmkzM0"
      }
    },
    {
      "cell_type": "code",
      "source": [
        "a = {'a', 'b', 'c', 'd'}\n",
        "a.symmetric_difference_update({'a','b'})\n",
        "print(a)"
      ],
      "metadata": {
        "colab": {
          "base_uri": "https://localhost:8080/"
        },
        "id": "cuIzQ50bk1xv",
        "outputId": "d92b89e6-3f4b-4130-fa60-78663d9db6b6"
      },
      "execution_count": 34,
      "outputs": [
        {
          "output_type": "stream",
          "name": "stdout",
          "text": [
            "{'d', 'c'}\n"
          ]
        }
      ]
    },
    {
      "cell_type": "markdown",
      "source": [
        "**add(elem**) - добавляет элемент в множество. Метод, вносящий изменения в множество"
      ],
      "metadata": {
        "id": "baJhhYsZk821"
      }
    },
    {
      "cell_type": "code",
      "source": [
        "a = {'a', 'b', 'c', 'd'}\n",
        "a.add('r')\n",
        "print(a)"
      ],
      "metadata": {
        "colab": {
          "base_uri": "https://localhost:8080/"
        },
        "id": "yEmA1Cc8lBaK",
        "outputId": "f4674938-0e3c-4787-ebc7-2ba5c1dc88a5"
      },
      "execution_count": 36,
      "outputs": [
        {
          "output_type": "stream",
          "name": "stdout",
          "text": [
            "{'c', 'a', 'd', 'b', 'r'}\n"
          ]
        }
      ]
    },
    {
      "cell_type": "markdown",
      "source": [
        "**remove(elem) - удаляет элемент из множества**. KeyError, если такого элемента не существует. Метод, вносящий изменения в множество"
      ],
      "metadata": {
        "id": "dJolYi6alPtT"
      }
    },
    {
      "cell_type": "code",
      "source": [
        "a = {'a', 'b', 'c', 'd'}\n",
        "a.remove('b')\n",
        "print(a)"
      ],
      "metadata": {
        "colab": {
          "base_uri": "https://localhost:8080/"
        },
        "id": "1xuT7BdklN9W",
        "outputId": "35d11845-bd5d-4dc8-fc1f-3bcaeb58a7de"
      },
      "execution_count": 37,
      "outputs": [
        {
          "output_type": "stream",
          "name": "stdout",
          "text": [
            "{'d', 'a', 'c'}\n"
          ]
        }
      ]
    },
    {
      "cell_type": "markdown",
      "source": [
        "**discard(elem)** - удаляет элемент, если он находится в множестве. Метод, вносящий изменения в множество"
      ],
      "metadata": {
        "id": "_Y_RVlBKlfhg"
      }
    },
    {
      "cell_type": "code",
      "source": [
        "a = {'a', 'b', 'c', 'd'}\n",
        "a.discard('c')\n",
        "print(a)"
      ],
      "metadata": {
        "colab": {
          "base_uri": "https://localhost:8080/"
        },
        "id": "dSc_2kbclh_w",
        "outputId": "5d54e992-97ae-468c-ee0b-3ea43830fed4"
      },
      "execution_count": 38,
      "outputs": [
        {
          "output_type": "stream",
          "name": "stdout",
          "text": [
            "{'d', 'a', 'b'}\n"
          ]
        }
      ]
    },
    {
      "cell_type": "markdown",
      "source": [
        "**pop() - удаляет первый элемент из множества.** Так как множества не упорядочены, нельзя точно сказать, какой элемент будет первым. Метод, вносящий изменения в множество"
      ],
      "metadata": {
        "id": "HXKLeDCplo6L"
      }
    },
    {
      "cell_type": "code",
      "source": [
        "a = {'a', 'b', 'c', 'd'}\n",
        "a.pop()\n",
        "print(a)"
      ],
      "metadata": {
        "colab": {
          "base_uri": "https://localhost:8080/"
        },
        "id": "77XYh13ulssO",
        "outputId": "9a000ddd-4034-4d83-b68f-24d062b6a62a"
      },
      "execution_count": 41,
      "outputs": [
        {
          "output_type": "stream",
          "name": "stdout",
          "text": [
            "{'a', 'c', 'b'}\n"
          ]
        }
      ]
    },
    {
      "cell_type": "markdown",
      "source": [
        "**clear()**- очистка множества. Метод, вносящий изменения в множество"
      ],
      "metadata": {
        "id": "SYcYj81Ml7OT"
      }
    },
    {
      "cell_type": "code",
      "source": [
        "a = {'a', 'b', 'c', 'd'}\n",
        "a.clear()\n",
        "print(a)"
      ],
      "metadata": {
        "colab": {
          "base_uri": "https://localhost:8080/"
        },
        "id": "9qsdWra_l9Kc",
        "outputId": "c02f53c2-2f6d-46de-e2ff-f7f0a1fb44f0"
      },
      "execution_count": 42,
      "outputs": [
        {
          "output_type": "stream",
          "name": "stdout",
          "text": [
            "set()\n"
          ]
        }
      ]
    },
    {
      "cell_type": "markdown",
      "source": [
        "**frozenset: единственное отличие от set заключается в том, что frozenset не меняется, соответственно, к frozenset можно применить только те методы, которые не меняют множество.**"
      ],
      "metadata": {
        "id": "AyVXRqAamGt3"
      }
    },
    {
      "cell_type": "markdown",
      "source": [
        " **Задание 1**\n",
        "Дан список чисел. Напишите программу, которая определяет, сколько в нем встречается различных чисел, используя множества."
      ],
      "metadata": {
        "id": "drVl5qeWxaXc"
      }
    },
    {
      "cell_type": "code",
      "source": [
        "ls = [1, 2, 3, 2, 1]\n",
        "len(set(ls))\n"
      ],
      "metadata": {
        "colab": {
          "base_uri": "https://localhost:8080/"
        },
        "id": "KCwF5Vx7xep9",
        "outputId": "f8a5db7c-f789-449c-9bb0-b0608aae8bbb"
      },
      "execution_count": 2,
      "outputs": [
        {
          "output_type": "execute_result",
          "data": {
            "text/plain": [
              "3"
            ]
          },
          "metadata": {},
          "execution_count": 2
        }
      ]
    },
    {
      "cell_type": "markdown",
      "source": [
        "**Задание 2**\n",
        "Даны два списка чисел. Напишите программу, которая определяет, сколько в них встречается общих чисел, используя множества."
      ],
      "metadata": {
        "id": "8Ml8YROT0HAO"
      }
    },
    {
      "cell_type": "code",
      "source": [
        "ls1 = [1, 2, 3, 4, 5, 6, 7]\n",
        "ls2 = [10, 2, 3, 4, 8]\n",
        "\n",
        "set1 = set(ls1).intersection(set(ls2))\n",
        "print(len(set1))"
      ],
      "metadata": {
        "colab": {
          "base_uri": "https://localhost:8080/"
        },
        "id": "SPBzGKBZ0IkC",
        "outputId": "8a0d083a-a7f1-4002-bb63-205c012db61c"
      },
      "execution_count": 11,
      "outputs": [
        {
          "output_type": "stream",
          "name": "stdout",
          "text": [
            "3\n"
          ]
        }
      ]
    },
    {
      "cell_type": "markdown",
      "source": [
        "**Задание 3**\n",
        "Даны два множества чисел. Напишите программу, которая определяет, является ли первое множество подмножеством второго. Множество является подмножеством другого множества, если все данные первого совпадают с частью данных из второго. Если множества совпадают, они не являются подмножествами друг друга."
      ],
      "metadata": {
        "id": "0kjNrHJk2669"
      }
    },
    {
      "cell_type": "code",
      "source": [
        "set1 = {1, 2, 3, 4, 5, 6, 7}\n",
        "set2 = {10, 9, 8, 7, 6, 5, 4, 3, 2, 1, 0}\n",
        "\n",
        "if set1.issubset(set2):\n",
        "  print(\"True\")\n",
        "elif set1 == set2:\n",
        "  print(\"Множества совпадают\")\n",
        "else:\n",
        "  print(\"False\")\n",
        "\n",
        "\n"
      ],
      "metadata": {
        "colab": {
          "base_uri": "https://localhost:8080/"
        },
        "id": "y5R8Mlfc28sv",
        "outputId": "76ba59a6-27f4-4d32-856e-7d1b68329c8c"
      },
      "execution_count": 16,
      "outputs": [
        {
          "output_type": "stream",
          "name": "stdout",
          "text": [
            "True\n"
          ]
        }
      ]
    },
    {
      "cell_type": "markdown",
      "source": [
        "# 13.Функции"
      ],
      "metadata": {
        "id": "rgdF9wds46mT"
      }
    },
    {
      "cell_type": "markdown",
      "source": [
        "Функции в Python это объекты, принимающие аргументы и возвращающие значение. Функции определяются с помощью инструкции def:"
      ],
      "metadata": {
        "id": "ewwCe7QE5ANx"
      }
    },
    {
      "cell_type": "code",
      "source": [
        "def sum(x, y):\n",
        "    return x + y\n",
        "sum(34, 12)\n",
        "#sum('abc', 'def')"
      ],
      "metadata": {
        "colab": {
          "base_uri": "https://localhost:8080/"
        },
        "id": "cFvGpCsA5EXe",
        "outputId": "5974a7a5-8db8-427f-f4f6-36ea7dc89e85"
      },
      "execution_count": 3,
      "outputs": [
        {
          "output_type": "execute_result",
          "data": {
            "text/plain": [
              "46"
            ]
          },
          "metadata": {},
          "execution_count": 3
        }
      ]
    },
    {
      "cell_type": "markdown",
      "source": [
        "Функции позволяют упаковывать часть кода для его последующего повторного вызова. В примере выше определена функция с именем sum, которая принимает два параметра x и y, и возвращает результат их суммы. Обратившись к этой функции по имени и задав параметры, мы можем получить результат:"
      ],
      "metadata": {
        "id": "6IKBIe015G-2"
      }
    },
    {
      "cell_type": "markdown",
      "source": [
        "Инструкция return позволяет вернуть значение, которое нам необходимо. Это необходимо для того, чтобы получить определенный результат и затем дальше использовать его в программе.\n",
        "\n",
        "Функция может быть любой сложности, внутри конструкции def -> return, мы можем написать любой код. Смысл в функциях заключается в том, чтобы не писать один и тот же код повторно, а просто, в нужный момент, вызывать заранее написанную функцию. Так же функция может быть без параметров или может не возвращать какое-то конкретное значение или не заканчиваться инструкцией return вовсе:"
      ],
      "metadata": {
        "id": "WJgbJ5ao5lJU"
      }
    },
    {
      "cell_type": "code",
      "source": [
        "def fun():\n",
        "    var = 'Python'\n",
        "    if len(var) >= 6:\n",
        "        print(var)\n",
        "    return           # В этом случае функция вернет значение None"
      ],
      "metadata": {
        "id": "MFEEkKIm5l5v"
      },
      "execution_count": null,
      "outputs": []
    },
    {
      "cell_type": "markdown",
      "source": [
        "Код под инструкцией def будет относиться к функции до тех пор, пока он вложен в эту инструкцию, то есть отступает от def."
      ],
      "metadata": {
        "id": "vcqNS7hF53DX"
      }
    },
    {
      "cell_type": "markdown",
      "source": [
        "Функции бывают разных типов:\n",
        "\n",
        "Глобальные функции - такие функции доступны из любой части кода файла, в котором они написаны. Глобальные функции доступны из других модулей, но об этом мы расскажем в разделе \"Подключение модулей\"."
      ],
      "metadata": {
        "id": "gLA46bgh54BW"
      }
    },
    {
      "cell_type": "code",
      "source": [
        "# Объявляем функцию \n",
        "def solve(s):\n",
        "    c = []\n",
        "    for i in range(len(s)):\n",
        "        if i%2 == 0:\n",
        "            c.append(s[i])\n",
        "    return c \n",
        "# вызываем функцию solve с заданными параметрами и выводим результат ее работы\n",
        "print(solve([1, 2, 3, 4, 5, 6, 7, 8]))"
      ],
      "metadata": {
        "colab": {
          "base_uri": "https://localhost:8080/"
        },
        "id": "eQgmX6X25_yv",
        "outputId": "86e24a17-27c7-4ba7-be9d-3f207926e660"
      },
      "execution_count": 4,
      "outputs": [
        {
          "output_type": "stream",
          "name": "stdout",
          "text": [
            "[1, 3, 5, 7]\n"
          ]
        }
      ]
    },
    {
      "cell_type": "markdown",
      "source": [
        "Локальные функции - функции, объявленные внутри других функций. Вызвать их можно только внутри функции, в которой они объявлены. Их удобно использовать, если необходима небольшая вспомогательная функция, которая больше нигде не используется."
      ],
      "metadata": {
        "id": "ENpTRMoQ6PJF"
      }
    },
    {
      "cell_type": "markdown",
      "source": [
        "Лямбда-функции - особые, анонимные функции, имеющие ряд ограничений, по сравнению с обычными функциями. Они локально решают единственную задачу. Применение такой функции выглядит, как выражение, давайте посмотрим на примере:"
      ],
      "metadata": {
        "id": "bsyBojmz6U--"
      }
    },
    {
      "cell_type": "code",
      "source": [
        "# Обычная функция \n",
        "def search_len(arg_1):\n",
        "    return len(arg_1) \n",
        "# Лямбда-функция \n",
        "result = lambda x: len(x)"
      ],
      "metadata": {
        "id": "_4ihdd626QR6"
      },
      "execution_count": 5,
      "outputs": []
    },
    {
      "cell_type": "markdown",
      "source": [
        "Обычно, лямбда-функции применяют при вызове функций, которые в качестве аргументов содержат функции. Проблема использования лямбда-функций состоит в том, что иногда усложняется читаемость кода."
      ],
      "metadata": {
        "id": "XLnTfgHe6yDU"
      }
    },
    {
      "cell_type": "code",
      "source": [
        " func = lambda x, y: x + y\n",
        " func(1, 2)\n",
        "\n",
        " func('a', 'b')\n",
        "\n",
        " (lambda x, y: x + y)(1, 2)\n",
        "\n",
        " (lambda x, y: x + y)('a', 'b')"
      ],
      "metadata": {
        "colab": {
          "base_uri": "https://localhost:8080/",
          "height": 36
        },
        "id": "vMmRq6Cp63_E",
        "outputId": "06bcc9aa-236d-4934-ee53-a965f1720ab6"
      },
      "execution_count": 6,
      "outputs": [
        {
          "output_type": "execute_result",
          "data": {
            "text/plain": [
              "'ab'"
            ],
            "application/vnd.google.colaboratory.intrinsic+json": {
              "type": "string"
            }
          },
          "metadata": {},
          "execution_count": 6
        }
      ]
    },
    {
      "cell_type": "markdown",
      "source": [
        "Методы - функции, работающие в связке с тем типом данных, который ассоциирован с данной функцией. В прошлых разделах приводились примеры методов для каждого типа. Более подробный разбор методов является частью объектно-ориентированного программирования и не входит в рамки данного курса."
      ],
      "metadata": {
        "id": "5FSsFQQV7LgA"
      }
    },
    {
      "cell_type": "markdown",
      "source": [
        "Функции могут принимать произвольное количество аргументов, для этого необходимо поставить символ * перед именем аргумента функции:"
      ],
      "metadata": {
        "id": "DHSFPj8s7OAo"
      }
    },
    {
      "cell_type": "code",
      "source": [
        "def func(*args):\n",
        "      return args\n",
        "func(1, 2, 3, 'abc')"
      ],
      "metadata": {
        "colab": {
          "base_uri": "https://localhost:8080/"
        },
        "id": "7zUqqVEi7Oxy",
        "outputId": "24236443-5b33-4f04-b0cd-1462b6d49dbb"
      },
      "execution_count": 7,
      "outputs": [
        {
          "output_type": "execute_result",
          "data": {
            "text/plain": [
              "(1, 2, 3, 'abc')"
            ]
          },
          "metadata": {},
          "execution_count": 7
        }
      ]
    },
    {
      "cell_type": "markdown",
      "source": [
        "Как мы видим в таком случае образуется кортеж из этих аргументов. Также можно принимать аргументы в виде словаря, для этого необходимо использовать символ **:"
      ],
      "metadata": {
        "id": "lLDScEhQ7YX1"
      }
    },
    {
      "cell_type": "code",
      "source": [
        "def func(**kwargs):\n",
        "        return kwargs\n",
        "func(a=1, b=2, c=3)"
      ],
      "metadata": {
        "colab": {
          "base_uri": "https://localhost:8080/"
        },
        "id": "1dr-gmbG7XXU",
        "outputId": "5d0afab8-2503-4db7-f0a7-1224f6bf4765"
      },
      "execution_count": 8,
      "outputs": [
        {
          "output_type": "execute_result",
          "data": {
            "text/plain": [
              "{'a': 1, 'b': 2, 'c': 3}"
            ]
          },
          "metadata": {},
          "execution_count": 8
        }
      ]
    },
    {
      "cell_type": "markdown",
      "source": [
        "Очень важно документировать описание к любой функции, чтобы каждый раз не разбирать написанное заново. Для этого используют строки, заключенные в тройные кавычки. Поскольку описание функции зачастую состоит более, чем из 1 строки, использование строк с тройными кавычками очень удобно. Обычно под документирование выделяют место между определением функции и началом основного кода:"
      ],
      "metadata": {
        "id": "s1TMLKVy7npY"
      }
    },
    {
      "cell_type": "code",
      "source": [
        "def solve(s):\n",
        "    ''' Функция solve(s) принимает список \n",
        "        создает пустой список   \n",
        "        находит элементы с четным индексом (включая 0) \n",
        "        заносит их в созданный список и возвращает его \n",
        "    '''\n",
        "    c = []\n",
        "    for i in range(len(s)):\n",
        "        if i%2 == 0:\n",
        "            c.append(s[i])\n",
        "    return c"
      ],
      "metadata": {
        "id": "Bayg9p3G7orB"
      },
      "execution_count": null,
      "outputs": []
    },
    {
      "cell_type": "markdown",
      "source": [
        "Переменные, которые объявляются внутри функций являются локальными. Изменение этих переменных и обращение к ним происходят только внутри функций, где они были объявлены. Если же переменные объявлены вне функций, они являются глобальными. С глобальными переменными надо обходиться осторожно. Их удобно использовать, потому что к ним можно обращаться из любой части кода и даже из других модулей, но, если в коде происходит неконтролируемое изменение глобальной переменной, то поиск ошибки может перерасти в головную боль."
      ],
      "metadata": {
        "id": "0af01M607271"
      }
    },
    {
      "cell_type": "markdown",
      "source": [
        "**Задание 1**\n",
        "Напишите программу, которая принимает арифметическое выражение в качестве аргумента и выводит результат этого выражения."
      ],
      "metadata": {
        "id": "j-mzfs1o9FR7"
      }
    },
    {
      "cell_type": "code",
      "source": [
        "def fun(expr):\n",
        "    action = {'+' : '+', '-' : '-', '/' : '/', '*' : '*', '%' : '&', '**': '**', '**x': '**x'}\n",
        "    \n",
        "    st = str(expr)\n",
        "    print(st)\n",
        "    if expr: \n",
        "        print(1)\n",
        "    return \n",
        "\n",
        "print(fun(9**))   "
      ],
      "metadata": {
        "colab": {
          "base_uri": "https://localhost:8080/"
        },
        "id": "fbPkNOix9Gw7",
        "outputId": "3707bb33-e55d-4433-c675-2a3ce4a65d48"
      },
      "execution_count": 17,
      "outputs": [
        {
          "output_type": "stream",
          "name": "stdout",
          "text": [
            "729\n",
            "1\n",
            "None\n"
          ]
        }
      ]
    },
    {
      "cell_type": "markdown",
      "source": [
        "# 14.Исключения"
      ],
      "metadata": {
        "id": "pG04r2MXDZfW"
      }
    },
    {
      "cell_type": "markdown",
      "source": [
        "Исключения - это объекты, которые выводятся на экран как строка с текстом сообщения. Обычно они вызываются функциями и методами при возникновении ошибок или других важных событий при выполнении программы. В предыдущем разделе мы ловили ошибку с помощью assert. Данная функция вызывала исключение:"
      ],
      "metadata": {
        "id": "2ht4Jl9TDcBs"
      }
    },
    {
      "cell_type": "code",
      "source": [
        "Traceback (most recent call last):\n",
        "  File \"solve.py\", line 11, in <module>\n",
        "    print(solve(123))\n",
        "  File \"solve.py\", line 3, in solve\n",
        "    assert type(s) == list\n",
        "AssertionError"
      ],
      "metadata": {
        "id": "gJKzBaaWDgh3"
      },
      "execution_count": null,
      "outputs": []
    },
    {
      "cell_type": "markdown",
      "source": [
        "уществует множество видов исключений, вот только некоторые из них:\n",
        "\n",
        "BaseException - базовое исключение, порождающее все остальные\n",
        "\n",
        "SystemExit - системное исключение, порождаемое функцией sys.exit при выходе из программы\n",
        "\n",
        "KeyboardInterrupt - системное исключение, порождаемое \n",
        "пользовательским выходом из программы с помощью сочетания клавиш \n",
        "\n",
        "ArithmeticError - арифметическая ошибка\n",
        "\n",
        "AssertionError - выражение assert ложно\n",
        "\n",
        "ImportError - ошибка импорта модуля или его атрибута\n",
        "\n",
        "IndexError - индекс не входит в диапазон элементов\n",
        "\n",
        "NameError - не найдено переменных с таким именем\n",
        "\n",
        "SyntaxError - ошибка синтаксиса\n",
        "\n",
        "TypeError - операция к объекту несоответствующего типа\n",
        "и т.д.\n",
        "Исключения позволяют понять какого рода ошибки возникают при выполнении программ. Иногда необходимо отловить ошибку конкретного вида или пропустить ее, не обращая внимания. Для этого существуют обработчики исключений.\n",
        "\n"
      ],
      "metadata": {
        "id": "ZDRUF5cwDjlW"
      }
    },
    {
      "cell_type": "markdown",
      "source": [
        "**Конструкция try...except**\n",
        "\n",
        "Конструкция try ... except позволяет перехватывать исключения, полный синтаксис выглядит следующим образом:"
      ],
      "metadata": {
        "id": "WKYlrriBDtDa"
      }
    },
    {
      "cell_type": "markdown",
      "source": [
        ""
      ],
      "metadata": {
        "id": "6pLUyGTVDurW"
      }
    },
    {
      "cell_type": "code",
      "source": [
        "try:\n",
        "    try_suite\n",
        "except exception_group1 as variable1:\n",
        "    except_suite1\n",
        "...\n",
        "except exception_groupN as variableN: \n",
        "    except_suiteN\n",
        "else:\n",
        "    else_suite\n",
        "finally:\n",
        "    finally_suite"
      ],
      "metadata": {
        "id": "vtStpvU-Dq0b"
      },
      "execution_count": null,
      "outputs": []
    },
    {
      "cell_type": "markdown",
      "source": [
        "# 15.Работа с файлами"
      ],
      "metadata": {
        "id": "54EgTACuEOwP"
      }
    },
    {
      "cell_type": "markdown",
      "source": [
        "Python позволяет работать с файлами. В качестве примера будем работать с текстовым файлом.\n",
        "Прежде чем начать работать с файлом необходимо его открыть, для этого есть метод open():"
      ],
      "metadata": {
        "id": "4ce8uFDYETpK"
      }
    },
    {
      "cell_type": "code",
      "source": [
        "f = open('test.txt', 'r')"
      ],
      "metadata": {
        "id": "Pc5g337EEWYC"
      },
      "execution_count": null,
      "outputs": []
    },
    {
      "cell_type": "markdown",
      "source": [
        "Мы присваиваем переменной f результат выполнения команды открытия файла, параметры этой команды - адрес файла, путь до места где он расположен на компьютере с названием файла(test) и его расширением(.txt), говорящим что он текстовый. Второй параметр 'r' означает, что файл открыт для чтения, то есть мы не сможем вносить изменения в этот файл до тех пор, пока он открыт только для чтения.\n",
        "\n",
        "У метода open() существует много аргументов:\n",
        "\n",
        "'r' - открытие на чтение(значение по умолчанию)\n",
        "\n",
        "'w' - открытие на запись, содержимое файла удаляется и перезаписывается заново, если файла не существует, создается новый\n",
        "\n",
        "'x' - открытие на запись, только если файла не существует\n",
        "\n",
        "'a' - открытие на дозапись, информация добавляется в конец файла\n",
        "\n",
        "'b' - открытие файла в двоичном виде\n",
        "\n",
        "'t' - открытие в текстовом режиме(значение по умолчанию)\n",
        "\n",
        "'+' - открытие на чтение и запись\n",
        "Возможно сочетание режимов, например 'rb', чтение в бинарном виде, по умолчанию установлен 'rt'.\n",
        "\n",
        "После открытия файла можно прочитать из него информацию, благодаря методу read():"
      ],
      "metadata": {
        "id": "7xfERMl7EY1C"
      }
    },
    {
      "cell_type": "code",
      "source": [
        ">>> f = open('test.txt')\n",
        ">>> f.read()\n",
        "'Python is\\nAwesome!.\\n\\n'"
      ],
      "metadata": {
        "id": "FRp5KhXEEf3G"
      },
      "execution_count": null,
      "outputs": []
    },
    {
      "cell_type": "markdown",
      "source": [
        "Также можно прочитать и вывести файл построчно:"
      ],
      "metadata": {
        "id": "H3GtnpTDEk_A"
      }
    },
    {
      "cell_type": "code",
      "source": [
        ">>> f = open('test.txt') \n",
        ">>> for line in f:\n",
        "    print(line)\n",
        "Python is\n",
        "\n",
        "Awesome!"
      ],
      "metadata": {
        "id": "j_lB7UHhEm2o"
      },
      "execution_count": null,
      "outputs": []
    },
    {
      "cell_type": "markdown",
      "source": [
        "Записать информацию в файл можно открыв файл на запись:"
      ],
      "metadata": {
        "id": "rGCnb90vEpVq"
      }
    },
    {
      "cell_type": "code",
      "source": [
        ">>> f = open('test.txt', 'w')\n",
        ">>> for i in range(1, 4):\n",
        "        f.write(i + '\\n')\n",
        "1\n",
        "2 \n",
        "3"
      ],
      "metadata": {
        "id": "yN4beibPEsDl"
      },
      "execution_count": null,
      "outputs": []
    },
    {
      "cell_type": "markdown",
      "source": [
        "По окончании работы с файлом его необходимо закрыть, используя метод close():"
      ],
      "metadata": {
        "id": "_hhGNdDwEsro"
      }
    },
    {
      "cell_type": "code",
      "source": [
        ">>> f.close()"
      ],
      "metadata": {
        "id": "gVXvdrCXEwDP"
      },
      "execution_count": null,
      "outputs": []
    },
    {
      "cell_type": "markdown",
      "source": [
        "**Задание 1**"
      ],
      "metadata": {
        "id": "Ea-1G4xcIvKc"
      }
    },
    {
      "cell_type": "code",
      "source": [
        "\n",
        "def email_gen(list_of_names):\n",
        "    emails = []\n",
        "    for i in list_of_names:\n",
        "        letter = 1\n",
        "        while i[1] + '.' + i[0][0:letter] + '@company.io' in emails:\n",
        "            letter+=1\n",
        "        emails.append(i[1] + '.' + i[0][0:letter] + '@company.io')\n",
        "    return emails\n",
        "\n",
        "fileName = \"task_file.txt\"\n",
        "\n",
        "n = 1 #считываем со второй строки\n",
        "fr = open(fileName, \"rt\")\n",
        "#fw = open(fileName, \"wt\")\n",
        "name = []\n",
        "index = 0\n",
        "email = ''\n",
        "\n",
        "for i, line in enumerate(fr):\n",
        "   line = line.replace(\"\\n\", \"\")\n",
        "   if i>=n and i < 7:\n",
        "        print(line)\n",
        "        \n",
        "        #list_string = f.readlines()\n",
        "        \n",
        "        s = []\n",
        "        s = line.split(\", \")\n",
        "         \n",
        "        if len(s[3]) >= 7 and s[1]!=\"\" and s[2]!=\"\" and s[4]!=\"\":\n",
        "           name.append([s[1],s[2]]) # создаем список из имен для функции\n",
        "           email = email_gen(name) # генерируем список email\n",
        "        else:\n",
        "           name.append([s[1],s[2]])\n",
        "           email.append('')\n",
        "\n",
        "        print(index)\n",
        "        print(email)\n",
        "        new_data = email[index]+','+ s[1] + ', ' + s[2] + ', ' + s[3]+', ' + s[4]\n",
        "        \n",
        "      \n",
        "        index +=1 \n",
        "        \n",
        "        print(new_data)\n",
        "       # fw.write(new_data)\n",
        "        \n",
        "        \n",
        "        #list_string[i] = new_data\n",
        "        #f.writelines(list_string)\n",
        "fr.close()\n",
        "#fw.close()\n",
        "\n",
        "      \n",
        "\n",
        "\n"
      ],
      "metadata": {
        "colab": {
          "base_uri": "https://localhost:8080/"
        },
        "id": "F8DVmK7yIv8P",
        "outputId": "30299c51-14c4-4052-f949-4f4ba705b79e"
      },
      "execution_count": 30,
      "outputs": [
        {
          "output_type": "stream",
          "name": "stdout",
          "text": [
            ", Ivan, Abramov, 7776514, Moscow\n",
            "0\n",
            "[['Ivan', 'Abramov']]\n",
            "['Abramov.I@company.io']\n",
            "Abramov.I@company.io,Ivan, Abramov, 7776514, Moscow\n",
            ", Alexey, Nikolaev, 1348520, Moscow\n",
            "1\n",
            "[['Ivan', 'Abramov'], ['Alexey', 'Nikolaev']]\n",
            "['Abramov.I@company.io', 'Nikolaev.A@company.io']\n",
            "Nikolaev.A@company.io,Alexey, Nikolaev, 1348520, Moscow\n",
            ", Marina, Shapar, 1111110, Moscow\n",
            "2\n",
            "[['Ivan', 'Abramov'], ['Alexey', 'Nikolaev'], ['Marina', 'Shapar']]\n",
            "['Abramov.I@company.io', 'Nikolaev.A@company.io', 'Shapar.M@company.io']\n",
            "Shapar.M@company.io,Marina, Shapar, 1111110, Moscow\n",
            ", Dmitriy, Vasilyev, 0000000, Kazan\n",
            "3\n",
            "[['Ivan', 'Abramov'], ['Alexey', 'Nikolaev'], ['Marina', 'Shapar'], ['Dmitriy', 'Vasilyev']]\n",
            "['Abramov.I@company.io', 'Nikolaev.A@company.io', 'Shapar.M@company.io', 'Vasilyev.D@company.io']\n",
            "Vasilyev.D@company.io,Dmitriy, Vasilyev, 0000000, Kazan\n",
            ", Ekaterina, Ilyina, , St.Petersburg\n",
            "4\n",
            "[['Ivan', 'Abramov'], ['Alexey', 'Nikolaev'], ['Marina', 'Shapar'], ['Dmitriy', 'Vasilyev'], ['Ekaterina', 'Ilyina']]\n",
            "['Abramov.I@company.io', 'Nikolaev.A@company.io', 'Shapar.M@company.io', 'Vasilyev.D@company.io', '']\n",
            ",Ekaterina, Ilyina, , St.Petersburg\n",
            ", Anastasiya, Grigoryan, 1928421, Ekaterinburg\n",
            "5\n",
            "[['Ivan', 'Abramov'], ['Alexey', 'Nikolaev'], ['Marina', 'Shapar'], ['Dmitriy', 'Vasilyev'], ['Ekaterina', 'Ilyina'], ['Anastasiya', 'Grigoryan']]\n",
            "['Abramov.I@company.io', 'Nikolaev.A@company.io', 'Shapar.M@company.io', 'Vasilyev.D@company.io', 'Ilyina.E@company.io', 'Grigoryan.A@company.io']\n",
            "Grigoryan.A@company.io,Anastasiya, Grigoryan, 1928421, Ekaterinburg\n"
          ]
        }
      ]
    },
    {
      "cell_type": "markdown",
      "source": [
        "# 16.Подключение модулей"
      ],
      "metadata": {
        "id": "1xbCFdU48SIf"
      }
    },
    {
      "cell_type": "code",
      "source": [
        "import random\n",
        "#password = \"PPPFFPGNMDMFL\"\n",
        "\n",
        "def gen_password():\n",
        "    chars = '1234567890abcdefghijklmnopqrstuvwxyzABCDEFGHIJKLMNOPQRSTUVWXYZ!@#$%^&*()-+'\n",
        "    password = ''\n",
        "    for i in range(12):\n",
        "        password += random.choice(chars)\n",
        "    return password\n",
        "\n",
        "\n",
        "num = '1234567890'\n",
        "letters_small = 'abcdefghijklmnopqrstuvwxyz'\n",
        "letters_upper = 'ABCDEFGHIJKLMNOPQRSTUVWXYZ'\n",
        "symbols = '!@#$%^&*()-+'\n",
        "\n",
        "upperCase = 0\n",
        "lowerCase = 0\n",
        "countSymbols = 0\n",
        "countNumber = 0\n",
        "errorSymbol = 0\n",
        "\n",
        "pas = gen_password()\n",
        "\n",
        "for let in pas:\n",
        "  if symbols.find(let)>0:\n",
        "    countSymbols += 1  \n",
        "  elif let.isupper():\n",
        "    upperCase += 1\n",
        "  elif let.islower():\n",
        "    lowerCase += 1\n",
        "  elif let.isnumeric():\n",
        "    countNumber += 1\n",
        "  else: errorSymbol += 1      \n",
        "  \n",
        "if errorSymbol > 0: \n",
        " print('Ошибка. Запрещенный спецсимвол')\n",
        "elif len(pas)<12 and upperCase == 0 and countSymbols == 0 and countNumber == 0:\n",
        "     print(\"Рекомендации: увеличить число символов - \" + str(len(password)) + \", добавить 1 заглавную букву, добавить 1 цифру, добавить 1 спецсимвол\")\n",
        "elif countSymbols == 0:\n",
        "     print(\"Слабый пароль. Рекомендации: добавить 1 спецсимвол\")\n",
        "elif lowerCase == 0 and countSymbols == 0 and countNumber == 0:\n",
        "     print(\"Рекомендации: добавить 1 строчную букву, добавить 1 цифру, добавить 1 спецсимвол\")     \n",
        "else: print('Сильный пароль')   \n"
      ],
      "metadata": {
        "colab": {
          "base_uri": "https://localhost:8080/"
        },
        "id": "0iG7pDsS845Z",
        "outputId": "7afcdb01-c104-4385-c6c6-17be20e9acc6"
      },
      "execution_count": 38,
      "outputs": [
        {
          "output_type": "stream",
          "name": "stdout",
          "text": [
            "Сильный пароль\n"
          ]
        }
      ]
    },
    {
      "cell_type": "markdown",
      "source": [
        ""
      ],
      "metadata": {
        "id": "Ml5rLui68X9s"
      }
    }
  ]
}