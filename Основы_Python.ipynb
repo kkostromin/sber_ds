{
  "nbformat": 4,
  "nbformat_minor": 0,
  "metadata": {
    "colab": {
      "name": "Основы Python.ipynb",
      "provenance": [],
      "toc_visible": true,
      "authorship_tag": "ABX9TyMdNwRg8NnhtHGAiJPO/q3k",
      "include_colab_link": true
    },
    "kernelspec": {
      "name": "python3",
      "display_name": "Python 3"
    },
    "language_info": {
      "name": "python"
    }
  },
  "cells": [
    {
      "cell_type": "markdown",
      "metadata": {
        "id": "view-in-github",
        "colab_type": "text"
      },
      "source": [
        "<a href=\"https://colab.research.google.com/github/kkostromin/sber_ds/blob/main/%D0%9E%D1%81%D0%BD%D0%BE%D0%B2%D1%8B_Python.ipynb\" target=\"_parent\"><img src=\"https://colab.research.google.com/assets/colab-badge.svg\" alt=\"Open In Colab\"/></a>"
      ]
    },
    {
      "cell_type": "markdown",
      "source": [
        "# **1.Синтаксис**\n",
        "\n",
        "---\n",
        "\n"
      ],
      "metadata": {
        "id": "LSnmOZzTpqNk"
      }
    },
    {
      "cell_type": "code",
      "execution_count": null,
      "metadata": {
        "id": "CDWVREoDpcJR"
      },
      "outputs": [],
      "source": [
        ""
      ]
    }
  ]
}