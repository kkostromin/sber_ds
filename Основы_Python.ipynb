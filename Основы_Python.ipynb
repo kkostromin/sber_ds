{
  "nbformat": 4,
  "nbformat_minor": 0,
  "metadata": {
    "colab": {
      "name": "Основы Python.ipynb",
      "provenance": [],
      "toc_visible": true,
      "authorship_tag": "ABX9TyPS6zeltcxfuEo+HbYDfG8x",
      "include_colab_link": true
    },
    "kernelspec": {
      "name": "python3",
      "display_name": "Python 3"
    },
    "language_info": {
      "name": "python"
    }
  },
  "cells": [
    {
      "cell_type": "markdown",
      "metadata": {
        "id": "view-in-github",
        "colab_type": "text"
      },
      "source": [
        "<a href=\"https://colab.research.google.com/github/kkostromin/sber_ds/blob/main/%D0%9E%D1%81%D0%BD%D0%BE%D0%B2%D1%8B_Python.ipynb\" target=\"_parent\"><img src=\"https://colab.research.google.com/assets/colab-badge.svg\" alt=\"Open In Colab\"/></a>"
      ]
    },
    {
      "cell_type": "markdown",
      "source": [
        "# **1.Синтаксис**\n",
        "\n",
        "---\n",
        "\n"
      ],
      "metadata": {
        "id": "LSnmOZzTpqNk"
      }
    },
    {
      "cell_type": "code",
      "execution_count": null,
      "metadata": {
        "colab": {
          "base_uri": "https://localhost:8080/"
        },
        "id": "CDWVREoDpcJR",
        "outputId": "47100ef7-8ca3-4642-ae34-df65adb7c08d"
      },
      "outputs": [
        {
          "output_type": "stream",
          "name": "stdout",
          "text": [
            "Python is awesome!\n",
            "first string\n",
            "11\n"
          ]
        }
      ],
      "source": [
        "print(\"Python is awesome!\") \n",
        "var = \"first string\" \n",
        "print(var) \n",
        "var = 2 + 9 \n",
        "print(var) \n"
      ]
    },
    {
      "cell_type": "markdown",
      "source": [
        "кавычки"
      ],
      "metadata": {
        "id": "bfAC3WVxsnAa"
      }
    },
    {
      "cell_type": "code",
      "source": [
        "print(\"String\") \n",
        "print('String') \n",
        "print('''Str \n",
        "... ing''')\n",
        "print('Str\"ing')\n"
      ],
      "metadata": {
        "colab": {
          "base_uri": "https://localhost:8080/"
        },
        "id": "shUwke8ZsR7F",
        "outputId": "0055ab20-5f24-4bd4-8cbf-798726d6dbb5"
      },
      "execution_count": null,
      "outputs": [
        {
          "output_type": "stream",
          "name": "stdout",
          "text": [
            "String\n",
            "String\n",
            "Str \n",
            "... ing\n",
            "Str\"ing\n"
          ]
        }
      ]
    },
    {
      "cell_type": "markdown",
      "source": [
        "Комментарии"
      ],
      "metadata": {
        "id": "j2o8DVE8srUE"
      }
    },
    {
      "cell_type": "code",
      "source": [
        "print(\"комментарий справа\") # Функция print() позволяет выводить результат на экран комментарий справа"
      ],
      "metadata": {
        "id": "g-jbH3K7slkD"
      },
      "execution_count": null,
      "outputs": []
    },
    {
      "cell_type": "markdown",
      "source": [
        "Вложенные инструкции"
      ],
      "metadata": {
        "id": "a_BB0Xugszmx"
      }
    },
    {
      "cell_type": "code",
      "source": [
        "#инструкция объявляющая переменную var и присваивающая ей значение равное 5 \n",
        "var = 5\n",
        "#основная инструкция 1\n",
        "if var < 3: \n",
        "#вложенная инструкция, отступает от основной инструкции 1 \n",
        "    print(\"less\") \n",
        "#основная инструкция 2 \n",
        "else: \n",
        "#вложенная инструкция, отступает от основной инструкции 2 \n",
        "    print(\"more\")"
      ],
      "metadata": {
        "colab": {
          "base_uri": "https://localhost:8080/"
        },
        "id": "7phLWZcHszBI",
        "outputId": "802b76ac-22de-4745-e434-9079b1a97e83"
      },
      "execution_count": null,
      "outputs": [
        {
          "output_type": "stream",
          "name": "stdout",
          "text": [
            "more\n"
          ]
        }
      ]
    },
    {
      "cell_type": "code",
      "source": [
        "# объявляем переменную var равную 5 \n",
        "var = 5\n",
        "# основная инструкция \n",
        "if var > 3: \n",
        "# вложенная инструкция уровня 1 \n",
        "    if var > 4: \n",
        "# вложенная инструкция уровня 2, отступает на 4 пробела от \n",
        "# вложенной инструкции уровня 1 \n",
        "        print(\"more than 4\")\n",
        "        \n",
        "if var < 3: print(\"like this\")"
      ],
      "metadata": {
        "colab": {
          "base_uri": "https://localhost:8080/"
        },
        "id": "I_P_bNLptApT",
        "outputId": "6cce1b99-20c3-4e34-c2e4-1ddaada4b3f6"
      },
      "execution_count": null,
      "outputs": [
        {
          "output_type": "stream",
          "name": "stdout",
          "text": [
            "like this\n"
          ]
        }
      ]
    },
    {
      "cell_type": "markdown",
      "source": [
        "# 2.Типы и объекты"
      ],
      "metadata": {
        "id": "YuVFh9UstVrJ"
      }
    },
    {
      "cell_type": "markdown",
      "source": [
        "**None type**"
      ],
      "metadata": {
        "id": "nYCkS9yMuqi0"
      }
    },
    {
      "cell_type": "code",
      "source": [
        "null_variable = None \n",
        "not_null_variable = 'something' \n",
        "if null_variable == None: \n",
        "    print('null_variable is None') \n",
        "else: \n",
        "    print('null_variable is not None') \n",
        "if not_null_variable == None: \n",
        "    print('not_null_variable is None') \n",
        "else: \n",
        "    print('not_null_variable is not None')"
      ],
      "metadata": {
        "colab": {
          "base_uri": "https://localhost:8080/"
        },
        "id": "NLJrOyJPtZ4f",
        "outputId": "ebb2ac22-50cb-46eb-ccb2-28dad2f733d2"
      },
      "execution_count": null,
      "outputs": [
        {
          "output_type": "stream",
          "name": "stdout",
          "text": [
            "null_variable is None\n",
            "not_null_variable is not None\n"
          ]
        }
      ]
    },
    {
      "cell_type": "markdown",
      "source": [
        "**Логический тип данных (bool)**"
      ],
      "metadata": {
        "id": "OBYLRySHvGzp"
      }
    },
    {
      "cell_type": "code",
      "source": [
        "a = 0\n",
        "b = 1\n",
        "print(a < b)\n",
        "print(a > b)\n",
        "print(a == b)"
      ],
      "metadata": {
        "colab": {
          "base_uri": "https://localhost:8080/"
        },
        "id": "63tuzmvTvJPI",
        "outputId": "342673ac-ddaf-45b5-f403-3dd046b3db4a"
      },
      "execution_count": null,
      "outputs": [
        {
          "output_type": "stream",
          "name": "stdout",
          "text": [
            "True\n",
            "False\n",
            "False\n"
          ]
        }
      ]
    },
    {
      "cell_type": "markdown",
      "source": [
        "**Целые числа** используются для стандартных арифметических операций, когда нас не интересует точность, до n-го знака.\n",
        "\n",
        "int - целое число\n",
        "\n",
        "Напротив, числа, применяющиеся для точных вычислений до n-го знака после запятой - **числа с плавающей точкой**. При арифметическом взаимодействии двух типов (int и float), результат всегда будет иметь тип float.\n",
        "\n",
        "float - число с плавающей точкой\n",
        "Комплексные числа предназначены для более сложных математических вычислений, они состоят из вещественной и мнимой части.\n",
        "\n",
        "complex - **комплексное число**"
      ],
      "metadata": {
        "id": "kt_dtK4Cvd8q"
      }
    },
    {
      "cell_type": "markdown",
      "source": [
        "# -Типы коллекций\n",
        "**Списки** являются своего рода хранилищем данных разного типа, другими словами списки это массивы, только хранить они могут данные разных типов. Более подробно об этом типе будет рассказано в разделе \"Списки\".\n",
        "\n",
        "list - список\n",
        " \n",
        "\n",
        "**Кортеж** - это список, который после создания нельзя изменить, очень полезно его использовать для защиты \"от дурака\", чтобы по ошибке данные не были изменены.\n",
        "\n",
        "Более подробно об этом типе будет рассказано в разделе \"Кортежи\".\n",
        "\n",
        "tuple - кортеж\n",
        " \n",
        "\n",
        "Генератор списков используется, когда нам нужно вывести последовательность целых чисел. Более\n",
        "\n",
        "подробно об этом типе будет рассказано в уроке \"Циклы\".\n",
        "\n",
        "range - диапазон, неизменяемая последовательность целых чисел.\n",
        " \n",
        "\n",
        "**Множества** - коллекции для неповторяющихся данных, хранящие эти данные в случайном порядке.\n",
        "\n",
        "set - множество\n",
        "frozenset - неизменяемое множество\n",
        "Более подробно об этих типах будет рассказано в разделе \"Множества\".\n",
        "\n",
        " \n",
        "\n",
        "**Словари** - являются набором пар \"ключ\"-\"значение\", довольно удобный тип данных для формирований структур. Более подробно об этом типе будет рассказано в разделе \"Словари\".\n",
        "\n",
        "dict - словарь\n",
        " \n",
        "\n",
        "Следующие два типа перечислены для ознакомления, в дальнейшем мы не будем уделять им практического значения в рамках данного курса.\n",
        "\n",
        "**Байт**  - это минимальная единица хранения и обработки цифровой информации. Данный тип допускает возможность производить изменение кодировки символов в зависимости от задач.\n",
        "\n",
        "bytes - байты\n",
        " \n",
        "\n",
        "Последовательность байт  - представляет собой некую информацию (текст, картинка и т.д.). Помимо изменения кодировки, имеет дополнительные возможности применять методы к перекодированным строкам и вносить изменения.\n",
        "\n",
        " \n",
        "\n",
        "bytearray - массивы байт"
      ],
      "metadata": {
        "id": "ozjEYxt8v54P"
      }
    },
    {
      "cell_type": "code",
      "source": [
        "#type(None)\n",
        "#type(True)\n",
        "#type(False)\n",
        "#type(1)\n",
        "#type(5.3)\n",
        "#type(5 + 4j)\n",
        "#type([1, 5.3, False, 4])\n",
        "#type((1, True, 3, 5+4j))\n",
        "#type(range(5))\n",
        "#type('Hello')\n",
        "#type(b'a')\n",
        "#type(bytearray([1,2,3]))\n",
        "#type(memoryview(bytearray('XYZ', 'utf-8')))\n",
        "type({'a', 3, True})\n",
        "type(frozenset({1, 2, 3}))\n",
        "type({'a' : 32})"
      ],
      "metadata": {
        "colab": {
          "base_uri": "https://localhost:8080/"
        },
        "id": "unvRTga7vglb",
        "outputId": "b6387390-efff-4a81-e7e4-e7c49bf09a97"
      },
      "execution_count": null,
      "outputs": [
        {
          "output_type": "execute_result",
          "data": {
            "text/plain": [
              "dict"
            ]
          },
          "metadata": {},
          "execution_count": 9
        }
      ]
    },
    {
      "cell_type": "markdown",
      "source": [
        "# 3.Типы операторов"
      ],
      "metadata": {
        "id": "eu8EFTTOAayC"
      }
    },
    {
      "cell_type": "markdown",
      "source": [
        " **Арифметические операторы**\n",
        "Символ\n",
        "\n",
        "\n",
        "Описание\n",
        "\n",
        "\n",
        "Пример\n",
        "\n",
        "\n",
        "+\n",
        "\n",
        "\n",
        "Оператор суммы\n",
        "\n",
        "\n",
        ">>> print(5 + 8)\n",
        "\n",
        "13\n",
        "\n",
        "\n",
        "-\n",
        "\n",
        "\n",
        "Оператор разности\n",
        "\n",
        "\n",
        ">>> print(31 - 2)\n",
        "\n",
        "29\n",
        "\n",
        "\n",
        "*\n",
        "\n",
        "\n",
        "Оператор произведения\n",
        "\n",
        "\n",
        ">>> print(12 * 9)\n",
        "\n",
        "108\n",
        "\n",
        "\n",
        "/\n",
        "\n",
        "\n",
        "Оператор деления\n",
        "\n",
        "\n",
        ">>> print(6 / 4)\n",
        "\n",
        "1.5\n",
        "\n",
        "\n",
        "%\n",
        "\n",
        "\n",
        "Оператор получения остатка от деления\n",
        "\n",
        "\n",
        ">>> print(6 % 4)\n",
        "\n",
        "2\n",
        "\n",
        "\n",
        "**\n",
        "\n",
        "\n",
        "Оператор возведения в степень\n",
        "\n",
        "\n",
        ">>> print(9 ** 2)\n",
        "\n",
        "81\n",
        "\n",
        "\n",
        "//\n",
        "\n",
        "\n",
        "Оператор целочисленного деления\n",
        "\n",
        "\n",
        ">>> print(6 // 4)\n",
        "\n",
        "1\n",
        "\n",
        "\n",
        "\n",
        "\n",
        "\n"
      ],
      "metadata": {
        "id": "NtSWmK_uA4r7"
      }
    },
    {
      "cell_type": "markdown",
      "source": [
        "**Операторы сравнения (реляционные)**\n",
        "\n",
        "==\n",
        "\n",
        "\n",
        "Проверяет, равны ли операнды между собой. Если они равны, то выражение становится истинным.\n",
        "\n",
        "\n",
        ">>> print(5 == 5)\n",
        "\n",
        "True\n",
        ">>> print(6 == 44)\n",
        "\n",
        "False\n",
        "\n",
        "\n",
        "!=\n",
        "\n",
        "\n",
        "Проверяет, равны ли операнды между собой. Если они не равны, то выражение становится истинным.\n",
        "\n",
        "\n",
        ">>> print(12 != 12)\n",
        "\n",
        "False\n",
        ">>> print(1231 != 0.4)\n",
        "\n",
        "True\n",
        "\n",
        "\n",
        ">\n",
        "\n",
        "\n",
        "Проверяет, больше ли левый операнд чем правый, если больше, то выражение становится истинным.\n",
        "\n",
        "\n",
        ">>> print(53 > 23)\n",
        "\n",
        "True\n",
        ">>> print(432 >500)\n",
        "\n",
        "False\n",
        "\n",
        "\n",
        "<\n",
        "\n",
        "\n",
        "Проверяет, меньше ли левый операнд чем правый, если меньше, то выражение становится истинным.\n",
        "\n",
        "\n",
        ">>> print(5 < 51)\n",
        "\n",
        "True\n",
        ">>> print(6 < 4)\n",
        "\n",
        "False\n",
        "\n",
        "\n",
        ">=\n",
        "\n",
        "\n",
        "Проверяет, больше левый операнд, чем правый, или равен ему. Если больше или равен, то выражение становится истинным.\n",
        "\n",
        "\n",
        ">>> print(5 >= 5)\n",
        "\n",
        "True\n",
        ">>> print(6 >=44)\n",
        "\n",
        "False\n",
        "\n",
        "\n",
        "<=\n",
        "\n",
        "\n",
        "Проверяет, меньше левый операнд, чем правый, или равен ему. Если меньше или равен, то выражение становится истинным.\n",
        "\n",
        "\n",
        ">>> print(32 <= 232)\n",
        "\n",
        "True\n",
        ">>> print(65 <= 9)\n",
        "\n",
        "False"
      ],
      "metadata": {
        "id": "q5glEG-kBYBl"
      }
    },
    {
      "cell_type": "markdown",
      "source": [
        "**Операторы присваивания**\n",
        "\n",
        "Символ\n",
        "\n",
        "\n",
        "Описание\n",
        "\n",
        "\n",
        "Пример\n",
        "\n",
        "\n",
        "=\n",
        "\n",
        "\n",
        "Присваивает значение правого операнда левому\n",
        "\n",
        "\n",
        ">>> var = 5\n",
        "\n",
        ">>> print(var)\n",
        "\n",
        "5\n",
        "\n",
        "\n",
        "+=\n",
        "\n",
        "\n",
        "Прибавляет значение правого операнда к левому и присваивает левому. a += b эквивалентно записи\n",
        "a=a+b\n",
        "\n",
        "\n",
        ">>> var = 5\n",
        "\n",
        ">>> var += 4\n",
        "\n",
        ">>> print(var)\n",
        "\n",
        "9\n",
        "\n",
        "\n",
        "-=\n",
        "\n",
        "\n",
        "Отнимает значение у левого операнда правое и присваивает левому. a -= b эквивалентно записи a = a -b\n",
        "\n",
        "\n",
        ">>> var = 5\n",
        "\n",
        ">>> var -= 2\n",
        "\n",
        ">>> print(var)\n",
        "\n",
        "3\n",
        "\n",
        "\n",
        "*=\n",
        "\n",
        "\n",
        "Умножает значение левого операнда на правое и присваивает левому. a *= b эквивалентно записи a=a*b\n",
        "\n",
        "\n",
        ">>> var = 5\n",
        "\n",
        ">>> var *= 10\n",
        "\n",
        ">>> print(var)\n",
        "\n",
        "50\n",
        "\n",
        "\n",
        "/=\n",
        "\n",
        "\n",
        "Делит значение левого операнда на правое и присваивает левому. a /= b эквивалентно записи a=a/b\n",
        "\n",
        "\n",
        ">>> var = 5\n",
        "\n",
        ">>> var /= 4\n",
        "\n",
        ">>> print(var)\n",
        "\n",
        "1.25\n",
        "\n",
        "\n",
        "%=\n",
        "\n",
        "\n",
        "Делит с остатком значение левого операнда на правое и присваивает остаток левому. a %= b эквивалентно записи a = a % b\n",
        "\n",
        "\n",
        ">>> var = 5\n",
        "\n",
        ">>> var %= 10\n",
        "\n",
        ">>>print(var)\n",
        "5\n",
        "\n",
        "**=\n",
        "\n",
        "\n",
        "Возводит значение левого операнда в степень правого и присваивает левому. a **= b эквивалентно записи a = a ** b\n",
        "\n",
        "\n",
        ">>> var = 5\n",
        "\n",
        ">>> var **= 8\n",
        "\n",
        ">>>print(var)\n",
        "\n",
        "390625\n",
        "\n",
        "\n",
        "//=\n",
        "\n",
        "\n",
        "Целочисленно делит значение левого операнда на правое и присваивает левому. a //= b эквивалентно записи a = a // b\n",
        "\n",
        "\n",
        ">>> var = 5\n",
        "\n",
        ">>> var //= 30\n",
        "\n",
        ">>>print(var)\n",
        "\n",
        "0"
      ],
      "metadata": {
        "id": "4Xkcy4WFBgf-"
      }
    },
    {
      "cell_type": "code",
      "source": [
        "var = 5\n",
        "\n",
        "var %= 10\n",
        "\n",
        "print(var)"
      ],
      "metadata": {
        "colab": {
          "base_uri": "https://localhost:8080/"
        },
        "id": "DOHIsKwNAeBL",
        "outputId": "1f3e3a4a-df4c-4b01-b0f5-2ed04e48cea1"
      },
      "execution_count": null,
      "outputs": [
        {
          "output_type": "stream",
          "name": "stdout",
          "text": [
            "5\n"
          ]
        }
      ]
    },
    {
      "cell_type": "markdown",
      "source": [
        "**Побитовые операторы**\n",
        "\n",
        "Данные операторы работают с данными в двоичной системе счисления. Например число 13 в двоичной системе будет равно 1101\n",
        "\n",
        "Символ\n",
        "\n",
        "\n",
        "Описание\n",
        "\n",
        "\n",
        "Пример (в двоичной системе)\n",
        "\n",
        "\n",
        "&\n",
        "\n",
        "\n",
        "Бинарный \"И\" оператор, копирует бит в результат только если бит присутствует в обоих операндах\n",
        "\n",
        "\n",
        "0&0=0\n",
        "\n",
        "1&0=0\n",
        "\n",
        "0&1=0\n",
        "\n",
        "1&1=1\n",
        "\n",
        "101 & 110 = 100\n",
        "\n",
        "\n",
        "|\n",
        "\n",
        "\n",
        "Бинарный \"ИЛИ\" оператор копирует бит, если тот присутствует в хотя бы в одном операнде\n",
        "\n",
        "\n",
        "0|0=0\n",
        "\n",
        "1|0=1\n",
        "\n",
        "0|1=1\n",
        "\n",
        "1|1=1\n",
        "\n",
        "101 | 110 = 111\n",
        "\n",
        "\n",
        "^\n",
        "\n",
        "\n",
        "Бинарный \"Исключительное ИЛИ\" оператор копирует бит только если бит присутствует в одном из операндов, но не в обоих сразу\n",
        "\n",
        "\n",
        "0^0=0\n",
        "\n",
        "1^0=1\n",
        "\n",
        "0^1=1\n",
        "\n",
        "1^1=0\n",
        "101 ^ 110 = 011\n",
        "\n",
        "\n",
        "~\n",
        "\n",
        "\n",
        "Побитовая операция \"НЕ\". Для числа a соответствует -(a+1)\n",
        "\n",
        "\n",
        "~1 = -10\n",
        "~0 = -1\n",
        "\n",
        "~101 = -110\n",
        "\n",
        "\n",
        ">>\n",
        "\n",
        "\n",
        "Побитовый сдвиг вправо. Значение левого операнда \"сдвигается\" вправо на количество бит указанных в правом операнде\n",
        "\n",
        "\n",
        "100 >> 2 = 001\n",
        "\n",
        "\n",
        "<<\n",
        "\n",
        "\n",
        "Побитовый сдвиг влево. Значение левого операнда \"сдвигается\" влево на количество бит указанных в правом операнде\n",
        "\n",
        "\n",
        "100 << 2 = 10000\n",
        "\n",
        "\n"
      ],
      "metadata": {
        "id": "VmW_vGMDDi2I"
      }
    },
    {
      "cell_type": "markdown",
      "source": [
        "**Логические операторы**\n",
        "\n",
        "and\n",
        "\n",
        "\n",
        "Логический оператор \"И\". Условие будет истинным если оба операнда истина\n",
        "\n",
        "\n",
        "True and True = True.\n",
        "\n",
        "True and False = False.\n",
        "\n",
        "False and True = False.\n",
        "\n",
        "False and False = False.\n",
        "\n",
        "\n",
        "or\n",
        "\n",
        "\n",
        "Логический оператор \"ИЛИ\". Если хотя бы один из операндов истинный, то и все выражение будет истинным\n",
        "\n",
        "\n",
        "True or True = True.\n",
        "\n",
        "True or False = True.\n",
        "\n",
        "False or True = True.\n",
        "\n",
        "False or False = False.\n",
        "\n",
        "\n",
        "not\n",
        "\n",
        "\n",
        "Логический оператор \"НЕ\". Изменяет логическое значение операнда на противоположное\n",
        "\n",
        "\n",
        "not True = False.\n",
        "\n",
        "not False = True."
      ],
      "metadata": {
        "id": "vx7m6Um2DqBc"
      }
    },
    {
      "cell_type": "markdown",
      "source": [
        "**Операторы членства**\n",
        "\n",
        "in\n",
        "\n",
        "\n",
        "Возвращает истину, если элемент присутствует в последовательности, иначе возвращает ложь\n",
        "\n",
        "\n",
        ">>> print('he' in 'hello')\n",
        "\n",
        "True\n",
        "\n",
        ">>> print(5 in [1, 2, 3, 4, 5])\n",
        "\n",
        "True\n",
        "\n",
        ">>> print(12 in [1, 2, 4, 56])\n",
        "\n",
        "False\n",
        "\n",
        "\n",
        "not in\n",
        "\n",
        "\n",
        "Возвращает истину если элемента нет в последовательности\n",
        "\n",
        "\n",
        "результаты противоположны примерам выше"
      ],
      "metadata": {
        "id": "FMWOGVTND-JB"
      }
    },
    {
      "cell_type": "markdown",
      "source": [
        "**Операторы тождественности**\n",
        "\n",
        "Данные операторы помогают сравнить размещение двух объектов в памяти компьютера\n",
        "\n",
        "Символ\n",
        "\n",
        "\n",
        "Описание\n",
        "\n",
        "\n",
        "Пример\n",
        "\n",
        "\n",
        "is\n",
        "\n",
        "\n",
        "Возвращает истину, если оба операнда указывают на один объект\n",
        "\n",
        "\n",
        ">>> a = 12\n",
        "\n",
        ">>>b = 12\n",
        "\n",
        ">>> a is b\n",
        "\n",
        "True\n",
        "\n",
        ">>> c = 22\n",
        "\n",
        ">>> a is c\n",
        "\n",
        "False\n",
        "\n",
        "\n",
        "is not\n",
        "\n",
        "\n",
        "Возвращает ложь, если оба операнда указывают на один объект\n",
        "\n",
        "\n",
        "результаты противоположны примерам выше"
      ],
      "metadata": {
        "id": "AAeMNEpxELIq"
      }
    },
    {
      "cell_type": "markdown",
      "source": [
        "# 4.Условные операторы"
      ],
      "metadata": {
        "id": "5A-HNfys3PV9"
      }
    },
    {
      "cell_type": "markdown",
      "source": [
        "*Даны два целых числа. Выведите значение наименьшего из них.*"
      ],
      "metadata": {
        "id": "GgRFMFCk3WSu"
      }
    },
    {
      "cell_type": "code",
      "source": [
        "a = int(input())\n",
        "b = int(input())\n",
        "if a > b:\n",
        "  print(\"Число а больше чем b: \" + str(a)) \n",
        "  print(\"Число b меньше чем а: \" + str(b))\n",
        "else:\n",
        "  print(\"Числа а и b равны \" + \"а = \" + str(a) + \" b = \" + str(b))  "
      ],
      "metadata": {
        "colab": {
          "base_uri": "https://localhost:8080/"
        },
        "id": "5n8h3TQb3UjT",
        "outputId": "a5bc94de-f758-412f-f90f-d14675a38bf8"
      },
      "execution_count": null,
      "outputs": [
        {
          "output_type": "stream",
          "name": "stdout",
          "text": [
            "-8\n",
            "-8\n",
            "Числа а и b равны а = -8 b = -8\n"
          ]
        }
      ]
    },
    {
      "cell_type": "markdown",
      "source": [
        "*Даны три целых числа. Выведите значение наименьшего из них.*\n"
      ],
      "metadata": {
        "id": "VcJWY2LO7M0R"
      }
    },
    {
      "cell_type": "code",
      "source": [
        "a = int(input())\n",
        "b = int(input())\n",
        "c = int(input())\n",
        "\n",
        "if a>b and a>c and b>c:\n",
        "  print(\"Число c меньше чем b и a: \" + str(c)) \n",
        "if a<b and a<c:\n",
        "  print(\"Число a меньше чем c и b \" + str(a)) \n",
        "if b<a and b<c:\n",
        "  print(\"Число b меньше чем a и c \" + str(b)) "
      ],
      "metadata": {
        "colab": {
          "base_uri": "https://localhost:8080/"
        },
        "id": "Od_h-TLX7Ts1",
        "outputId": "c5d6cc6b-47c2-4cef-cb82-8d1b05380232"
      },
      "execution_count": null,
      "outputs": [
        {
          "output_type": "stream",
          "name": "stdout",
          "text": [
            "1\n",
            "10\n",
            "20\n",
            "Число a меньше чем c и b 1\n"
          ]
        }
      ]
    },
    {
      "cell_type": "markdown",
      "source": [
        "*Даны три целых числа. Определите, сколько среди них совпадающих. Программа должна вывести одно из чисел: 3 (если все совпадают), 2 (если два совпадает) или 0 (если все числа различны).*"
      ],
      "metadata": {
        "id": "-DorPJE8_RgL"
      }
    },
    {
      "cell_type": "code",
      "source": [
        "a = int(input())\n",
        "b = int(input())\n",
        "c = int(input())\n",
        "\n",
        "if a == b and a == c and b == c:\n",
        "  print(\"Совпадающих чисел : 3\")\n",
        "elif a == b or c == b or a == c: \n",
        "  print(\"Совпадающих чисел : 2\")  \n",
        "else:\n",
        "  print(\"Числа не совпадают 0\")"
      ],
      "metadata": {
        "colab": {
          "base_uri": "https://localhost:8080/"
        },
        "id": "0AjcjE05_XfF",
        "outputId": "2b5a39d9-3085-4858-892c-667f677d16c0"
      },
      "execution_count": null,
      "outputs": [
        {
          "output_type": "stream",
          "name": "stdout",
          "text": [
            "5\n",
            "5\n",
            "10\n",
            "Совпадающих чисел : 2\n"
          ]
        }
      ]
    },
    {
      "cell_type": "markdown",
      "source": [
        "# 5.Циклы"
      ],
      "metadata": {
        "id": "gC9Wja9VqO6w"
      }
    },
    {
      "cell_type": "markdown",
      "source": [
        "# -Цикл while"
      ],
      "metadata": {
        "id": "vOa17Y_XqWFR"
      }
    },
    {
      "cell_type": "code",
      "source": [
        "# создаем переменную, равную 1\n",
        "var = 1\n",
        "# прописываем цикл с условием - выполнять до тех пор, пока переменная\n",
        "# меньше или равна 13\n",
        "while var <= 13:\n",
        "# выводим значение переменной\n",
        "    print(var)\n",
        "# увеличиваем переменную на 1\n",
        "    var += 1"
      ],
      "metadata": {
        "colab": {
          "base_uri": "https://localhost:8080/"
        },
        "id": "MBJdQ23KqrkF",
        "outputId": "694c3c2f-7f68-44c2-d5fb-b912c8ca585a"
      },
      "execution_count": null,
      "outputs": [
        {
          "output_type": "stream",
          "name": "stdout",
          "text": [
            "1\n",
            "2\n",
            "3\n",
            "4\n",
            "5\n",
            "6\n",
            "7\n",
            "8\n",
            "9\n",
            "10\n",
            "11\n",
            "12\n",
            "13\n"
          ]
        }
      ]
    },
    {
      "cell_type": "markdown",
      "source": [
        "# -Цикл For"
      ],
      "metadata": {
        "id": "KMV-r2lpqc-6"
      }
    },
    {
      "cell_type": "code",
      "source": [
        "for i in [1, 2, 3, 4, 5 ,6 ,7 ,8 ,9 , 10, 11, 12, 13]:\n",
        "    print(i)"
      ],
      "metadata": {
        "colab": {
          "base_uri": "https://localhost:8080/"
        },
        "id": "oRO9qkBkqz1p",
        "outputId": "c90d51f6-1641-488d-fd8f-3dd6eb7899bb"
      },
      "execution_count": null,
      "outputs": [
        {
          "output_type": "stream",
          "name": "stdout",
          "text": [
            "1\n",
            "2\n",
            "3\n",
            "4\n",
            "5\n",
            "6\n",
            "7\n",
            "8\n",
            "9\n",
            "10\n",
            "11\n",
            "12\n",
            "13\n"
          ]
        }
      ]
    },
    {
      "cell_type": "code",
      "source": [
        "for i in range(1,14):\n",
        "    print(i)"
      ],
      "metadata": {
        "colab": {
          "base_uri": "https://localhost:8080/"
        },
        "id": "w-WpajJKq6L3",
        "outputId": "33c0819a-46a8-4528-fff8-637382b99b94"
      },
      "execution_count": null,
      "outputs": [
        {
          "output_type": "stream",
          "name": "stdout",
          "text": [
            "1\n",
            "2\n",
            "3\n",
            "4\n",
            "5\n",
            "6\n",
            "7\n",
            "8\n",
            "9\n",
            "10\n",
            "11\n",
            "12\n",
            "13\n"
          ]
        }
      ]
    },
    {
      "cell_type": "markdown",
      "source": [
        "#   -Опратор continue"
      ],
      "metadata": {
        "id": "pvjliyJqrDsu"
      }
    },
    {
      "cell_type": "code",
      "source": [
        "for var in 'Python':\n",
        "    if var == 'h':\n",
        "        continue\n",
        "    print(var)"
      ],
      "metadata": {
        "colab": {
          "base_uri": "https://localhost:8080/"
        },
        "id": "ImYLpGFwr7dW",
        "outputId": "822dda98-d5e5-443c-a407-9d7da2cd6382"
      },
      "execution_count": null,
      "outputs": [
        {
          "output_type": "stream",
          "name": "stdout",
          "text": [
            "P\n",
            "y\n",
            "t\n",
            "o\n",
            "n\n"
          ]
        }
      ]
    },
    {
      "cell_type": "markdown",
      "source": [
        "# -Оператор break"
      ],
      "metadata": {
        "id": "1jIWsLX5sVYx"
      }
    },
    {
      "cell_type": "code",
      "source": [
        "for var in 'Python':\n",
        "    if var == 'h':\n",
        "        break\n",
        "    print(var)"
      ],
      "metadata": {
        "colab": {
          "base_uri": "https://localhost:8080/"
        },
        "id": "V3sDAQZNsXuo",
        "outputId": "d09b9dcd-9280-40cc-f561-49102b6556cb"
      },
      "execution_count": null,
      "outputs": [
        {
          "output_type": "stream",
          "name": "stdout",
          "text": [
            "P\n",
            "y\n",
            "t\n"
          ]
        }
      ]
    },
    {
      "cell_type": "markdown",
      "source": [
        "# -Оператор else"
      ],
      "metadata": {
        "id": "YjZC2HuWsnCD"
      }
    },
    {
      "cell_type": "code",
      "source": [
        "for var in 'Python':\n",
        "    if var == 'a':\n",
        "        break \n",
        "else:\n",
        "    print('Символа a нет в слове Python')"
      ],
      "metadata": {
        "colab": {
          "base_uri": "https://localhost:8080/"
        },
        "id": "gT1e7rgrsqEE",
        "outputId": "959023af-3ac2-49fb-9831-b96d698b6c53"
      },
      "execution_count": null,
      "outputs": [
        {
          "output_type": "stream",
          "name": "stdout",
          "text": [
            "Символа a нет в слове Python\n"
          ]
        }
      ]
    },
    {
      "cell_type": "markdown",
      "source": [
        "**Задание 1**\n",
        "Задан массив из 10 чисел. Напишите программу, которая выводит их сумму.\n",
        "\n"
      ],
      "metadata": {
        "id": "iF0bYEH3tb7Q"
      }
    },
    {
      "cell_type": "code",
      "source": [
        "sum = 0\n",
        "for num in [0,1,2,3,4,5,6,7,8,9]:\n",
        "  sum = num + sum\n",
        "print (sum)\n"
      ],
      "metadata": {
        "colab": {
          "base_uri": "https://localhost:8080/"
        },
        "id": "fVvWxKTItXw4",
        "outputId": "c09bdb0c-f0ac-476a-9cd5-f15b74280957"
      },
      "execution_count": null,
      "outputs": [
        {
          "output_type": "stream",
          "name": "stdout",
          "text": [
            "45\n"
          ]
        }
      ]
    },
    {
      "cell_type": "code",
      "source": [
        "sum = 0\n",
        "for num in [1,1,1,1,1,1,1,1,1,1]:\n",
        "  sum = num + sum\n",
        "print (sum)"
      ],
      "metadata": {
        "colab": {
          "base_uri": "https://localhost:8080/"
        },
        "id": "68nbNGRmvDNp",
        "outputId": "31eaf397-f7bd-4930-9ab2-e1a9fe307f2b"
      },
      "execution_count": null,
      "outputs": [
        {
          "output_type": "stream",
          "name": "stdout",
          "text": [
            "10\n"
          ]
        }
      ]
    },
    {
      "cell_type": "markdown",
      "source": [
        "**Задание 2** Задан массив из n чисел. Напишите программу, которая считает и выводит количество чисел равных нулю."
      ],
      "metadata": {
        "id": "n5daXYJJvNmM"
      }
    },
    {
      "cell_type": "code",
      "source": [
        "sum = 0\n",
        "for num in [ 1, 0, 1, 0, 1, 0, 1, 0, 1, 0]:\n",
        "  if num == 0:\n",
        "    sum += 1\n",
        "print (sum)"
      ],
      "metadata": {
        "colab": {
          "base_uri": "https://localhost:8080/"
        },
        "id": "XNUbLovyvVXg",
        "outputId": "a54eb107-bf48-41dd-d290-42aed5d2be78"
      },
      "execution_count": null,
      "outputs": [
        {
          "output_type": "stream",
          "name": "stdout",
          "text": [
            "5\n"
          ]
        }
      ]
    },
    {
      "cell_type": "markdown",
      "source": [
        "**Задание 3** По данному натуральному n ≤ 9 выведите лесенку из n ступенек, i-я ступенька состоит из чисел от 1 до i без пробелов."
      ],
      "metadata": {
        "id": "J1aPCay1v1zi"
      }
    },
    {
      "cell_type": "code",
      "source": [
        "print(\"Enter n :\")\n",
        "n = int(input())\n",
        "\n",
        "for i in range(1, n+2):\n",
        "  j = 1\n",
        "  sum = \"\"\n",
        "  while j != i:\n",
        "    sum += str(j)\n",
        "    j += 1  \n",
        "  print(sum)\n"
      ],
      "metadata": {
        "colab": {
          "base_uri": "https://localhost:8080/"
        },
        "id": "kaW9MSNvv5YY",
        "outputId": "111b4eda-4ebd-4a10-ced7-537c539e8426"
      },
      "execution_count": null,
      "outputs": [
        {
          "output_type": "stream",
          "name": "stdout",
          "text": [
            "Enter n :\n",
            "5\n",
            "\n",
            "1\n",
            "12\n",
            "123\n",
            "1234\n",
            "12345\n"
          ]
        }
      ]
    },
    {
      "cell_type": "markdown",
      "source": [
        "**Задание 4** Дополните код из предыдущего задания, чтобы теперь получалась пирамида. То есть каждая ступень состоит из чисел от 1 до i и обратно"
      ],
      "metadata": {
        "id": "VYv5XhKSSdY6"
      }
    },
    {
      "cell_type": "code",
      "source": [
        "print(\"Enter n = [1..9] :\")\n",
        "n = int(input())\n",
        "\n",
        "for i in range(1, n + 1):\n",
        "  j = 1 \n",
        "  sum = \"\"\n",
        "  while j != i:\n",
        "      sum += str(j)\n",
        "      j += 1  \n",
        "  while i != 0:\n",
        "      sum += str(i)\n",
        "      i -= 1\n",
        "  print(n * \" \" + sum)\n",
        "  n -= 1\n",
        "\n"
      ],
      "metadata": {
        "colab": {
          "base_uri": "https://localhost:8080/"
        },
        "id": "oc7NOyx9So04",
        "outputId": "8b352e5d-c57f-4806-df17-7a2dda90c622"
      },
      "execution_count": null,
      "outputs": [
        {
          "output_type": "stream",
          "name": "stdout",
          "text": [
            "Enter n = [1..9] :\n",
            "4\n",
            "    1\n",
            "   121\n",
            "  12321\n",
            " 1234321\n"
          ]
        }
      ]
    },
    {
      "cell_type": "markdown",
      "source": [
        "**Задание 5**\n",
        "Дополните код из предыдущего задания, чтобы теперь получался ромб. То есть количество ступеней должно равняться числу n*2-1."
      ],
      "metadata": {
        "id": "Uk-fuahubvFC"
      }
    },
    {
      "cell_type": "code",
      "source": [
        "print(\"Enter n = [1..9] :\")\n",
        "n = int(input())\n",
        "count = n\n",
        "count2 = n\n",
        "step = 2\n",
        "\n",
        "for i in range(1, n + 1):\n",
        "  j = 1 \n",
        "  sum = \"\"\n",
        "  while j != i: \n",
        "      sum += str(j)\n",
        "      j += 1  \n",
        "  while i != 0:\n",
        "      sum += str(i)\n",
        "      i -= 1\n",
        "  print(n * \" \" + sum)\n",
        "  n -= 1\n",
        "\n",
        "for i in range(1, count):\n",
        "  sum2 = \"\"\n",
        "  k = 1\n",
        "  count3 = count - 1 - i\n",
        "  while k != count2:\n",
        "      sum2 += str(k)\n",
        "      k += 1  \n",
        "  while count3 != 0:\n",
        "      sum2 += str(count3)\n",
        "      count3 -= 1\n",
        "  print(step * \" \" + sum2)\n",
        "  step += 1\n",
        "  count2 -= 1\n",
        "\n",
        "  "
      ],
      "metadata": {
        "colab": {
          "base_uri": "https://localhost:8080/"
        },
        "id": "y6D4I0eZbxSW",
        "outputId": "85b6a3b4-0ba7-4b31-f549-1fffa59780e6"
      },
      "execution_count": 52,
      "outputs": [
        {
          "output_type": "stream",
          "name": "stdout",
          "text": [
            "Enter n = [1..9] :\n",
            "9\n",
            "         1\n",
            "        121\n",
            "       12321\n",
            "      1234321\n",
            "     123454321\n",
            "    12345654321\n",
            "   1234567654321\n",
            "  123456787654321\n",
            " 12345678987654321\n",
            "  123456787654321\n",
            "   1234567654321\n",
            "    12345654321\n",
            "     123454321\n",
            "      1234321\n",
            "       12321\n",
            "        121\n",
            "         1\n"
          ]
        }
      ]
    },
    {
      "cell_type": "markdown",
      "source": [
        "**Бонусное задание**\n",
        "Используя циклы, напишите код, который бы выводил данную фигуру:\n",
        "\n",
        "                       1\n",
        "                       21\n",
        "                       321  \n",
        "                       4321    \n",
        "                       54321     \n",
        "                       654321    \n",
        "                       7654321       \n",
        "                       87654321        \n",
        "                       987654321         \n",
        "                       87654321\n",
        "                       7654321\n",
        "                       654321\n",
        "                       54321\n",
        "                       4321\n",
        "                       321\n",
        "                       21\n",
        "                       1 \n",
        "\n",
        "Программа должна выводить фигуру разной величины, в зависимости от входного параметра. Значение параметра может принимать значения от 0 до 9."
      ],
      "metadata": {
        "id": "lLs6pDiXWYPX"
      }
    },
    {
      "cell_type": "code",
      "source": [
        "print(\"Enter n = [1..9] :\")\n",
        "n = int(input())\n",
        "count = n\n",
        "count2 = n\n",
        "\n",
        "for i in range(1, count):\n",
        "  sum2 = \"\"\n",
        "  while i != 0:\n",
        "      sum2 += str(i)\n",
        "      i -= 1\n",
        "  print(sum2)\n",
        "\n",
        "for i in range(1, count + 1):\n",
        "  sum = \"\"\n",
        "  count3 = count + 1 - i\n",
        "  while count3 != 0:\n",
        "      sum += str(count3)\n",
        "      count3 -= 1\n",
        "  print(sum) "
      ],
      "metadata": {
        "colab": {
          "base_uri": "https://localhost:8080/"
        },
        "id": "EAZaW3R9WdVl",
        "outputId": "c344cc7b-d376-484c-b2c3-8da36819a1d0"
      },
      "execution_count": 55,
      "outputs": [
        {
          "output_type": "stream",
          "name": "stdout",
          "text": [
            "Enter n = [1..9] :\n",
            "9\n",
            "1\n",
            "21\n",
            "321\n",
            "4321\n",
            "54321\n",
            "654321\n",
            "7654321\n",
            "87654321\n",
            "987654321\n",
            "87654321\n",
            "7654321\n",
            "654321\n",
            "54321\n",
            "4321\n",
            "321\n",
            "21\n",
            "1\n"
          ]
        }
      ]
    },
    {
      "cell_type": "markdown",
      "source": [
        "# 6.ПЕРЕМЕННЫЕ Ключевые слова\n",
        "В стандартном пакете Python 3 существуют ключевые слова, которым отведен определенный функционал. Далее мы перечислим их, чтобы вы ознакомились с ними и в будущем избежали совпадений в названии своих переменных.\n",
        "\n",
        "Ключевые слова:\n",
        "\n",
        "False - показатель ложности для булева типа;\n",
        "True - показатель истинности для булева типа;\n",
        "None - \"пустой\" объект;\n",
        "and - логический оператор И;\n",
        "with/as - менеджер контекста;\n",
        "assert - условие, вызывающее исключение, если условие ложно;\n",
        "break - оператор выхода из цикла;\n",
        "class - тип, состоящий из методов и атрибутов;\n",
        "continue - оператор перехода на следующую итерацию цикла;\n",
        "def - обозначение функции;\n",
        "del - определение функции;\n",
        "elif - условный оператор в противном случае-если;\n",
        "else - условный оператор в противном случае;\n",
        "except - оператор перехвата исключения;\n",
        "finally - выполняет инструкцию вне зависимости от исключения;\n",
        "for - оператор цикла for;                \n",
        "from - оператор импорта из модуля;\n",
        "global - оператор создания доступности обращения к переменной за пределами функции;\n",
        "if - условный оператор если;\n",
        "import - оператор импорта модуля;\n",
        "in - оператор проверки на вхождение;\n",
        "is - оператор проверки ссылаются ли 2 объекта на одно место в памяти;\n",
        "lambda - определение анонимной функции;\n",
        "nonlocal - оператор создания доступности обращения к переменной в объемлющей инструкции;\n",
        "not - логический оператор не;\n",
        "or - логический оператор или;\n",
        "pass - ничего не выполняющий оператор;\n",
        "raise - оператор вызова исключения;\n",
        "return - оператор возвращения результата;\n",
        "try - выполнить инструкции, перехватив исключения;\n",
        "while - условно-циклический оператор до тех пор;\n",
        "yield - определение функции-генератора.\n",
        "Помимо ключевых слов, в Python 3 присутствуют встроенные функции:\n",
        "\n",
        "bool(x) - преобразование к типу bool, использующая стандартную процедуру проверки истинности. Если х является ложным или опущен, возвращает значение False, в противном случае она возвращает True.\n",
        "bytearray([источник [, кодировка [ошибки]]]) - преобразование к bytearray. Bytearray - изменяемая последовательность целых чисел в диапазоне 0≤X<256. Вызванная без аргументов, возвращает пустой массив байт.\n",
        "bytes([источник [, кодировка [ошибки]]]) - возвращает объект типа bytes, который является неизменяемой последовательностью целых чисел в диапазоне 0≤X<256. Аргументы конструктора интерпретируются как для bytearray().\n",
        "complex([real[, imag]]) - преобразование к комплексному числу.\n",
        "dict([object]) - преобразование к словарю.\n",
        "float([X]) - преобразование к числу с плавающей точкой. Если аргумент не указан, возвращается 0.0.\n",
        "frozenset([последовательность]) - возвращает неизменяемое множество.\n",
        "int([object], [основание системы счисления]) - преобразование к целому числу.\n",
        "list([object]) - создает список.\n",
        "memoryview([object]) - создает объект memoryview.\n",
        "object() - возвращает безликий объект, являющийся базовым для всех объектов.\n",
        "range([start=0], stop, [step=1]) - арифметическая прогрессия от start до stop с шагом step.\n",
        "set([object]) - создает множество.\n",
        "slice([start=0], stop, [step=1]) - объект среза от start до stop с шагом step.\n",
        "str([object], [кодировка], [ошибки]) - строковое представление объекта. Использует метод __str__.\n",
        "tuple(obj) - преобразование к кортежу.\n",
        "abs(x) - возвращает абсолютную величину (модуль числа).\n",
        "all(последовательность) - возвращает True, если все элементы истинные (или, если последовательность пуста).\n",
        "any(последовательность) - возвращает True, если хотя бы один элемент - истина. Для пустой последовательности возвращает False.\n",
        "ascii(object) - как repr(), возвращает строку, содержащую представление объекта, но заменяет не-ASCII символы на экранированные последовательности.\n",
        "bin(x) - преобразование целого числа в двоичную строку.\n",
        "callable(x) - возвращает True для объекта, поддерживающего вызов (как функции).\n",
        "chr(x) - возвращает односимвольную строку, код символа которой равен x.\n",
        "classmethod(x) - представляет указанную функцию методом класса.\n",
        "compile(source, lename, mode, ags=0, dont_inherit=False) - компиляция в программный код, который впоследствии может выполниться функцией eval или exec. Строка не должна содержать символов возврата каретки или нулевые байты.\n",
        "delattr(object, name) - удаляет атрибут с именем 'name'.\n",
        "dir([object]) - список имен объекта, а если объект не указан, список имен в текущей локальной области видимости.\n",
        "divmod(a, b) - возвращает частное и остаток от деления a на b.\n",
        "enumerate(iterable, start=0) - возвращает итератор, при каждом проходе предоставляющем кортеж из номера и соответствующего члена последовательности.\n",
        "eval(expression, globals=None, locals=None) - выполняет строку программного кода.\n",
        "exec(object[, globals[, locals]]) - выполняет программный код на Python.\n",
        "filter(function, iterable) - возвращает итератор из тех элементов, для которых function возвращает истину.\n",
        "format(value[,format_spec]) - форматирование (обычно форматирование строки).\n",
        "getattr(object, name ,[default]) - извлекает атрибут объекта или default.\n",
        "globals() - словарь глобальных имен.\n",
        "hasattr(object, name) - имеет ли объект атрибут с именем 'name'.\n",
        "hash(x) - возвращает хеш указанного объекта.\n",
        "help([object]) - вызов встроенной справочной системы.\n",
        "hex(х) - преобразование целого числа в шестнадцатеричную строку.\n",
        "id(object) - возвращает \"адрес\" объекта. Это целое число, которое гарантированно будет уникальным и постоянным для данного объекта в течение срока его существования.\n",
        "input([prompt]) - возвращает введенную пользователем строку. Prompt - подсказка пользователю.\n",
        "isinstance(object, ClassInfo) - истина, если объект является экземпляром ClassInfo или его подклассом. Если объект не является объектом данного типа, функция всегда возвращает ложь.\n",
        "issubclass(класс, ClassInfo) - истина, если класс является подклассом ClassInfo. Класс считается подклассом себя.\n",
        "iter(x) - возвращает объект итератора.\n",
        "len(x) - возвращает число элементов в указанном объекте.\n",
        "locals() - словарь локальных имен.\n",
        "map(function, iterator) - итератор, получившийся после применения к каждому элементу последовательности функции function.\n",
        "max(iter, [args ...] * [, key]) - максимальный элемент последовательности.\n",
        "min(iter, [args ...] * [, key]) - минимальный элемент последовательности. next(x) - возвращает следующий элемент итератора.\n",
        "oct(х) - преобразование целого числа в восьмеричную строку.\n",
        "open(le, mode='r', buering=None, encoding=None, errors=None, newline=None, closefd=True) - открывает файл и возвращает соответствующий поток.\n",
        "ord(с) - код символа.\n",
        "pow(x, y[, r]) - идентично выражению ( x ** y ) % r.\n",
        "reversed(object) - итератор из развернутого объекта.\n",
        "repr(obj) - представление объекта.\n",
        "print([object, ...], *, sep=\" \", end='\\n', le=sys.stdout) - вывод результата на экран.\n",
        "property(fget=None, fset=None, fdel=None, doc=None) - возвращает специальный объект дескриптора.\n",
        "round(X [, N]) - округление до N знаков после запятой.\n",
        "setattr(объект, имя, значение) - устанавливает атрибут объекта.\n",
        "sorted(iterable[, key][, reverse]) - отсортированный список.\n",
        "staticmethod(function) - статический метод для функции.\n",
        "sum(iter, start=0) - сумма членов последовательности.\n",
        "super([тип [, объект или тип]]) - доступ к родительскому классу.\n",
        "type(object) - возвращает тип объекта.\n",
        "type(name, bases, dict) - возвращает новый экземпляр класса name.\n",
        "vars([object]) - словарь из атрибутов объекта. По умолчанию - словарь локальных имен.\n",
        "zip(*iters) - итератор, возвращающий кортежи, состоящие из соответствующих элементов аргументов-последовательностей."
      ],
      "metadata": {
        "id": "mMBdB8mr5PI1"
      }
    },
    {
      "cell_type": "markdown",
      "source": [
        "# 7.Числа\n",
        "\n",
        "**Целые числа (int)**\n",
        "\n",
        "\n",
        "Целые числа (int) поддерживают обычный набор математических операций.\n",
        "\n",
        "Обозначение\n",
        "\n",
        "**bold text**\n",
        "Действие\n",
        "\n",
        "\n",
        "a + b\n",
        "\n",
        "\n",
        "Сложение\n",
        "\n",
        "\n",
        "a - b\n",
        "\n",
        "\n",
        "Вычитание\n",
        "\n",
        "\n",
        "a * b\n",
        "\n",
        "\n",
        "Умножение\n",
        "\n",
        "a / b\n",
        "\n",
        "\n",
        "Деление\n",
        "\n",
        "\n",
        "a // b\n",
        "\n",
        "\n",
        "Получение целой части от деления\n",
        "\n",
        "\n",
        "a % b\n",
        "\n",
        "\n",
        "Остаток от деления\n",
        "\n",
        "-a\n",
        "\n",
        "\n",
        "Смена знака числа\n",
        "\n",
        "\n",
        "abs(a)\n",
        "\n",
        "\n",
        "Модуль числа\n",
        "\n",
        "\n",
        "divmod(a,b)\n",
        "\n",
        "\n",
        "Получение пары чисел (a // b, a % b)\n",
        "\n",
        "\n",
        "a ** b\n",
        "\n",
        "\n",
        "Возведение в степень\n",
        "\n",
        "pow(a, b[, c])\n",
        "\n",
        "\n",
        "a в степени b. Если указано число c, тогда вычисляется остаток от деления на число c\n",
        "\n",
        "**Числа с плавающей точкой (float)**\n",
        "Вещественные числа поддерживают те же операции, что и целые, однако из-за компьютерного представления, могут возникать неточности.\n",
        "\n",
        "Для округления вещественного числа можно применить метод round().\n",
        "\n",
        "Если к вещественному числу применить метод int(), т.е. привести его к целочисленному типу, тогда дробная часть просто отсекается.\n"
      ],
      "metadata": {
        "id": "Ax9MVfQD5nZE"
      }
    },
    {
      "cell_type": "markdown",
      "source": [
        "# 8.Строки"
      ],
      "metadata": {
        "id": "OF8zTCby6XxX"
      }
    },
    {
      "cell_type": "markdown",
      "source": [
        "Задание 1\n",
        "Дана строка: Abraсadabra\n",
        "\n",
        "Вывести третий символ этой строки\n",
        "Вывести предпоследний символ этой строки.\n",
        "Вывести первые пять символов этой строки.\n",
        "Вывести строку, кроме последних двух символов.\n",
        "Вывести все символы с четными индексами (считайте, что 0 - четный индекс).\n",
        "Вывести все символы с нечетными индексами.\n",
        "Вывести все символы в обратном порядке.\n",
        "Вывести все символы строки через один в обратном порядке, начиная с последнего.\n",
        "Вывести длину данной строки.\n",
        "\n"
      ],
      "metadata": {
        "id": "6hDfw77PPldH"
      }
    },
    {
      "cell_type": "code",
      "source": [
        "st='Abraсadabra'\n",
        "\n",
        "#Вывести третий символ этой строки\n",
        "print(\"Третий символ строки: \" + st[2])\n",
        "print(\"предпоследний символ этой строки: \" + st[len(st)-2])\n",
        "print(\"первые пять символов этой строки: \" + st[:5])\n",
        "print(\"строка, кроме последних двух символов: \" + st[:len(st)-2])\n",
        "print(\"все символы с четными индексами: \" + st[::2])\n",
        "print(\"все символы с нечетными индексами: \" + st[1::2])\n",
        "print(\"все символы в обратном порядке: \"  + st[::-1])\n",
        "print(\"все символы строки через один в обратном порядке, начиная с последнего: \"  + st[::-2])\n",
        "print(\"Вывести длину данной строки: \", len(st))\n",
        "\n",
        "\n",
        "\n"
      ],
      "metadata": {
        "colab": {
          "base_uri": "https://localhost:8080/"
        },
        "id": "ImBPkSJ5Pkuu",
        "outputId": "4dedc572-45c1-4219-90cc-a8236c5e243a"
      },
      "execution_count": 31,
      "outputs": [
        {
          "output_type": "stream",
          "name": "stdout",
          "text": [
            "Третий символ строки: r\n",
            "предпоследний символ этой строки: r\n",
            "первые пять символов этой строки: Abraс\n",
            "строка, кроме последних двух символов: Abraсadab\n",
            "все символы с четными индексами: Arсdba\n",
            "все символы с нечетными индексами: baaar\n",
            "все символы в обратном порядке: arbadaсarbA\n",
            "все символы строки через один в обратном порядке, начиная с последнего: abdсrA\n",
            "Вывести длину данной строки:  11\n"
          ]
        }
      ]
    },
    {
      "cell_type": "markdown",
      "source": [
        "Задание 2\n",
        "Напишите код, который обрабатывает строковые данные и возвращает их с первыми заглавными буквами в каждом слове."
      ],
      "metadata": {
        "id": "cjjO_TCn3gF-"
      }
    },
    {
      "cell_type": "code",
      "source": [
        "\n",
        "str1 ='first пример 3строки Номер один 1два'\n",
        "\n",
        "print(str1.title()) # Заклавные буквы все, но нам нужны слова без цифр\n",
        "\n",
        "strUpper=\"\"\n",
        "for i in str1.split(' '):\n",
        "  if i[0].islower() and i[0].isalpha():\n",
        "      s = i[0].upper() + i[1:] # делаем 1 символ Заглавным и прибавляем строку без 1го символа\n",
        "  else:\n",
        "      s = i    \n",
        "  strUpper += s + \" \"\n",
        "print(strUpper)\n"
      ],
      "metadata": {
        "colab": {
          "base_uri": "https://localhost:8080/"
        },
        "id": "0i4zQxBW3g99",
        "outputId": "5829f4d8-1c29-4526-ff96-e4ee5bdc105e"
      },
      "execution_count": 10,
      "outputs": [
        {
          "output_type": "stream",
          "name": "stdout",
          "text": [
            "First Пример 3Строки Номер Один 1Два\n",
            "First Пример 3строки Номер Один 1два \n"
          ]
        }
      ]
    }
  ]
}