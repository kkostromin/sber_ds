{
  "nbformat": 4,
  "nbformat_minor": 0,
  "metadata": {
    "colab": {
      "name": "Основы Python.ipynb",
      "provenance": [],
      "toc_visible": true,
      "authorship_tag": "ABX9TyMsFh9MxRq2aiD+51bsdMtn",
      "include_colab_link": true
    },
    "kernelspec": {
      "name": "python3",
      "display_name": "Python 3"
    },
    "language_info": {
      "name": "python"
    }
  },
  "cells": [
    {
      "cell_type": "markdown",
      "metadata": {
        "id": "view-in-github",
        "colab_type": "text"
      },
      "source": [
        "<a href=\"https://colab.research.google.com/github/kkostromin/sber_ds/blob/main/%D0%9E%D1%81%D0%BD%D0%BE%D0%B2%D1%8B_Python.ipynb\" target=\"_parent\"><img src=\"https://colab.research.google.com/assets/colab-badge.svg\" alt=\"Open In Colab\"/></a>"
      ]
    },
    {
      "cell_type": "markdown",
      "source": [
        "# **1.Синтаксис**\n",
        "\n",
        "---\n",
        "\n"
      ],
      "metadata": {
        "id": "LSnmOZzTpqNk"
      }
    },
    {
      "cell_type": "code",
      "execution_count": null,
      "metadata": {
        "colab": {
          "base_uri": "https://localhost:8080/"
        },
        "id": "CDWVREoDpcJR",
        "outputId": "47100ef7-8ca3-4642-ae34-df65adb7c08d"
      },
      "outputs": [
        {
          "output_type": "stream",
          "name": "stdout",
          "text": [
            "Python is awesome!\n",
            "first string\n",
            "11\n"
          ]
        }
      ],
      "source": [
        "print(\"Python is awesome!\") \n",
        "var = \"first string\" \n",
        "print(var) \n",
        "var = 2 + 9 \n",
        "print(var) \n"
      ]
    },
    {
      "cell_type": "markdown",
      "source": [
        "кавычки"
      ],
      "metadata": {
        "id": "bfAC3WVxsnAa"
      }
    },
    {
      "cell_type": "code",
      "source": [
        "print(\"String\") \n",
        "print('String') \n",
        "print('''Str \n",
        "... ing''')\n",
        "print('Str\"ing')\n"
      ],
      "metadata": {
        "colab": {
          "base_uri": "https://localhost:8080/"
        },
        "id": "shUwke8ZsR7F",
        "outputId": "0055ab20-5f24-4bd4-8cbf-798726d6dbb5"
      },
      "execution_count": null,
      "outputs": [
        {
          "output_type": "stream",
          "name": "stdout",
          "text": [
            "String\n",
            "String\n",
            "Str \n",
            "... ing\n",
            "Str\"ing\n"
          ]
        }
      ]
    },
    {
      "cell_type": "markdown",
      "source": [
        "Комментарии"
      ],
      "metadata": {
        "id": "j2o8DVE8srUE"
      }
    },
    {
      "cell_type": "code",
      "source": [
        "print(\"комментарий справа\") # Функция print() позволяет выводить результат на экран комментарий справа"
      ],
      "metadata": {
        "id": "g-jbH3K7slkD"
      },
      "execution_count": null,
      "outputs": []
    },
    {
      "cell_type": "markdown",
      "source": [
        "Вложенные инструкции"
      ],
      "metadata": {
        "id": "a_BB0Xugszmx"
      }
    },
    {
      "cell_type": "code",
      "source": [
        "#инструкция объявляющая переменную var и присваивающая ей значение равное 5 \n",
        "var = 5\n",
        "#основная инструкция 1\n",
        "if var < 3: \n",
        "#вложенная инструкция, отступает от основной инструкции 1 \n",
        "    print(\"less\") \n",
        "#основная инструкция 2 \n",
        "else: \n",
        "#вложенная инструкция, отступает от основной инструкции 2 \n",
        "    print(\"more\")"
      ],
      "metadata": {
        "colab": {
          "base_uri": "https://localhost:8080/"
        },
        "id": "7phLWZcHszBI",
        "outputId": "802b76ac-22de-4745-e434-9079b1a97e83"
      },
      "execution_count": null,
      "outputs": [
        {
          "output_type": "stream",
          "name": "stdout",
          "text": [
            "more\n"
          ]
        }
      ]
    },
    {
      "cell_type": "code",
      "source": [
        "# объявляем переменную var равную 5 \n",
        "var = 5\n",
        "# основная инструкция \n",
        "if var > 3: \n",
        "# вложенная инструкция уровня 1 \n",
        "    if var > 4: \n",
        "# вложенная инструкция уровня 2, отступает на 4 пробела от \n",
        "# вложенной инструкции уровня 1 \n",
        "        print(\"more than 4\")\n",
        "        \n",
        "if var < 3: print(\"like this\")"
      ],
      "metadata": {
        "colab": {
          "base_uri": "https://localhost:8080/"
        },
        "id": "I_P_bNLptApT",
        "outputId": "6cce1b99-20c3-4e34-c2e4-1ddaada4b3f6"
      },
      "execution_count": null,
      "outputs": [
        {
          "output_type": "stream",
          "name": "stdout",
          "text": [
            "like this\n"
          ]
        }
      ]
    },
    {
      "cell_type": "markdown",
      "source": [
        "# 2.Типы и объекты"
      ],
      "metadata": {
        "id": "YuVFh9UstVrJ"
      }
    },
    {
      "cell_type": "markdown",
      "source": [
        "**None type**"
      ],
      "metadata": {
        "id": "nYCkS9yMuqi0"
      }
    },
    {
      "cell_type": "code",
      "source": [
        "null_variable = None \n",
        "not_null_variable = 'something' \n",
        "if null_variable == None: \n",
        "    print('null_variable is None') \n",
        "else: \n",
        "    print('null_variable is not None') \n",
        "if not_null_variable == None: \n",
        "    print('not_null_variable is None') \n",
        "else: \n",
        "    print('not_null_variable is not None')"
      ],
      "metadata": {
        "colab": {
          "base_uri": "https://localhost:8080/"
        },
        "id": "NLJrOyJPtZ4f",
        "outputId": "ebb2ac22-50cb-46eb-ccb2-28dad2f733d2"
      },
      "execution_count": null,
      "outputs": [
        {
          "output_type": "stream",
          "name": "stdout",
          "text": [
            "null_variable is None\n",
            "not_null_variable is not None\n"
          ]
        }
      ]
    },
    {
      "cell_type": "markdown",
      "source": [
        "**Логический тип данных (bool)**"
      ],
      "metadata": {
        "id": "OBYLRySHvGzp"
      }
    },
    {
      "cell_type": "code",
      "source": [
        "a = 0\n",
        "b = 1\n",
        "print(a < b)\n",
        "print(a > b)\n",
        "print(a == b)"
      ],
      "metadata": {
        "colab": {
          "base_uri": "https://localhost:8080/"
        },
        "id": "63tuzmvTvJPI",
        "outputId": "342673ac-ddaf-45b5-f403-3dd046b3db4a"
      },
      "execution_count": null,
      "outputs": [
        {
          "output_type": "stream",
          "name": "stdout",
          "text": [
            "True\n",
            "False\n",
            "False\n"
          ]
        }
      ]
    },
    {
      "cell_type": "markdown",
      "source": [
        "**Целые числа** используются для стандартных арифметических операций, когда нас не интересует точность, до n-го знака.\n",
        "\n",
        "int - целое число\n",
        "\n",
        "Напротив, числа, применяющиеся для точных вычислений до n-го знака после запятой - **числа с плавающей точкой**. При арифметическом взаимодействии двух типов (int и float), результат всегда будет иметь тип float.\n",
        "\n",
        "float - число с плавающей точкой\n",
        "Комплексные числа предназначены для более сложных математических вычислений, они состоят из вещественной и мнимой части.\n",
        "\n",
        "complex - **комплексное число**"
      ],
      "metadata": {
        "id": "kt_dtK4Cvd8q"
      }
    },
    {
      "cell_type": "markdown",
      "source": [
        "# -Типы коллекций\n",
        "**Списки** являются своего рода хранилищем данных разного типа, другими словами списки это массивы, только хранить они могут данные разных типов. Более подробно об этом типе будет рассказано в разделе \"Списки\".\n",
        "\n",
        "list - список\n",
        " \n",
        "\n",
        "**Кортеж** - это список, который после создания нельзя изменить, очень полезно его использовать для защиты \"от дурака\", чтобы по ошибке данные не были изменены.\n",
        "\n",
        "Более подробно об этом типе будет рассказано в разделе \"Кортежи\".\n",
        "\n",
        "tuple - кортеж\n",
        " \n",
        "\n",
        "Генератор списков используется, когда нам нужно вывести последовательность целых чисел. Более\n",
        "\n",
        "подробно об этом типе будет рассказано в уроке \"Циклы\".\n",
        "\n",
        "range - диапазон, неизменяемая последовательность целых чисел.\n",
        " \n",
        "\n",
        "**Множества** - коллекции для неповторяющихся данных, хранящие эти данные в случайном порядке.\n",
        "\n",
        "set - множество\n",
        "frozenset - неизменяемое множество\n",
        "Более подробно об этих типах будет рассказано в разделе \"Множества\".\n",
        "\n",
        " \n",
        "\n",
        "**Словари** - являются набором пар \"ключ\"-\"значение\", довольно удобный тип данных для формирований структур. Более подробно об этом типе будет рассказано в разделе \"Словари\".\n",
        "\n",
        "dict - словарь\n",
        " \n",
        "\n",
        "Следующие два типа перечислены для ознакомления, в дальнейшем мы не будем уделять им практического значения в рамках данного курса.\n",
        "\n",
        "**Байт**  - это минимальная единица хранения и обработки цифровой информации. Данный тип допускает возможность производить изменение кодировки символов в зависимости от задач.\n",
        "\n",
        "bytes - байты\n",
        " \n",
        "\n",
        "Последовательность байт  - представляет собой некую информацию (текст, картинка и т.д.). Помимо изменения кодировки, имеет дополнительные возможности применять методы к перекодированным строкам и вносить изменения.\n",
        "\n",
        " \n",
        "\n",
        "bytearray - массивы байт"
      ],
      "metadata": {
        "id": "ozjEYxt8v54P"
      }
    },
    {
      "cell_type": "code",
      "source": [
        "#type(None)\n",
        "#type(True)\n",
        "#type(False)\n",
        "#type(1)\n",
        "#type(5.3)\n",
        "#type(5 + 4j)\n",
        "#type([1, 5.3, False, 4])\n",
        "#type((1, True, 3, 5+4j))\n",
        "#type(range(5))\n",
        "#type('Hello')\n",
        "#type(b'a')\n",
        "#type(bytearray([1,2,3]))\n",
        "#type(memoryview(bytearray('XYZ', 'utf-8')))\n",
        "type({'a', 3, True})\n",
        "type(frozenset({1, 2, 3}))\n",
        "type({'a' : 32})"
      ],
      "metadata": {
        "colab": {
          "base_uri": "https://localhost:8080/"
        },
        "id": "unvRTga7vglb",
        "outputId": "d73967ea-ef98-44e7-82d8-6941d2c214a5"
      },
      "execution_count": null,
      "outputs": [
        {
          "output_type": "execute_result",
          "data": {
            "text/plain": [
              "dict"
            ]
          },
          "metadata": {},
          "execution_count": 21
        }
      ]
    },
    {
      "cell_type": "markdown",
      "source": [
        "# 3.Типы операторов"
      ],
      "metadata": {
        "id": "eu8EFTTOAayC"
      }
    },
    {
      "cell_type": "markdown",
      "source": [
        " **Арифметические операторы**\n",
        "Символ\n",
        "\n",
        "\n",
        "Описание\n",
        "\n",
        "\n",
        "Пример\n",
        "\n",
        "\n",
        "+\n",
        "\n",
        "\n",
        "Оператор суммы\n",
        "\n",
        "\n",
        ">>> print(5 + 8)\n",
        "\n",
        "13\n",
        "\n",
        "\n",
        "-\n",
        "\n",
        "\n",
        "Оператор разности\n",
        "\n",
        "\n",
        ">>> print(31 - 2)\n",
        "\n",
        "29\n",
        "\n",
        "\n",
        "*\n",
        "\n",
        "\n",
        "Оператор произведения\n",
        "\n",
        "\n",
        ">>> print(12 * 9)\n",
        "\n",
        "108\n",
        "\n",
        "\n",
        "/\n",
        "\n",
        "\n",
        "Оператор деления\n",
        "\n",
        "\n",
        ">>> print(6 / 4)\n",
        "\n",
        "1.5\n",
        "\n",
        "\n",
        "%\n",
        "\n",
        "\n",
        "Оператор получения остатка от деления\n",
        "\n",
        "\n",
        ">>> print(6 % 4)\n",
        "\n",
        "2\n",
        "\n",
        "\n",
        "**\n",
        "\n",
        "\n",
        "Оператор возведения в степень\n",
        "\n",
        "\n",
        ">>> print(9 ** 2)\n",
        "\n",
        "81\n",
        "\n",
        "\n",
        "//\n",
        "\n",
        "\n",
        "Оператор целочисленного деления\n",
        "\n",
        "\n",
        ">>> print(6 // 4)\n",
        "\n",
        "1\n",
        "\n",
        "\n",
        "\n",
        "\n",
        "\n"
      ],
      "metadata": {
        "id": "NtSWmK_uA4r7"
      }
    },
    {
      "cell_type": "markdown",
      "source": [
        "**Операторы сравнения (реляционные)**\n",
        "\n",
        "==\n",
        "\n",
        "\n",
        "Проверяет, равны ли операнды между собой. Если они равны, то выражение становится истинным.\n",
        "\n",
        "\n",
        ">>> print(5 == 5)\n",
        "\n",
        "True\n",
        ">>> print(6 == 44)\n",
        "\n",
        "False\n",
        "\n",
        "\n",
        "!=\n",
        "\n",
        "\n",
        "Проверяет, равны ли операнды между собой. Если они не равны, то выражение становится истинным.\n",
        "\n",
        "\n",
        ">>> print(12 != 12)\n",
        "\n",
        "False\n",
        ">>> print(1231 != 0.4)\n",
        "\n",
        "True\n",
        "\n",
        "\n",
        ">\n",
        "\n",
        "\n",
        "Проверяет, больше ли левый операнд чем правый, если больше, то выражение становится истинным.\n",
        "\n",
        "\n",
        ">>> print(53 > 23)\n",
        "\n",
        "True\n",
        ">>> print(432 >500)\n",
        "\n",
        "False\n",
        "\n",
        "\n",
        "<\n",
        "\n",
        "\n",
        "Проверяет, меньше ли левый операнд чем правый, если меньше, то выражение становится истинным.\n",
        "\n",
        "\n",
        ">>> print(5 < 51)\n",
        "\n",
        "True\n",
        ">>> print(6 < 4)\n",
        "\n",
        "False\n",
        "\n",
        "\n",
        ">=\n",
        "\n",
        "\n",
        "Проверяет, больше левый операнд, чем правый, или равен ему. Если больше или равен, то выражение становится истинным.\n",
        "\n",
        "\n",
        ">>> print(5 >= 5)\n",
        "\n",
        "True\n",
        ">>> print(6 >=44)\n",
        "\n",
        "False\n",
        "\n",
        "\n",
        "<=\n",
        "\n",
        "\n",
        "Проверяет, меньше левый операнд, чем правый, или равен ему. Если меньше или равен, то выражение становится истинным.\n",
        "\n",
        "\n",
        ">>> print(32 <= 232)\n",
        "\n",
        "True\n",
        ">>> print(65 <= 9)\n",
        "\n",
        "False"
      ],
      "metadata": {
        "id": "q5glEG-kBYBl"
      }
    },
    {
      "cell_type": "markdown",
      "source": [
        "**Операторы присваивания**\n",
        "\n",
        "Символ\n",
        "\n",
        "\n",
        "Описание\n",
        "\n",
        "\n",
        "Пример\n",
        "\n",
        "\n",
        "=\n",
        "\n",
        "\n",
        "Присваивает значение правого операнда левому\n",
        "\n",
        "\n",
        ">>> var = 5\n",
        "\n",
        ">>> print(var)\n",
        "\n",
        "5\n",
        "\n",
        "\n",
        "+=\n",
        "\n",
        "\n",
        "Прибавляет значение правого операнда к левому и присваивает левому. a += b эквивалентно записи\n",
        "a=a+b\n",
        "\n",
        "\n",
        ">>> var = 5\n",
        "\n",
        ">>> var += 4\n",
        "\n",
        ">>> print(var)\n",
        "\n",
        "9\n",
        "\n",
        "\n",
        "-=\n",
        "\n",
        "\n",
        "Отнимает значение у левого операнда правое и присваивает левому. a -= b эквивалентно записи a = a -b\n",
        "\n",
        "\n",
        ">>> var = 5\n",
        "\n",
        ">>> var -= 2\n",
        "\n",
        ">>> print(var)\n",
        "\n",
        "3\n",
        "\n",
        "\n",
        "*=\n",
        "\n",
        "\n",
        "Умножает значение левого операнда на правое и присваивает левому. a *= b эквивалентно записи a=a*b\n",
        "\n",
        "\n",
        ">>> var = 5\n",
        "\n",
        ">>> var *= 10\n",
        "\n",
        ">>> print(var)\n",
        "\n",
        "50\n",
        "\n",
        "\n",
        "/=\n",
        "\n",
        "\n",
        "Делит значение левого операнда на правое и присваивает левому. a /= b эквивалентно записи a=a/b\n",
        "\n",
        "\n",
        ">>> var = 5\n",
        "\n",
        ">>> var /= 4\n",
        "\n",
        ">>> print(var)\n",
        "\n",
        "1.25\n",
        "\n",
        "\n",
        "%=\n",
        "\n",
        "\n",
        "Делит с остатком значение левого операнда на правое и присваивает остаток левому. a %= b эквивалентно записи a = a % b\n",
        "\n",
        "\n",
        ">>> var = 5\n",
        "\n",
        ">>> var %= 10\n",
        "\n",
        ">>>print(var)\n",
        "5\n",
        "\n",
        "**=\n",
        "\n",
        "\n",
        "Возводит значение левого операнда в степень правого и присваивает левому. a **= b эквивалентно записи a = a ** b\n",
        "\n",
        "\n",
        ">>> var = 5\n",
        "\n",
        ">>> var **= 8\n",
        "\n",
        ">>>print(var)\n",
        "\n",
        "390625\n",
        "\n",
        "\n",
        "//=\n",
        "\n",
        "\n",
        "Целочисленно делит значение левого операнда на правое и присваивает левому. a //= b эквивалентно записи a = a // b\n",
        "\n",
        "\n",
        ">>> var = 5\n",
        "\n",
        ">>> var //= 30\n",
        "\n",
        ">>>print(var)\n",
        "\n",
        "0"
      ],
      "metadata": {
        "id": "4Xkcy4WFBgf-"
      }
    },
    {
      "cell_type": "code",
      "source": [
        "var = 5\n",
        "\n",
        "var %= 10\n",
        "\n",
        "print(var)"
      ],
      "metadata": {
        "colab": {
          "base_uri": "https://localhost:8080/"
        },
        "id": "DOHIsKwNAeBL",
        "outputId": "1f3e3a4a-df4c-4b01-b0f5-2ed04e48cea1"
      },
      "execution_count": null,
      "outputs": [
        {
          "output_type": "stream",
          "name": "stdout",
          "text": [
            "5\n"
          ]
        }
      ]
    },
    {
      "cell_type": "markdown",
      "source": [
        "**Побитовые операторы**\n",
        "\n",
        "Данные операторы работают с данными в двоичной системе счисления. Например число 13 в двоичной системе будет равно 1101\n",
        "\n",
        "Символ\n",
        "\n",
        "\n",
        "Описание\n",
        "\n",
        "\n",
        "Пример (в двоичной системе)\n",
        "\n",
        "\n",
        "&\n",
        "\n",
        "\n",
        "Бинарный \"И\" оператор, копирует бит в результат только если бит присутствует в обоих операндах\n",
        "\n",
        "\n",
        "0&0=0\n",
        "\n",
        "1&0=0\n",
        "\n",
        "0&1=0\n",
        "\n",
        "1&1=1\n",
        "\n",
        "101 & 110 = 100\n",
        "\n",
        "\n",
        "|\n",
        "\n",
        "\n",
        "Бинарный \"ИЛИ\" оператор копирует бит, если тот присутствует в хотя бы в одном операнде\n",
        "\n",
        "\n",
        "0|0=0\n",
        "\n",
        "1|0=1\n",
        "\n",
        "0|1=1\n",
        "\n",
        "1|1=1\n",
        "\n",
        "101 | 110 = 111\n",
        "\n",
        "\n",
        "^\n",
        "\n",
        "\n",
        "Бинарный \"Исключительное ИЛИ\" оператор копирует бит только если бит присутствует в одном из операндов, но не в обоих сразу\n",
        "\n",
        "\n",
        "0^0=0\n",
        "\n",
        "1^0=1\n",
        "\n",
        "0^1=1\n",
        "\n",
        "1^1=0\n",
        "101 ^ 110 = 011\n",
        "\n",
        "\n",
        "~\n",
        "\n",
        "\n",
        "Побитовая операция \"НЕ\". Для числа a соответствует -(a+1)\n",
        "\n",
        "\n",
        "~1 = -10\n",
        "~0 = -1\n",
        "\n",
        "~101 = -110\n",
        "\n",
        "\n",
        ">>\n",
        "\n",
        "\n",
        "Побитовый сдвиг вправо. Значение левого операнда \"сдвигается\" вправо на количество бит указанных в правом операнде\n",
        "\n",
        "\n",
        "100 >> 2 = 001\n",
        "\n",
        "\n",
        "<<\n",
        "\n",
        "\n",
        "Побитовый сдвиг влево. Значение левого операнда \"сдвигается\" влево на количество бит указанных в правом операнде\n",
        "\n",
        "\n",
        "100 << 2 = 10000\n",
        "\n",
        "\n"
      ],
      "metadata": {
        "id": "VmW_vGMDDi2I"
      }
    },
    {
      "cell_type": "markdown",
      "source": [
        "**Логические операторы**\n",
        "\n",
        "and\n",
        "\n",
        "\n",
        "Логический оператор \"И\". Условие будет истинным если оба операнда истина\n",
        "\n",
        "\n",
        "True and True = True.\n",
        "\n",
        "True and False = False.\n",
        "\n",
        "False and True = False.\n",
        "\n",
        "False and False = False.\n",
        "\n",
        "\n",
        "or\n",
        "\n",
        "\n",
        "Логический оператор \"ИЛИ\". Если хотя бы один из операндов истинный, то и все выражение будет истинным\n",
        "\n",
        "\n",
        "True or True = True.\n",
        "\n",
        "True or False = True.\n",
        "\n",
        "False or True = True.\n",
        "\n",
        "False or False = False.\n",
        "\n",
        "\n",
        "not\n",
        "\n",
        "\n",
        "Логический оператор \"НЕ\". Изменяет логическое значение операнда на противоположное\n",
        "\n",
        "\n",
        "not True = False.\n",
        "\n",
        "not False = True."
      ],
      "metadata": {
        "id": "vx7m6Um2DqBc"
      }
    },
    {
      "cell_type": "markdown",
      "source": [
        "**Операторы членства**\n",
        "\n",
        "in\n",
        "\n",
        "\n",
        "Возвращает истину, если элемент присутствует в последовательности, иначе возвращает ложь\n",
        "\n",
        "\n",
        ">>> print('he' in 'hello')\n",
        "\n",
        "True\n",
        "\n",
        ">>> print(5 in [1, 2, 3, 4, 5])\n",
        "\n",
        "True\n",
        "\n",
        ">>> print(12 in [1, 2, 4, 56])\n",
        "\n",
        "False\n",
        "\n",
        "\n",
        "not in\n",
        "\n",
        "\n",
        "Возвращает истину если элемента нет в последовательности\n",
        "\n",
        "\n",
        "результаты противоположны примерам выше"
      ],
      "metadata": {
        "id": "FMWOGVTND-JB"
      }
    },
    {
      "cell_type": "markdown",
      "source": [
        "**Операторы тождественности**\n",
        "\n",
        "Данные операторы помогают сравнить размещение двух объектов в памяти компьютера\n",
        "\n",
        "Символ\n",
        "\n",
        "\n",
        "Описание\n",
        "\n",
        "\n",
        "Пример\n",
        "\n",
        "\n",
        "is\n",
        "\n",
        "\n",
        "Возвращает истину, если оба операнда указывают на один объект\n",
        "\n",
        "\n",
        ">>> a = 12\n",
        "\n",
        ">>>b = 12\n",
        "\n",
        ">>> a is b\n",
        "\n",
        "True\n",
        "\n",
        ">>> c = 22\n",
        "\n",
        ">>> a is c\n",
        "\n",
        "False\n",
        "\n",
        "\n",
        "is not\n",
        "\n",
        "\n",
        "Возвращает ложь, если оба операнда указывают на один объект\n",
        "\n",
        "\n",
        "результаты противоположны примерам выше"
      ],
      "metadata": {
        "id": "AAeMNEpxELIq"
      }
    },
    {
      "cell_type": "markdown",
      "source": [
        "# 4.Условные операторы"
      ],
      "metadata": {
        "id": "5A-HNfys3PV9"
      }
    },
    {
      "cell_type": "markdown",
      "source": [
        "*Даны два целых числа. Выведите значение наименьшего из них.*"
      ],
      "metadata": {
        "id": "GgRFMFCk3WSu"
      }
    },
    {
      "cell_type": "code",
      "source": [
        "a = int(input())\n",
        "b = int(input())\n",
        "if a > b:\n",
        "  print(\"Число а больше чем b: \" + str(a)) \n",
        "  print(\"Число b меньше чем а: \" + str(b))\n",
        "else:\n",
        "  print(\"Числа а и b равны \" + \"а = \" + str(a) + \" b = \" + str(b))  "
      ],
      "metadata": {
        "colab": {
          "base_uri": "https://localhost:8080/"
        },
        "id": "5n8h3TQb3UjT",
        "outputId": "a5bc94de-f758-412f-f90f-d14675a38bf8"
      },
      "execution_count": null,
      "outputs": [
        {
          "output_type": "stream",
          "name": "stdout",
          "text": [
            "-8\n",
            "-8\n",
            "Числа а и b равны а = -8 b = -8\n"
          ]
        }
      ]
    },
    {
      "cell_type": "markdown",
      "source": [
        "*Даны три целых числа. Выведите значение наименьшего из них.*\n"
      ],
      "metadata": {
        "id": "VcJWY2LO7M0R"
      }
    },
    {
      "cell_type": "code",
      "source": [
        "a = int(input())\n",
        "b = int(input())\n",
        "c = int(input())\n",
        "\n",
        "if a>b and a>c and b>c:\n",
        "  print(\"Число c меньше чем b и a: \" + str(c)) \n",
        "if a<b and a<c:\n",
        "  print(\"Число a меньше чем c и b \" + str(a)) \n",
        "if b<a and b<c:\n",
        "  print(\"Число b меньше чем a и c \" + str(b)) "
      ],
      "metadata": {
        "colab": {
          "base_uri": "https://localhost:8080/"
        },
        "id": "Od_h-TLX7Ts1",
        "outputId": "c5d6cc6b-47c2-4cef-cb82-8d1b05380232"
      },
      "execution_count": 16,
      "outputs": [
        {
          "output_type": "stream",
          "name": "stdout",
          "text": [
            "1\n",
            "10\n",
            "20\n",
            "Число a меньше чем c и b 1\n"
          ]
        }
      ]
    },
    {
      "cell_type": "markdown",
      "source": [
        ""
      ],
      "metadata": {
        "id": "ORwIrmlA54_f"
      }
    }
  ]
}